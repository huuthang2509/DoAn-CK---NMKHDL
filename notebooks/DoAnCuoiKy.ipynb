{
 "cells": [
  {
   "cell_type": "markdown",
   "metadata": {},
   "source": [
    "# ĐỒ ÁN CUỐI KỲ (NMKHDL - CQ2018/2)\n",
    "### Giảng viên hướng dẫn: Thầy Trần Trung Kiên\n",
    "### Trợ giảng: Thầy Hồ Xuân Trường\n",
    "\n",
    "__Thông tin nhóm__: \n",
    "\n",
    "* STT: 46\n",
    "\n",
    "* Họ và tên sinh viên: Nguyễn Hữu Huân - MSSV: 1712466\n",
    "\n",
    "* Họ và tên sinh viên: Đặng Hữu Thắng - MSSV: 18120555"
   ]
  },
  {
   "cell_type": "markdown",
   "metadata": {},
   "source": [
    "---"
   ]
  },
  {
   "cell_type": "markdown",
   "metadata": {},
   "source": [
    "## Import"
   ]
  },
  {
   "cell_type": "code",
   "execution_count": 1,
   "metadata": {},
   "outputs": [],
   "source": [
    "%matplotlib inline\n",
    "import matplotlib.pyplot as plt\n",
    "import seaborn as sns\n",
    "import pandas as pd\n",
    "import numpy as np\n",
    "\n",
    "from sklearn.model_selection import train_test_split\n",
    "from sklearn.preprocessing import OneHotEncoder, StandardScaler\n",
    "from sklearn.impute import SimpleImputer\n",
    "from sklearn.base import BaseEstimator, TransformerMixin\n",
    "from sklearn.pipeline import Pipeline, make_pipeline\n",
    "from sklearn.compose import ColumnTransformer, make_column_transformer\n",
    "\n",
    "from sklearn.neural_network import MLPRegressor\n",
    "from sklearn.ensemble import RandomForestRegressor\n",
    "from sklearn.svm import SVR\n",
    "from sklearn.ensemble import GradientBoostingRegressor\n",
    "from sklearn.model_selection import GridSearchCV\n",
    "from sklearn.compose import TransformedTargetRegressor\n",
    "from sklearn.metrics import mean_squared_error, mean_absolute_error\n",
    "\n",
    "\n",
    "from sklearn import set_config\n",
    "set_config(display='diagram') # Để trực quan hóa pipeline\n",
    "\n",
    "# Để show hết dòng, cột khi hiển thị\n",
    "pd.set_option('display.max_rows', None)\n",
    "pd.set_option('display.max_columns', None)\n",
    "\n",
    "# Để ẩn đi warnings :(\n",
    "import warnings\n",
    "warnings.filterwarnings('ignore')"
   ]
  },
  {
   "cell_type": "markdown",
   "metadata": {},
   "source": [
    "----"
   ]
  },
  {
   "cell_type": "markdown",
   "metadata": {},
   "source": [
    "## Thu thập dữ liệu"
   ]
  },
  {
   "cell_type": "markdown",
   "metadata": {},
   "source": [
    "Dữ liệu mà nhóm em dùng cho đồ án cuối kỳ được tự thu thập từ trang [Booking.com](https://booking.com) - Trang web về du lịch cung cấp dịch vụ đặt chỗ, đặt phòng khách sạn ở trực tuyến trên toàn thế giới. Dữ liệu nhóm em thu thập chứa thông tin về chỗ ở (bao gồm cả khách sạn, nhà nghỉ, homestay,..) ở 4 địa điểm du lịch của Việt Nam: Hà Nội, Đà Nẵng, Đà Lạt, Thành phố Hồ Chí Minh.\n",
    "\n",
    "Dữ liệu trên trang web này được phép thu thập, được mô tả cụ thể thông qua file robots.txt.\n",
    "\n",
    "Phần source code cho quá trình cào dữ liệu về  được lưu ở file notebook [crawl_data.ipynb](https://github.com/huuthang2509/DoAn-CK---NMKHDL/blob/master/notebooks/crawl_data.ipynb).\n",
    "\n",
    "Toàn bộ dữ liệu thô sau khi cào về lưu ở file: \"full_data.csv\"."
   ]
  },
  {
   "cell_type": "markdown",
   "metadata": {},
   "source": [
    "---"
   ]
  },
  {
   "cell_type": "markdown",
   "metadata": {},
   "source": [
    "## Khám phá dữ liệu (đủ để xác định câu hỏi) + tiền xử lý "
   ]
  },
  {
   "cell_type": "markdown",
   "metadata": {},
   "source": [
    "Do file \"full_data.csv\" là tất cả dữ liệu mà nhóm em tự cào được, nên nhóm sẽ cần khám phá một ít trên dữ liệu để đưa ra câu hỏi cần trả lời, sau đó tiến hành kiểm tra, làm sạch một vài vấn đề cơ bản (vì tất cả hoàn toàn là dữ liệu thô) và ngay lập tức tách tập validation và test ra khỏi dữ liệu. Như đã được thầy đề cập ở BT03, điều này để tránh hiểu quá sâu dữ liệu, làm mất đi tính khách quan khi đánh giá kết quả."
   ]
  },
  {
   "cell_type": "code",
   "execution_count": 2,
   "metadata": {},
   "outputs": [
    {
     "output_type": "execute_result",
     "data": {
      "text/plain": [
       "g thay quần áo  Nhìn ra hồ bơi  Bếp  Máy giặt  \\\n",
       "10710                      1               0     1           1   \n",
       "1521                       0               0     0           0   \n",
       "2548                       1               0     1           1   \n",
       "13922                      0               0     0           0   \n",
       "2199                       0               0     0           0   \n",
       "1663                       1               0     0           0   \n",
       "4096                       1               0     0           0   \n",
       "8998                       1               0     1           0   \n",
       "3795                       0               1     1           1   \n",
       "12386                      0               0     0           0   \n",
       "\n",
       "       Bồn tắm hoặc Vòi sen  Đồng hồ báo thức  Bàn ăn  Bồn tắm spa  \\\n",
       "10710                         1                 1       1            0   \n",
       "1521                          0                 0       0            0   \n",
       "2548                          1                 1       1            0   \n",
       "13922                         0                 0       0            0   \n",
       "2199                          1                 0       0            0   \n",
       "1663                          1                 0       1            0   \n",
       "4096                          1                 1       0            0   \n",
       "8998                          0                 0       1            0   \n",
       "3795                          1                 1       1            0   \n",
       "12386                         0                 0       0            0   \n",
       "\n",
       "       Ổ điện gần giường  Toilet phụ  Dịch vụ báo thức  Giấy vệ sinh  \\\n",
       "10710                  1           0                   1             1   \n",
       "1521                   0           0                   0             1   \n",
       "2548                   1           1                   1             1   \n",
       "13922                  0           0                   0             0   \n",
       "2199                   1           0                   1             1   \n",
       "1663                   1           0                   1             1   \n",
       "4096                   1           1                   1             1   \n",
       "8998                   1           0                   1             1   \n",
       "3795                   0           0                   0             1   \n",
       "12386                  1           0                   0             1   \n",
       "\n",
       "       Phòng tắm riêng trong phòng  Tiện nghi ủi  \\\n",
       "10710                            1               0   \n",
       "1521                             0               0   \n",
       "2548                             0               1   \n",
       "13922                            0               0   \n",
       "2199                             0               1   \n",
       "1663                             0               1   \n",
       "4096                             0               1   \n",
       "8998                             0               1   \n",
       "3795                             0               1   \n",
       "12386                            1               0   \n",
       "\n",
       "       Giường cực dài (> 2 mét)  Bếp nhỏ  Khu vực phòng ăn  \\\n",
       "10710                             0          1                 1   \n",
       "1521                              0          1                 0   \n",
       "2548                              0          1                 1   \n",
       "13922                             0          0                 0   \n",
       "2199                              0          0                 0   \n",
       "1663                              0          0                 0   \n",
       "4096                              1          0                 0   \n",
       "8998                              1          1                 1   \n",
       "3795                              0          1                 1   \n",
       "12386                             0          0                 0   \n",
       "\n",
       "       Tầm nhìn ra khung cảnh  Truyền hình vệ tinh  Bàn ủi  Ban công  \\\n",
       "10710                       0                       0         0         1   \n",
       "1521                        1                       0         1         1   \n",
       "2548                        0                       1         1         0   \n",
       "13922                       0                       0         0         0   \n",
       "2199                        0                       0         1         0   \n",
       "1663                        0                       0         0         0   \n",
       "4096                        0                       1         1         0   \n",
       "8998                        0                       1         0         0   \n",
       "3795                        0                       1         1         0   \n",
       "12386                       1                       0         0         1   \n",
       "\n",
       "       Nhìn ra sông  Quyền sử dụng Executive Lounge  Sàn lát gỗ  \\\n",
       "10710             0                               0           1   \n",
       "1521              0                               0           0   \n",
       "2548              0                               0           1   \n",
       "13922             0                               0           0   \n",
       "2199              0                               0           1   \n",
       "1663              0                               0           0   \n",
       "4096              0                               0           0   \n",
       "8998              0                               0           1   \n",
       "3795              0                               0           1   \n",
       "12386             0                               0           0   \n",
       "\n",
       "       Ra trải giường  Không gây dị ứng  Máy pha trà/cà phê  \\\n",
       "10710               1                 1                   1   \n",
       "1521                1                 0                   0   \n",
       "2548                1                 1                   1   \n",
       "13922               0                 0                   0   \n",
       "2199                1                 0                   1   \n",
       "1663                1                 1                   0   \n",
       "4096                1                 1                   0   \n",
       "8998                1                 1                   0   \n",
       "3795                1                 0                   1   \n",
       "12386               1                 0                   0   \n",
       "\n",
       "       Khăn tắm/Bộ khăn trải giường (có thu phí)  Máy sấy quần áo  \\\n",
       "10710                                          1                0   \n",
       "1521                                           0                0   \n",
       "2548                                           1                1   \n",
       "13922                                          0                0   \n",
       "2199                                           1                0   \n",
       "1663                                           0                0   \n",
       "4096                                           1                1   \n",
       "8998                                           0                0   \n",
       "3795                                           1                1   \n",
       "12386                                          0                0   \n",
       "\n",
       "       Nhìn ra địa danh nổi tiếng  Phòng tắm phụ  \\\n",
       "10710                           0              0   \n",
       "1521                            0              0   \n",
       "2548                            0              0   \n",
       "13922                           0              0   \n",
       "2199                            0              0   \n",
       "1663                            0              0   \n",
       "4096                            0              0   \n",
       "8998                            0              0   \n",
       "3795                            0              0   \n",
       "12386                           0              0   \n",
       "\n",
       "       Có phòng thông nhau qua cửa nối  Chậu rửa vệ sinh (bidet)  \\\n",
       "10710                                0                           1   \n",
       "1521                                 0                           0   \n",
       "2548                                 0                           1   \n",
       "13922                                0                           0   \n",
       "2199                                 0                           0   \n",
       "1663                                 0                           1   \n",
       "4096                                 0                           1   \n",
       "8998                                 1                           1   \n",
       "3795                                 0                           0   \n",
       "12386                                0                           0   \n",
       "\n",
       "       Lối vào riêng  Các tầng trên đi lên bằng thang máy  \\\n",
       "10710              1                                    0   \n",
       "1521               0                                    0   \n",
       "2548               0                                    1   \n",
       "13922              0                                    0   \n",
       "2199               0                                    1   \n",
       "1663               1                                    1   \n",
       "4096               0                                    1   \n",
       "8998               1                                    1   \n",
       "3795               0                                    0   \n",
       "12386              1                                    0   \n",
       "\n",
       "       Xe lăn có thể đi đến mọi nơi trong toàn bộ khuôn viên  Nhìn ra vườn  \\\n",
       "10710                                                  0                 0   \n",
       "1521                                                   0                 0   \n",
       "2548                                                   1                 0   \n",
       "13922                                                  0                 0   \n",
       "2199                                                   0                 0   \n",
       "1663                                                   1                 0   \n",
       "4096                                                   1                 0   \n",
       "8998                                                   1                 0   \n",
       "3795                                                   0                 1   \n",
       "12386                                                  0                 0   \n",
       "\n",
       "       Máy vi tính  Giường sofa  Giá phơi quần áo  Két an toàn cỡ laptop  \\\n",
       "10710            0            0                 0                      0   \n",
       "1521             0            0                 0                      0   \n",
       "2548             0            1                 1                      1   \n",
       "13922            0            0                 0                      0   \n",
       "2199             0            0                 0                      0   \n",
       "1663             0            0                 0                      1   \n",
       "4096             0            0                 0                      0   \n",
       "8998             0            0                 1                      0   \n",
       "3795             0            0                 0                      0   \n",
       "12386            0            0                 0                      0   \n",
       "\n",
       "       Giường xếp  Quạt máy  Chăn điện  Sản phẩm lau rửa  \\\n",
       "10710           0           0          0                 1   \n",
       "1521            0           0          0                 0   \n",
       "2548            1           1          0                 1   \n",
       "13922           0           0          0                 0   \n",
       "2199            0           0          0                 0   \n",
       "1663            0           0          0                 1   \n",
       "4096            0           0          0                 1   \n",
       "8998            0           0          0                 0   \n",
       "3795            0           0          0                 0   \n",
       "12386           0           0          0                 0   \n",
       "\n",
       "       Ghế cao dành cho trẻ em  Cửa an toàn cho trẻ nhỏ  Máy pha Cà phê  \\\n",
       "10710                        0                        1               1   \n",
       "1521                         0                        0               0   \n",
       "2548                         1                        1               1   \n",
       "13922                        0                        0               0   \n",
       "2199                         0                        0               1   \n",
       "1663                         0                        0               0   \n",
       "4096                         0                        0               0   \n",
       "8998                         0                        1               0   \n",
       "3795                         0                        0               0   \n",
       "12386                        0                        1               0   \n",
       "\n",
       "       Sàn lát gạch/đá cẩm thạch  Bàn ủi li quần  \\\n",
       "10710                          0                  0   \n",
       "1521                           0                  0   \n",
       "2548                           1                  1   \n",
       "13922                          0                  0   \n",
       "2199                           0                  0   \n",
       "1663                           1                  0   \n",
       "4096                           1                  1   \n",
       "8998                           0                  0   \n",
       "3795                           0                  0   \n",
       "12386                          1                  0   \n",
       "\n",
       "       Hoàn toàn nằm ở tầng trệt  Các tầng trên chỉ lên được bằng cầu thang  \\\n",
       "10710                          0                                          1   \n",
       "1521                           0                                          0   \n",
       "2548                           0                                          1   \n",
       "13922                          0                                          0   \n",
       "2199                           0                                          0   \n",
       "1663                           0                                          0   \n",
       "4096                           0                                          0   \n",
       "8998                           0                                          0   \n",
       "3795                           0                                          0   \n",
       "12386                          0                                          1   \n",
       "\n",
       "       Nắp che ổ cắm điện an toàn  Đồ bếp  Đầu đĩa CD  \\\n",
       "10710                           1       1            0   \n",
       "1521                            0       0            0   \n",
       "2548                            0       1            0   \n",
       "13922                           0       0            0   \n",
       "2199                            0       0            0   \n",
       "1663                            1       0            0   \n",
       "4096                            0       0            0   \n",
       "8998                            1       1            0   \n",
       "3795                            0       1            1   \n",
       "12386                           0       0            0   \n",
       "\n",
       "       Máy điều hòa độc lập cho từng phòng  Nước rửa tay  Đầu đĩa DVD  \\\n",
       "10710                                    0             0              0   \n",
       "1521                                     1             0              0   \n",
       "2548                                     0             0              0   \n",
       "13922                                    0             0              0   \n",
       "2199                                     0             0              0   \n",
       "1663                                     0             0              0   \n",
       "4096                                     0             0              0   \n",
       "8998                                     0             0              0   \n",
       "3795                                     1             0              1   \n",
       "12386                                    0             0              0   \n",
       "\n",
       "       Hồ bơi trên sân thượng  Ổ cắm cho iPod  Hồ bơi có tầm nhìn  \\\n",
       "10710                       0               0                   1   \n",
       "1521                        0               0                   0   \n",
       "2548                        0               0                   0   \n",
       "13922                       0               0                   0   \n",
       "2199                        0               0                   0   \n",
       "1663                        0               0                   0   \n",
       "4096                        0               0                   0   \n",
       "8998                        1               1                   1   \n",
       "3795                        0               0                   0   \n",
       "12386                       0               0                   0   \n",
       "\n",
       "       Trò chơi board game/giải đố  Sách   đĩa DVD và nhạc cho trẻ em  \\\n",
       "10710                            0     0                            0   \n",
       "1521                             0     0                            0   \n",
       "2548                             1     0                            0   \n",
       "13922                            0     0                            0   \n",
       "2199                             0     0                            0   \n",
       "1663                             0     0                            0   \n",
       "4096                             0     0                            0   \n",
       "8998                             0     0                            0   \n",
       "3795                             0     0                            0   \n",
       "12386                            0     0                            0   \n",
       "\n",
       "       Có lắp đặt máy lọc không khí  Thiết bị báo carbon monoxide  \\\n",
       "10710                             0                             1   \n",
       "1521                              0                             0   \n",
       "2548                              1                             1   \n",
       "13922                             0                             0   \n",
       "2199                              0                             0   \n",
       "1663                              0                             0   \n",
       "4096                              1                             0   \n",
       "8998                              0                             1   \n",
       "3795                              0                             1   \n",
       "12386                             0                             0   \n",
       "\n",
       "       Lò vi sóng  Máy nướng bánh mỳ  Lò sưởi  Lò nướng  Bếp nấu  Đài radio  \\\n",
       "10710             1                  0        1         1        0          0   \n",
       "1521              0                  0        0         0        0          0   \n",
       "2548              0                  0        1         1        1          1   \n",
       "13922             0                  0        0         0        0          0   \n",
       "2199              0                  0        0         0        0          0   \n",
       "1663              0                  0        0         0        0          0   \n",
       "4096              0                  0        0         0        0          0   \n",
       "8998              0                  0        0         1        0          0   \n",
       "3795              1                  0        0         0        0          0   \n",
       "12386             0                  0        0         0        0          1   \n",
       "\n",
       "       Khu vực ăn uống ngoài trời  Phòng xông hơi  Toilet chung  \\\n",
       "10710                           0               0             0   \n",
       "1521                            0               0             0   \n",
       "2548                            0               0             1   \n",
       "13922                           0               0             0   \n",
       "2199                            0               0             0   \n",
       "1663                            0               0             0   \n",
       "4096                            0               0             0   \n",
       "8998                            0               0             0   \n",
       "3795                            0               0             0   \n",
       "12386                           0               0             1   \n",
       "\n",
       "       Bàn ghế ngoài trời  Bể sục  Hồ bơi riêng  Sân trong  \\\n",
       "10710                   0         0             1          1   \n",
       "1521                    0         0             0          0   \n",
       "2548                    0         0             1          0   \n",
       "13922                   0         0             0          0   \n",
       "2199                    0         0             0          0   \n",
       "1663                    0         0             1          0   \n",
       "4096                    0         0             0          0   \n",
       "8998                    1         0             1          0   \n",
       "3795                    0         0             0          0   \n",
       "12386                   0         0             0          0   \n",
       "\n",
       "       Hướng nhìn sân trong      price  \n",
       "10710                     1    986.000  \n",
       "1521                      0    444.600  \n",
       "2548                      0  1.913.600  \n",
       "13922                     0    810.812  \n",
       "2199                      0  2.559.488  \n",
       "1663                      0    480.000  \n",
       "4096                      0    940.500  \n",
       "8998                      0    528.120  \n",
       "3795                      0  1.524.600  \n",
       "12386                     1    378.000  "
      ],
      "text/html": "<div>\n<style scoped>\n    .dataframe tbody tr th:only-of-type {\n        vertical-align: middle;\n    }\n\n    .dataframe tbody tr th {\n        vertical-align: top;\n    }\n\n    .dataframe thead th {\n        text-align: right;\n    }\n</style>\n<table border=\"1\" class=\"dataframe\">\n  <thead>\n    <tr style=\"text-align: right;\">\n      <th></th>\n      <th>City</th>\n      <th>Diện tích</th>\n      <th>Đồ vệ sinh cá nhân miễn phí</th>\n      <th>Vòi sen</th>\n      <th>Áo choàng tắm</th>\n      <th>Két an toàn</th>\n      <th>Nhà vệ sinh</th>\n      <th>Khăn tắm</th>\n      <th>Bàn làm việc</th>\n      <th>Khu vực tiếp khách</th>\n      <th>TV</th>\n      <th>Dép</th>\n      <th>Tủ lạnh</th>\n      <th>Điện thoại</th>\n      <th>Hệ thống sưởi</th>\n      <th>Máy sấy tóc</th>\n      <th>Sàn trải thảm</th>\n      <th>Ấm đun nước điện</th>\n      <th>Truyền hình cáp</th>\n      <th>Dịch vụ báo thức</th>\n      <th>Tủ hoặc phòng để quần áo</th>\n      <th>Giá treo quần áo</th>\n      <th>Nhìn ra thành phố</th>\n      <th>Bồn tắm</th>\n      <th>Điều hòa không khí</th>\n      <th>Phòng tắm riêng</th>\n      <th>TV màn hình phẳng</th>\n      <th>Hệ thống cách âm</th>\n      <th>Minibar</th>\n      <th>WiFi miễn phí</th>\n      <th>Ghế sofa</th>\n      <th>Máy fax</th>\n      <th>Phòng thay quần áo</th>\n      <th>Nhìn ra hồ bơi</th>\n      <th>Bếp</th>\n      <th>Máy giặt</th>\n      <th>Bồn tắm hoặc Vòi sen</th>\n      <th>Đồng hồ báo thức</th>\n      <th>Bàn ăn</th>\n      <th>Bồn tắm spa</th>\n      <th>Ổ điện gần giường</th>\n      <th>Toilet phụ</th>\n      <th>Dịch vụ báo thức</th>\n      <th>Giấy vệ sinh</th>\n      <th>Phòng tắm riêng trong phòng</th>\n      <th>Tiện nghi ủi</th>\n      <th>Giường cực dài (&gt; 2 mét)</th>\n      <th>Bếp nhỏ</th>\n      <th>Khu vực phòng ăn</th>\n      <th>Tầm nhìn ra khung cảnh</th>\n      <th>Truyền hình vệ tinh</th>\n      <th>Bàn ủi</th>\n      <th>Ban công</th>\n      <th>Nhìn ra sông</th>\n      <th>Quyền sử dụng Executive Lounge</th>\n      <th>Sàn lát gỗ</th>\n      <th>Ra trải giường</th>\n      <th>Không gây dị ứng</th>\n      <th>Máy pha trà/cà phê</th>\n      <th>Khăn tắm/Bộ khăn trải giường (có thu phí)</th>\n      <th>Máy sấy quần áo</th>\n      <th>Nhìn ra địa danh nổi tiếng</th>\n      <th>Phòng tắm phụ</th>\n      <th>Có phòng thông nhau qua cửa nối</th>\n      <th>Chậu rửa vệ sinh (bidet)</th>\n      <th>Lối vào riêng</th>\n      <th>Các tầng trên đi lên bằng thang máy</th>\n      <th>Xe lăn có thể đi đến mọi nơi trong toàn bộ khuôn viên</th>\n      <th>Nhìn ra vườn</th>\n      <th>Máy vi tính</th>\n      <th>Giường sofa</th>\n      <th>Giá phơi quần áo</th>\n      <th>Két an toàn cỡ laptop</th>\n      <th>Giường xếp</th>\n      <th>Quạt máy</th>\n      <th>Chăn điện</th>\n      <th>Sản phẩm lau rửa</th>\n      <th>Ghế cao dành cho trẻ em</th>\n      <th>Cửa an toàn cho trẻ nhỏ</th>\n      <th>Máy pha Cà phê</th>\n      <th>Sàn lát gạch/đá cẩm thạch</th>\n      <th>Bàn ủi li quần</th>\n      <th>Hoàn toàn nằm ở tầng trệt</th>\n      <th>Các tầng trên chỉ lên được bằng cầu thang</th>\n      <th>Nắp che ổ cắm điện an toàn</th>\n      <th>Đồ bếp</th>\n      <th>Đầu đĩa CD</th>\n      <th>Máy điều hòa độc lập cho từng phòng</th>\n      <th>Nước rửa tay</th>\n      <th>Đầu đĩa DVD</th>\n      <th>Hồ bơi trên sân thượng</th>\n      <th>Ổ cắm cho iPod</th>\n      <th>Hồ bơi có tầm nhìn</th>\n      <th>Trò chơi board game/giải đố</th>\n      <th>Sách</th>\n      <th>đĩa DVD và nhạc cho trẻ em</th>\n      <th>Có lắp đặt máy lọc không khí</th>\n      <th>Thiết bị báo carbon monoxide</th>\n      <th>Lò vi sóng</th>\n      <th>Máy nướng bánh mỳ</th>\n      <th>Lò sưởi</th>\n      <th>Lò nướng</th>\n      <th>Bếp nấu</th>\n      <th>Đài radio</th>\n      <th>Khu vực ăn uống ngoài trời</th>\n      <th>Phòng xông hơi</th>\n      <th>Toilet chung</th>\n      <th>Bàn ghế ngoài trời</th>\n      <th>Bể sục</th>\n      <th>Hồ bơi riêng</th>\n      <th>Sân trong</th>\n      <th>Hướng nhìn sân trong</th>\n      <th>price</th>\n    </tr>\n  </thead>\n  <tbody>\n    <tr>\n      <th>10710</th>\n      <td>Da Nang</td>\n      <td>30 m²</td>\n      <td>1</td>\n      <td>0</td>\n      <td>0</td>\n      <td>1</td>\n      <td>1</td>\n      <td>1</td>\n      <td>0</td>\n      <td>1</td>\n      <td>1</td>\n      <td>1</td>\n      <td>1</td>\n      <td>0</td>\n      <td>0</td>\n      <td>1</td>\n      <td>0</td>\n      <td>1</td>\n      <td>0</td>\n      <td>1</td>\n      <td>1</td>\n      <td>1</td>\n      <td>1</td>\n      <td>0</td>\n      <td>1</td>\n      <td>0</td>\n      <td>1</td>\n      <td>1</td>\n      <td>1</td>\n      <td>1</td>\n      <td>0</td>\n      <td>0</td>\n      <td>1</td>\n      <td>0</td>\n      <td>1</td>\n      <td>1</td>\n      <td>1</td>\n      <td>1</td>\n      <td>1</td>\n      <td>0</td>\n      <td>1</td>\n      <td>0</td>\n      <td>1</td>\n      <td>1</td>\n      <td>1</td>\n      <td>0</td>\n      <td>0</td>\n      <td>1</td>\n      <td>1</td>\n      <td>0</td>\n      <td>0</td>\n      <td>0</td>\n      <td>1</td>\n      <td>0</td>\n      <td>0</td>\n      <td>1</td>\n      <td>1</td>\n      <td>1</td>\n      <td>1</td>\n      <td>1</td>\n      <td>0</td>\n      <td>0</td>\n      <td>0</td>\n      <td>0</td>\n      <td>1</td>\n      <td>1</td>\n      <td>0</td>\n      <td>0</td>\n      <td>0</td>\n      <td>0</td>\n      <td>0</td>\n      <td>0</td>\n      <td>0</td>\n      <td>0</td>\n      <td>0</td>\n      <td>0</td>\n      <td>1</td>\n      <td>0</td>\n      <td>1</td>\n      <td>1</td>\n      <td>0</td>\n      <td>0</td>\n      <td>0</td>\n      <td>1</td>\n      <td>1</td>\n      <td>1</td>\n      <td>0</td>\n      <td>0</td>\n      <td>0</td>\n      <td>0</td>\n      <td>0</td>\n      <td>0</td>\n      <td>1</td>\n      <td>0</td>\n      <td>0</td>\n      <td>0</td>\n      <td>0</td>\n      <td>1</td>\n      <td>1</td>\n      <td>0</td>\n      <td>1</td>\n      <td>1</td>\n      <td>0</td>\n      <td>0</td>\n      <td>0</td>\n      <td>0</td>\n      <td>0</td>\n      <td>0</td>\n      <td>0</td>\n      <td>1</td>\n      <td>1</td>\n      <td>1</td>\n      <td>986.000</td>\n    </tr>\n    <tr>\n      <th>1521</th>\n      <td>TP.Ho Chi Minh</td>\n      <td>24 m²</td>\n      <td>0</td>\n      <td>1</td>\n      <td>0</td>\n      <td>0</td>\n      <td>1</td>\n      <td>1</td>\n      <td>0</td>\n      <td>0</td>\n      <td>1</td>\n      <td>1</td>\n      <td>1</td>\n      <td>0</td>\n      <td>0</td>\n      <td>1</td>\n      <td>0</td>\n      <td>1</td>\n      <td>0</td>\n      <td>0</td>\n      <td>0</td>\n      <td>1</td>\n      <td>0</td>\n      <td>0</td>\n      <td>1</td>\n      <td>1</td>\n      <td>1</td>\n      <td>0</td>\n      <td>0</td>\n      <td>1</td>\n      <td>0</td>\n      <td>0</td>\n      <td>0</td>\n      <td>0</td>\n      <td>0</td>\n      <td>0</td>\n      <td>0</td>\n      <td>0</td>\n      <td>0</td>\n      <td>0</td>\n      <td>0</td>\n      <td>0</td>\n      <td>0</td>\n      <td>1</td>\n      <td>0</td>\n      <td>0</td>\n      <td>0</td>\n      <td>1</td>\n      <td>0</td>\n      <td>1</td>\n      <td>0</td>\n      <td>1</td>\n      <td>1</td>\n      <td>0</td>\n      <td>0</td>\n      <td>0</td>\n      <td>1</td>\n      <td>0</td>\n      <td>0</td>\n      <td>0</td>\n      <td>0</td>\n      <td>0</td>\n      <td>0</td>\n      <td>0</td>\n      <td>0</td>\n      <td>0</td>\n      <td>0</td>\n      <td>0</td>\n      <td>0</td>\n      <td>0</td>\n      <td>0</td>\n      <td>0</td>\n      <td>0</td>\n      <td>0</td>\n      <td>0</td>\n      <td>0</td>\n      <td>0</td>\n      <td>0</td>\n      <td>0</td>\n      <td>0</td>\n      <td>0</td>\n      <td>0</td>\n      <td>0</td>\n      <td>0</td>\n      <td>0</td>\n      <td>0</td>\n      <td>0</td>\n      <td>1</td>\n      <td>0</td>\n      <td>0</td>\n      <td>0</td>\n      <td>0</td>\n      <td>0</td>\n      <td>0</td>\n      <td>0</td>\n      <td>0</td>\n      <td>0</td>\n      <td>0</td>\n      <td>0</td>\n      <td>0</td>\n      <td>0</td>\n      <td>0</td>\n      <td>0</td>\n      <td>0</td>\n      <td>0</td>\n      <td>0</td>\n      <td>0</td>\n      <td>0</td>\n      <td>0</td>\n      <td>0</td>\n      <td>0</td>\n      <td>0</td>\n      <td>444.600</td>\n    </tr>\n    <tr>\n      <th>2548</th>\n      <td>TP.Ho Chi Minh</td>\n      <td>50 m²</td>\n      <td>1</td>\n      <td>0</td>\n      <td>0</td>\n      <td>1</td>\n      <td>1</td>\n      <td>1</td>\n      <td>1</td>\n      <td>1</td>\n      <td>1</td>\n      <td>1</td>\n      <td>1</td>\n      <td>1</td>\n      <td>1</td>\n      <td>1</td>\n      <td>1</td>\n      <td>1</td>\n      <td>0</td>\n      <td>1</td>\n      <td>1</td>\n      <td>1</td>\n      <td>0</td>\n      <td>0</td>\n      <td>1</td>\n      <td>1</td>\n      <td>1</td>\n      <td>1</td>\n      <td>1</td>\n      <td>1</td>\n      <td>1</td>\n      <td>0</td>\n      <td>1</td>\n      <td>0</td>\n      <td>1</td>\n      <td>1</td>\n      <td>1</td>\n      <td>1</td>\n      <td>1</td>\n      <td>0</td>\n      <td>1</td>\n      <td>1</td>\n      <td>1</td>\n      <td>1</td>\n      <td>0</td>\n      <td>1</td>\n      <td>0</td>\n      <td>1</td>\n      <td>1</td>\n      <td>0</td>\n      <td>1</td>\n      <td>1</td>\n      <td>0</td>\n      <td>0</td>\n      <td>0</td>\n      <td>1</td>\n      <td>1</td>\n      <td>1</td>\n      <td>1</td>\n      <td>1</td>\n      <td>1</td>\n      <td>0</td>\n      <td>0</td>\n      <td>0</td>\n      <td>1</td>\n      <td>0</td>\n      <td>1</td>\n      <td>1</td>\n      <td>0</td>\n      <td>0</td>\n      <td>1</td>\n      <td>1</td>\n      <td>1</td>\n      <td>1</td>\n      <td>1</td>\n      <td>0</td>\n      <td>1</td>\n      <td>1</td>\n      <td>1</td>\n      <td>1</td>\n      <td>1</td>\n      <td>1</td>\n      <td>0</td>\n      <td>1</td>\n      <td>0</td>\n      <td>1</td>\n      <td>0</td>\n      <td>0</td>\n      <td>0</td>\n      <td>0</td>\n      <td>0</td>\n      <td>0</td>\n      <td>0</td>\n      <td>1</td>\n      <td>0</td>\n      <td>0</td>\n      <td>1</td>\n      <td>1</td>\n      <td>0</td>\n      <td>0</td>\n      <td>1</td>\n      <td>1</td>\n      <td>1</td>\n      <td>1</td>\n      <td>0</td>\n      <td>0</td>\n      <td>1</td>\n      <td>0</td>\n      <td>0</td>\n      <td>1</td>\n      <td>0</td>\n      <td>0</td>\n      <td>1.913.600</td>\n    </tr>\n    <tr>\n      <th>13922</th>\n      <td>Da Lat</td>\n      <td>25 m²</td>\n      <td>0</td>\n      <td>0</td>\n      <td>0</td>\n      <td>0</td>\n      <td>0</td>\n      <td>0</td>\n      <td>0</td>\n      <td>0</td>\n      <td>0</td>\n      <td>0</td>\n      <td>0</td>\n      <td>0</td>\n      <td>0</td>\n      <td>0</td>\n      <td>0</td>\n      <td>0</td>\n      <td>0</td>\n      <td>0</td>\n      <td>0</td>\n      <td>0</td>\n      <td>0</td>\n      <td>0</td>\n      <td>0</td>\n      <td>0</td>\n      <td>0</td>\n      <td>0</td>\n      <td>0</td>\n      <td>1</td>\n      <td>0</td>\n      <td>0</td>\n      <td>0</td>\n      <td>0</td>\n      <td>0</td>\n      <td>0</td>\n      <td>0</td>\n      <td>0</td>\n      <td>0</td>\n      <td>0</td>\n      <td>0</td>\n      <td>0</td>\n      <td>0</td>\n      <td>0</td>\n      <td>0</td>\n      <td>0</td>\n      <td>0</td>\n      <td>0</td>\n      <td>0</td>\n      <td>0</td>\n      <td>0</td>\n      <td>0</td>\n      <td>0</td>\n      <td>0</td>\n      <td>0</td>\n      <td>0</td>\n      <td>0</td>\n      <td>0</td>\n      <td>0</td>\n      <td>0</td>\n      <td>0</td>\n      <td>0</td>\n      <td>0</td>\n      <td>0</td>\n      <td>0</td>\n      <td>0</td>\n      <td>0</td>\n      <td>0</td>\n      <td>0</td>\n      <td>0</td>\n      <td>0</td>\n      <td>0</td>\n      <td>0</td>\n      <td>0</td>\n      <td>0</td>\n      <td>0</td>\n      <td>0</td>\n      <td>0</td>\n      <td>0</td>\n      <td>0</td>\n      <td>0</td>\n      <td>0</td>\n      <td>0</td>\n      <td>0</td>\n      <td>0</td>\n      <td>0</td>\n      <td>0</td>\n      <td>0</td>\n      <td>0</td>\n      <td>0</td>\n      <td>0</td>\n      <td>0</td>\n      <td>0</td>\n      <td>0</td>\n      <td>0</td>\n      <td>0</td>\n      <td>0</td>\n      <td>0</td>\n      <td>0</td>\n      <td>0</td>\n      <td>0</td>\n      <td>0</td>\n      <td>0</td>\n      <td>0</td>\n      <td>0</td>\n      <td>0</td>\n      <td>0</td>\n      <td>0</td>\n      <td>0</td>\n      <td>0</td>\n      <td>0</td>\n      <td>0</td>\n      <td>810.812</td>\n    </tr>\n    <tr>\n      <th>2199</th>\n      <td>TP.Ho Chi Minh</td>\n      <td>30 m²</td>\n      <td>1</td>\n      <td>0</td>\n      <td>1</td>\n      <td>1</td>\n      <td>1</td>\n      <td>1</td>\n      <td>1</td>\n      <td>0</td>\n      <td>1</td>\n      <td>1</td>\n      <td>0</td>\n      <td>1</td>\n      <td>0</td>\n      <td>1</td>\n      <td>1</td>\n      <td>1</td>\n      <td>1</td>\n      <td>1</td>\n      <td>1</td>\n      <td>1</td>\n      <td>0</td>\n      <td>0</td>\n      <td>1</td>\n      <td>1</td>\n      <td>1</td>\n      <td>0</td>\n      <td>1</td>\n      <td>1</td>\n      <td>1</td>\n      <td>0</td>\n      <td>0</td>\n      <td>0</td>\n      <td>0</td>\n      <td>0</td>\n      <td>1</td>\n      <td>0</td>\n      <td>0</td>\n      <td>0</td>\n      <td>1</td>\n      <td>0</td>\n      <td>1</td>\n      <td>1</td>\n      <td>0</td>\n      <td>1</td>\n      <td>0</td>\n      <td>0</td>\n      <td>0</td>\n      <td>0</td>\n      <td>0</td>\n      <td>1</td>\n      <td>0</td>\n      <td>0</td>\n      <td>0</td>\n      <td>1</td>\n      <td>1</td>\n      <td>0</td>\n      <td>1</td>\n      <td>1</td>\n      <td>0</td>\n      <td>0</td>\n      <td>0</td>\n      <td>0</td>\n      <td>0</td>\n      <td>0</td>\n      <td>1</td>\n      <td>0</td>\n      <td>0</td>\n      <td>0</td>\n      <td>0</td>\n      <td>0</td>\n      <td>0</td>\n      <td>0</td>\n      <td>0</td>\n      <td>0</td>\n      <td>0</td>\n      <td>0</td>\n      <td>0</td>\n      <td>1</td>\n      <td>0</td>\n      <td>0</td>\n      <td>0</td>\n      <td>0</td>\n      <td>0</td>\n      <td>0</td>\n      <td>0</td>\n      <td>0</td>\n      <td>0</td>\n      <td>0</td>\n      <td>0</td>\n      <td>0</td>\n      <td>0</td>\n      <td>0</td>\n      <td>0</td>\n      <td>0</td>\n      <td>0</td>\n      <td>0</td>\n      <td>0</td>\n      <td>0</td>\n      <td>0</td>\n      <td>0</td>\n      <td>0</td>\n      <td>0</td>\n      <td>0</td>\n      <td>0</td>\n      <td>0</td>\n      <td>0</td>\n      <td>0</td>\n      <td>0</td>\n      <td>0</td>\n      <td>0</td>\n      <td>2.559.488</td>\n    </tr>\n    <tr>\n      <th>1663</th>\n      <td>TP.Ho Chi Minh</td>\n      <td>30 m²</td>\n      <td>1</td>\n      <td>0</td>\n      <td>0</td>\n      <td>1</td>\n      <td>1</td>\n      <td>1</td>\n      <td>1</td>\n      <td>1</td>\n      <td>1</td>\n      <td>1</td>\n      <td>0</td>\n      <td>1</td>\n      <td>0</td>\n      <td>1</td>\n      <td>0</td>\n      <td>1</td>\n      <td>1</td>\n      <td>1</td>\n      <td>1</td>\n      <td>1</td>\n      <td>0</td>\n      <td>0</td>\n      <td>1</td>\n      <td>0</td>\n      <td>1</td>\n      <td>1</td>\n      <td>1</td>\n      <td>0</td>\n      <td>0</td>\n      <td>0</td>\n      <td>1</td>\n      <td>0</td>\n      <td>0</td>\n      <td>0</td>\n      <td>1</td>\n      <td>0</td>\n      <td>1</td>\n      <td>0</td>\n      <td>1</td>\n      <td>0</td>\n      <td>1</td>\n      <td>1</td>\n      <td>0</td>\n      <td>1</td>\n      <td>0</td>\n      <td>0</td>\n      <td>0</td>\n      <td>0</td>\n      <td>0</td>\n      <td>0</td>\n      <td>0</td>\n      <td>0</td>\n      <td>0</td>\n      <td>0</td>\n      <td>1</td>\n      <td>1</td>\n      <td>0</td>\n      <td>0</td>\n      <td>0</td>\n      <td>0</td>\n      <td>0</td>\n      <td>0</td>\n      <td>1</td>\n      <td>1</td>\n      <td>1</td>\n      <td>1</td>\n      <td>0</td>\n      <td>0</td>\n      <td>0</td>\n      <td>0</td>\n      <td>1</td>\n      <td>0</td>\n      <td>0</td>\n      <td>0</td>\n      <td>1</td>\n      <td>0</td>\n      <td>0</td>\n      <td>0</td>\n      <td>1</td>\n      <td>0</td>\n      <td>0</td>\n      <td>0</td>\n      <td>1</td>\n      <td>0</td>\n      <td>0</td>\n      <td>0</td>\n      <td>0</td>\n      <td>0</td>\n      <td>0</td>\n      <td>0</td>\n      <td>0</td>\n      <td>0</td>\n      <td>0</td>\n      <td>0</td>\n      <td>0</td>\n      <td>0</td>\n      <td>0</td>\n      <td>0</td>\n      <td>0</td>\n      <td>0</td>\n      <td>0</td>\n      <td>0</td>\n      <td>0</td>\n      <td>0</td>\n      <td>0</td>\n      <td>0</td>\n      <td>0</td>\n      <td>1</td>\n      <td>0</td>\n      <td>0</td>\n      <td>480.000</td>\n    </tr>\n    <tr>\n      <th>4096</th>\n      <td>Ha Noi</td>\n      <td>30 m²</td>\n      <td>1</td>\n      <td>0</td>\n      <td>1</td>\n      <td>1</td>\n      <td>1</td>\n      <td>1</td>\n      <td>1</td>\n      <td>1</td>\n      <td>1</td>\n      <td>1</td>\n      <td>1</td>\n      <td>1</td>\n      <td>0</td>\n      <td>1</td>\n      <td>0</td>\n      <td>1</td>\n      <td>1</td>\n      <td>1</td>\n      <td>1</td>\n      <td>1</td>\n      <td>1</td>\n      <td>0</td>\n      <td>1</td>\n      <td>1</td>\n      <td>1</td>\n      <td>1</td>\n      <td>1</td>\n      <td>0</td>\n      <td>0</td>\n      <td>0</td>\n      <td>1</td>\n      <td>0</td>\n      <td>0</td>\n      <td>0</td>\n      <td>1</td>\n      <td>1</td>\n      <td>0</td>\n      <td>0</td>\n      <td>1</td>\n      <td>1</td>\n      <td>1</td>\n      <td>1</td>\n      <td>0</td>\n      <td>1</td>\n      <td>1</td>\n      <td>0</td>\n      <td>0</td>\n      <td>0</td>\n      <td>1</td>\n      <td>1</td>\n      <td>0</td>\n      <td>0</td>\n      <td>0</td>\n      <td>0</td>\n      <td>1</td>\n      <td>1</td>\n      <td>0</td>\n      <td>1</td>\n      <td>1</td>\n      <td>0</td>\n      <td>0</td>\n      <td>0</td>\n      <td>1</td>\n      <td>0</td>\n      <td>1</td>\n      <td>1</td>\n      <td>0</td>\n      <td>0</td>\n      <td>0</td>\n      <td>0</td>\n      <td>0</td>\n      <td>0</td>\n      <td>0</td>\n      <td>0</td>\n      <td>1</td>\n      <td>0</td>\n      <td>0</td>\n      <td>0</td>\n      <td>1</td>\n      <td>1</td>\n      <td>0</td>\n      <td>0</td>\n      <td>0</td>\n      <td>0</td>\n      <td>0</td>\n      <td>0</td>\n      <td>0</td>\n      <td>0</td>\n      <td>0</td>\n      <td>0</td>\n      <td>0</td>\n      <td>0</td>\n      <td>0</td>\n      <td>0</td>\n      <td>1</td>\n      <td>0</td>\n      <td>0</td>\n      <td>0</td>\n      <td>0</td>\n      <td>0</td>\n      <td>0</td>\n      <td>0</td>\n      <td>0</td>\n      <td>0</td>\n      <td>0</td>\n      <td>0</td>\n      <td>0</td>\n      <td>0</td>\n      <td>0</td>\n      <td>0</td>\n      <td>940.500</td>\n    </tr>\n    <tr>\n      <th>8998</th>\n      <td>Da Nang</td>\n      <td>40 m²</td>\n      <td>1</td>\n      <td>1</td>\n      <td>0</td>\n      <td>0</td>\n      <td>1</td>\n      <td>1</td>\n      <td>1</td>\n      <td>1</td>\n      <td>1</td>\n      <td>1</td>\n      <td>1</td>\n      <td>1</td>\n      <td>0</td>\n      <td>1</td>\n      <td>0</td>\n      <td>1</td>\n      <td>1</td>\n      <td>1</td>\n      <td>1</td>\n      <td>1</td>\n      <td>0</td>\n      <td>0</td>\n      <td>1</td>\n      <td>1</td>\n      <td>1</td>\n      <td>1</td>\n      <td>1</td>\n      <td>1</td>\n      <td>1</td>\n      <td>0</td>\n      <td>1</td>\n      <td>0</td>\n      <td>1</td>\n      <td>0</td>\n      <td>0</td>\n      <td>0</td>\n      <td>1</td>\n      <td>0</td>\n      <td>1</td>\n      <td>0</td>\n      <td>1</td>\n      <td>1</td>\n      <td>0</td>\n      <td>1</td>\n      <td>1</td>\n      <td>1</td>\n      <td>1</td>\n      <td>0</td>\n      <td>1</td>\n      <td>0</td>\n      <td>0</td>\n      <td>0</td>\n      <td>0</td>\n      <td>1</td>\n      <td>1</td>\n      <td>1</td>\n      <td>0</td>\n      <td>0</td>\n      <td>0</td>\n      <td>0</td>\n      <td>0</td>\n      <td>1</td>\n      <td>1</td>\n      <td>1</td>\n      <td>1</td>\n      <td>1</td>\n      <td>0</td>\n      <td>0</td>\n      <td>0</td>\n      <td>1</td>\n      <td>0</td>\n      <td>0</td>\n      <td>0</td>\n      <td>0</td>\n      <td>0</td>\n      <td>0</td>\n      <td>1</td>\n      <td>0</td>\n      <td>0</td>\n      <td>0</td>\n      <td>0</td>\n      <td>0</td>\n      <td>1</td>\n      <td>1</td>\n      <td>0</td>\n      <td>0</td>\n      <td>0</td>\n      <td>0</td>\n      <td>1</td>\n      <td>1</td>\n      <td>1</td>\n      <td>0</td>\n      <td>0</td>\n      <td>0</td>\n      <td>0</td>\n      <td>1</td>\n      <td>0</td>\n      <td>0</td>\n      <td>0</td>\n      <td>1</td>\n      <td>0</td>\n      <td>0</td>\n      <td>0</td>\n      <td>0</td>\n      <td>0</td>\n      <td>1</td>\n      <td>0</td>\n      <td>1</td>\n      <td>0</td>\n      <td>0</td>\n      <td>528.120</td>\n    </tr>\n    <tr>\n      <th>3795</th>\n      <td>Ha Noi</td>\n      <td>37 m²</td>\n      <td>1</td>\n      <td>0</td>\n      <td>1</td>\n      <td>1</td>\n      <td>1</td>\n      <td>1</td>\n      <td>1</td>\n      <td>1</td>\n      <td>1</td>\n      <td>1</td>\n      <td>1</td>\n      <td>1</td>\n      <td>1</td>\n      <td>1</td>\n      <td>0</td>\n      <td>1</td>\n      <td>0</td>\n      <td>1</td>\n      <td>1</td>\n      <td>0</td>\n      <td>0</td>\n      <td>0</td>\n      <td>1</td>\n      <td>1</td>\n      <td>0</td>\n      <td>0</td>\n      <td>0</td>\n      <td>0</td>\n      <td>1</td>\n      <td>1</td>\n      <td>0</td>\n      <td>1</td>\n      <td>1</td>\n      <td>1</td>\n      <td>1</td>\n      <td>1</td>\n      <td>1</td>\n      <td>0</td>\n      <td>0</td>\n      <td>0</td>\n      <td>0</td>\n      <td>1</td>\n      <td>0</td>\n      <td>1</td>\n      <td>0</td>\n      <td>1</td>\n      <td>1</td>\n      <td>0</td>\n      <td>1</td>\n      <td>1</td>\n      <td>0</td>\n      <td>0</td>\n      <td>0</td>\n      <td>1</td>\n      <td>1</td>\n      <td>0</td>\n      <td>1</td>\n      <td>1</td>\n      <td>1</td>\n      <td>0</td>\n      <td>0</td>\n      <td>0</td>\n      <td>0</td>\n      <td>0</td>\n      <td>0</td>\n      <td>0</td>\n      <td>1</td>\n      <td>0</td>\n      <td>0</td>\n      <td>0</td>\n      <td>0</td>\n      <td>0</td>\n      <td>0</td>\n      <td>0</td>\n      <td>0</td>\n      <td>0</td>\n      <td>0</td>\n      <td>0</td>\n      <td>0</td>\n      <td>0</td>\n      <td>0</td>\n      <td>0</td>\n      <td>0</td>\n      <td>1</td>\n      <td>1</td>\n      <td>1</td>\n      <td>0</td>\n      <td>1</td>\n      <td>0</td>\n      <td>0</td>\n      <td>0</td>\n      <td>0</td>\n      <td>0</td>\n      <td>0</td>\n      <td>0</td>\n      <td>1</td>\n      <td>1</td>\n      <td>0</td>\n      <td>0</td>\n      <td>0</td>\n      <td>0</td>\n      <td>0</td>\n      <td>0</td>\n      <td>0</td>\n      <td>0</td>\n      <td>0</td>\n      <td>0</td>\n      <td>0</td>\n      <td>0</td>\n      <td>0</td>\n      <td>1.524.600</td>\n    </tr>\n    <tr>\n      <th>12386</th>\n      <td>Da Lat</td>\n      <td>16 m²</td>\n      <td>1</td>\n      <td>0</td>\n      <td>0</td>\n      <td>0</td>\n      <td>1</td>\n      <td>1</td>\n      <td>1</td>\n      <td>1</td>\n      <td>1</td>\n      <td>1</td>\n      <td>0</td>\n      <td>0</td>\n      <td>0</td>\n      <td>1</td>\n      <td>0</td>\n      <td>1</td>\n      <td>0</td>\n      <td>0</td>\n      <td>0</td>\n      <td>1</td>\n      <td>0</td>\n      <td>0</td>\n      <td>0</td>\n      <td>0</td>\n      <td>1</td>\n      <td>1</td>\n      <td>0</td>\n      <td>1</td>\n      <td>0</td>\n      <td>0</td>\n      <td>0</td>\n      <td>0</td>\n      <td>0</td>\n      <td>0</td>\n      <td>0</td>\n      <td>0</td>\n      <td>0</td>\n      <td>0</td>\n      <td>1</td>\n      <td>0</td>\n      <td>0</td>\n      <td>1</td>\n      <td>1</td>\n      <td>0</td>\n      <td>0</td>\n      <td>0</td>\n      <td>0</td>\n      <td>1</td>\n      <td>0</td>\n      <td>0</td>\n      <td>1</td>\n      <td>0</td>\n      <td>0</td>\n      <td>0</td>\n      <td>1</td>\n      <td>0</td>\n      <td>0</td>\n      <td>0</td>\n      <td>0</td>\n      <td>0</td>\n      <td>0</td>\n      <td>0</td>\n      <td>0</td>\n      <td>1</td>\n      <td>0</td>\n      <td>0</td>\n      <td>0</td>\n      <td>0</td>\n      <td>0</td>\n      <td>0</td>\n      <td>0</td>\n      <td>0</td>\n      <td>0</td>\n      <td>0</td>\n      <td>0</td>\n      <td>0</td>\n      <td>1</td>\n      <td>0</td>\n      <td>1</td>\n      <td>0</td>\n      <td>0</td>\n      <td>1</td>\n      <td>0</td>\n      <td>0</td>\n      <td>0</td>\n      <td>0</td>\n      <td>0</td>\n      <td>0</td>\n      <td>0</td>\n      <td>0</td>\n      <td>0</td>\n      <td>0</td>\n      <td>0</td>\n      <td>0</td>\n      <td>0</td>\n      <td>0</td>\n      <td>0</td>\n      <td>0</td>\n      <td>0</td>\n      <td>0</td>\n      <td>0</td>\n      <td>1</td>\n      <td>0</td>\n      <td>0</td>\n      <td>1</td>\n      <td>0</td>\n      <td>0</td>\n      <td>0</td>\n      <td>0</td>\n      <td>1</td>\n      <td>378.000</td>\n    </tr>\n  </tbody>\n</table>\n</div>"
     },
     "metadata": {},
     "execution_count": 2
    }
   ],
   "source": [
    "data_df =pd.read_csv('../datasets/full_data.csv')\n",
    "data_df.sample(n=10)"
   ]
  },
  {
   "cell_type": "markdown",
   "metadata": {},
   "source": [
    "### Dữ liệu có bao nhiêu dòng và bao nhiêu cột?"
   ]
  },
  {
   "cell_type": "code",
   "execution_count": 3,
   "metadata": {},
   "outputs": [
    {
     "output_type": "execute_result",
     "data": {
      "text/plain": [
       "(14316, 113)"
      ]
     },
     "metadata": {},
     "execution_count": 3
    }
   ],
   "source": [
    "data_df.shape"
   ]
  },
  {
   "cell_type": "markdown",
   "metadata": {},
   "source": [
    "### Mỗi dòng có ý nghĩa gì? Có vấn đề các dòng có ý nghĩa khác nhau không?"
   ]
  },
  {
   "cell_type": "markdown",
   "metadata": {},
   "source": [
    "Quan sát sơ qua thì ta thấy mỗi dòng chứa thông tin của một chỗ ở. Mà cụ thể hơn, do dữ liệu được nhóm em cào nên đó là chỗ ở cho thuê cho **2 người**, thời gian thuê **1 ngày 1 đêm**, bao gồm địa chỉ(*thành phố nào?*) - các *tiện nghi/dịch vụ* được cung cấp - *giá thuê*, được cào trong giai đoạn từ ngày 3/1/2021 đến ngày 6/1/2021.\n",
    "\n",
    "Nhìn sơ qua (bằng cách chạy `data_df.sample()` nhiều lần) thì thấy có vẻ có một số dòng bị vấn đề ở cột \"Diện tích\". Cụ thể, thay vì chứa thông tin về \"x m²\" thì sẽ là \"Phòng tắm riêng trong phòng\", \"Ban công\", \"Điều hòa không khí\",... \n",
    "\n",
    "Có thể đây là lỗi gặp phải trong quá trình nhóm em cào tự động, những dòng này cần phải được loại bỏ. Sau đó, sẵn tiện thì lược bỏ luôn \"m2\" trong cột này, chuyển sang dạng số luôn."
   ]
  },
  {
   "cell_type": "code",
   "execution_count": 4,
   "metadata": {},
   "outputs": [
    {
     "output_type": "execute_result",
     "data": {
      "text/plain": [
       "(13397, 113)"
      ]
     },
     "metadata": {},
     "execution_count": 4
    }
   ],
   "source": [
    "data_df.drop(data_df[data_df['Diện tích'].str.find('m²') == -1].index,inplace=True)\n",
    "data_df.shape"
   ]
  },
  {
   "cell_type": "code",
   "execution_count": 5,
   "metadata": {},
   "outputs": [
    {
     "output_type": "execute_result",
     "data": {
      "text/plain": [
       "dtype('int64')"
      ]
     },
     "metadata": {},
     "execution_count": 5
    }
   ],
   "source": [
    "data_df['Diện tích'] = data_df['Diện tích'].str[:-3]\n",
    "data_df['Diện tích'] = pd.to_numeric(data_df['Diện tích'], errors='coerce')\n",
    "data_df = data_df.rename(columns={'Diện tích' : 'dien_tich_m2'})\n",
    "data_df['dien_tich_m2'].dtypes"
   ]
  },
  {
   "cell_type": "markdown",
   "metadata": {},
   "source": [
    "### Dữ liệu có các dòng bị lặp không?"
   ]
  },
  {
   "cell_type": "code",
   "execution_count": 6,
   "metadata": {},
   "outputs": [
    {
     "output_type": "execute_result",
     "data": {
      "text/plain": [
       "0"
      ]
     },
     "metadata": {},
     "execution_count": 6
    }
   ],
   "source": [
    "data_df.index.duplicated().sum()"
   ]
  },
  {
   "cell_type": "markdown",
   "metadata": {},
   "source": [
    "### Mỗi cột có ý nghĩa gì?"
   ]
  },
  {
   "cell_type": "markdown",
   "metadata": {},
   "source": [
    "Vì hầu hết thông tin trên booking.com đều đã được dịch sang Tiếng Việt nên các cột nhìn vào có thể hiểu được nó chứa thông tin về gì. Ngoài thông tin về \"price\", \"City\", \"Diện tích\" thì các thông tin còn lại của booking đều hiển thị dưới dạng: 1 - có và 0 - không, tức là có cung cấp *tiện nghi/dịch vụ* này hay không. Nên dữ liệu ở các cột còn lại đều là thuộc loại **binary**."
   ]
  },
  {
   "cell_type": "code",
   "execution_count": 7,
   "metadata": {},
   "outputs": [
    {
     "output_type": "execute_result",
     "data": {
      "text/plain": [
       "['City',\n",
       " 'dien_tich_m2',\n",
       " 'Đồ vệ sinh cá nhân miễn phí',\n",
       " 'Vòi sen',\n",
       " 'Áo choàng tắm',\n",
       " 'Két an toàn',\n",
       " 'Nhà vệ sinh',\n",
       " 'Khăn tắm',\n",
       " 'Bàn làm việc',\n",
       " 'Khu vực tiếp khách',\n",
       " 'TV',\n",
       " 'Dép',\n",
       " 'Tủ lạnh',\n",
       " 'Điện thoại',\n",
       " 'Hệ thống sưởi',\n",
       " 'Máy sấy tóc',\n",
       " 'Sàn trải thảm',\n",
       " 'Ấm đun nước điện',\n",
       " 'Truyền hình cáp',\n",
       " 'Dịch vụ báo thức',\n",
       " 'Tủ hoặc phòng để quần áo',\n",
       " 'Giá treo quần áo',\n",
       " 'Nhìn ra thành phố',\n",
       " 'Bồn tắm',\n",
       " 'Điều hòa không khí',\n",
       " 'Phòng tắm riêng',\n",
       " 'TV màn hình phẳng',\n",
       " 'Hệ thống cách âm',\n",
       " 'Minibar',\n",
       " 'WiFi miễn phí',\n",
       " 'Ghế sofa',\n",
       " 'Máy fax',\n",
       " 'Phòng thay quần áo',\n",
       " 'Nhìn ra hồ bơi',\n",
       " 'Bếp',\n",
       " 'Máy giặt',\n",
       " 'Bồn tắm hoặc Vòi sen',\n",
       " 'Đồng hồ báo thức',\n",
       " 'Bàn ăn',\n",
       " 'Bồn tắm spa',\n",
       " 'Ổ điện gần giường',\n",
       " 'Toilet phụ',\n",
       " 'Dịch vụ báo thức',\n",
       " 'Giấy vệ sinh',\n",
       " 'Phòng tắm riêng trong phòng',\n",
       " 'Tiện nghi ủi',\n",
       " 'Giường cực dài (> 2 mét)',\n",
       " 'Bếp nhỏ',\n",
       " 'Khu vực phòng ăn',\n",
       " 'Tầm nhìn ra khung cảnh',\n",
       " 'Truyền hình vệ tinh',\n",
       " 'Bàn ủi',\n",
       " 'Ban công',\n",
       " 'Nhìn ra sông',\n",
       " 'Quyền sử dụng Executive Lounge',\n",
       " 'Sàn lát gỗ',\n",
       " 'Ra trải giường',\n",
       " 'Không gây dị ứng',\n",
       " 'Máy pha trà/cà phê',\n",
       " 'Khăn tắm/Bộ khăn trải giường (có thu phí)',\n",
       " 'Máy sấy quần áo',\n",
       " 'Nhìn ra địa danh nổi tiếng',\n",
       " 'Phòng tắm phụ',\n",
       " 'Có phòng thông nhau qua cửa nối',\n",
       " 'Chậu rửa vệ sinh (bidet)',\n",
       " 'Lối vào riêng',\n",
       " 'Các tầng trên đi lên bằng thang máy',\n",
       " 'Xe lăn có thể đi đến mọi nơi trong toàn bộ khuôn viên',\n",
       " 'Nhìn ra vườn',\n",
       " 'Máy vi tính',\n",
       " 'Giường sofa',\n",
       " 'Giá phơi quần áo',\n",
       " 'Két an toàn cỡ laptop',\n",
       " 'Giường xếp',\n",
       " 'Quạt máy',\n",
       " 'Chăn điện',\n",
       " 'Sản phẩm lau rửa',\n",
       " 'Ghế cao dành cho trẻ em',\n",
       " 'Cửa an toàn cho trẻ nhỏ',\n",
       " 'Máy pha Cà phê',\n",
       " 'Sàn lát gạch/đá cẩm thạch',\n",
       " 'Bàn ủi li quần',\n",
       " 'Hoàn toàn nằm ở tầng trệt',\n",
       " 'Các tầng trên chỉ lên được bằng cầu thang',\n",
       " 'Nắp che ổ cắm điện an toàn',\n",
       " 'Đồ bếp',\n",
       " 'Đầu đĩa CD',\n",
       " 'Máy điều hòa độc lập cho từng phòng',\n",
       " 'Nước rửa tay',\n",
       " 'Đầu đĩa DVD',\n",
       " 'Hồ bơi trên sân thượng',\n",
       " 'Ổ cắm cho iPod',\n",
       " 'Hồ bơi có tầm nhìn',\n",
       " 'Trò chơi board game/giải đố',\n",
       " 'Sách',\n",
       " ' đĩa DVD và nhạc cho trẻ em',\n",
       " 'Có lắp đặt máy lọc không khí',\n",
       " 'Thiết bị báo carbon monoxide',\n",
       " 'Lò vi sóng',\n",
       " 'Máy nướng bánh mỳ',\n",
       " 'Lò sưởi',\n",
       " 'Lò nướng',\n",
       " 'Bếp nấu',\n",
       " 'Đài radio',\n",
       " 'Khu vực ăn uống ngoài trời',\n",
       " 'Phòng xông hơi',\n",
       " 'Toilet chung',\n",
       " 'Bàn ghế ngoài trời',\n",
       " 'Bể sục',\n",
       " 'Hồ bơi riêng',\n",
       " 'Sân trong',\n",
       " 'Hướng nhìn sân trong',\n",
       " 'price']"
      ]
     },
     "metadata": {},
     "execution_count": 7
    }
   ],
   "source": [
    "list(data_df.columns)"
   ]
  },
  {
   "cell_type": "code",
   "execution_count": 8,
   "metadata": {},
   "outputs": [
    {
     "output_type": "stream",
     "name": "stdout",
     "text": [
      "[1 0]\n[0 1]\n[0 1]\n[0 1]\n[0 1]\n[0 1]\n[0 1]\n[0 1]\n[0 1]\n[1 0]\n[0 1]\n[0 1]\n[0 1]\n[1 0]\n[1 0]\n[0 1]\n[0 1]\n[1 0]\n[0 1]\n[0 1]\n[0 1]\n[0 1]\n[1 0]\n[0 1]\n[0 1]\n[0 1]\n[1 0]\n[0 1]\n[0 1]\n[0 1]\n[0 1]\n[0 1]\n[0 1]\n[0 1]\n[1 0]\n[0 1]\n[0 1]\n[0 1]\n[0 1]\n[0 1]\n[1 0]\n[0 1]\n[0 1]\n[0 1]\n[0 1]\n[1 0]\n[1 0]\n[0 1]\n[1 0]\n[0 1]\n[0 1]\n[1 0]\n[0 1]\n[0 1]\n[0 1]\n[0 1]\n[0 1]\n[0 1]\n[1 0]\n[0 1]\n[0 1]\n[0 1]\n[1 0]\n[0 1]\n[0 1]\n[0 1]\n[0 1]\n[0 1]\n[1 0]\n[1 0]\n[0 1]\n[0 1]\n[1 0]\n[1 0]\n[0 1]\n[0 1]\n[0 1]\n[0 1]\n[0 1]\n[1 0]\n[1 0]\n[0 1]\n[1 0]\n[0 1]\n[0 1]\n[1 0]\n[0 1]\n[0 1]\n[0 1]\n[0 1]\n[1 0]\n[0 1]\n[0 1]\n[1 0]\n[0 1]\n[0 1]\n[0 1]\n[0 1]\n[0 1]\n[0 1]\n[0 1]\n[0 1]\n[1 0]\n[1 0]\n[0 1]\n[0 1]\n[0 1]\n[0 1]\n[0 1]\n[1 0]\n"
     ]
    }
   ],
   "source": [
    "for col in set(data_df.columns) - set([\"price\", \"City\", \"dien_tich_m2\"]):\n",
    "    print(data_df[col].unique())"
   ]
  },
  {
   "cell_type": "markdown",
   "metadata": {},
   "source": [
    "---"
   ]
  },
  {
   "cell_type": "markdown",
   "metadata": {},
   "source": [
    "## Đưa ra câu hỏi cần trả lời"
   ]
  },
  {
   "cell_type": "markdown",
   "metadata": {},
   "source": [
    "Với dữ liệu này, nhóm em đã xác định từ đầu cột output sẽ là \"price\" - Bài toán regression. Do đó, câu hỏi cần được trả lời sẽ là:\n",
    "\n",
    "*Output - giá thuê chỗ ở (cho 2 người, trong 1 ngày 1 đêm, đơn vị: VNĐ) -* được tính từ *input - các thông tin của chỗ ở* theo công thức nào?\n",
    "\n",
    "Việc tìm ra câu trả lời cho câu hỏi này góp phần nào tham khảo vào quá trình đưa ra quyết định cho cả 2 phía: **bên cho thuê** và **bên thuê chỗ** ở khi đi du lịch. \n",
    "- **Bên cho thuê** có thể dựa vào đó để đưa ra giá tiền thuê sao cho phù hợp với thị trường, dựa trên những tiêu chí/ thông tin của tài sản. Cũng như cần chuẩn bị những tiêu chí gì để \"tối ưu\" giá cho thuê lên. \n",
    "- **Bên thuê chỗ** sẽ dựa theo các tiêu chí mình cần để chuẩn bị ngân sách cho chỗ ở khi du lịch... \n",
    "\n",
    "Ở giai đoạn này, thông tin của chỗ ở - input sẽ cần được lọc bớt. Vì hiện tại dữ liệu có khá nhiều cột và nhóm cảm thấy một số cột là không cần thiết/ không ảnh hưởng tới output (ít nhất là với góc độ của thị trường Việt Nam).  "
   ]
  },
  {
   "cell_type": "code",
   "execution_count": 9,
   "metadata": {},
   "outputs": [
    {
     "output_type": "execute_result",
     "data": {
      "text/plain": [
       "(13397, 98)"
      ]
     },
     "metadata": {},
     "execution_count": 9
    }
   ],
   "source": [
    "drop_cols = ['Bể sục','Máy fax', 'Ổ cắm cho iPod', 'Trò chơi board game/giải đố','Không gây dị ứng','Dịch vụ báo thức', 'Lối vào riêng', 'Chăn điện', 'Sản phẩm lau rửa',  'Đầu đĩa CD',  'Đầu đĩa DVD', ' đĩa DVD và nhạc cho trẻ em', 'Thiết bị báo carbon monoxide', 'Đài radio', 'Dịch vụ báo thức']\n",
    "data_df.drop(drop_cols, axis=1, inplace=True)\n",
    "data_df.shape"
   ]
  },
  {
   "cell_type": "markdown",
   "metadata": {},
   "source": [
    "---"
   ]
  },
  {
   "cell_type": "markdown",
   "metadata": {},
   "source": [
    "## Khám phá dữ liệu (để biết tách các tập) + tiền xử lý"
   ]
  },
  {
   "cell_type": "markdown",
   "metadata": {},
   "source": [
    "Ở bước này, dữ liệu ở cột output cần được khám phá một ít để phục vụ cho việc tách tập:\n"
   ]
  },
  {
   "cell_type": "markdown",
   "metadata": {},
   "source": [
    "* Cột output có kiểu dữ liệu gì? "
   ]
  },
  {
   "cell_type": "code",
   "execution_count": 10,
   "metadata": {},
   "outputs": [
    {
     "output_type": "execute_result",
     "data": {
      "text/plain": [
       "dtype('O')"
      ]
     },
     "metadata": {},
     "execution_count": 10
    }
   ],
   "source": [
    "# Cột output có kiểu dữ liệu gì?\n",
    "data_df['price'].dtype"
   ]
  },
  {
   "cell_type": "markdown",
   "metadata": {},
   "source": [
    "Là kiểu object - string. Vì đây là bài toán regression nên cột này cần được tiền xử lý, bỏ những dấu \".\" và chuyển sang **dạng số**"
   ]
  },
  {
   "cell_type": "code",
   "execution_count": 11,
   "metadata": {},
   "outputs": [
    {
     "output_type": "execute_result",
     "data": {
      "text/plain": [
       "dtype('int64')"
      ]
     },
     "metadata": {},
     "execution_count": 11
    }
   ],
   "source": [
    "data_df['price'] = data_df['price'].str.replace('.', '')\n",
    "data_df['price'] = pd.to_numeric(data_df['price'],errors='coerce')\n",
    "data_df['price'].dtype"
   ]
  },
  {
   "cell_type": "markdown",
   "metadata": {},
   "source": [
    "* Cột này có giá trị thiếu không?"
   ]
  },
  {
   "cell_type": "code",
   "execution_count": 12,
   "metadata": {},
   "outputs": [
    {
     "output_type": "execute_result",
     "data": {
      "text/plain": [
       "0"
      ]
     },
     "metadata": {},
     "execution_count": 12
    }
   ],
   "source": [
    "data_df['price'].isna().sum()"
   ]
  },
  {
   "cell_type": "markdown",
   "metadata": {},
   "source": [
    "---"
   ]
  },
  {
   "cell_type": "markdown",
   "metadata": {},
   "source": [
    "## Tiền xử lý (tách các tập)"
   ]
  },
  {
   "cell_type": "markdown",
   "metadata": {},
   "source": [
    "Sau khi đã khám phá và tiền xử lý 1 ít với dữ liệu, thì bây giờ là lúc tách tập test và validation ra khỏi dữ liệu."
   ]
  },
  {
   "cell_type": "code",
   "execution_count": 13,
   "metadata": {},
   "outputs": [],
   "source": [
    "# Tách X và y\n",
    "y_sr = data_df[\"price\"] # sr là viết tắt của series\n",
    "X_df =data_df.drop(\"price\", axis=1)"
   ]
  },
  {
   "cell_type": "code",
   "execution_count": 14,
   "metadata": {},
   "outputs": [],
   "source": [
    "# Tách tập huấn luyện và tập test theo tỉ lệ 80%:20%\n",
    "temp_X_df, test_X_df, temp_y_sr, test_y_sr = train_test_split(X_df, y_sr, test_size=0.2, \n",
    "                                                                  random_state=0)\n",
    "# Tiếp tục từ tập huấn luyện tách ra tập huấn luyện và tập validation 80%:20%\n",
    "train_X_df, val_X_df, train_y_sr, val_y_sr = train_test_split(temp_X_df, temp_y_sr, test_size=0.2, \n",
    "                                                                  random_state=0)\n",
    "                                                            "
   ]
  },
  {
   "cell_type": "code",
   "execution_count": 15,
   "metadata": {},
   "outputs": [
    {
     "output_type": "execute_result",
     "data": {
      "text/plain": [
       "((10717, 97), (10717,))"
      ]
     },
     "metadata": {},
     "execution_count": 15
    }
   ],
   "source": [
    "temp_X_df.shape, temp_y_sr.shape"
   ]
  },
  {
   "cell_type": "code",
   "execution_count": 16,
   "metadata": {},
   "outputs": [
    {
     "output_type": "execute_result",
     "data": {
      "text/plain": [
       "((8573, 97), (8573,))"
      ]
     },
     "metadata": {},
     "execution_count": 16
    }
   ],
   "source": [
    "train_X_df.shape, train_y_sr.shape"
   ]
  },
  {
   "cell_type": "code",
   "execution_count": 17,
   "metadata": {},
   "outputs": [
    {
     "output_type": "execute_result",
     "data": {
      "text/plain": [
       "((2144, 97), (2144,))"
      ]
     },
     "metadata": {},
     "execution_count": 17
    }
   ],
   "source": [
    " val_X_df.shape, val_y_sr.shape"
   ]
  },
  {
   "cell_type": "code",
   "execution_count": 18,
   "metadata": {},
   "outputs": [
    {
     "output_type": "execute_result",
     "data": {
      "text/plain": [
       "((2680, 97), (2680,))"
      ]
     },
     "metadata": {},
     "execution_count": 18
    }
   ],
   "source": [
    "test_X_df.shape, test_y_sr.shape"
   ]
  },
  {
   "cell_type": "markdown",
   "metadata": {},
   "source": [
    "---"
   ]
  },
  {
   "cell_type": "markdown",
   "metadata": {},
   "source": [
    "## Khám phá dữ liệu (tập huấn luyện)\n",
    "\n",
    "\n"
   ]
  },
  {
   "cell_type": "markdown",
   "metadata": {},
   "source": [
    "### Mỗi cột input hiện đang có kiểu dữ liệu gì? Có cột nào có kiểu dữ liệu chưa phù hợp để có thể xử lý tiếp không?"
   ]
  },
  {
   "cell_type": "code",
   "execution_count": 19,
   "metadata": {},
   "outputs": [
    {
     "output_type": "execute_result",
     "data": {
      "text/plain": [
       "City                                                     object\n",
       "dien_tich_m2                                              int64\n",
       "Đồ vệ sinh cá nhân miễn phí                               int64\n",
       "Vòi sen                                                  int64\n",
       "Áo choàng tắm                                          int64\n",
       "Két an toàn                                             int64\n",
       "Nhà vệ sinh                                               int64\n",
       "Khăn tắm                                                  int64\n",
       "Bàn làm việc                                           int64\n",
       "Khu vực tiếp khách                                     int64\n",
       "TV                                                        int64\n",
       "Dép                                                      int64\n",
       "Tủ lạnh                                                 int64\n",
       "Điện thoại                                              int64\n",
       "Hệ thống sưởi                                          int64\n",
       "Máy sấy tóc                                            int64\n",
       "Sàn trải thảm                                             int64\n",
       "Ấm đun nước điện                                          int64\n",
       "Truyền hình cáp                                        int64\n",
       "Tủ hoặc phòng để quần áo                                  int64\n",
       "Giá treo quần áo                                          int64\n",
       "Nhìn ra thành phố                                         int64\n",
       "Bồn tắm                                                 int64\n",
       "Điều hòa không khí                                        int64\n",
       "Phòng tắm riêng                                           int64\n",
       "TV màn hình phẳng                                         int64\n",
       "Hệ thống cách âm                                          int64\n",
       "Minibar                                                   int64\n",
       "WiFi miễn phí                                             int64\n",
       "Ghế sofa                                                  int64\n",
       "Phòng thay quần áo                                     int64\n",
       "Nhìn ra hồ bơi                                            int64\n",
       "Bếp                                                      int64\n",
       "Máy giặt                                                int64\n",
       "Bồn tắm hoặc Vòi sen                                  int64\n",
       "Đồng hồ báo thức                                          int64\n",
       "Bàn ăn                                                    int64\n",
       "Bồn tắm spa                                               int64\n",
       "Ổ điện gần giường                                         int64\n",
       "Toilet phụ                                                int64\n",
       "Giấy vệ sinh                                              int64\n",
       "Phòng tắm riêng trong phòng                               int64\n",
       "Tiện nghi ủi                                            int64\n",
       "Giường cực dài (> 2 mét)                              int64\n",
       "Bếp nhỏ                                                 int64\n",
       "Khu vực phòng ăn                                          int64\n",
       "Tầm nhìn ra khung cảnh                                    int64\n",
       "Truyền hình vệ tinh                                    int64\n",
       "Bàn ủi                                                  int64\n",
       "Ban công                                                  int64\n",
       "Nhìn ra sông                                              int64\n",
       "Quyền sử dụng Executive Lounge                            int64\n",
       "Sàn lát gỗ                                                int64\n",
       "Ra trải giường                                            int64\n",
       "Máy pha trà/cà phê                                        int64\n",
       "Khăn tắm/Bộ khăn trải giường (có thu phí)                 int64\n",
       "Máy sấy quần áo                                           int64\n",
       "Nhìn ra địa danh nổi tiếng                                int64\n",
       "Phòng tắm phụ                                             int64\n",
       "Có phòng thông nhau qua cửa nối                           int64\n",
       "Chậu rửa vệ sinh (bidet)                                int64\n",
       "Các tầng trên đi lên bằng thang máy                       int64\n",
       "Xe lăn có thể đi đến mọi nơi trong toàn bộ khuôn viên     int64\n",
       "Nhìn ra vườn                                              int64\n",
       "Máy vi tính                                               int64\n",
       "Giường sofa                                               int64\n",
       "Giá phơi quần áo                                          int64\n",
       "Két an toàn cỡ laptop                                     int64\n",
       "Giường xếp                                                int64\n",
       "Quạt máy                                                int64\n",
       "Ghế cao dành cho trẻ em                                   int64\n",
       "Cửa an toàn cho trẻ nhỏ                                   int64\n",
       "Máy pha Cà phê                                            int64\n",
       "Sàn lát gạch/đá cẩm thạch                                 int64\n",
       "Bàn ủi li quần                                         int64\n",
       "Hoàn toàn nằm ở tầng trệt                                 int64\n",
       "Các tầng trên chỉ lên được bằng cầu thang                 int64\n",
       "Nắp che ổ cắm điện an toàn                                int64\n",
       "Đồ bếp                                                    int64\n",
       "Máy điều hòa độc lập cho từng phòng                       int64\n",
       "Nước rửa tay                                              int64\n",
       "Hồ bơi trên sân thượng                                    int64\n",
       "Hồ bơi có tầm nhìn                                        int64\n",
       "Sách                                                      int64\n",
       "Có lắp đặt máy lọc không khí                              int64\n",
       "Lò vi sóng                                              int64\n",
       "Máy nướng bánh mỳ                                         int64\n",
       "Lò sưởi                                                   int64\n",
       "Lò nướng                                                  int64\n",
       "Bếp nấu                                                   int64\n",
       "Khu vực ăn uống ngoài trời                                int64\n",
       "Phòng xông hơi                                            int64\n",
       "Toilet chung                                              int64\n",
       "Bàn ghế ngoài trời                                        int64\n",
       "Hồ bơi riêng                                              int64\n",
       "Sân trong                                                 int64\n",
       "Hướng nhìn sân trong                                      int64\n",
       "dtype: object"
      ]
     },
     "metadata": {},
     "execution_count": 19
    }
   ],
   "source": [
    "train_X_df.dtypes"
   ]
  },
  {
   "cell_type": "markdown",
   "metadata": {},
   "source": [
    "Các cột đều có kiểu dữ liệu phù hợp."
   ]
  },
  {
   "cell_type": "markdown",
   "metadata": {},
   "source": [
    "### Với mỗi cột input có kiểu dữ liệu dạng số, các giá trị được phân bố như thế nào?"
   ]
  },
  {
   "cell_type": "markdown",
   "metadata": {},
   "source": [
    "Chỉ có cột \"Diện tích\" là kiểu dạng số . "
   ]
  },
  {
   "cell_type": "code",
   "execution_count": 20,
   "metadata": {
    "lines_to_next_cell": 0
   },
   "outputs": [
    {
     "output_type": "execute_result",
     "data": {
      "text/plain": [
       "                dien_tich_m2\n",
       "missing_ratio            0.0\n",
       "min                     15.0\n",
       "lower_quartile          24.0\n",
       "median                  30.0\n",
       "upper_quartile          42.0\n",
       "max                   1200.0"
      ],
      "text/html": "<div>\n<style scoped>\n    .dataframe tbody tr th:only-of-type {\n        vertical-align: middle;\n    }\n\n    .dataframe tbody tr th {\n        vertical-align: top;\n    }\n\n    .dataframe thead th {\n        text-align: right;\n    }\n</style>\n<table border=\"1\" class=\"dataframe\">\n  <thead>\n    <tr style=\"text-align: right;\">\n      <th></th>\n      <th>dien_tich_m2</th>\n    </tr>\n  </thead>\n  <tbody>\n    <tr>\n      <th>missing_ratio</th>\n      <td>0.0</td>\n    </tr>\n    <tr>\n      <th>min</th>\n      <td>15.0</td>\n    </tr>\n    <tr>\n      <th>lower_quartile</th>\n      <td>24.0</td>\n    </tr>\n    <tr>\n      <th>median</th>\n      <td>30.0</td>\n    </tr>\n    <tr>\n      <th>upper_quartile</th>\n      <td>42.0</td>\n    </tr>\n    <tr>\n      <th>max</th>\n      <td>1200.0</td>\n    </tr>\n  </tbody>\n</table>\n</div>"
     },
     "metadata": {},
     "execution_count": 20
    }
   ],
   "source": [
    "num_cols = ['dien_tich_m2']\n",
    "num_df = train_X_df[num_cols]\n",
    "def missing_ratio(df):\n",
    "    return (df.isna().mean() * 100).round(1)\n",
    "def lower_quartile(df):\n",
    "    return df.quantile(0.25).round(1)\n",
    "def median(df):\n",
    "    return df.quantile(0.5).round(1)\n",
    "def upper_quartile(df):\n",
    "    return df.quantile(0.75).round(1)\n",
    "num_df.agg([missing_ratio, 'min', lower_quartile, median, upper_quartile, 'max'])"
   ]
  },
  {
   "cell_type": "markdown",
   "metadata": {},
   "source": [
    "\n"
   ]
  },
  {
   "cell_type": "markdown",
   "metadata": {},
   "source": [
    "### Với mỗi cột input có kiểu dữ liệu không phải dạng số, các giá trị được phân bố như thế nào?"
   ]
  },
  {
   "cell_type": "code",
   "execution_count": 21,
   "metadata": {},
   "outputs": [
    {
     "output_type": "execute_result",
     "data": {
      "text/plain": [
       "                          Minibar Có phòng thông nhau qua cửa nối  \\\n",
       "missing_ratio                   0                               0   \n",
       "num_values                      2                               2   \n",
       "value_ratios   {1: 62.9, 0: 37.1}               {0: 90.4, 1: 9.6}   \n",
       "\n",
       "                     Nước rửa tay Két an toàn cỡ laptop       Lò vi sóng  \\\n",
       "missing_ratio                   0                     0                  0   \n",
       "num_values                      2                     2                  2   \n",
       "value_ratios   {0: 82.9, 1: 17.1}    {0: 85.7, 1: 14.3}  {0: 94.2, 1: 5.8}   \n",
       "\n",
       "              Hồ bơi trên sân thượng        Hồ bơi riêng          Quạt máy  \\\n",
       "missing_ratio                      0                   0                   0   \n",
       "num_values                         2                   2                   2   \n",
       "value_ratios       {0: 91.9, 1: 8.1}  {0: 86.9, 1: 13.1}  {0: 63.9, 1: 36.1}   \n",
       "\n",
       "              Nắp che ổ cắm điện an toàn Hoàn toàn nằm ở tầng trệt  \\\n",
       "missing_ratio                          0                         0   \n",
       "num_values                             2                         2   \n",
       "value_ratios          {0: 77.4, 1: 22.6}         {0: 92.1, 1: 7.9}   \n",
       "\n",
       "                 Ấm đun nước điện          Sàn lát gỗ  \\\n",
       "missing_ratio                   0                   0   \n",
       "num_values                      2                   2   \n",
       "value_ratios   {1: 82.3, 0: 17.7}  {0: 55.3, 1: 44.7}   \n",
       "\n",
       "              Khăn tắm/Bộ khăn trải giường (có thu phí)  \\\n",
       "missing_ratio                                         0   \n",
       "num_values                                            2   \n",
       "value_ratios                         {0: 68.8, 1: 31.2}   \n",
       "\n",
       "              Tủ hoặc phòng để quần áo      Máy sấy tóc  \\\n",
       "missing_ratio                        0                   0   \n",
       "num_values                           2                   2   \n",
       "value_ratios        {1: 82.6, 0: 17.4}  {1: 88.5, 0: 11.5}   \n",
       "\n",
       "                                                            City  \\\n",
       "missing_ratio                                                  0   \n",
       "num_values                                                     4   \n",
       "value_ratios   {'Ha Noi': 28.1, 'TP.Ho Chi Minh': 24.7, 'Da N...   \n",
       "\n",
       "                       Toilet phụ    Giá phơi quần áo    Giá treo quần áo  \\\n",
       "missing_ratio                   0                   0                   0   \n",
       "num_values                      2                   2                   2   \n",
       "value_ratios   {0: 80.7, 1: 19.3}  {0: 72.2, 1: 27.8}  {1: 75.7, 0: 24.3}   \n",
       "\n",
       "                         Ghế sofa Hướng nhìn sân trong  \\\n",
       "missing_ratio                   0                    0   \n",
       "num_values                      2                    2   \n",
       "value_ratios   {0: 63.9, 1: 36.1}   {0: 79.6, 1: 20.4}   \n",
       "\n",
       "              Bồn tắm hoặc Vòi sen       Giấy vệ sinh  \\\n",
       "missing_ratio                        0                  0   \n",
       "num_values                           2                  2   \n",
       "value_ratios        {1: 68.1, 0: 31.9}  {1: 92.5, 0: 7.5}   \n",
       "\n",
       "              Đồ vệ sinh cá nhân miễn phí Khu vực ăn uống ngoài trời  \\\n",
       "missing_ratio                           0                          0   \n",
       "num_values                              2                          2   \n",
       "value_ratios           {1: 88.0, 0: 12.0}          {0: 97.6, 1: 2.4}   \n",
       "\n",
       "                 Áo choàng tắm Phòng thay quần áo        Bồn tắm spa  \\\n",
       "missing_ratio                   0                     0                  0   \n",
       "num_values                      2                     2                  2   \n",
       "value_ratios   {0: 65.9, 1: 34.1}    {0: 74.8, 1: 25.2}  {0: 96.8, 1: 3.2}   \n",
       "\n",
       "                  Nhìn ra hồ bơi      Ra trải giường           Bếp nhỏ  \\\n",
       "missing_ratio                  0                   0                   0   \n",
       "num_values                     2                   2                   2   \n",
       "value_ratios   {0: 95.1, 1: 4.9}  {1: 71.6, 0: 28.4}  {0: 79.9, 1: 20.1}   \n",
       "\n",
       "                         Lò nướng            Khăn tắm  \\\n",
       "missing_ratio                   0                   0   \n",
       "num_values                      2                   2   \n",
       "value_ratios   {0: 82.9, 1: 17.1}  {1: 90.0, 0: 10.0}   \n",
       "\n",
       "              Quyền sử dụng Executive Lounge        Máy vi tính  \\\n",
       "missing_ratio                              0                  0   \n",
       "num_values                                 2                  2   \n",
       "value_ratios              {0: 89.8, 1: 10.2}  {0: 98.3, 1: 1.7}   \n",
       "\n",
       "              Chậu rửa vệ sinh (bidet)     Bàn làm việc  \\\n",
       "missing_ratio                          0                   0   \n",
       "num_values                             2                   2   \n",
       "value_ratios          {0: 53.7, 1: 46.3}  {1: 79.8, 0: 20.2}   \n",
       "\n",
       "              Cửa an toàn cho trẻ nhỏ      Tiện nghi ủi Bàn ghế ngoài trời  \\\n",
       "missing_ratio                       0                   0                  0   \n",
       "num_values                          2                   2                  2   \n",
       "value_ratios       {0: 81.2, 1: 18.8}  {0: 62.7, 1: 37.3}  {0: 93.9, 1: 6.1}   \n",
       "\n",
       "              Ghế cao dành cho trẻ em            Vòi sen  Điều hòa không khí  \\\n",
       "missing_ratio                       0                   0                   0   \n",
       "num_values                          2                   2                   2   \n",
       "value_ratios        {0: 92.7, 1: 7.3}  {0: 74.1, 1: 25.9}  {1: 77.9, 0: 22.1}   \n",
       "\n",
       "                Máy nướng bánh mỳ  Truyền hình cáp      Phòng xông hơi  \\\n",
       "missing_ratio                   0                   0                   0   \n",
       "num_values                      2                   2                   2   \n",
       "value_ratios   {0: 87.1, 1: 12.9}  {1: 68.1, 0: 31.9}  {0: 87.4, 1: 12.6}   \n",
       "\n",
       "              Sàn lát gạch/đá cẩm thạch   TV màn hình phẳng  \\\n",
       "missing_ratio                         0                   0   \n",
       "num_values                            2                   2   \n",
       "value_ratios         {0: 60.4, 1: 39.6}  {1: 88.6, 0: 11.4}   \n",
       "\n",
       "                           Bàn ăn Máy điều hòa độc lập cho từng phòng  \\\n",
       "missing_ratio                   0                                   0   \n",
       "num_values                      2                                   2   \n",
       "value_ratios   {0: 65.7, 1: 34.3}                  {0: 86.0, 1: 14.0}   \n",
       "\n",
       "                         Ban công          Máy giặt   Bàn ủi li quần  \\\n",
       "missing_ratio                   0                   0                   0   \n",
       "num_values                      2                   2                   2   \n",
       "value_ratios   {0: 65.7, 1: 34.3}  {0: 83.4, 1: 16.6}  {0: 89.4, 1: 10.6}   \n",
       "\n",
       "                     Điện thoại Nhìn ra địa danh nổi tiếng  \\\n",
       "missing_ratio                   0                          0   \n",
       "num_values                      2                          2   \n",
       "value_ratios   {1: 65.2, 0: 34.8}         {0: 87.8, 1: 12.2}   \n",
       "\n",
       "                            Sách       Két an toàn  \\\n",
       "missing_ratio                  0                   0   \n",
       "num_values                     2                   2   \n",
       "value_ratios   {0: 96.9, 1: 3.1}  {1: 50.9, 0: 49.1}   \n",
       "\n",
       "              Các tầng trên chỉ lên được bằng cầu thang  Hồ bơi có tầm nhìn  \\\n",
       "missing_ratio                                         0                   0   \n",
       "num_values                                            2                   2   \n",
       "value_ratios                         {0: 78.1, 1: 21.9}  {0: 87.9, 1: 12.1}   \n",
       "\n",
       "                    Nhìn ra sông Truyền hình vệ tinh  \\\n",
       "missing_ratio                  0                      0   \n",
       "num_values                     2                      2   \n",
       "value_ratios   {0: 93.3, 1: 6.7}     {0: 58.9, 1: 41.1}   \n",
       "\n",
       "              Phòng tắm riêng trong phòng        Nhà vệ sinh  \\\n",
       "missing_ratio                           0                  0   \n",
       "num_values                              2                  2   \n",
       "value_ratios           {0: 58.2, 1: 41.8}  {1: 93.2, 0: 6.8}   \n",
       "\n",
       "                 Hệ thống cách âm     Máy sấy quần áo  \\\n",
       "missing_ratio                   0                   0   \n",
       "num_values                      2                   2   \n",
       "value_ratios   {0: 50.5, 1: 49.5}  {0: 79.5, 1: 20.5}   \n",
       "\n",
       "              Các tầng trên đi lên bằng thang máy                Dép  \\\n",
       "missing_ratio                                   0                   0   \n",
       "num_values                                      2                   2   \n",
       "value_ratios                   {1: 54.1, 0: 45.9}  {1: 90.0, 0: 10.0}   \n",
       "\n",
       "              Khu vực tiếp khách    Đồng hồ báo thức         Giường xếp  \\\n",
       "missing_ratio                     0                   0                  0   \n",
       "num_values                        2                   2                  2   \n",
       "value_ratios     {1: 56.1, 0: 43.9}  {0: 74.6, 1: 25.4}  {0: 92.4, 1: 7.6}   \n",
       "\n",
       "                             Bếp              Đồ bếp    Hệ thống sưởi  \\\n",
       "missing_ratio                   0                   0                   0   \n",
       "num_values                      2                   2                   2   \n",
       "value_ratios   {0: 78.2, 1: 21.8}  {0: 78.5, 1: 21.5}  {0: 82.3, 1: 17.7}   \n",
       "\n",
       "                  Phòng tắm riêng      Phòng tắm phụ           Tủ lạnh  \\\n",
       "missing_ratio                   0                  0                   0   \n",
       "num_values                      2                  2                   2   \n",
       "value_ratios   {0: 53.1, 1: 46.9}  {0: 91.7, 1: 8.3}  {1: 60.4, 0: 39.6}   \n",
       "\n",
       "              Tầm nhìn ra khung cảnh    Khu vực phòng ăn  \\\n",
       "missing_ratio                      0                   0   \n",
       "num_values                         2                   2   \n",
       "value_ratios      {0: 89.9, 1: 10.1}  {0: 72.1, 1: 27.9}   \n",
       "\n",
       "              Có lắp đặt máy lọc không khí         Giường sofa  \\\n",
       "missing_ratio                            0                   0   \n",
       "num_values                               2                   2   \n",
       "value_ratios             {0: 94.4, 1: 5.6}  {0: 85.1, 1: 14.9}   \n",
       "\n",
       "                       Bồn tắm            Lò sưởi        Toilet chung  \\\n",
       "missing_ratio                  0                  0                   0   \n",
       "num_values                     2                  2                   2   \n",
       "value_ratios   {0: 95.0, 1: 5.0}  {0: 90.4, 1: 9.6}  {0: 83.0, 1: 17.0}   \n",
       "\n",
       "                               TV  \\\n",
       "missing_ratio                   0   \n",
       "num_values                      2   \n",
       "value_ratios   {1: 82.9, 0: 17.1}   \n",
       "\n",
       "              Xe lăn có thể đi đến mọi nơi trong toàn bộ khuôn viên  \\\n",
       "missing_ratio                                                  0      \n",
       "num_values                                                     2      \n",
       "value_ratios                                  {0: 69.9, 1: 30.1}      \n",
       "\n",
       "                       Sân trong        Nhìn ra vườn   Ổ điện gần giường  \\\n",
       "missing_ratio                  0                   0                   0   \n",
       "num_values                     2                   2                   2   \n",
       "value_ratios   {0: 90.9, 1: 9.1}  {0: 82.8, 1: 17.2}  {1: 72.6, 0: 27.4}   \n",
       "\n",
       "                Nhìn ra thành phố       Sàn trải thảm            Bàn ủi  \\\n",
       "missing_ratio                   0                   0                   0   \n",
       "num_values                      2                   2                   2   \n",
       "value_ratios   {1: 54.2, 0: 45.8}  {0: 76.3, 1: 23.7}  {0: 60.8, 1: 39.2}   \n",
       "\n",
       "               Máy pha trà/cà phê            Bếp nấu  \\\n",
       "missing_ratio                   0                  0   \n",
       "num_values                      2                  2   \n",
       "value_ratios   {0: 80.1, 1: 19.9}  {0: 95.8, 1: 4.2}   \n",
       "\n",
       "              Giường cực dài (> 2 mét)     Máy pha Cà phê  \\\n",
       "missing_ratio                            0                  0   \n",
       "num_values                               2                  2   \n",
       "value_ratios            {0: 83.3, 1: 16.7}  {0: 93.2, 1: 6.8}   \n",
       "\n",
       "                    WiFi miễn phí  \n",
       "missing_ratio                   0  \n",
       "num_values                      2  \n",
       "value_ratios   {1: 79.2, 0: 20.8}  "
      ],
      "text/html": "<div>\n<style scoped>\n    .dataframe tbody tr th:only-of-type {\n        vertical-align: middle;\n    }\n\n    .dataframe tbody tr th {\n        vertical-align: top;\n    }\n\n    .dataframe thead th {\n        text-align: right;\n    }\n</style>\n<table border=\"1\" class=\"dataframe\">\n  <thead>\n    <tr style=\"text-align: right;\">\n      <th></th>\n      <th>Minibar</th>\n      <th>Có phòng thông nhau qua cửa nối</th>\n      <th>Nước rửa tay</th>\n      <th>Két an toàn cỡ laptop</th>\n      <th>Lò vi sóng</th>\n      <th>Hồ bơi trên sân thượng</th>\n      <th>Hồ bơi riêng</th>\n      <th>Quạt máy</th>\n      <th>Nắp che ổ cắm điện an toàn</th>\n      <th>Hoàn toàn nằm ở tầng trệt</th>\n      <th>Ấm đun nước điện</th>\n      <th>Sàn lát gỗ</th>\n      <th>Khăn tắm/Bộ khăn trải giường (có thu phí)</th>\n      <th>Tủ hoặc phòng để quần áo</th>\n      <th>Máy sấy tóc</th>\n      <th>City</th>\n      <th>Toilet phụ</th>\n      <th>Giá phơi quần áo</th>\n      <th>Giá treo quần áo</th>\n      <th>Ghế sofa</th>\n      <th>Hướng nhìn sân trong</th>\n      <th>Bồn tắm hoặc Vòi sen</th>\n      <th>Giấy vệ sinh</th>\n      <th>Đồ vệ sinh cá nhân miễn phí</th>\n      <th>Khu vực ăn uống ngoài trời</th>\n      <th>Áo choàng tắm</th>\n      <th>Phòng thay quần áo</th>\n      <th>Bồn tắm spa</th>\n      <th>Nhìn ra hồ bơi</th>\n      <th>Ra trải giường</th>\n      <th>Bếp nhỏ</th>\n      <th>Lò nướng</th>\n      <th>Khăn tắm</th>\n      <th>Quyền sử dụng Executive Lounge</th>\n      <th>Máy vi tính</th>\n      <th>Chậu rửa vệ sinh (bidet)</th>\n      <th>Bàn làm việc</th>\n      <th>Cửa an toàn cho trẻ nhỏ</th>\n      <th>Tiện nghi ủi</th>\n      <th>Bàn ghế ngoài trời</th>\n      <th>Ghế cao dành cho trẻ em</th>\n      <th>Vòi sen</th>\n      <th>Điều hòa không khí</th>\n      <th>Máy nướng bánh mỳ</th>\n      <th>Truyền hình cáp</th>\n      <th>Phòng xông hơi</th>\n      <th>Sàn lát gạch/đá cẩm thạch</th>\n      <th>TV màn hình phẳng</th>\n      <th>Bàn ăn</th>\n      <th>Máy điều hòa độc lập cho từng phòng</th>\n      <th>Ban công</th>\n      <th>Máy giặt</th>\n      <th>Bàn ủi li quần</th>\n      <th>Điện thoại</th>\n      <th>Nhìn ra địa danh nổi tiếng</th>\n      <th>Sách</th>\n      <th>Két an toàn</th>\n      <th>Các tầng trên chỉ lên được bằng cầu thang</th>\n      <th>Hồ bơi có tầm nhìn</th>\n      <th>Nhìn ra sông</th>\n      <th>Truyền hình vệ tinh</th>\n      <th>Phòng tắm riêng trong phòng</th>\n      <th>Nhà vệ sinh</th>\n      <th>Hệ thống cách âm</th>\n      <th>Máy sấy quần áo</th>\n      <th>Các tầng trên đi lên bằng thang máy</th>\n      <th>Dép</th>\n      <th>Khu vực tiếp khách</th>\n      <th>Đồng hồ báo thức</th>\n      <th>Giường xếp</th>\n      <th>Bếp</th>\n      <th>Đồ bếp</th>\n      <th>Hệ thống sưởi</th>\n      <th>Phòng tắm riêng</th>\n      <th>Phòng tắm phụ</th>\n      <th>Tủ lạnh</th>\n      <th>Tầm nhìn ra khung cảnh</th>\n      <th>Khu vực phòng ăn</th>\n      <th>Có lắp đặt máy lọc không khí</th>\n      <th>Giường sofa</th>\n      <th>Bồn tắm</th>\n      <th>Lò sưởi</th>\n      <th>Toilet chung</th>\n      <th>TV</th>\n      <th>Xe lăn có thể đi đến mọi nơi trong toàn bộ khuôn viên</th>\n      <th>Sân trong</th>\n      <th>Nhìn ra vườn</th>\n      <th>Ổ điện gần giường</th>\n      <th>Nhìn ra thành phố</th>\n      <th>Sàn trải thảm</th>\n      <th>Bàn ủi</th>\n      <th>Máy pha trà/cà phê</th>\n      <th>Bếp nấu</th>\n      <th>Giường cực dài (&gt; 2 mét)</th>\n      <th>Máy pha Cà phê</th>\n      <th>WiFi miễn phí</th>\n    </tr>\n  </thead>\n  <tbody>\n    <tr>\n      <th>missing_ratio</th>\n      <td>0</td>\n      <td>0</td>\n      <td>0</td>\n      <td>0</td>\n      <td>0</td>\n      <td>0</td>\n      <td>0</td>\n      <td>0</td>\n      <td>0</td>\n      <td>0</td>\n      <td>0</td>\n      <td>0</td>\n      <td>0</td>\n      <td>0</td>\n      <td>0</td>\n      <td>0</td>\n      <td>0</td>\n      <td>0</td>\n      <td>0</td>\n      <td>0</td>\n      <td>0</td>\n      <td>0</td>\n      <td>0</td>\n      <td>0</td>\n      <td>0</td>\n      <td>0</td>\n      <td>0</td>\n      <td>0</td>\n      <td>0</td>\n      <td>0</td>\n      <td>0</td>\n      <td>0</td>\n      <td>0</td>\n      <td>0</td>\n      <td>0</td>\n      <td>0</td>\n      <td>0</td>\n      <td>0</td>\n      <td>0</td>\n      <td>0</td>\n      <td>0</td>\n      <td>0</td>\n      <td>0</td>\n      <td>0</td>\n      <td>0</td>\n      <td>0</td>\n      <td>0</td>\n      <td>0</td>\n      <td>0</td>\n      <td>0</td>\n      <td>0</td>\n      <td>0</td>\n      <td>0</td>\n      <td>0</td>\n      <td>0</td>\n      <td>0</td>\n      <td>0</td>\n      <td>0</td>\n      <td>0</td>\n      <td>0</td>\n      <td>0</td>\n      <td>0</td>\n      <td>0</td>\n      <td>0</td>\n      <td>0</td>\n      <td>0</td>\n      <td>0</td>\n      <td>0</td>\n      <td>0</td>\n      <td>0</td>\n      <td>0</td>\n      <td>0</td>\n      <td>0</td>\n      <td>0</td>\n      <td>0</td>\n      <td>0</td>\n      <td>0</td>\n      <td>0</td>\n      <td>0</td>\n      <td>0</td>\n      <td>0</td>\n      <td>0</td>\n      <td>0</td>\n      <td>0</td>\n      <td>0</td>\n      <td>0</td>\n      <td>0</td>\n      <td>0</td>\n      <td>0</td>\n      <td>0</td>\n      <td>0</td>\n      <td>0</td>\n      <td>0</td>\n      <td>0</td>\n      <td>0</td>\n      <td>0</td>\n    </tr>\n    <tr>\n      <th>num_values</th>\n      <td>2</td>\n      <td>2</td>\n      <td>2</td>\n      <td>2</td>\n      <td>2</td>\n      <td>2</td>\n      <td>2</td>\n      <td>2</td>\n      <td>2</td>\n      <td>2</td>\n      <td>2</td>\n      <td>2</td>\n      <td>2</td>\n      <td>2</td>\n      <td>2</td>\n      <td>4</td>\n      <td>2</td>\n      <td>2</td>\n      <td>2</td>\n      <td>2</td>\n      <td>2</td>\n      <td>2</td>\n      <td>2</td>\n      <td>2</td>\n      <td>2</td>\n      <td>2</td>\n      <td>2</td>\n      <td>2</td>\n      <td>2</td>\n      <td>2</td>\n      <td>2</td>\n      <td>2</td>\n      <td>2</td>\n      <td>2</td>\n      <td>2</td>\n      <td>2</td>\n      <td>2</td>\n      <td>2</td>\n      <td>2</td>\n      <td>2</td>\n      <td>2</td>\n      <td>2</td>\n      <td>2</td>\n      <td>2</td>\n      <td>2</td>\n      <td>2</td>\n      <td>2</td>\n      <td>2</td>\n      <td>2</td>\n      <td>2</td>\n      <td>2</td>\n      <td>2</td>\n      <td>2</td>\n      <td>2</td>\n      <td>2</td>\n      <td>2</td>\n      <td>2</td>\n      <td>2</td>\n      <td>2</td>\n      <td>2</td>\n      <td>2</td>\n      <td>2</td>\n      <td>2</td>\n      <td>2</td>\n      <td>2</td>\n      <td>2</td>\n      <td>2</td>\n      <td>2</td>\n      <td>2</td>\n      <td>2</td>\n      <td>2</td>\n      <td>2</td>\n      <td>2</td>\n      <td>2</td>\n      <td>2</td>\n      <td>2</td>\n      <td>2</td>\n      <td>2</td>\n      <td>2</td>\n      <td>2</td>\n      <td>2</td>\n      <td>2</td>\n      <td>2</td>\n      <td>2</td>\n      <td>2</td>\n      <td>2</td>\n      <td>2</td>\n      <td>2</td>\n      <td>2</td>\n      <td>2</td>\n      <td>2</td>\n      <td>2</td>\n      <td>2</td>\n      <td>2</td>\n      <td>2</td>\n      <td>2</td>\n    </tr>\n    <tr>\n      <th>value_ratios</th>\n      <td>{1: 62.9, 0: 37.1}</td>\n      <td>{0: 90.4, 1: 9.6}</td>\n      <td>{0: 82.9, 1: 17.1}</td>\n      <td>{0: 85.7, 1: 14.3}</td>\n      <td>{0: 94.2, 1: 5.8}</td>\n      <td>{0: 91.9, 1: 8.1}</td>\n      <td>{0: 86.9, 1: 13.1}</td>\n      <td>{0: 63.9, 1: 36.1}</td>\n      <td>{0: 77.4, 1: 22.6}</td>\n      <td>{0: 92.1, 1: 7.9}</td>\n      <td>{1: 82.3, 0: 17.7}</td>\n      <td>{0: 55.3, 1: 44.7}</td>\n      <td>{0: 68.8, 1: 31.2}</td>\n      <td>{1: 82.6, 0: 17.4}</td>\n      <td>{1: 88.5, 0: 11.5}</td>\n      <td>{'Ha Noi': 28.1, 'TP.Ho Chi Minh': 24.7, 'Da N...</td>\n      <td>{0: 80.7, 1: 19.3}</td>\n      <td>{0: 72.2, 1: 27.8}</td>\n      <td>{1: 75.7, 0: 24.3}</td>\n      <td>{0: 63.9, 1: 36.1}</td>\n      <td>{0: 79.6, 1: 20.4}</td>\n      <td>{1: 68.1, 0: 31.9}</td>\n      <td>{1: 92.5, 0: 7.5}</td>\n      <td>{1: 88.0, 0: 12.0}</td>\n      <td>{0: 97.6, 1: 2.4}</td>\n      <td>{0: 65.9, 1: 34.1}</td>\n      <td>{0: 74.8, 1: 25.2}</td>\n      <td>{0: 96.8, 1: 3.2}</td>\n      <td>{0: 95.1, 1: 4.9}</td>\n      <td>{1: 71.6, 0: 28.4}</td>\n      <td>{0: 79.9, 1: 20.1}</td>\n      <td>{0: 82.9, 1: 17.1}</td>\n      <td>{1: 90.0, 0: 10.0}</td>\n      <td>{0: 89.8, 1: 10.2}</td>\n      <td>{0: 98.3, 1: 1.7}</td>\n      <td>{0: 53.7, 1: 46.3}</td>\n      <td>{1: 79.8, 0: 20.2}</td>\n      <td>{0: 81.2, 1: 18.8}</td>\n      <td>{0: 62.7, 1: 37.3}</td>\n      <td>{0: 93.9, 1: 6.1}</td>\n      <td>{0: 92.7, 1: 7.3}</td>\n      <td>{0: 74.1, 1: 25.9}</td>\n      <td>{1: 77.9, 0: 22.1}</td>\n      <td>{0: 87.1, 1: 12.9}</td>\n      <td>{1: 68.1, 0: 31.9}</td>\n      <td>{0: 87.4, 1: 12.6}</td>\n      <td>{0: 60.4, 1: 39.6}</td>\n      <td>{1: 88.6, 0: 11.4}</td>\n      <td>{0: 65.7, 1: 34.3}</td>\n      <td>{0: 86.0, 1: 14.0}</td>\n      <td>{0: 65.7, 1: 34.3}</td>\n      <td>{0: 83.4, 1: 16.6}</td>\n      <td>{0: 89.4, 1: 10.6}</td>\n      <td>{1: 65.2, 0: 34.8}</td>\n      <td>{0: 87.8, 1: 12.2}</td>\n      <td>{0: 96.9, 1: 3.1}</td>\n      <td>{1: 50.9, 0: 49.1}</td>\n      <td>{0: 78.1, 1: 21.9}</td>\n      <td>{0: 87.9, 1: 12.1}</td>\n      <td>{0: 93.3, 1: 6.7}</td>\n      <td>{0: 58.9, 1: 41.1}</td>\n      <td>{0: 58.2, 1: 41.8}</td>\n      <td>{1: 93.2, 0: 6.8}</td>\n      <td>{0: 50.5, 1: 49.5}</td>\n      <td>{0: 79.5, 1: 20.5}</td>\n      <td>{1: 54.1, 0: 45.9}</td>\n      <td>{1: 90.0, 0: 10.0}</td>\n      <td>{1: 56.1, 0: 43.9}</td>\n      <td>{0: 74.6, 1: 25.4}</td>\n      <td>{0: 92.4, 1: 7.6}</td>\n      <td>{0: 78.2, 1: 21.8}</td>\n      <td>{0: 78.5, 1: 21.5}</td>\n      <td>{0: 82.3, 1: 17.7}</td>\n      <td>{0: 53.1, 1: 46.9}</td>\n      <td>{0: 91.7, 1: 8.3}</td>\n      <td>{1: 60.4, 0: 39.6}</td>\n      <td>{0: 89.9, 1: 10.1}</td>\n      <td>{0: 72.1, 1: 27.9}</td>\n      <td>{0: 94.4, 1: 5.6}</td>\n      <td>{0: 85.1, 1: 14.9}</td>\n      <td>{0: 95.0, 1: 5.0}</td>\n      <td>{0: 90.4, 1: 9.6}</td>\n      <td>{0: 83.0, 1: 17.0}</td>\n      <td>{1: 82.9, 0: 17.1}</td>\n      <td>{0: 69.9, 1: 30.1}</td>\n      <td>{0: 90.9, 1: 9.1}</td>\n      <td>{0: 82.8, 1: 17.2}</td>\n      <td>{1: 72.6, 0: 27.4}</td>\n      <td>{1: 54.2, 0: 45.8}</td>\n      <td>{0: 76.3, 1: 23.7}</td>\n      <td>{0: 60.8, 1: 39.2}</td>\n      <td>{0: 80.1, 1: 19.9}</td>\n      <td>{0: 95.8, 1: 4.2}</td>\n      <td>{0: 83.3, 1: 16.7}</td>\n      <td>{0: 93.2, 1: 6.8}</td>\n      <td>{1: 79.2, 0: 20.8}</td>\n    </tr>\n  </tbody>\n</table>\n</div>"
     },
     "metadata": {},
     "execution_count": 21
    }
   ],
   "source": [
    "cat_cols = list(set(train_X_df.columns) - set(num_cols))\n",
    "cat_df =train_X_df[cat_cols]\n",
    "def missing_ratio(df):\n",
    "    return (df.isna().mean() * 100).round(1)\n",
    "def num_values(df):\n",
    "    return df.nunique()\n",
    "def value_ratios(c):\n",
    "    return dict((c.value_counts(normalize=True) * 100).round(1))\n",
    "cat_df.agg([missing_ratio, num_values, value_ratios])"
   ]
  },
  {
   "cell_type": "markdown",
   "metadata": {},
   "source": [
    "Một số trường có vẻ bị chênh lệch quá nhiều giưa 2 giá trị 0-1. Có thể kể tới như \"Giường xếp\", \"Giấy vệ sinh\",... Liệu có cần bỏ các cột này?\n",
    "-  Theo em nghĩ là vì các cột này "
   ]
  },
  {
   "cell_type": "markdown",
   "metadata": {},
   "source": [
    "---"
   ]
  },
  {
   "cell_type": "markdown",
   "metadata": {},
   "source": [
    "## Tiền xử lý (tập huấn luyện)"
   ]
  },
  {
   "cell_type": "code",
   "execution_count": 22,
   "metadata": {},
   "outputs": [
    {
     "output_type": "execute_result",
     "data": {
      "text/plain": [
       "(8573, 97)"
      ]
     },
     "metadata": {},
     "execution_count": 22
    }
   ],
   "source": [
    "train_X_df.shape"
   ]
  },
  {
   "source": [
    "- Ở ColAdderDropper() ta sẽ tiến hành gom các cột tiện nghi/dịch vụ *cùng 1 loại*, hoặc *có điểm chung* lại để giảm số cột\n",
    "\n",
    "VD: Các thuộc tính 'Sàn trải thảm', 'Sàn lát gạch/đá cẩm thạch', 'Sàn lát gỗ' sẽ được gom lại thành 1 cột là 'lot_san', với:\n",
    "\n",
    "- 'Sàn trải thảm' = 1\n",
    "- 'Sàn lát gạch/đá cẩm thạch' = 2\n",
    "- 'Sàn lát gỗ' = 3\n"
   ],
   "cell_type": "markdown",
   "metadata": {}
  },
  {
   "cell_type": "code",
   "execution_count": 23,
   "metadata": {},
   "outputs": [],
   "source": [
    "# Ý tưởng: gom các tiện ích cùng 1 loại, hoặc có điểm chung lại để giảm số cột\n",
    "\n",
    "class ColAdderDropper(BaseEstimator, TransformerMixin):\n",
    "    def __init__(self, may_pha_tra_cf=True,\n",
    "                bep_an=True, phong_tam=True, ket_sat=True,toilet=True,\n",
    "                TV=True, dieu_hoa=True,lot_san=True, tu_quan_ao=True,\n",
    "                view=True, ban_an=True, ui_quan_ao=True, giuong=True,\n",
    "                tien_ich_cho_tre_em=True, ho_boi=True,\n",
    "                khu_ngoai_troi=True, tien_ich_phong=True):\n",
    "        \n",
    "        self.may_pha_tra_cf = may_pha_tra_cf\n",
    "        self.bep_an = bep_an\n",
    "        self.phong_tam = phong_tam\n",
    "        self.ket_sat = ket_sat\n",
    "        self.toilet = toilet\n",
    "        self.TV = TV\n",
    "        self.dieu_hoa = dieu_hoa\n",
    "        self.lot_san = lot_san\n",
    "        self.tu_quan_ao = tu_quan_ao\n",
    "        self.view = view\n",
    "        self.ban_an = ban_an\n",
    "        self.ui_quan_ao = ui_quan_ao\n",
    "        self.giuong = giuong\n",
    "        self.tien_ich_cho_tre_em = tien_ich_cho_tre_em\n",
    "        self.ho_boi = ho_boi\n",
    "        self.khu_ngoai_troi = khu_ngoai_troi\n",
    "        self.tien_ich_phong = tien_ich_phong\n",
    "        \n",
    "    def fit(self, X_df, y=None):\n",
    "        return self\n",
    "    \n",
    "    def transform(self, X_df, y=None):\n",
    "        df = X_df.copy()\n",
    "        if self.may_pha_tra_cf:\n",
    "            col1 = 'Máy pha trà/cà phê'\n",
    "            col2 = 'Máy pha Cà phê'\n",
    "            for i in df.index:\n",
    "                if df[col1][i] == 0 and df[col2][i] == 0:\n",
    "                    pass\n",
    "                else:\n",
    "                    df[col1][i] = 1\n",
    "\n",
    "            df.drop(col2, axis=1, inplace=True)\n",
    "            df = df.rename(columns={col1 : 'may_pha_tra_cf'})\n",
    "        if self.bep_an:\n",
    "            col1 = 'Bếp'\n",
    "            col2 = 'Bếp nhỏ'\n",
    "            col3 = 'Đồ bếp'\n",
    "            col4 = 'Bếp nấu'\n",
    "            col5 = 'Lò vi sóng'\n",
    "            col6 = 'Máy nướng bánh mỳ'\n",
    "            col7 = 'Lò nướng'\n",
    "            for i in df.index:\n",
    "                if df[col1][i] == 0 and df[col2][i] == 0 and df[col3][i] == 0 and df[col4][i] == 0 and df[col5][i] == 0 and df[col6][i] == 0 and df[col7][i] == 0:\n",
    "                    pass\n",
    "                else:\n",
    "                    if df[col5][i] == 1:\n",
    "                        if df[col6][i] == 1:\n",
    "                            if df[col7][i] == 1:\n",
    "                                df[col1][i] = 3\n",
    "                            else:\n",
    "                                df[col1][i] = 2\n",
    "                        else:\n",
    "                            df[col1][i] = 1\n",
    "                    else:\n",
    "                        df[col1][i] = 1\n",
    "\n",
    "\n",
    "            df.drop([col2, col3, col4, col5, col6, col7], axis=1, inplace=True)\n",
    "            df = df.rename(columns={col1 : 'bep_an'})\n",
    "\n",
    "        if self.phong_tam:\n",
    "            col1 = 'Vòi sen'\n",
    "            col2 = 'Bồn tắm'\n",
    "            col3 = 'Bồn tắm hoặc Vòi sen'\n",
    "            col4 = 'Bồn tắm spa'\n",
    "            col5 = 'Phòng tắm riêng trong phòng'\n",
    "            col6 = 'Phòng tắm phụ'\n",
    "            col7 = 'Phòng tắm riêng'\n",
    "\n",
    "            for i in df.index:\n",
    "                if df[col1][i] == 0 and df[col2][i] == 0 and df[col3][i] == 0 and df[col4][i] == 0 and df[col5][i] == 0 and df[col6][i] == 0 and df[col7][i] == 0:\n",
    "                    df[col1][i] = 1\n",
    "                else:\n",
    "                    if df[col2][i] == 1 or df[col3][i] == 1 or df[col5][i] == 1 or df[col6][i] == 1 or df[col7][i] == 1:\n",
    "                        df[col1][i] = 2\n",
    "                    elif df[col4][i] == 1:\n",
    "                        df[col1][i] = 3\n",
    "                    else:\n",
    "                        df[col1][i] = 1\n",
    "            df.drop([col2, col3, col4, col5, col6, col7], axis=1, inplace=True)\n",
    "            df = df.rename(columns={col1 : 'phong_tam'})\n",
    "            \n",
    "        if self.ket_sat:\n",
    "            col1 = 'Két an toàn'\n",
    "            col2 = 'Két an toàn cỡ laptop'\n",
    "            for i in df.index:\n",
    "                if df[col1][i] == 0 and df[col2][i] == 0:\n",
    "                    pass\n",
    "                else:\n",
    "                    if df[col2][i] == 1:\n",
    "                        df[col1][i] = 2\n",
    "\n",
    "            df.drop(col2, axis=1, inplace=True)\n",
    "            df = df.rename(columns={col1 : 'ket_sat'})\n",
    "        if self.toilet:\n",
    "            col1 = 'Nhà vệ sinh'\n",
    "            col2 = 'Toilet phụ'\n",
    "            col3 = 'Toilet chung'\n",
    "\n",
    "            for i in df.index:\n",
    "                if df[col1][i] == 0 and df[col2][i] == 0 and df[col3][i] == 0:\n",
    "                    pass\n",
    "                else:\n",
    "                    df[col1][i] = 1\n",
    "\n",
    "            df.drop([col2, col3], axis=1, inplace=True)\n",
    "            df = df.rename(columns={col1 : 'toilet'})\n",
    "        if self.TV:\n",
    "            col1 = 'TV'\n",
    "            col2 = 'TV màn hình phẳng'\n",
    "            for i in df.index:\n",
    "                if df[col1][i] == 0 and df[col2][i] == 0:\n",
    "                    pass\n",
    "                else:\n",
    "                    df[col1][i] = 1\n",
    "\n",
    "            df.drop(col2, axis=1, inplace=True)\n",
    "            df = df.rename(columns={col1 : 'TV'})\n",
    "        if self.dieu_hoa:\n",
    "            col1 = 'Quạt máy'\n",
    "            col2 = 'Điều hòa không khí'\n",
    "            col3 = 'Hệ thống sưởi'\n",
    "            col4 = 'Máy điều hòa độc lập cho từng phòng'\n",
    "            col5 = 'Có lắp đặt máy lọc không khí'\n",
    "            col6 = 'Lò sưởi'\n",
    "\n",
    "            for i in df.index:\n",
    "                if df[col1][i] == 0 and df[col2][i] == 0 and df[col3][i] == 0 and df[col4][i] == 0 and df[col5][i] == 0 and df[col6][i] == 0:\n",
    "                    pass\n",
    "                else:\n",
    "                    if df[col2][i] == 1 or df[col4][i] == 1:\n",
    "                        df[col1][i] = 2\n",
    "                    if df[col3][i] == 1 or df[col6][i] == 1:\n",
    "                        df[col1][i] = 3\n",
    "                    if df[col5][i] == 1:\n",
    "                        df[col1][i] = 4\n",
    "\n",
    "\n",
    "            df.drop([col2, col3, col4, col5, col6], axis=1, inplace=True)\n",
    "            df = df.rename(columns={col1 : 'dieu_hoa'})\n",
    "        if self.lot_san:\n",
    "            col1 = 'Sàn trải thảm'\n",
    "            col2 = 'Sàn lát gạch/đá cẩm thạch'\n",
    "            col3 = 'Sàn lát gỗ'\n",
    "\n",
    "            for i in df.index:\n",
    "                if df[col1][i] == 0 and df[col2][i] == 0 and df[col3][i] == 0:\n",
    "                    pass\n",
    "                else:\n",
    "                    if df[col2][i] == 1:\n",
    "                        df[col1][i] = 2\n",
    "                    if df[col3][i] == 1:\n",
    "                        df[col1][i] = 3\n",
    "\n",
    "            df.drop([col2, col3], axis=1, inplace=True)\n",
    "            df = df.rename(columns={col1 : 'lot_san'})\n",
    "        if self.tu_quan_ao:\n",
    "            col1 = 'Tủ hoặc phòng để quần áo'\n",
    "            col2 = 'Giá treo quần áo'\n",
    "            col3 = 'Phòng thay quần áo'\n",
    "            col4 = 'Giá phơi quần áo'\n",
    "\n",
    "            for i in df.index:\n",
    "                if df[col1][i] == 0 and df[col2][i] == 0 and df[col3][i] == 0 and df[col4][i] == 0:\n",
    "                    pass\n",
    "                else:\n",
    "                    df[col1][i] = 1\n",
    "\n",
    "            df.drop([col2, col3, col4], axis=1, inplace=True)\n",
    "            df = df.rename(columns={col1 : 'tu_quan_ao'})            \n",
    "        if self.view:\n",
    "            col1 = 'Nhìn ra thành phố'\n",
    "            col2 = 'Nhìn ra hồ bơi'\n",
    "            col3 = 'Tầm nhìn ra khung cảnh'\n",
    "            col4 = 'Nhìn ra sông'\n",
    "            col5 = 'Nhìn ra địa danh nổi tiếng'\n",
    "            col6 = 'Nhìn ra vườn'\n",
    "            col7 = 'Hướng nhìn sân trong'\n",
    "\n",
    "            for i in df.index:\n",
    "                if df[col1][i] == 0 and df[col2][i] == 0 and df[col3][i] == 0 and df[col4][i] == 0 and df[col5][i] == 0 and df[col6][i] == 0 and df[col7][i] == 0:\n",
    "                    pass\n",
    "                else:\n",
    "                    if df[col2][i] == 1:\n",
    "                        df[col1][i] = 1\n",
    "                    if df[col1][i] == 1 or df[col3][i] == 1 or df[col7][i] == 1:\n",
    "                        df[col1][i] = 2\n",
    "                    if df[col6][i] == 1:\n",
    "                        df[col1][i] = 3\n",
    "                    if df[col4][i] == 1 or df[col5][i] == 1:\n",
    "                        df[col1][i] = 4\n",
    "\n",
    "            df.drop([col2, col3, col4, col5, col6, col7], axis=1, inplace=True)\n",
    "            df = df.rename(columns={col1 : 'view'})\n",
    "        if self.ban_an:\n",
    "            col1 = 'Bàn ăn'\n",
    "            col2 = 'Khu vực phòng ăn'\n",
    "            for i in df.index:\n",
    "                if df[col1][i] == 0 and df[col2][i] == 0:\n",
    "                    pass\n",
    "                else:\n",
    "                    df[col1][i] = 1\n",
    "\n",
    "            df.drop(col2, axis=1, inplace=True)\n",
    "            df = df.rename(columns={col1 : 'ban_an'})\n",
    "        if self.ui_quan_ao:\n",
    "            col1 = 'Tiện nghi ủi'\n",
    "            col2 = 'Bàn ủi'\n",
    "            col3 = 'Bàn ủi li quần'\n",
    "\n",
    "            for i in df.index:\n",
    "                if df[col1][i] == 0 and df[col2][i] == 0 and df[col3][i] == 0:\n",
    "                    pass\n",
    "                else:\n",
    "                    df[col1][i] = 1\n",
    "\n",
    "            df.drop([col2, col3], axis=1, inplace=True)\n",
    "            df = df.rename(columns={col1 : 'ui_quan_ao'})\n",
    "        if self.giuong:\n",
    "            col1 = 'Giường cực dài (> 2 mét)'\n",
    "            col2 = 'Giường sofa'\n",
    "            col3 = 'Giường xếp'\n",
    "\n",
    "            for i in df.index:\n",
    "                if df[col1][i] == 0 and df[col2][i] == 0 and df[col3][i] == 0:\n",
    "                    df[col1][i] = 1\n",
    "                else:\n",
    "                    if df[col3][i] == 1:\n",
    "                        df[col1][i] = 1\n",
    "                    if df[col1][i] == 1 or df[col2][i] == 1:\n",
    "                        df[col1][i] = 2\n",
    "\n",
    "            df.drop([col2, col3], axis=1, inplace=True)\n",
    "            df = df.rename(columns={col1 : 'giuong'})\n",
    "        if self.tien_ich_cho_tre_em:\n",
    "            col1 = 'Ghế cao dành cho trẻ em'\n",
    "            col2 = 'Cửa an toàn cho trẻ nhỏ'\n",
    "            col3 = 'Nắp che ổ cắm điện an toàn'\n",
    "            for i in df.index:\n",
    "                if df[col1][i] == 0 and df[col2][i] == 0 and df[col3][i] == 0:\n",
    "                    pass\n",
    "                else:\n",
    "                    df[col1][i] = 1\n",
    "\n",
    "            df.drop([col2, col3], axis=1, inplace=True)\n",
    "            df = df.rename(columns={col1 : 'tien_ich_cho_tre_em'})\n",
    "        if self.ho_boi:\n",
    "            col1 = 'Hồ bơi trên sân thượng'\n",
    "            col2 = 'Hồ bơi có tầm nhìn'\n",
    "            col3 = 'Hồ bơi riêng'\n",
    "\n",
    "            for i in df.index:\n",
    "                if df[col1][i] == 0 and df[col2][i] == 0 and df[col3][i] == 0:\n",
    "                    pass\n",
    "                else:\n",
    "                    if df[col3][i] == 1:\n",
    "                        df[col1][i] = 1\n",
    "                    if df[col1][i] == 1 or df[col2][i] == 1:\n",
    "                        df[col1][i] = 2\n",
    "\n",
    "            df.drop([col2, col3], axis=1, inplace=True)\n",
    "            df = df.rename(columns={col1 : 'ho_boi'})            \n",
    "        if self.khu_ngoai_troi:\n",
    "            col1 = 'Khu vực ăn uống ngoài trời'\n",
    "            col2 = 'Bàn ghế ngoài trời'\n",
    "            for i in df.index:\n",
    "                if df[col1][i] == 0 and df[col2][i] == 0:\n",
    "                    pass\n",
    "                else:\n",
    "                    df[col1][i] = 1\n",
    "\n",
    "            df.drop(col2, axis=1, inplace=True)\n",
    "            df = df.rename(columns={col1 : 'khu_ngoai_troi'})\n",
    "        if self.tien_ich_phong:\n",
    "            col1 = 'Áo choàng tắm'\n",
    "            col2 = 'Khăn tắm'\n",
    "            col3 = 'Khăn tắm/Bộ khăn trải giường (có thu phí)'\n",
    "\n",
    "            for i in df.index:\n",
    "                if df[col1][i] == 0 and df[col2][i] == 0:\n",
    "                    pass\n",
    "                if df[col3][i] == 1:\n",
    "                    df[col1][i] = 0\n",
    "                if df[col1][i] == 1 or df[col2][i] == 1:\n",
    "                    df[col1][i] = 1\n",
    "\n",
    "            df.drop([col2, col3], axis=1, inplace=True)\n",
    "            df = df.rename(columns={col1 : 'tien_ich_phong'})\n",
    "        return df"
   ]
  },
  {
   "cell_type": "code",
   "execution_count": 24,
   "metadata": {},
   "outputs": [],
   "source": [
    "nume_cols = ['dien_tich_m2']\n",
    "unorder_cate_cols = ['City']\n",
    "feature_cols = ['Đồ vệ sinh cá nhân miễn phí',\n",
    "       'tien_ich_phong', 'ket_sat', 'toilet', 'Bàn làm việc',\n",
    "       'Khu vực tiếp khách', 'TV', 'Dép', 'Tủ lạnh', 'Điện thoại',\n",
    "       'Máy sấy tóc', 'lot_san', 'Ấm đun nước điện', 'Truyền hình cáp',\n",
    "       'tu_quan_ao', 'view',\n",
    "       'Hệ thống cách âm', 'Minibar', 'WiFi miễn phí', 'Ghế sofa', 'bep_an',\n",
    "       'Máy giặt', 'Đồng hồ báo thức', 'ban_an',\n",
    "       'Ổ điện gần giường', 'Giấy vệ sinh',\n",
    "        'ui_quan_ao', 'giuong',\n",
    "       'Truyền hình vệ tinh', 'Ban công', 'Quyền sử dụng Executive Lounge',\n",
    "       'Ra trải giường', 'may_pha_tra_cf', 'Máy sấy quần áo',\n",
    "       'Có phòng thông nhau qua cửa nối', 'Chậu rửa vệ sinh (bidet)',\n",
    "       'Các tầng trên đi lên bằng thang máy',\n",
    "       'Xe lăn có thể đi đến mọi nơi trong toàn bộ khuôn viên', 'Máy vi tính',\n",
    "       'dieu_hoa', 'tien_ich_cho_tre_em', 'Hoàn toàn nằm ở tầng trệt',\n",
    "       'Các tầng trên chỉ lên được bằng cầu thang', 'Nước rửa tay', 'ho_boi',\n",
    "       'Sách', 'khu_ngoai_troi', 'Phòng xông hơi', 'Sân trong']\n",
    "\n",
    "# Điền các giá trị thiếu nếu có cho cột dien_tich_m2\n",
    "nume_col_transformer = SimpleImputer(strategy = 'mean')\n",
    "\n",
    "# Tiến hành OneHotEncoded cho cột 'City'\n",
    "unorder_cate_col_transformer = Pipeline(steps = [\n",
    "    ('imputer', SimpleImputer(strategy = 'most_frequent')),\n",
    "    ('one_hot_encoder', OneHotEncoder())])\n",
    "\n",
    "# Điền các giá trị thiếu nếu có cho các cột thuộc tính còn lại\n",
    "feature_col_transformer = SimpleImputer(strategy = 'most_frequent')\n",
    "\n",
    "col_transformer = ColumnTransformer(transformers = [\n",
    "    ('nume_col_transformer', nume_col_transformer, nume_cols),\n",
    "    ('unorder_cate_col_transformer', unorder_cate_col_transformer, unorder_cate_cols),\n",
    "    ('feature_col_transformer', feature_col_transformer, feature_cols)])\n",
    "\n",
    "# Cuối cùng, ta dùng StandardScaler() để chuẩn hóa\n",
    "preprocess_pipeline = Pipeline(steps = [('col_adderdropper', ColAdderDropper()),\n",
    "                                           ('col_transformer', col_transformer),\n",
    "                                           ('col_normalizer', StandardScaler())])"
   ]
  },
  {
   "cell_type": "code",
   "execution_count": 25,
   "metadata": {},
   "outputs": [
    {
     "output_type": "execute_result",
     "data": {
      "text/plain": [
       "Pipeline(steps=[('col_adderdropper', ColAdderDropper()),\n",
       "                ('col_transformer',\n",
       "                 ColumnTransformer(transformers=[('nume_col_transformer',\n",
       "                                                  SimpleImputer(),\n",
       "                                                  ['dien_tich_m2']),\n",
       "                                                 ('unorder_cate_col_transformer',\n",
       "                                                  Pipeline(steps=[('imputer',\n",
       "                                                                   SimpleImputer(strategy='most_frequent')),\n",
       "                                                                  ('one_hot_encoder',\n",
       "                                                                   OneHotEncoder())]),\n",
       "                                                  ['City']),\n",
       "                                                 ('feature_col_transformer',\n",
       "                                                  SimpleImput...\n",
       "                                                   'Khu vực tiếp khách',\n",
       "                                                   'TV', 'Dép', 'Tủ lạnh',\n",
       "                                                   'Điện thoại',\n",
       "                                                   'Máy sấy tóc', 'lot_san',\n",
       "                                                   'Ấm đun nước điện',\n",
       "                                                   'Truyền hình cáp',\n",
       "                                                   'tu_quan_ao', 'view',\n",
       "                                                   'Hệ thống cách âm',\n",
       "                                                   'Minibar', 'WiFi miễn phí',\n",
       "                                                   'Ghế sofa', 'bep_an',\n",
       "                                                   'Máy giặt',\n",
       "                                                   'Đồng hồ báo thức', 'ban_an',\n",
       "                                                   'Ổ điện gần giường',\n",
       "                                                   'Giấy vệ sinh', 'ui_quan_ao',\n",
       "                                                   'giuong',\n",
       "                                                   'Truyền hình vệ tinh',\n",
       "                                                   'Ban công', ...])])),\n",
       "                ('col_normalizer', StandardScaler())])"
      ],
      "text/html": "<style>div.sk-top-container {color: black;background-color: white;}div.sk-toggleable {background-color: white;}label.sk-toggleable__label {cursor: pointer;display: block;width: 100%;margin-bottom: 0;padding: 0.2em 0.3em;box-sizing: border-box;text-align: center;}div.sk-toggleable__content {max-height: 0;max-width: 0;overflow: hidden;text-align: left;background-color: #f0f8ff;}div.sk-toggleable__content pre {margin: 0.2em;color: black;border-radius: 0.25em;background-color: #f0f8ff;}input.sk-toggleable__control:checked~div.sk-toggleable__content {max-height: 200px;max-width: 100%;overflow: auto;}div.sk-estimator input.sk-toggleable__control:checked~label.sk-toggleable__label {background-color: #d4ebff;}div.sk-label input.sk-toggleable__control:checked~label.sk-toggleable__label {background-color: #d4ebff;}input.sk-hidden--visually {border: 0;clip: rect(1px 1px 1px 1px);clip: rect(1px, 1px, 1px, 1px);height: 1px;margin: -1px;overflow: hidden;padding: 0;position: absolute;width: 1px;}div.sk-estimator {font-family: monospace;background-color: #f0f8ff;margin: 0.25em 0.25em;border: 1px dotted black;border-radius: 0.25em;box-sizing: border-box;}div.sk-estimator:hover {background-color: #d4ebff;}div.sk-parallel-item::after {content: \"\";width: 100%;border-bottom: 1px solid gray;flex-grow: 1;}div.sk-label:hover label.sk-toggleable__label {background-color: #d4ebff;}div.sk-serial::before {content: \"\";position: absolute;border-left: 1px solid gray;box-sizing: border-box;top: 2em;bottom: 0;left: 50%;}div.sk-serial {display: flex;flex-direction: column;align-items: center;background-color: white;}div.sk-item {z-index: 1;}div.sk-parallel {display: flex;align-items: stretch;justify-content: center;background-color: white;}div.sk-parallel-item {display: flex;flex-direction: column;position: relative;background-color: white;}div.sk-parallel-item:first-child::after {align-self: flex-end;width: 50%;}div.sk-parallel-item:last-child::after {align-self: flex-start;width: 50%;}div.sk-parallel-item:only-child::after {width: 0;}div.sk-dashed-wrapped {border: 1px dashed gray;margin: 0.2em;box-sizing: border-box;padding-bottom: 0.1em;background-color: white;position: relative;}div.sk-label label {font-family: monospace;font-weight: bold;background-color: white;display: inline-block;line-height: 1.2em;}div.sk-label-container {position: relative;z-index: 2;text-align: center;}div.sk-container {display: inline-block;position: relative;}</style><div class=\"sk-top-container\"><div class=\"sk-container\"><div class=\"sk-item sk-dashed-wrapped\"><div class=\"sk-label-container\"><div class=\"sk-label sk-toggleable\"><input class=\"sk-toggleable__control sk-hidden--visually\" id=\"6262255b-e3b7-4d03-8e11-51c85468dbf3\" type=\"checkbox\" ><label class=\"sk-toggleable__label\" for=\"6262255b-e3b7-4d03-8e11-51c85468dbf3\">Pipeline</label><div class=\"sk-toggleable__content\"><pre>Pipeline(steps=[('col_adderdropper', ColAdderDropper()),\n                ('col_transformer',\n                 ColumnTransformer(transformers=[('nume_col_transformer',\n                                                  SimpleImputer(),\n                                                  ['dien_tich_m2']),\n                                                 ('unorder_cate_col_transformer',\n                                                  Pipeline(steps=[('imputer',\n                                                                   SimpleImputer(strategy='most_frequent')),\n                                                                  ('one_hot_encoder',\n                                                                   OneHotEncoder())]),\n                                                  ['City']),\n                                                 ('feature_col_transformer',\n                                                  SimpleImput...\n                                                   'Khu vực tiếp khách',\n                                                   'TV', 'Dép', 'Tủ lạnh',\n                                                   'Điện thoại',\n                                                   'Máy sấy tóc', 'lot_san',\n                                                   'Ấm đun nước điện',\n                                                   'Truyền hình cáp',\n                                                   'tu_quan_ao', 'view',\n                                                   'Hệ thống cách âm',\n                                                   'Minibar', 'WiFi miễn phí',\n                                                   'Ghế sofa', 'bep_an',\n                                                   'Máy giặt',\n                                                   'Đồng hồ báo thức', 'ban_an',\n                                                   'Ổ điện gần giường',\n                                                   'Giấy vệ sinh', 'ui_quan_ao',\n                                                   'giuong',\n                                                   'Truyền hình vệ tinh',\n                                                   'Ban công', ...])])),\n                ('col_normalizer', StandardScaler())])</pre></div></div></div><div class=\"sk-serial\"><div class=\"sk-item\"><div class=\"sk-estimator sk-toggleable\"><input class=\"sk-toggleable__control sk-hidden--visually\" id=\"04e4b34b-5871-433e-81d3-d9323e766329\" type=\"checkbox\" ><label class=\"sk-toggleable__label\" for=\"04e4b34b-5871-433e-81d3-d9323e766329\">ColAdderDropper</label><div class=\"sk-toggleable__content\"><pre>ColAdderDropper()</pre></div></div></div><div class=\"sk-item sk-dashed-wrapped\"><div class=\"sk-label-container\"><div class=\"sk-label sk-toggleable\"><input class=\"sk-toggleable__control sk-hidden--visually\" id=\"bfd10719-68ee-4a4b-8826-d0322954702d\" type=\"checkbox\" ><label class=\"sk-toggleable__label\" for=\"bfd10719-68ee-4a4b-8826-d0322954702d\">col_transformer: ColumnTransformer</label><div class=\"sk-toggleable__content\"><pre>ColumnTransformer(transformers=[('nume_col_transformer', SimpleImputer(),\n                                 ['dien_tich_m2']),\n                                ('unorder_cate_col_transformer',\n                                 Pipeline(steps=[('imputer',\n                                                  SimpleImputer(strategy='most_frequent')),\n                                                 ('one_hot_encoder',\n                                                  OneHotEncoder())]),\n                                 ['City']),\n                                ('feature_col_transformer',\n                                 SimpleImputer(strategy='most_frequent'),\n                                 ['Đồ vệ sinh cá nhân miễn phí',\n                                  'tien_ich_phong', 'ke...'toilet',\n                                  'Bàn làm việc', 'Khu vực tiếp khách',\n                                  'TV', 'Dép', 'Tủ lạnh', 'Điện thoại',\n                                  'Máy sấy tóc', 'lot_san',\n                                  'Ấm đun nước điện', 'Truyền hình cáp',\n                                  'tu_quan_ao', 'view', 'Hệ thống cách âm',\n                                  'Minibar', 'WiFi miễn phí', 'Ghế sofa',\n                                  'bep_an', 'Máy giặt', 'Đồng hồ báo thức',\n                                  'ban_an', 'Ổ điện gần giường', 'Giấy vệ sinh',\n                                  'ui_quan_ao', 'giuong',\n                                  'Truyền hình vệ tinh', 'Ban công', ...])])</pre></div></div></div><div class=\"sk-parallel\"><div class=\"sk-parallel-item\"><div class=\"sk-item\"><div class=\"sk-label-container\"><div class=\"sk-label sk-toggleable\"><input class=\"sk-toggleable__control sk-hidden--visually\" id=\"3e27fb2c-7d10-4a05-b69c-66f8c4ad9f28\" type=\"checkbox\" ><label class=\"sk-toggleable__label\" for=\"3e27fb2c-7d10-4a05-b69c-66f8c4ad9f28\">nume_col_transformer</label><div class=\"sk-toggleable__content\"><pre>['dien_tich_m2']</pre></div></div></div><div class=\"sk-serial\"><div class=\"sk-item\"><div class=\"sk-estimator sk-toggleable\"><input class=\"sk-toggleable__control sk-hidden--visually\" id=\"800e3c77-7d4e-4510-bce6-a2e44f77e4d5\" type=\"checkbox\" ><label class=\"sk-toggleable__label\" for=\"800e3c77-7d4e-4510-bce6-a2e44f77e4d5\">SimpleImputer</label><div class=\"sk-toggleable__content\"><pre>SimpleImputer()</pre></div></div></div></div></div></div><div class=\"sk-parallel-item\"><div class=\"sk-item\"><div class=\"sk-label-container\"><div class=\"sk-label sk-toggleable\"><input class=\"sk-toggleable__control sk-hidden--visually\" id=\"0cda910b-e209-4022-9ce4-fc1361b2ca3c\" type=\"checkbox\" ><label class=\"sk-toggleable__label\" for=\"0cda910b-e209-4022-9ce4-fc1361b2ca3c\">unorder_cate_col_transformer</label><div class=\"sk-toggleable__content\"><pre>['City']</pre></div></div></div><div class=\"sk-serial\"><div class=\"sk-item\"><div class=\"sk-serial\"><div class=\"sk-item\"><div class=\"sk-estimator sk-toggleable\"><input class=\"sk-toggleable__control sk-hidden--visually\" id=\"07dffc5e-632f-46fd-bffe-89e05adca762\" type=\"checkbox\" ><label class=\"sk-toggleable__label\" for=\"07dffc5e-632f-46fd-bffe-89e05adca762\">SimpleImputer</label><div class=\"sk-toggleable__content\"><pre>SimpleImputer(strategy='most_frequent')</pre></div></div></div><div class=\"sk-item\"><div class=\"sk-estimator sk-toggleable\"><input class=\"sk-toggleable__control sk-hidden--visually\" id=\"829795fe-ff69-4c77-a2f8-6f6d2d7a6202\" type=\"checkbox\" ><label class=\"sk-toggleable__label\" for=\"829795fe-ff69-4c77-a2f8-6f6d2d7a6202\">OneHotEncoder</label><div class=\"sk-toggleable__content\"><pre>OneHotEncoder()</pre></div></div></div></div></div></div></div></div><div class=\"sk-parallel-item\"><div class=\"sk-item\"><div class=\"sk-label-container\"><div class=\"sk-label sk-toggleable\"><input class=\"sk-toggleable__control sk-hidden--visually\" id=\"3174540f-6116-494d-a69d-50b7e8668a26\" type=\"checkbox\" ><label class=\"sk-toggleable__label\" for=\"3174540f-6116-494d-a69d-50b7e8668a26\">feature_col_transformer</label><div class=\"sk-toggleable__content\"><pre>['Đồ vệ sinh cá nhân miễn phí', 'tien_ich_phong', 'ket_sat', 'toilet', 'Bàn làm việc', 'Khu vực tiếp khách', 'TV', 'Dép', 'Tủ lạnh', 'Điện thoại', 'Máy sấy tóc', 'lot_san', 'Ấm đun nước điện', 'Truyền hình cáp', 'tu_quan_ao', 'view', 'Hệ thống cách âm', 'Minibar', 'WiFi miễn phí', 'Ghế sofa', 'bep_an', 'Máy giặt', 'Đồng hồ báo thức', 'ban_an', 'Ổ điện gần giường', 'Giấy vệ sinh', 'ui_quan_ao', 'giuong', 'Truyền hình vệ tinh', 'Ban công', 'Quyền sử dụng Executive Lounge', 'Ra trải giường', 'may_pha_tra_cf', 'Máy sấy quần áo', 'Có phòng thông nhau qua cửa nối', 'Chậu rửa vệ sinh (bidet)', 'Các tầng trên đi lên bằng thang máy', 'Xe lăn có thể đi đến mọi nơi trong toàn bộ khuôn viên', 'Máy vi tính', 'dieu_hoa', 'tien_ich_cho_tre_em', 'Hoàn toàn nằm ở tầng trệt', 'Các tầng trên chỉ lên được bằng cầu thang', 'Nước rửa tay', 'ho_boi', 'Sách', 'khu_ngoai_troi', 'Phòng xông hơi', 'Sân trong']</pre></div></div></div><div class=\"sk-serial\"><div class=\"sk-item\"><div class=\"sk-estimator sk-toggleable\"><input class=\"sk-toggleable__control sk-hidden--visually\" id=\"278a3e11-694a-41c0-a7f2-640636e72b2c\" type=\"checkbox\" ><label class=\"sk-toggleable__label\" for=\"278a3e11-694a-41c0-a7f2-640636e72b2c\">SimpleImputer</label><div class=\"sk-toggleable__content\"><pre>SimpleImputer(strategy='most_frequent')</pre></div></div></div></div></div></div></div></div><div class=\"sk-item\"><div class=\"sk-estimator sk-toggleable\"><input class=\"sk-toggleable__control sk-hidden--visually\" id=\"172f5233-35a4-4619-bbd4-5a87b20e798a\" type=\"checkbox\" ><label class=\"sk-toggleable__label\" for=\"172f5233-35a4-4619-bbd4-5a87b20e798a\">StandardScaler</label><div class=\"sk-toggleable__content\"><pre>StandardScaler()</pre></div></div></div></div></div></div></div>"
     },
     "metadata": {},
     "execution_count": 25
    }
   ],
   "source": [
    "preprocess_pipeline"
   ]
  },
  {
   "cell_type": "code",
   "execution_count": 26,
   "metadata": {},
   "outputs": [],
   "source": [
    "preprocessed_train_X = preprocess_pipeline.fit_transform(train_X_df)"
   ]
  },
  {
   "cell_type": "code",
   "execution_count": 27,
   "metadata": {},
   "outputs": [
    {
     "output_type": "execute_result",
     "data": {
      "text/plain": [
       "(8573, 54)"
      ]
     },
     "metadata": {},
     "execution_count": 27
    }
   ],
   "source": [
    "preprocessed_train_X.shape"
   ]
  },
  {
   "cell_type": "markdown",
   "metadata": {},
   "source": [
    "---"
   ]
  },
  {
   "cell_type": "markdown",
   "metadata": {},
   "source": [
    "## Tiền xử lý (tập validation)"
   ]
  },
  {
   "cell_type": "code",
   "execution_count": 28,
   "metadata": {},
   "outputs": [],
   "source": [
    "preprocessed_val_X = preprocess_pipeline.transform(val_X_df)"
   ]
  },
  {
   "cell_type": "markdown",
   "metadata": {},
   "source": [
    "---"
   ]
  },
  {
   "cell_type": "markdown",
   "metadata": {},
   "source": [
    "## Tiền xử lý + mô hình hóa"
   ]
  },
  {
   "cell_type": "markdown",
   "metadata": {},
   "source": [
    "### Tìm mô hình tốt nhất"
   ]
  },
  {
   "cell_type": "code",
   "execution_count": 29,
   "metadata": {},
   "outputs": [],
   "source": [
    "# Neural Net regressor\n",
    "mlp_regressor = MLPRegressor(hidden_layer_sizes=(100, 300, 300, 100), solver='adam', learning_rate='adaptive',\n",
    "                            random_state=0, max_iter=400, early_stopping=True, verbose=0)\n",
    "\n",
    "model = TransformedTargetRegressor(regressor=mlp_regressor,\n",
    "                                 func=np.log, inverse_func=np.exp)\n",
    "\n",
    "# Full pipeline = preprocess_pipeline + model\n",
    "full_pipeline = Pipeline(steps = [\n",
    "    ('preprocessor', preprocess_pipeline),\n",
    "    ('model', model)\n",
    "])"
   ]
  },
  {
   "cell_type": "code",
   "execution_count": 30,
   "metadata": {},
   "outputs": [
    {
     "output_type": "execute_result",
     "data": {
      "text/plain": [
       "Pipeline(steps=[('preprocessor',\n",
       "                 Pipeline(steps=[('col_adderdropper', ColAdderDropper()),\n",
       "                                 ('col_transformer',\n",
       "                                  ColumnTransformer(transformers=[('nume_col_transformer',\n",
       "                                                                   SimpleImputer(),\n",
       "                                                                   ['dien_tich_m2']),\n",
       "                                                                  ('unorder_cate_col_transformer',\n",
       "                                                                   Pipeline(steps=[('imputer',\n",
       "                                                                                    SimpleImputer(strategy='most_frequent')),\n",
       "                                                                                   ('one_hot_encoder',\n",
       "                                                                                    OneHotEncoder())]),\n",
       "                                                                   ['City']),\n",
       "                                                                  ('feat...\n",
       "                                                                    'giường',\n",
       "                                                                    'Giấy vệ '\n",
       "                                                                    'sinh',\n",
       "                                                                    'ui_quan_ao',\n",
       "                                                                    'giuong',\n",
       "                                                                    'Truyền '\n",
       "                                                                    'hình vệ '\n",
       "                                                                    'tinh',\n",
       "                                                                    'Ban công', ...])])),\n",
       "                                 ('col_normalizer', StandardScaler())])),\n",
       "                ('model',\n",
       "                 TransformedTargetRegressor(func=<ufunc 'log'>,\n",
       "                                            inverse_func=<ufunc 'exp'>,\n",
       "                                            regressor=MLPRegressor(early_stopping=True,\n",
       "                                                                   hidden_layer_sizes=(100,\n",
       "                                                                                       300,\n",
       "                                                                                       300,\n",
       "                                                                                       100),\n",
       "                                                                   learning_rate='adaptive',\n",
       "                                                                   max_iter=400,\n",
       "                                                                   random_state=0,\n",
       "                                                                   verbose=0)))])"
      ],
      "text/html": "<style>div.sk-top-container {color: black;background-color: white;}div.sk-toggleable {background-color: white;}label.sk-toggleable__label {cursor: pointer;display: block;width: 100%;margin-bottom: 0;padding: 0.2em 0.3em;box-sizing: border-box;text-align: center;}div.sk-toggleable__content {max-height: 0;max-width: 0;overflow: hidden;text-align: left;background-color: #f0f8ff;}div.sk-toggleable__content pre {margin: 0.2em;color: black;border-radius: 0.25em;background-color: #f0f8ff;}input.sk-toggleable__control:checked~div.sk-toggleable__content {max-height: 200px;max-width: 100%;overflow: auto;}div.sk-estimator input.sk-toggleable__control:checked~label.sk-toggleable__label {background-color: #d4ebff;}div.sk-label input.sk-toggleable__control:checked~label.sk-toggleable__label {background-color: #d4ebff;}input.sk-hidden--visually {border: 0;clip: rect(1px 1px 1px 1px);clip: rect(1px, 1px, 1px, 1px);height: 1px;margin: -1px;overflow: hidden;padding: 0;position: absolute;width: 1px;}div.sk-estimator {font-family: monospace;background-color: #f0f8ff;margin: 0.25em 0.25em;border: 1px dotted black;border-radius: 0.25em;box-sizing: border-box;}div.sk-estimator:hover {background-color: #d4ebff;}div.sk-parallel-item::after {content: \"\";width: 100%;border-bottom: 1px solid gray;flex-grow: 1;}div.sk-label:hover label.sk-toggleable__label {background-color: #d4ebff;}div.sk-serial::before {content: \"\";position: absolute;border-left: 1px solid gray;box-sizing: border-box;top: 2em;bottom: 0;left: 50%;}div.sk-serial {display: flex;flex-direction: column;align-items: center;background-color: white;}div.sk-item {z-index: 1;}div.sk-parallel {display: flex;align-items: stretch;justify-content: center;background-color: white;}div.sk-parallel-item {display: flex;flex-direction: column;position: relative;background-color: white;}div.sk-parallel-item:first-child::after {align-self: flex-end;width: 50%;}div.sk-parallel-item:last-child::after {align-self: flex-start;width: 50%;}div.sk-parallel-item:only-child::after {width: 0;}div.sk-dashed-wrapped {border: 1px dashed gray;margin: 0.2em;box-sizing: border-box;padding-bottom: 0.1em;background-color: white;position: relative;}div.sk-label label {font-family: monospace;font-weight: bold;background-color: white;display: inline-block;line-height: 1.2em;}div.sk-label-container {position: relative;z-index: 2;text-align: center;}div.sk-container {display: inline-block;position: relative;}</style><div class=\"sk-top-container\"><div class=\"sk-container\"><div class=\"sk-item sk-dashed-wrapped\"><div class=\"sk-label-container\"><div class=\"sk-label sk-toggleable\"><input class=\"sk-toggleable__control sk-hidden--visually\" id=\"76d4b6f8-0f3c-413b-8021-eadf30980846\" type=\"checkbox\" ><label class=\"sk-toggleable__label\" for=\"76d4b6f8-0f3c-413b-8021-eadf30980846\">Pipeline</label><div class=\"sk-toggleable__content\"><pre>Pipeline(steps=[('preprocessor',\n                 Pipeline(steps=[('col_adderdropper', ColAdderDropper()),\n                                 ('col_transformer',\n                                  ColumnTransformer(transformers=[('nume_col_transformer',\n                                                                   SimpleImputer(),\n                                                                   ['dien_tich_m2']),\n                                                                  ('unorder_cate_col_transformer',\n                                                                   Pipeline(steps=[('imputer',\n                                                                                    SimpleImputer(strategy='most_frequent')),\n                                                                                   ('one_hot_encoder',\n                                                                                    OneHotEncoder())]),\n                                                                   ['City']),\n                                                                  ('feat...\n                                                                    'giường',\n                                                                    'Giấy vệ '\n                                                                    'sinh',\n                                                                    'ui_quan_ao',\n                                                                    'giuong',\n                                                                    'Truyền '\n                                                                    'hình vệ '\n                                                                    'tinh',\n                                                                    'Ban công', ...])])),\n                                 ('col_normalizer', StandardScaler())])),\n                ('model',\n                 TransformedTargetRegressor(func=<ufunc 'log'>,\n                                            inverse_func=<ufunc 'exp'>,\n                                            regressor=MLPRegressor(early_stopping=True,\n                                                                   hidden_layer_sizes=(100,\n                                                                                       300,\n                                                                                       300,\n                                                                                       100),\n                                                                   learning_rate='adaptive',\n                                                                   max_iter=400,\n                                                                   random_state=0,\n                                                                   verbose=0)))])</pre></div></div></div><div class=\"sk-serial\"><div class=\"sk-item\"><div class=\"sk-label-container\"><div class=\"sk-label sk-toggleable\"><input class=\"sk-toggleable__control sk-hidden--visually\" id=\"a1d3d8ce-8308-43b4-95f5-a9bbe5d9bc2a\" type=\"checkbox\" ><label class=\"sk-toggleable__label\" for=\"a1d3d8ce-8308-43b4-95f5-a9bbe5d9bc2a\">preprocessor: Pipeline</label><div class=\"sk-toggleable__content\"><pre>Pipeline(steps=[('col_adderdropper', ColAdderDropper()),\n                ('col_transformer',\n                 ColumnTransformer(transformers=[('nume_col_transformer',\n                                                  SimpleImputer(),\n                                                  ['dien_tich_m2']),\n                                                 ('unorder_cate_col_transformer',\n                                                  Pipeline(steps=[('imputer',\n                                                                   SimpleImputer(strategy='most_frequent')),\n                                                                  ('one_hot_encoder',\n                                                                   OneHotEncoder())]),\n                                                  ['City']),\n                                                 ('feature_col_transformer',\n                                                  SimpleImput...\n                                                   'Khu vực tiếp khách',\n                                                   'TV', 'Dép', 'Tủ lạnh',\n                                                   'Điện thoại',\n                                                   'Máy sấy tóc', 'lot_san',\n                                                   'Ấm đun nước điện',\n                                                   'Truyền hình cáp',\n                                                   'tu_quan_ao', 'view',\n                                                   'Hệ thống cách âm',\n                                                   'Minibar', 'WiFi miễn phí',\n                                                   'Ghế sofa', 'bep_an',\n                                                   'Máy giặt',\n                                                   'Đồng hồ báo thức', 'ban_an',\n                                                   'Ổ điện gần giường',\n                                                   'Giấy vệ sinh', 'ui_quan_ao',\n                                                   'giuong',\n                                                   'Truyền hình vệ tinh',\n                                                   'Ban công', ...])])),\n                ('col_normalizer', StandardScaler())])</pre></div></div></div><div class=\"sk-serial\"><div class=\"sk-item\"><div class=\"sk-estimator sk-toggleable\"><input class=\"sk-toggleable__control sk-hidden--visually\" id=\"39648a77-eb81-4aa1-9a7c-ddcae15748aa\" type=\"checkbox\" ><label class=\"sk-toggleable__label\" for=\"39648a77-eb81-4aa1-9a7c-ddcae15748aa\">ColAdderDropper</label><div class=\"sk-toggleable__content\"><pre>ColAdderDropper()</pre></div></div></div><div class=\"sk-item sk-dashed-wrapped\"><div class=\"sk-label-container\"><div class=\"sk-label sk-toggleable\"><input class=\"sk-toggleable__control sk-hidden--visually\" id=\"b23e65bc-45ea-4e7d-9e1c-2557fc39343e\" type=\"checkbox\" ><label class=\"sk-toggleable__label\" for=\"b23e65bc-45ea-4e7d-9e1c-2557fc39343e\">col_transformer: ColumnTransformer</label><div class=\"sk-toggleable__content\"><pre>ColumnTransformer(transformers=[('nume_col_transformer', SimpleImputer(),\n                                 ['dien_tich_m2']),\n                                ('unorder_cate_col_transformer',\n                                 Pipeline(steps=[('imputer',\n                                                  SimpleImputer(strategy='most_frequent')),\n                                                 ('one_hot_encoder',\n                                                  OneHotEncoder())]),\n                                 ['City']),\n                                ('feature_col_transformer',\n                                 SimpleImputer(strategy='most_frequent'),\n                                 ['Đồ vệ sinh cá nhân miễn phí',\n                                  'tien_ich_phong', 'ke...'toilet',\n                                  'Bàn làm việc', 'Khu vực tiếp khách',\n                                  'TV', 'Dép', 'Tủ lạnh', 'Điện thoại',\n                                  'Máy sấy tóc', 'lot_san',\n                                  'Ấm đun nước điện', 'Truyền hình cáp',\n                                  'tu_quan_ao', 'view', 'Hệ thống cách âm',\n                                  'Minibar', 'WiFi miễn phí', 'Ghế sofa',\n                                  'bep_an', 'Máy giặt', 'Đồng hồ báo thức',\n                                  'ban_an', 'Ổ điện gần giường', 'Giấy vệ sinh',\n                                  'ui_quan_ao', 'giuong',\n                                  'Truyền hình vệ tinh', 'Ban công', ...])])</pre></div></div></div><div class=\"sk-parallel\"><div class=\"sk-parallel-item\"><div class=\"sk-item\"><div class=\"sk-label-container\"><div class=\"sk-label sk-toggleable\"><input class=\"sk-toggleable__control sk-hidden--visually\" id=\"799d8c6e-c274-4b91-ac73-bf0829cead7d\" type=\"checkbox\" ><label class=\"sk-toggleable__label\" for=\"799d8c6e-c274-4b91-ac73-bf0829cead7d\">nume_col_transformer</label><div class=\"sk-toggleable__content\"><pre>['dien_tich_m2']</pre></div></div></div><div class=\"sk-serial\"><div class=\"sk-item\"><div class=\"sk-estimator sk-toggleable\"><input class=\"sk-toggleable__control sk-hidden--visually\" id=\"847adaff-bae5-4364-880c-ba416cafdd1d\" type=\"checkbox\" ><label class=\"sk-toggleable__label\" for=\"847adaff-bae5-4364-880c-ba416cafdd1d\">SimpleImputer</label><div class=\"sk-toggleable__content\"><pre>SimpleImputer()</pre></div></div></div></div></div></div><div class=\"sk-parallel-item\"><div class=\"sk-item\"><div class=\"sk-label-container\"><div class=\"sk-label sk-toggleable\"><input class=\"sk-toggleable__control sk-hidden--visually\" id=\"677e6b34-31f3-4b57-a043-1930f0ea3749\" type=\"checkbox\" ><label class=\"sk-toggleable__label\" for=\"677e6b34-31f3-4b57-a043-1930f0ea3749\">unorder_cate_col_transformer</label><div class=\"sk-toggleable__content\"><pre>['City']</pre></div></div></div><div class=\"sk-serial\"><div class=\"sk-item\"><div class=\"sk-serial\"><div class=\"sk-item\"><div class=\"sk-estimator sk-toggleable\"><input class=\"sk-toggleable__control sk-hidden--visually\" id=\"08b93fa9-6044-4746-817c-28e92b06db5b\" type=\"checkbox\" ><label class=\"sk-toggleable__label\" for=\"08b93fa9-6044-4746-817c-28e92b06db5b\">SimpleImputer</label><div class=\"sk-toggleable__content\"><pre>SimpleImputer(strategy='most_frequent')</pre></div></div></div><div class=\"sk-item\"><div class=\"sk-estimator sk-toggleable\"><input class=\"sk-toggleable__control sk-hidden--visually\" id=\"b616f898-b29e-40ca-828e-dd01a82c0703\" type=\"checkbox\" ><label class=\"sk-toggleable__label\" for=\"b616f898-b29e-40ca-828e-dd01a82c0703\">OneHotEncoder</label><div class=\"sk-toggleable__content\"><pre>OneHotEncoder()</pre></div></div></div></div></div></div></div></div><div class=\"sk-parallel-item\"><div class=\"sk-item\"><div class=\"sk-label-container\"><div class=\"sk-label sk-toggleable\"><input class=\"sk-toggleable__control sk-hidden--visually\" id=\"4eb912a7-dad9-42da-b8e6-a80875c3155b\" type=\"checkbox\" ><label class=\"sk-toggleable__label\" for=\"4eb912a7-dad9-42da-b8e6-a80875c3155b\">feature_col_transformer</label><div class=\"sk-toggleable__content\"><pre>['Đồ vệ sinh cá nhân miễn phí', 'tien_ich_phong', 'ket_sat', 'toilet', 'Bàn làm việc', 'Khu vực tiếp khách', 'TV', 'Dép', 'Tủ lạnh', 'Điện thoại', 'Máy sấy tóc', 'lot_san', 'Ấm đun nước điện', 'Truyền hình cáp', 'tu_quan_ao', 'view', 'Hệ thống cách âm', 'Minibar', 'WiFi miễn phí', 'Ghế sofa', 'bep_an', 'Máy giặt', 'Đồng hồ báo thức', 'ban_an', 'Ổ điện gần giường', 'Giấy vệ sinh', 'ui_quan_ao', 'giuong', 'Truyền hình vệ tinh', 'Ban công', 'Quyền sử dụng Executive Lounge', 'Ra trải giường', 'may_pha_tra_cf', 'Máy sấy quần áo', 'Có phòng thông nhau qua cửa nối', 'Chậu rửa vệ sinh (bidet)', 'Các tầng trên đi lên bằng thang máy', 'Xe lăn có thể đi đến mọi nơi trong toàn bộ khuôn viên', 'Máy vi tính', 'dieu_hoa', 'tien_ich_cho_tre_em', 'Hoàn toàn nằm ở tầng trệt', 'Các tầng trên chỉ lên được bằng cầu thang', 'Nước rửa tay', 'ho_boi', 'Sách', 'khu_ngoai_troi', 'Phòng xông hơi', 'Sân trong']</pre></div></div></div><div class=\"sk-serial\"><div class=\"sk-item\"><div class=\"sk-estimator sk-toggleable\"><input class=\"sk-toggleable__control sk-hidden--visually\" id=\"b7c38d00-c7a9-44c3-95ec-9f3f421d568a\" type=\"checkbox\" ><label class=\"sk-toggleable__label\" for=\"b7c38d00-c7a9-44c3-95ec-9f3f421d568a\">SimpleImputer</label><div class=\"sk-toggleable__content\"><pre>SimpleImputer(strategy='most_frequent')</pre></div></div></div></div></div></div></div></div><div class=\"sk-item\"><div class=\"sk-estimator sk-toggleable\"><input class=\"sk-toggleable__control sk-hidden--visually\" id=\"c3d5b33a-724c-4833-b8ea-5a78ae0b749c\" type=\"checkbox\" ><label class=\"sk-toggleable__label\" for=\"c3d5b33a-724c-4833-b8ea-5a78ae0b749c\">StandardScaler</label><div class=\"sk-toggleable__content\"><pre>StandardScaler()</pre></div></div></div></div></div><div class=\"sk-item sk-dashed-wrapped\"><div class=\"sk-label-container\"><div class=\"sk-label sk-toggleable\"><input class=\"sk-toggleable__control sk-hidden--visually\" id=\"70475711-22c3-4d7e-ac4a-cf543fe735c3\" type=\"checkbox\" ><label class=\"sk-toggleable__label\" for=\"70475711-22c3-4d7e-ac4a-cf543fe735c3\">model: TransformedTargetRegressor</label><div class=\"sk-toggleable__content\"><pre>TransformedTargetRegressor(func=<ufunc 'log'>, inverse_func=<ufunc 'exp'>,\n                           regressor=MLPRegressor(early_stopping=True,\n                                                  hidden_layer_sizes=(100, 300,\n                                                                      300,\n                                                                      100),\n                                                  learning_rate='adaptive',\n                                                  max_iter=400, random_state=0,\n                                                  verbose=0))</pre></div></div></div><div class=\"sk-parallel\"><div class=\"sk-parallel-item\"><div class=\"sk-item\"><div class=\"sk-serial\"><div class=\"sk-item\"><div class=\"sk-estimator sk-toggleable\"><input class=\"sk-toggleable__control sk-hidden--visually\" id=\"3052243f-ef5b-43f9-adb1-14224217c2bc\" type=\"checkbox\" ><label class=\"sk-toggleable__label\" for=\"3052243f-ef5b-43f9-adb1-14224217c2bc\">MLPRegressor</label><div class=\"sk-toggleable__content\"><pre>MLPRegressor(early_stopping=True, hidden_layer_sizes=(100, 300, 300, 100),\n             learning_rate='adaptive', max_iter=400, random_state=0, verbose=0)</pre></div></div></div></div></div></div></div></div></div></div></div></div>"
     },
     "metadata": {},
     "execution_count": 30
    }
   ],
   "source": [
    "full_pipeline"
   ]
  },
  {
   "cell_type": "code",
   "execution_count": 31,
   "metadata": {},
   "outputs": [
    {
     "output_type": "stream",
     "name": "stdout",
     "text": [
      "MAE = 774003.2266868228\n",
      "MAE = 777301.3279403553\n",
      "MAE = 900038.2867390646\n",
      "MAE = 1030269.1673290639\n",
      "MAE = 1179610.7436706966\n"
     ]
    },
    {
     "output_type": "execute_result",
     "data": {
      "text/plain": [
       "'Finish!'"
      ]
     },
     "metadata": {},
     "execution_count": 31
    }
   ],
   "source": [
    "# Thử nghiệm với các giá trị khác nhau của các siêu tham số\n",
    "# và chọn ra các giá trị tốt nhất\n",
    "\n",
    "val_MAEs = []\n",
    "alphas = [0.1, 1, 10, 100, 1000]\n",
    "best_val_MAE = float('inf'); best_alpha = None;\n",
    "for alpha in alphas:\n",
    "    full_pipeline.set_params(model__regressor__alpha=alpha)  # nested pipeline\n",
    "    full_pipeline.fit(train_X_df, train_y_sr)\n",
    "    preds_y = full_pipeline.predict(val_X_df)\n",
    "    val_mae = mean_absolute_error(preds_y, val_y_sr)\n",
    "    print(\"MAE =\", val_mae)\n",
    "    val_MAEs.append(val_mae)\n",
    "    if best_val_MAE > val_mae:\n",
    "        best_val_MAE = val_mae\n",
    "        best_alpha = alpha\n",
    "'Finish!'"
   ]
  },
  {
   "cell_type": "code",
   "execution_count": 32,
   "metadata": {},
   "outputs": [
    {
     "output_type": "execute_result",
     "data": {
      "text/plain": [
       "774003.2266868228"
      ]
     },
     "metadata": {},
     "execution_count": 32
    }
   ],
   "source": [
    "best_val_MAE"
   ]
  },
  {
   "cell_type": "markdown",
   "metadata": {},
   "source": [
    "---"
   ]
  },
  {
   "cell_type": "code",
   "execution_count": 33,
   "metadata": {},
   "outputs": [],
   "source": [
    "# Random forest regressor\n",
    "rf_regressor = RandomForestRegressor(n_estimators=800, random_state=0, verbose=0)\n",
    "\n",
    "model = TransformedTargetRegressor(regressor=rf_regressor,\n",
    "                                 func=np.log, inverse_func=np.exp)\n",
    "\n",
    "# Full pipeline = preprocess_pipeline + model\n",
    "full_pipeline = Pipeline(steps = [\n",
    "    ('preprocessor', preprocess_pipeline),\n",
    "    ('model', model)\n",
    "])"
   ]
  },
  {
   "cell_type": "code",
   "execution_count": 34,
   "metadata": {},
   "outputs": [
    {
     "output_type": "stream",
     "name": "stdout",
     "text": [
      "MAE = 697962.2556765627\n",
      "MAE = 695554.9814056441\n",
      "MAE = 693861.2915576712\n",
      "MAE = 695033.2259001777\n",
      "MAE = 694798.7667132171\n",
      "MAE = 694596.1129243408\n",
      "MAE = 694042.9709465638\n"
     ]
    },
    {
     "output_type": "execute_result",
     "data": {
      "text/plain": [
       "'Finish!'"
      ]
     },
     "metadata": {},
     "execution_count": 34
    }
   ],
   "source": [
    "# Thử nghiệm với các giá trị khác nhau của các siêu tham số\n",
    "# và chọn ra các giá trị tốt nhất\n",
    "\n",
    "val_MAEs = []\n",
    "my_n_estimators = [100, 200, 400, 600, 800, 1000, 1500]\n",
    "best_val_MAE = float('inf'); best_estimator = None;\n",
    "for estimator in my_n_estimators:\n",
    "    full_pipeline.set_params(model__regressor__n_estimators=estimator)  # nested pipeline\n",
    "    full_pipeline.fit(train_X_df, train_y_sr)\n",
    "    preds_y = full_pipeline.predict(val_X_df)\n",
    "    val_mae = mean_absolute_error(preds_y, val_y_sr)\n",
    "    print(\"MAE =\", val_mae)\n",
    "    val_MAEs.append(val_mae)\n",
    "    if best_val_MAE > val_mae:\n",
    "        best_val_MAE = val_mae\n",
    "        best_estimator = estimator\n",
    "'Finish!'"
   ]
  },
  {
   "cell_type": "code",
   "execution_count": 37,
   "metadata": {},
   "outputs": [
    {
     "output_type": "execute_result",
     "data": {
      "text/plain": [
       "400"
      ]
     },
     "metadata": {},
     "execution_count": 37
    }
   ],
   "source": [
    "best_estimator"
   ]
  },
  {
   "cell_type": "markdown",
   "metadata": {},
   "source": [
    "---"
   ]
  },
  {
   "cell_type": "markdown",
   "metadata": {},
   "source": [
    "### Đánh giá mô hình tìm được"
   ]
  },
  {
   "cell_type": "code",
   "execution_count": 35,
   "metadata": {},
   "outputs": [
    {
     "output_type": "execute_result",
     "data": {
      "text/plain": [
       "Pipeline(steps=[('preprocessor',\n",
       "                 Pipeline(steps=[('col_adderdropper', ColAdderDropper()),\n",
       "                                 ('col_transformer',\n",
       "                                  ColumnTransformer(transformers=[('nume_col_transformer',\n",
       "                                                                   SimpleImputer(),\n",
       "                                                                   ['dien_tich_m2']),\n",
       "                                                                  ('unorder_cate_col_transformer',\n",
       "                                                                   Pipeline(steps=[('imputer',\n",
       "                                                                                    SimpleImputer(strategy='most_frequent')),\n",
       "                                                                                   ('one_hot_encoder',\n",
       "                                                                                    OneHotEncoder())]),\n",
       "                                                                   ['City']),\n",
       "                                                                  ('feat...\n",
       "                                                                    'Ghế sofa',\n",
       "                                                                    'bep_an',\n",
       "                                                                    'Máy '\n",
       "                                                                    'giặt',\n",
       "                                                                    'Đồng hồ '\n",
       "                                                                    'báo thức',\n",
       "                                                                    'ban_an',\n",
       "                                                                    'Ổ điện '\n",
       "                                                                    'gần '\n",
       "                                                                    'giường',\n",
       "                                                                    'Giấy vệ '\n",
       "                                                                    'sinh',\n",
       "                                                                    'ui_quan_ao',\n",
       "                                                                    'giuong',\n",
       "                                                                    'Truyền '\n",
       "                                                                    'hình vệ '\n",
       "                                                                    'tinh',\n",
       "                                                                    'Ban công', ...])])),\n",
       "                                 ('col_normalizer', StandardScaler())])),\n",
       "                ('model',\n",
       "                 TransformedTargetRegressor(func=<ufunc 'log'>,\n",
       "                                            inverse_func=<ufunc 'exp'>,\n",
       "                                            regressor=RandomForestRegressor(n_estimators=1500,\n",
       "                                                                            random_state=0)))])"
      ],
      "text/html": "<style>div.sk-top-container {color: black;background-color: white;}div.sk-toggleable {background-color: white;}label.sk-toggleable__label {cursor: pointer;display: block;width: 100%;margin-bottom: 0;padding: 0.2em 0.3em;box-sizing: border-box;text-align: center;}div.sk-toggleable__content {max-height: 0;max-width: 0;overflow: hidden;text-align: left;background-color: #f0f8ff;}div.sk-toggleable__content pre {margin: 0.2em;color: black;border-radius: 0.25em;background-color: #f0f8ff;}input.sk-toggleable__control:checked~div.sk-toggleable__content {max-height: 200px;max-width: 100%;overflow: auto;}div.sk-estimator input.sk-toggleable__control:checked~label.sk-toggleable__label {background-color: #d4ebff;}div.sk-label input.sk-toggleable__control:checked~label.sk-toggleable__label {background-color: #d4ebff;}input.sk-hidden--visually {border: 0;clip: rect(1px 1px 1px 1px);clip: rect(1px, 1px, 1px, 1px);height: 1px;margin: -1px;overflow: hidden;padding: 0;position: absolute;width: 1px;}div.sk-estimator {font-family: monospace;background-color: #f0f8ff;margin: 0.25em 0.25em;border: 1px dotted black;border-radius: 0.25em;box-sizing: border-box;}div.sk-estimator:hover {background-color: #d4ebff;}div.sk-parallel-item::after {content: \"\";width: 100%;border-bottom: 1px solid gray;flex-grow: 1;}div.sk-label:hover label.sk-toggleable__label {background-color: #d4ebff;}div.sk-serial::before {content: \"\";position: absolute;border-left: 1px solid gray;box-sizing: border-box;top: 2em;bottom: 0;left: 50%;}div.sk-serial {display: flex;flex-direction: column;align-items: center;background-color: white;}div.sk-item {z-index: 1;}div.sk-parallel {display: flex;align-items: stretch;justify-content: center;background-color: white;}div.sk-parallel-item {display: flex;flex-direction: column;position: relative;background-color: white;}div.sk-parallel-item:first-child::after {align-self: flex-end;width: 50%;}div.sk-parallel-item:last-child::after {align-self: flex-start;width: 50%;}div.sk-parallel-item:only-child::after {width: 0;}div.sk-dashed-wrapped {border: 1px dashed gray;margin: 0.2em;box-sizing: border-box;padding-bottom: 0.1em;background-color: white;position: relative;}div.sk-label label {font-family: monospace;font-weight: bold;background-color: white;display: inline-block;line-height: 1.2em;}div.sk-label-container {position: relative;z-index: 2;text-align: center;}div.sk-container {display: inline-block;position: relative;}</style><div class=\"sk-top-container\"><div class=\"sk-container\"><div class=\"sk-item sk-dashed-wrapped\"><div class=\"sk-label-container\"><div class=\"sk-label sk-toggleable\"><input class=\"sk-toggleable__control sk-hidden--visually\" id=\"445ff80a-729c-4d75-9e7a-f2c3b3fdc390\" type=\"checkbox\" ><label class=\"sk-toggleable__label\" for=\"445ff80a-729c-4d75-9e7a-f2c3b3fdc390\">Pipeline</label><div class=\"sk-toggleable__content\"><pre>Pipeline(steps=[('preprocessor',\n                 Pipeline(steps=[('col_adderdropper', ColAdderDropper()),\n                                 ('col_transformer',\n                                  ColumnTransformer(transformers=[('nume_col_transformer',\n                                                                   SimpleImputer(),\n                                                                   ['dien_tich_m2']),\n                                                                  ('unorder_cate_col_transformer',\n                                                                   Pipeline(steps=[('imputer',\n                                                                                    SimpleImputer(strategy='most_frequent')),\n                                                                                   ('one_hot_encoder',\n                                                                                    OneHotEncoder())]),\n                                                                   ['City']),\n                                                                  ('feat...\n                                                                    'Ghế sofa',\n                                                                    'bep_an',\n                                                                    'Máy '\n                                                                    'giặt',\n                                                                    'Đồng hồ '\n                                                                    'báo thức',\n                                                                    'ban_an',\n                                                                    'Ổ điện '\n                                                                    'gần '\n                                                                    'giường',\n                                                                    'Giấy vệ '\n                                                                    'sinh',\n                                                                    'ui_quan_ao',\n                                                                    'giuong',\n                                                                    'Truyền '\n                                                                    'hình vệ '\n                                                                    'tinh',\n                                                                    'Ban công', ...])])),\n                                 ('col_normalizer', StandardScaler())])),\n                ('model',\n                 TransformedTargetRegressor(func=<ufunc 'log'>,\n                                            inverse_func=<ufunc 'exp'>,\n                                            regressor=RandomForestRegressor(n_estimators=1500,\n                                                                            random_state=0)))])</pre></div></div></div><div class=\"sk-serial\"><div class=\"sk-item\"><div class=\"sk-label-container\"><div class=\"sk-label sk-toggleable\"><input class=\"sk-toggleable__control sk-hidden--visually\" id=\"cb446a07-705d-4cc8-9538-018652af0fb1\" type=\"checkbox\" ><label class=\"sk-toggleable__label\" for=\"cb446a07-705d-4cc8-9538-018652af0fb1\">preprocessor: Pipeline</label><div class=\"sk-toggleable__content\"><pre>Pipeline(steps=[('col_adderdropper', ColAdderDropper()),\n                ('col_transformer',\n                 ColumnTransformer(transformers=[('nume_col_transformer',\n                                                  SimpleImputer(),\n                                                  ['dien_tich_m2']),\n                                                 ('unorder_cate_col_transformer',\n                                                  Pipeline(steps=[('imputer',\n                                                                   SimpleImputer(strategy='most_frequent')),\n                                                                  ('one_hot_encoder',\n                                                                   OneHotEncoder())]),\n                                                  ['City']),\n                                                 ('feature_col_transformer',\n                                                  SimpleImput...\n                                                   'Khu vực tiếp khách',\n                                                   'TV', 'Dép', 'Tủ lạnh',\n                                                   'Điện thoại',\n                                                   'Máy sấy tóc', 'lot_san',\n                                                   'Ấm đun nước điện',\n                                                   'Truyền hình cáp',\n                                                   'tu_quan_ao', 'view',\n                                                   'Hệ thống cách âm',\n                                                   'Minibar', 'WiFi miễn phí',\n                                                   'Ghế sofa', 'bep_an',\n                                                   'Máy giặt',\n                                                   'Đồng hồ báo thức', 'ban_an',\n                                                   'Ổ điện gần giường',\n                                                   'Giấy vệ sinh', 'ui_quan_ao',\n                                                   'giuong',\n                                                   'Truyền hình vệ tinh',\n                                                   'Ban công', ...])])),\n                ('col_normalizer', StandardScaler())])</pre></div></div></div><div class=\"sk-serial\"><div class=\"sk-item\"><div class=\"sk-estimator sk-toggleable\"><input class=\"sk-toggleable__control sk-hidden--visually\" id=\"f3cdaa7e-2f1c-4958-8d79-790f2f405cd6\" type=\"checkbox\" ><label class=\"sk-toggleable__label\" for=\"f3cdaa7e-2f1c-4958-8d79-790f2f405cd6\">ColAdderDropper</label><div class=\"sk-toggleable__content\"><pre>ColAdderDropper()</pre></div></div></div><div class=\"sk-item sk-dashed-wrapped\"><div class=\"sk-label-container\"><div class=\"sk-label sk-toggleable\"><input class=\"sk-toggleable__control sk-hidden--visually\" id=\"5d933ead-ee0c-4ae5-9051-51d3ad4c518c\" type=\"checkbox\" ><label class=\"sk-toggleable__label\" for=\"5d933ead-ee0c-4ae5-9051-51d3ad4c518c\">col_transformer: ColumnTransformer</label><div class=\"sk-toggleable__content\"><pre>ColumnTransformer(transformers=[('nume_col_transformer', SimpleImputer(),\n                                 ['dien_tich_m2']),\n                                ('unorder_cate_col_transformer',\n                                 Pipeline(steps=[('imputer',\n                                                  SimpleImputer(strategy='most_frequent')),\n                                                 ('one_hot_encoder',\n                                                  OneHotEncoder())]),\n                                 ['City']),\n                                ('feature_col_transformer',\n                                 SimpleImputer(strategy='most_frequent'),\n                                 ['Đồ vệ sinh cá nhân miễn phí',\n                                  'tien_ich_phong', 'ke...'toilet',\n                                  'Bàn làm việc', 'Khu vực tiếp khách',\n                                  'TV', 'Dép', 'Tủ lạnh', 'Điện thoại',\n                                  'Máy sấy tóc', 'lot_san',\n                                  'Ấm đun nước điện', 'Truyền hình cáp',\n                                  'tu_quan_ao', 'view', 'Hệ thống cách âm',\n                                  'Minibar', 'WiFi miễn phí', 'Ghế sofa',\n                                  'bep_an', 'Máy giặt', 'Đồng hồ báo thức',\n                                  'ban_an', 'Ổ điện gần giường', 'Giấy vệ sinh',\n                                  'ui_quan_ao', 'giuong',\n                                  'Truyền hình vệ tinh', 'Ban công', ...])])</pre></div></div></div><div class=\"sk-parallel\"><div class=\"sk-parallel-item\"><div class=\"sk-item\"><div class=\"sk-label-container\"><div class=\"sk-label sk-toggleable\"><input class=\"sk-toggleable__control sk-hidden--visually\" id=\"a26d2884-85a3-453a-ba3e-a2df62677d9f\" type=\"checkbox\" ><label class=\"sk-toggleable__label\" for=\"a26d2884-85a3-453a-ba3e-a2df62677d9f\">nume_col_transformer</label><div class=\"sk-toggleable__content\"><pre>['dien_tich_m2']</pre></div></div></div><div class=\"sk-serial\"><div class=\"sk-item\"><div class=\"sk-estimator sk-toggleable\"><input class=\"sk-toggleable__control sk-hidden--visually\" id=\"8edec0bc-ef6a-47eb-949b-8d22c931d4ff\" type=\"checkbox\" ><label class=\"sk-toggleable__label\" for=\"8edec0bc-ef6a-47eb-949b-8d22c931d4ff\">SimpleImputer</label><div class=\"sk-toggleable__content\"><pre>SimpleImputer()</pre></div></div></div></div></div></div><div class=\"sk-parallel-item\"><div class=\"sk-item\"><div class=\"sk-label-container\"><div class=\"sk-label sk-toggleable\"><input class=\"sk-toggleable__control sk-hidden--visually\" id=\"0df2d3cb-b09d-4093-b13e-668dc83b4306\" type=\"checkbox\" ><label class=\"sk-toggleable__label\" for=\"0df2d3cb-b09d-4093-b13e-668dc83b4306\">unorder_cate_col_transformer</label><div class=\"sk-toggleable__content\"><pre>['City']</pre></div></div></div><div class=\"sk-serial\"><div class=\"sk-item\"><div class=\"sk-serial\"><div class=\"sk-item\"><div class=\"sk-estimator sk-toggleable\"><input class=\"sk-toggleable__control sk-hidden--visually\" id=\"9568e15e-64bf-4dde-b552-53e109f0b2eb\" type=\"checkbox\" ><label class=\"sk-toggleable__label\" for=\"9568e15e-64bf-4dde-b552-53e109f0b2eb\">SimpleImputer</label><div class=\"sk-toggleable__content\"><pre>SimpleImputer(strategy='most_frequent')</pre></div></div></div><div class=\"sk-item\"><div class=\"sk-estimator sk-toggleable\"><input class=\"sk-toggleable__control sk-hidden--visually\" id=\"4851b183-fe2e-4ae7-8241-98cf0e703f24\" type=\"checkbox\" ><label class=\"sk-toggleable__label\" for=\"4851b183-fe2e-4ae7-8241-98cf0e703f24\">OneHotEncoder</label><div class=\"sk-toggleable__content\"><pre>OneHotEncoder()</pre></div></div></div></div></div></div></div></div><div class=\"sk-parallel-item\"><div class=\"sk-item\"><div class=\"sk-label-container\"><div class=\"sk-label sk-toggleable\"><input class=\"sk-toggleable__control sk-hidden--visually\" id=\"73d0dbe6-b854-430b-87ab-1e343c5bff7c\" type=\"checkbox\" ><label class=\"sk-toggleable__label\" for=\"73d0dbe6-b854-430b-87ab-1e343c5bff7c\">feature_col_transformer</label><div class=\"sk-toggleable__content\"><pre>['Đồ vệ sinh cá nhân miễn phí', 'tien_ich_phong', 'ket_sat', 'toilet', 'Bàn làm việc', 'Khu vực tiếp khách', 'TV', 'Dép', 'Tủ lạnh', 'Điện thoại', 'Máy sấy tóc', 'lot_san', 'Ấm đun nước điện', 'Truyền hình cáp', 'tu_quan_ao', 'view', 'Hệ thống cách âm', 'Minibar', 'WiFi miễn phí', 'Ghế sofa', 'bep_an', 'Máy giặt', 'Đồng hồ báo thức', 'ban_an', 'Ổ điện gần giường', 'Giấy vệ sinh', 'ui_quan_ao', 'giuong', 'Truyền hình vệ tinh', 'Ban công', 'Quyền sử dụng Executive Lounge', 'Ra trải giường', 'may_pha_tra_cf', 'Máy sấy quần áo', 'Có phòng thông nhau qua cửa nối', 'Chậu rửa vệ sinh (bidet)', 'Các tầng trên đi lên bằng thang máy', 'Xe lăn có thể đi đến mọi nơi trong toàn bộ khuôn viên', 'Máy vi tính', 'dieu_hoa', 'tien_ich_cho_tre_em', 'Hoàn toàn nằm ở tầng trệt', 'Các tầng trên chỉ lên được bằng cầu thang', 'Nước rửa tay', 'ho_boi', 'Sách', 'khu_ngoai_troi', 'Phòng xông hơi', 'Sân trong']</pre></div></div></div><div class=\"sk-serial\"><div class=\"sk-item\"><div class=\"sk-estimator sk-toggleable\"><input class=\"sk-toggleable__control sk-hidden--visually\" id=\"a90b880b-6969-4b41-b5fa-52c8f2dc4108\" type=\"checkbox\" ><label class=\"sk-toggleable__label\" for=\"a90b880b-6969-4b41-b5fa-52c8f2dc4108\">SimpleImputer</label><div class=\"sk-toggleable__content\"><pre>SimpleImputer(strategy='most_frequent')</pre></div></div></div></div></div></div></div></div><div class=\"sk-item\"><div class=\"sk-estimator sk-toggleable\"><input class=\"sk-toggleable__control sk-hidden--visually\" id=\"4033957a-9837-42a1-9e21-591df05c7637\" type=\"checkbox\" ><label class=\"sk-toggleable__label\" for=\"4033957a-9837-42a1-9e21-591df05c7637\">StandardScaler</label><div class=\"sk-toggleable__content\"><pre>StandardScaler()</pre></div></div></div></div></div><div class=\"sk-item sk-dashed-wrapped\"><div class=\"sk-label-container\"><div class=\"sk-label sk-toggleable\"><input class=\"sk-toggleable__control sk-hidden--visually\" id=\"861bc2bf-8053-44f1-8627-42b09ee444dc\" type=\"checkbox\" ><label class=\"sk-toggleable__label\" for=\"861bc2bf-8053-44f1-8627-42b09ee444dc\">model: TransformedTargetRegressor</label><div class=\"sk-toggleable__content\"><pre>TransformedTargetRegressor(func=<ufunc 'log'>, inverse_func=<ufunc 'exp'>,\n                           regressor=RandomForestRegressor(n_estimators=1500,\n                                                           random_state=0))</pre></div></div></div><div class=\"sk-parallel\"><div class=\"sk-parallel-item\"><div class=\"sk-item\"><div class=\"sk-serial\"><div class=\"sk-item\"><div class=\"sk-estimator sk-toggleable\"><input class=\"sk-toggleable__control sk-hidden--visually\" id=\"c83af1a9-cfcb-4bb3-b52c-9a1859cfab7b\" type=\"checkbox\" ><label class=\"sk-toggleable__label\" for=\"c83af1a9-cfcb-4bb3-b52c-9a1859cfab7b\">RandomForestRegressor</label><div class=\"sk-toggleable__content\"><pre>RandomForestRegressor(n_estimators=1500, random_state=0)</pre></div></div></div></div></div></div></div></div></div></div></div></div>"
     },
     "metadata": {},
     "execution_count": 35
    }
   ],
   "source": [
    "# # pick model + best hyperparameters\n",
    "\n",
    "# # fit on total (train+validation)\n",
    "full_pipeline.fit(temp_X_df, temp_y_sr)"
   ]
  },
  {
   "cell_type": "code",
   "execution_count": 36,
   "metadata": {},
   "outputs": [
    {
     "output_type": "stream",
     "name": "stdout",
     "text": [
      "MAE = 444715.220964204\n"
     ]
    }
   ],
   "source": [
    "pred_test_y = full_pipeline.predict(test_X_df)\n",
    "# train_score = full_pipeline.score(X_df, y_sr)\n",
    "# test_score = full_pipeline.score(test_X_df, test_y_sr)\n",
    "# print(train_score, test_score)\n",
    "# print(\"MSE =\", mean_squared_error(test_y_sr, pred_test_y))\n",
    "print(\"MAE =\", mean_absolute_error(test_y_sr, pred_test_y))"
   ]
  }
 ],
 "metadata": {
  "jupytext": {
   "formats": "ipynb,md"
  },
  "kernelspec": {
   "display_name": "Python 3",
   "language": "python",
   "name": "python3"
  },
  "language_info": {
   "codemirror_mode": {
    "name": "ipython",
    "version": 3
   },
   "file_extension": ".py",
   "mimetype": "text/x-python",
   "name": "python",
   "nbconvert_exporter": "python",
   "pygments_lexer": "ipython3",
   "version": "3.8.3-final"
  }
 },
 "nbformat": 4,
 "nbformat_minor": 4
}