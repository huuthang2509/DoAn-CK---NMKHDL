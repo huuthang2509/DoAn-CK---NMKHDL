{
 "cells": [
  {
   "cell_type": "markdown",
   "metadata": {},
   "source": [
    "# ĐỒ ÁN CUỐI KỲ (NMKHDL - CQ2018/2)\n",
    "### Giảng viên hướng dẫn: Thầy Trần Trung Kiên\n",
    "### Trợ giảng: Thầy Hồ Xuân Trường\n",
    "\n",
    "__Thông tin nhóm__: \n",
    "\n",
    "* STT: 46\n",
    "\n",
    "* Họ và tên sinh viên: Nguyễn Hữu Huân - MSSV: 1712466\n",
    "\n",
    "* Họ và tên sinh viên: Đặng Hữu Thắng - MSSV: 18120555"
   ]
  },
  {
   "cell_type": "markdown",
   "metadata": {},
   "source": [
    "---"
   ]
  },
  {
   "cell_type": "markdown",
   "metadata": {},
   "source": [
    "## Import"
   ]
  },
  {
   "cell_type": "code",
   "execution_count": 2,
   "metadata": {},
   "outputs": [],
   "source": [
    "%matplotlib inline\n",
    "import matplotlib.pyplot as plt\n",
    "import seaborn as sns\n",
    "import pandas as pd\n",
    "import numpy as np\n",
    "\n",
    "# for preprocessing\n",
    "from sklearn.model_selection import train_test_split\n",
    "from sklearn.preprocessing import OneHotEncoder, StandardScaler\n",
    "from sklearn.impute import SimpleImputer\n",
    "from sklearn.base import BaseEstimator, TransformerMixin\n",
    "from sklearn.pipeline import Pipeline, make_pipeline\n",
    "from sklearn.compose import ColumnTransformer, make_column_transformer\n",
    "\n",
    "# for model picking\n",
    "from sklearn.neural_network import MLPRegressor\n",
    "from sklearn.ensemble import RandomForestRegressor\n",
    "from sklearn.svm import SVR\n",
    "from sklearn.ensemble import GradientBoostingRegressor\n",
    "from sklearn.model_selection import GridSearchCV"
   ]
  },
  {
   "cell_type": "markdown",
   "metadata": {},
   "source": [
    "----"
   ]
  },
  {
   "cell_type": "markdown",
   "metadata": {},
   "source": [
    "## Thu thập dữ liệu"
   ]
  },
  {
   "cell_type": "markdown",
   "metadata": {},
   "source": [
    "Dữ liệu mà nhóm em dùng cho đồ án cuối kỳ được tự thu thập từ trang [Booking.com](https://booking.com) - Trang web về du lịch cung cấp dịch vụ đặt chỗ, đặt phòng khách sạn ở trực tuyến trên toàn thế giới. Dữ liệu nhóm em thu thập chứa thông tin về chỗ ở (bao gồm cả khách sạn, nhà nghỉ, homestay,..) ở 4 địa điểm du lịch của Việt Nam: Hà Nội, Đà Nẵng, Đà Lạt, Thành phố Hồ Chí Minh.\n",
    "\n",
    "Dữ liệu trên trang web này được phép thu thập, được mô tả cụ thể thông qua file robots.txt.\n",
    "\n",
    "Phần source code cho quá trình cào dữ liệu về  được lưu ở file notebook [crawling_data.ipynb](https://github.com/ref-to-uploaded-notebook).\n",
    "\n",
    "Toàn bộ dữ liệu thô sau khi cào về lưu ở file: \"full_data.csv\"."
   ]
  },
  {
   "cell_type": "markdown",
   "metadata": {},
   "source": [
    "---"
   ]
  },
  {
   "cell_type": "markdown",
   "metadata": {},
   "source": [
    "## Khám phá dữ liệu (đủ để xác định câu hỏi) + tiền xử lý "
   ]
  },
  {
   "cell_type": "markdown",
   "metadata": {},
   "source": [
    "Do file \"full_data.csv\" là tất cả dữ liệu mà nhóm em tự cào được, nên nhóm sẽ cần khám phá một ít trên dữ liệu để đưa ra câu hỏi cần trả lời, sau đó tiến hành kiểm tra, làm sạch một vài vấn đề cơ bản (vì tất cả hoàn toàn là dữ liệu thô) và ngay lập tức tách tập validation và test ra khỏi dữ liệu. Như đã được thầy đề cập ở BT03, điều này để tránh hiểu quá sâu dữ liệu, làm mất đi tính khách quan khi đánh giá kết quả."
   ]
  },
  {
   "cell_type": "code",
   "execution_count": 7,
   "metadata": {},
   "outputs": [
    {
     "data": {
      "text/html": [
       "<div>\n",
       "<style scoped>\n",
       "    .dataframe tbody tr th:only-of-type {\n",
       "        vertical-align: middle;\n",
       "    }\n",
       "\n",
       "    .dataframe tbody tr th {\n",
       "        vertical-align: top;\n",
       "    }\n",
       "\n",
       "    .dataframe thead th {\n",
       "        text-align: right;\n",
       "    }\n",
       "</style>\n",
       "<table border=\"1\" class=\"dataframe\">\n",
       "  <thead>\n",
       "    <tr style=\"text-align: right;\">\n",
       "      <th></th>\n",
       "      <th>City</th>\n",
       "      <th>Diện tích</th>\n",
       "      <th>Đồ vệ sinh cá nhân miễn phí</th>\n",
       "      <th>Vòi sen</th>\n",
       "      <th>Áo choàng tắm</th>\n",
       "      <th>Két an toàn</th>\n",
       "      <th>Nhà vệ sinh</th>\n",
       "      <th>Khăn tắm</th>\n",
       "      <th>Bàn làm việc</th>\n",
       "      <th>Khu vực tiếp khách</th>\n",
       "      <th>...</th>\n",
       "      <th>Đài radio</th>\n",
       "      <th>Khu vực ăn uống ngoài trời</th>\n",
       "      <th>Phòng xông hơi</th>\n",
       "      <th>Toilet chung</th>\n",
       "      <th>Bàn ghế ngoài trời</th>\n",
       "      <th>Bể sục</th>\n",
       "      <th>Hồ bơi riêng</th>\n",
       "      <th>Sân trong</th>\n",
       "      <th>Hướng nhìn sân trong</th>\n",
       "      <th>price</th>\n",
       "    </tr>\n",
       "  </thead>\n",
       "  <tbody>\n",
       "    <tr>\n",
       "      <th>8979</th>\n",
       "      <td>Da Nang</td>\n",
       "      <td>37 m²</td>\n",
       "      <td>1</td>\n",
       "      <td>0</td>\n",
       "      <td>0</td>\n",
       "      <td>0</td>\n",
       "      <td>1</td>\n",
       "      <td>1</td>\n",
       "      <td>1</td>\n",
       "      <td>1</td>\n",
       "      <td>...</td>\n",
       "      <td>0</td>\n",
       "      <td>0</td>\n",
       "      <td>0</td>\n",
       "      <td>0</td>\n",
       "      <td>0</td>\n",
       "      <td>0</td>\n",
       "      <td>0</td>\n",
       "      <td>0</td>\n",
       "      <td>0</td>\n",
       "      <td>790.020</td>\n",
       "    </tr>\n",
       "    <tr>\n",
       "      <th>2286</th>\n",
       "      <td>TP.Ho Chi Minh</td>\n",
       "      <td>28 m²</td>\n",
       "      <td>1</td>\n",
       "      <td>0</td>\n",
       "      <td>0</td>\n",
       "      <td>1</td>\n",
       "      <td>1</td>\n",
       "      <td>1</td>\n",
       "      <td>1</td>\n",
       "      <td>0</td>\n",
       "      <td>...</td>\n",
       "      <td>1</td>\n",
       "      <td>0</td>\n",
       "      <td>0</td>\n",
       "      <td>0</td>\n",
       "      <td>0</td>\n",
       "      <td>0</td>\n",
       "      <td>0</td>\n",
       "      <td>0</td>\n",
       "      <td>0</td>\n",
       "      <td>882.000</td>\n",
       "    </tr>\n",
       "    <tr>\n",
       "      <th>8594</th>\n",
       "      <td>Da Nang</td>\n",
       "      <td>30 m²</td>\n",
       "      <td>1</td>\n",
       "      <td>0</td>\n",
       "      <td>0</td>\n",
       "      <td>1</td>\n",
       "      <td>1</td>\n",
       "      <td>1</td>\n",
       "      <td>1</td>\n",
       "      <td>1</td>\n",
       "      <td>...</td>\n",
       "      <td>0</td>\n",
       "      <td>0</td>\n",
       "      <td>0</td>\n",
       "      <td>0</td>\n",
       "      <td>1</td>\n",
       "      <td>1</td>\n",
       "      <td>0</td>\n",
       "      <td>0</td>\n",
       "      <td>0</td>\n",
       "      <td>1.148.000</td>\n",
       "    </tr>\n",
       "    <tr>\n",
       "      <th>2646</th>\n",
       "      <td>TP.Ho Chi Minh</td>\n",
       "      <td>30 m²</td>\n",
       "      <td>0</td>\n",
       "      <td>0</td>\n",
       "      <td>0</td>\n",
       "      <td>0</td>\n",
       "      <td>1</td>\n",
       "      <td>1</td>\n",
       "      <td>0</td>\n",
       "      <td>0</td>\n",
       "      <td>...</td>\n",
       "      <td>0</td>\n",
       "      <td>0</td>\n",
       "      <td>0</td>\n",
       "      <td>0</td>\n",
       "      <td>0</td>\n",
       "      <td>0</td>\n",
       "      <td>0</td>\n",
       "      <td>0</td>\n",
       "      <td>0</td>\n",
       "      <td>712.614</td>\n",
       "    </tr>\n",
       "    <tr>\n",
       "      <th>8308</th>\n",
       "      <td>Da Nang</td>\n",
       "      <td>35 m²</td>\n",
       "      <td>1</td>\n",
       "      <td>0</td>\n",
       "      <td>1</td>\n",
       "      <td>1</td>\n",
       "      <td>1</td>\n",
       "      <td>1</td>\n",
       "      <td>1</td>\n",
       "      <td>0</td>\n",
       "      <td>...</td>\n",
       "      <td>1</td>\n",
       "      <td>0</td>\n",
       "      <td>0</td>\n",
       "      <td>0</td>\n",
       "      <td>0</td>\n",
       "      <td>0</td>\n",
       "      <td>0</td>\n",
       "      <td>0</td>\n",
       "      <td>0</td>\n",
       "      <td>617.760</td>\n",
       "    </tr>\n",
       "    <tr>\n",
       "      <th>12519</th>\n",
       "      <td>Da Lat</td>\n",
       "      <td>Ban công</td>\n",
       "      <td>1</td>\n",
       "      <td>0</td>\n",
       "      <td>0</td>\n",
       "      <td>0</td>\n",
       "      <td>0</td>\n",
       "      <td>1</td>\n",
       "      <td>1</td>\n",
       "      <td>0</td>\n",
       "      <td>...</td>\n",
       "      <td>1</td>\n",
       "      <td>0</td>\n",
       "      <td>0</td>\n",
       "      <td>1</td>\n",
       "      <td>0</td>\n",
       "      <td>0</td>\n",
       "      <td>1</td>\n",
       "      <td>1</td>\n",
       "      <td>1</td>\n",
       "      <td>200.000</td>\n",
       "    </tr>\n",
       "    <tr>\n",
       "      <th>8596</th>\n",
       "      <td>Da Nang</td>\n",
       "      <td>45 m²</td>\n",
       "      <td>0</td>\n",
       "      <td>0</td>\n",
       "      <td>0</td>\n",
       "      <td>0</td>\n",
       "      <td>0</td>\n",
       "      <td>0</td>\n",
       "      <td>0</td>\n",
       "      <td>0</td>\n",
       "      <td>...</td>\n",
       "      <td>0</td>\n",
       "      <td>0</td>\n",
       "      <td>0</td>\n",
       "      <td>0</td>\n",
       "      <td>0</td>\n",
       "      <td>1</td>\n",
       "      <td>0</td>\n",
       "      <td>0</td>\n",
       "      <td>0</td>\n",
       "      <td>1.640.000</td>\n",
       "    </tr>\n",
       "    <tr>\n",
       "      <th>10487</th>\n",
       "      <td>Da Nang</td>\n",
       "      <td>18 m²</td>\n",
       "      <td>1</td>\n",
       "      <td>0</td>\n",
       "      <td>0</td>\n",
       "      <td>0</td>\n",
       "      <td>1</td>\n",
       "      <td>1</td>\n",
       "      <td>1</td>\n",
       "      <td>0</td>\n",
       "      <td>...</td>\n",
       "      <td>0</td>\n",
       "      <td>0</td>\n",
       "      <td>0</td>\n",
       "      <td>0</td>\n",
       "      <td>0</td>\n",
       "      <td>0</td>\n",
       "      <td>0</td>\n",
       "      <td>0</td>\n",
       "      <td>0</td>\n",
       "      <td>399.000</td>\n",
       "    </tr>\n",
       "    <tr>\n",
       "      <th>10592</th>\n",
       "      <td>Da Nang</td>\n",
       "      <td>Điều hòa không khí</td>\n",
       "      <td>1</td>\n",
       "      <td>1</td>\n",
       "      <td>0</td>\n",
       "      <td>0</td>\n",
       "      <td>1</td>\n",
       "      <td>1</td>\n",
       "      <td>1</td>\n",
       "      <td>0</td>\n",
       "      <td>...</td>\n",
       "      <td>1</td>\n",
       "      <td>0</td>\n",
       "      <td>0</td>\n",
       "      <td>0</td>\n",
       "      <td>0</td>\n",
       "      <td>0</td>\n",
       "      <td>0</td>\n",
       "      <td>0</td>\n",
       "      <td>0</td>\n",
       "      <td>200.000</td>\n",
       "    </tr>\n",
       "    <tr>\n",
       "      <th>12423</th>\n",
       "      <td>Da Lat</td>\n",
       "      <td>Phòng tắm riêng trong phòng</td>\n",
       "      <td>1</td>\n",
       "      <td>0</td>\n",
       "      <td>0</td>\n",
       "      <td>0</td>\n",
       "      <td>1</td>\n",
       "      <td>1</td>\n",
       "      <td>0</td>\n",
       "      <td>0</td>\n",
       "      <td>...</td>\n",
       "      <td>0</td>\n",
       "      <td>0</td>\n",
       "      <td>0</td>\n",
       "      <td>0</td>\n",
       "      <td>0</td>\n",
       "      <td>0</td>\n",
       "      <td>0</td>\n",
       "      <td>0</td>\n",
       "      <td>0</td>\n",
       "      <td>630.000</td>\n",
       "    </tr>\n",
       "  </tbody>\n",
       "</table>\n",
       "<p>10 rows × 113 columns</p>\n",
       "</div>"
      ],
      "text/plain": [
       "                 City                    Diện tích  \\\n",
       "8979          Da Nang                        37 m²   \n",
       "2286   TP.Ho Chi Minh                        28 m²   \n",
       "8594          Da Nang                        30 m²   \n",
       "2646   TP.Ho Chi Minh                        30 m²   \n",
       "8308          Da Nang                        35 m²   \n",
       "12519          Da Lat                     Ban công   \n",
       "8596          Da Nang                        45 m²   \n",
       "10487         Da Nang                        18 m²   \n",
       "10592         Da Nang           Điều hòa không khí   \n",
       "12423          Da Lat  Phòng tắm riêng trong phòng   \n",
       "\n",
       "       Đồ vệ sinh cá nhân miễn phí  Vòi sen  Áo choàng tắm  Két an toàn  \\\n",
       "8979                             1         0                 0              0   \n",
       "2286                             1         0                 0              1   \n",
       "8594                             1         0                 0              1   \n",
       "2646                             0         0                 0              0   \n",
       "8308                             1         0                 1              1   \n",
       "12519                            1         0                 0              0   \n",
       "8596                             0         0                 0              0   \n",
       "10487                            1         0                 0              0   \n",
       "10592                            1         1                 0              0   \n",
       "12423                            1         0                 0              0   \n",
       "\n",
       "       Nhà vệ sinh  Khăn tắm  Bàn làm việc  Khu vực tiếp khách  ...  \\\n",
       "8979             1         1                1                      1  ...   \n",
       "2286             1         1                1                      0  ...   \n",
       "8594             1         1                1                      1  ...   \n",
       "2646             1         1                0                      0  ...   \n",
       "8308             1         1                1                      0  ...   \n",
       "12519            0         1                1                      0  ...   \n",
       "8596             0         0                0                      0  ...   \n",
       "10487            1         1                1                      0  ...   \n",
       "10592            1         1                1                      0  ...   \n",
       "12423            1         1                0                      0  ...   \n",
       "\n",
       "       Đài radio  Khu vực ăn uống ngoài trời  Phòng xông hơi  Toilet chung  \\\n",
       "8979           0                           0               0             0   \n",
       "2286           1                           0               0             0   \n",
       "8594           0                           0               0             0   \n",
       "2646           0                           0               0             0   \n",
       "8308           1                           0               0             0   \n",
       "12519          1                           0               0             1   \n",
       "8596           0                           0               0             0   \n",
       "10487          0                           0               0             0   \n",
       "10592          1                           0               0             0   \n",
       "12423          0                           0               0             0   \n",
       "\n",
       "       Bàn ghế ngoài trời  Bể sục  Hồ bơi riêng  Sân trong  \\\n",
       "8979                    0         0             0          0   \n",
       "2286                    0         0             0          0   \n",
       "8594                    1         1             0          0   \n",
       "2646                    0         0             0          0   \n",
       "8308                    0         0             0          0   \n",
       "12519                   0         0             1          1   \n",
       "8596                    0         1             0          0   \n",
       "10487                   0         0             0          0   \n",
       "10592                   0         0             0          0   \n",
       "12423                   0         0             0          0   \n",
       "\n",
       "       Hướng nhìn sân trong      price  \n",
       "8979                      0    790.020  \n",
       "2286                      0    882.000  \n",
       "8594                      0  1.148.000  \n",
       "2646                      0    712.614  \n",
       "8308                      0    617.760  \n",
       "12519                     1    200.000  \n",
       "8596                      0  1.640.000  \n",
       "10487                     0    399.000  \n",
       "10592                     0    200.000  \n",
       "12423                     0    630.000  \n",
       "\n",
       "[10 rows x 113 columns]"
      ]
     },
     "execution_count": 7,
     "metadata": {},
     "output_type": "execute_result"
    }
   ],
   "source": [
    "data_df = pd.read_csv('../datasets/full_data.csv')\n",
    "data_df.sample(n=10)"
   ]
  },
  {
   "cell_type": "markdown",
   "metadata": {},
   "source": [
    "### Dữ liệu có bao nhiêu dòng và bao nhiêu cột?"
   ]
  },
  {
   "cell_type": "code",
   "execution_count": 6,
   "metadata": {},
   "outputs": [
    {
     "data": {
      "text/plain": [
       "(14316, 113)"
      ]
     },
     "execution_count": 6,
     "metadata": {},
     "output_type": "execute_result"
    }
   ],
   "source": [
    "data_df.shape"
   ]
  },
  {
   "cell_type": "markdown",
   "metadata": {},
   "source": [
    "### Mỗi dòng có ý nghĩa gì? Có vấn đề các dòng có ý nghĩa khác nhau không?"
   ]
  },
  {
   "cell_type": "markdown",
   "metadata": {},
   "source": [
    "Quan sát sơ qua thì ta thấy mỗi dòng chứa thông tin của một chỗ ở. Mà cụ thể hơn, do dữ liệu được nhóm em cào nên đó là chỗ ở cho thuê cho 2 người, trong 1 ngày 1 đêm, được cào trong giai đoạn từ ngày ... đến ngày.\n",
    "\n",
    "Nhìn sơ qua (bằng cách chạy `data_df.sample()` nhiều lần) thì thấy có vẻ có một số dòng bị vấn đề ở cột \"Diện tích\". Cụ thể, thay vì chứa thông tin về \"x m²\" thì sẽ là \"Phòng tắm riêng trong phòng\", \"Ban công\", \"Điều hòa không khí\",... \n",
    "\n",
    "Có thể đây là lỗi gặp phải trong quá trình nhóm em cào tự động, những dòng này cần phải được loại bỏ."
   ]
  },
  {
   "cell_type": "code",
   "execution_count": 8,
   "metadata": {},
   "outputs": [],
   "source": [
    "data_df.drop(data_df[data_df['Diện tích'].str.find('m²') == -1].index,inplace=True)"
   ]
  },
  {
   "cell_type": "code",
   "execution_count": 9,
   "metadata": {},
   "outputs": [
    {
     "data": {
      "text/plain": [
       "(13397, 113)"
      ]
     },
     "execution_count": 9,
     "metadata": {},
     "output_type": "execute_result"
    }
   ],
   "source": [
    "data_df.shape"
   ]
  },
  {
   "cell_type": "markdown",
   "metadata": {},
   "source": [
    "### Dữ liệu có các dòng bị lặp không?"
   ]
  },
  {
   "cell_type": "code",
   "execution_count": 10,
   "metadata": {},
   "outputs": [
    {
     "data": {
      "text/plain": [
       "0"
      ]
     },
     "execution_count": 10,
     "metadata": {},
     "output_type": "execute_result"
    }
   ],
   "source": [
    "data_df.index.duplicated().sum()"
   ]
  },
  {
   "cell_type": "markdown",
   "metadata": {},
   "source": [
    "### Mỗi cột có ý nghĩa gì?"
   ]
  },
  {
   "cell_type": "markdown",
   "metadata": {},
   "source": [
    "Vì hầu hết thông tin trên booking.com đều đã được dịch sang Tiếng Việt nên các cột nhìn vào có thể hiểu được nó chứa thông tin về gì. Ngoài thông tin về \"price\", \"City\", \"Diện tích\" thì các thông tin còn lại của booking đều hiển thị dưới dạng: 1 - có, 0 - không. Nên dữ liệu ở các cột còn lại đều là thuộc loại binary."
   ]
  },
  {
   "cell_type": "code",
   "execution_count": 11,
   "metadata": {},
   "outputs": [
    {
     "data": {
      "text/plain": [
       "['City',\n",
       " 'Diện tích',\n",
       " 'Đồ vệ sinh cá nhân miễn phí',\n",
       " 'Vòi sen',\n",
       " 'Áo choàng tắm',\n",
       " 'Két an toàn',\n",
       " 'Nhà vệ sinh',\n",
       " 'Khăn tắm',\n",
       " 'Bàn làm việc',\n",
       " 'Khu vực tiếp khách',\n",
       " 'TV',\n",
       " 'Dép',\n",
       " 'Tủ lạnh',\n",
       " 'Điện thoại',\n",
       " 'Hệ thống sưởi',\n",
       " 'Máy sấy tóc',\n",
       " 'Sàn trải thảm',\n",
       " 'Ấm đun nước điện',\n",
       " 'Truyền hình cáp',\n",
       " 'Dịch vụ báo thức',\n",
       " 'Tủ hoặc phòng để quần áo',\n",
       " 'Giá treo quần áo',\n",
       " 'Nhìn ra thành phố',\n",
       " 'Bồn tắm',\n",
       " 'Điều hòa không khí',\n",
       " 'Phòng tắm riêng',\n",
       " 'TV màn hình phẳng',\n",
       " 'Hệ thống cách âm',\n",
       " 'Minibar',\n",
       " 'WiFi miễn phí',\n",
       " 'Ghế sofa',\n",
       " 'Máy fax',\n",
       " 'Phòng thay quần áo',\n",
       " 'Nhìn ra hồ bơi',\n",
       " 'Bếp',\n",
       " 'Máy giặt',\n",
       " 'Bồn tắm hoặc Vòi sen',\n",
       " 'Đồng hồ báo thức',\n",
       " 'Bàn ăn',\n",
       " 'Bồn tắm spa',\n",
       " 'Ổ điện gần giường',\n",
       " 'Toilet phụ',\n",
       " 'Dịch vụ báo thức',\n",
       " 'Giấy vệ sinh',\n",
       " 'Phòng tắm riêng trong phòng',\n",
       " 'Tiện nghi ủi',\n",
       " 'Giường cực dài (> 2 mét)',\n",
       " 'Bếp nhỏ',\n",
       " 'Khu vực phòng ăn',\n",
       " 'Tầm nhìn ra khung cảnh',\n",
       " 'Truyền hình vệ tinh',\n",
       " 'Bàn ủi',\n",
       " 'Ban công',\n",
       " 'Nhìn ra sông',\n",
       " 'Quyền sử dụng Executive Lounge',\n",
       " 'Sàn lát gỗ',\n",
       " 'Ra trải giường',\n",
       " 'Không gây dị ứng',\n",
       " 'Máy pha trà/cà phê',\n",
       " 'Khăn tắm/Bộ khăn trải giường (có thu phí)',\n",
       " 'Máy sấy quần áo',\n",
       " 'Nhìn ra địa danh nổi tiếng',\n",
       " 'Phòng tắm phụ',\n",
       " 'Có phòng thông nhau qua cửa nối',\n",
       " 'Chậu rửa vệ sinh (bidet)',\n",
       " 'Lối vào riêng',\n",
       " 'Các tầng trên đi lên bằng thang máy',\n",
       " 'Xe lăn có thể đi đến mọi nơi trong toàn bộ khuôn viên',\n",
       " 'Nhìn ra vườn',\n",
       " 'Máy vi tính',\n",
       " 'Giường sofa',\n",
       " 'Giá phơi quần áo',\n",
       " 'Két an toàn cỡ laptop',\n",
       " 'Giường xếp',\n",
       " 'Quạt máy',\n",
       " 'Chăn điện',\n",
       " 'Sản phẩm lau rửa',\n",
       " 'Ghế cao dành cho trẻ em',\n",
       " 'Cửa an toàn cho trẻ nhỏ',\n",
       " 'Máy pha Cà phê',\n",
       " 'Sàn lát gạch/đá cẩm thạch',\n",
       " 'Bàn ủi li quần',\n",
       " 'Hoàn toàn nằm ở tầng trệt',\n",
       " 'Các tầng trên chỉ lên được bằng cầu thang',\n",
       " 'Nắp che ổ cắm điện an toàn',\n",
       " 'Đồ bếp',\n",
       " 'Đầu đĩa CD',\n",
       " 'Máy điều hòa độc lập cho từng phòng',\n",
       " 'Nước rửa tay',\n",
       " 'Đầu đĩa DVD',\n",
       " 'Hồ bơi trên sân thượng',\n",
       " 'Ổ cắm cho iPod',\n",
       " 'Hồ bơi có tầm nhìn',\n",
       " 'Trò chơi board game/giải đố',\n",
       " 'Sách',\n",
       " ' đĩa DVD và nhạc cho trẻ em',\n",
       " 'Có lắp đặt máy lọc không khí',\n",
       " 'Thiết bị báo carbon monoxide',\n",
       " 'Lò vi sóng',\n",
       " 'Máy nướng bánh mỳ',\n",
       " 'Lò sưởi',\n",
       " 'Lò nướng',\n",
       " 'Bếp nấu',\n",
       " 'Đài radio',\n",
       " 'Khu vực ăn uống ngoài trời',\n",
       " 'Phòng xông hơi',\n",
       " 'Toilet chung',\n",
       " 'Bàn ghế ngoài trời',\n",
       " 'Bể sục',\n",
       " 'Hồ bơi riêng',\n",
       " 'Sân trong',\n",
       " 'Hướng nhìn sân trong',\n",
       " 'price']"
      ]
     },
     "execution_count": 11,
     "metadata": {},
     "output_type": "execute_result"
    }
   ],
   "source": [
    "list(data_df.columns)"
   ]
  },
  {
   "cell_type": "code",
   "execution_count": 19,
   "metadata": {
    "collapsed": true,
    "jupyter": {
     "outputs_hidden": true
    }
   },
   "outputs": [
    {
     "name": "stdout",
     "output_type": "stream",
     "text": [
      "[0 1]\n",
      "[0 1]\n",
      "[0 1]\n",
      "[0 1]\n",
      "[0 1]\n",
      "[1 0]\n",
      "[0 1]\n",
      "[1 0]\n",
      "[0 1]\n",
      "[1 0]\n",
      "[0 1]\n",
      "[0 1]\n",
      "[0 1]\n",
      "[0 1]\n",
      "[0 1]\n",
      "[1 0]\n",
      "[0 1]\n",
      "[1 0]\n",
      "[1 0]\n",
      "[1 0]\n",
      "[1 0]\n",
      "[0 1]\n",
      "[0 1]\n",
      "[0 1]\n",
      "[0 1]\n",
      "[0 1]\n",
      "[0 1]\n",
      "[0 1]\n",
      "[0 1]\n",
      "[1 0]\n",
      "[1 0]\n",
      "[0 1]\n",
      "[1 0]\n",
      "[0 1]\n",
      "[1 0]\n",
      "[1 0]\n",
      "[1 0]\n",
      "[0 1]\n",
      "[0 1]\n",
      "[0 1]\n",
      "[0 1]\n",
      "[0 1]\n",
      "[1 0]\n",
      "[0 1]\n",
      "[0 1]\n",
      "[1 0]\n",
      "[0 1]\n",
      "[0 1]\n",
      "[1 0]\n",
      "[0 1]\n",
      "[0 1]\n",
      "[0 1]\n",
      "[1 0]\n",
      "[0 1]\n",
      "[0 1]\n",
      "[0 1]\n",
      "[0 1]\n",
      "[0 1]\n",
      "[1 0]\n",
      "[0 1]\n",
      "[0 1]\n",
      "[0 1]\n",
      "[1 0]\n",
      "[0 1]\n",
      "[1 0]\n",
      "[0 1]\n",
      "[0 1]\n",
      "[0 1]\n",
      "[0 1]\n",
      "[0 1]\n",
      "[0 1]\n",
      "[0 1]\n",
      "[0 1]\n",
      "[1 0]\n",
      "[0 1]\n",
      "[0 1]\n",
      "[0 1]\n",
      "[1 0]\n",
      "[1 0]\n",
      "[0 1]\n",
      "[0 1]\n",
      "[0 1]\n",
      "[0 1]\n",
      "[0 1]\n",
      "[0 1]\n",
      "[1 0]\n",
      "[0 1]\n",
      "[0 1]\n",
      "[0 1]\n",
      "[0 1]\n",
      "[0 1]\n",
      "[0 1]\n",
      "[0 1]\n",
      "[0 1]\n",
      "[0 1]\n",
      "[0 1]\n",
      "[0 1]\n",
      "[0 1]\n",
      "[0 1]\n",
      "[0 1]\n",
      "[1 0]\n",
      "[0 1]\n",
      "[1 0]\n",
      "[0 1]\n",
      "[0 1]\n",
      "[0 1]\n",
      "[1 0]\n",
      "[0 1]\n",
      "[0 1]\n",
      "[0 1]\n"
     ]
    }
   ],
   "source": [
    "for col in set(data_df.columns) - set([\"price\", \"City\", \"Diện tích\"]):\n",
    "    print(data_df[col].unique())"
   ]
  },
  {
   "cell_type": "markdown",
   "metadata": {},
   "source": [
    "---"
   ]
  },
  {
   "cell_type": "markdown",
   "metadata": {},
   "source": [
    "## Đưa ra câu hỏi cần trả lời"
   ]
  },
  {
   "cell_type": "markdown",
   "metadata": {},
   "source": [
    "Với dữ liệu này, nhóm em đã xác định từ đầu cột output sẽ là \"price\" - Bài toán regression. Do đó, câu hỏi cần được trả lời sẽ là:\n",
    "\n",
    "*Output - giá thuê chỗ ở (cho 2 người, trong 1 ngày 1 đêm, đơn vị: VNĐ) -* được tính từ *input - các thông tin của chỗ ở* theo công thức nào?\n",
    "\n",
    "Việc tìm ra câu trả lời cho câu hỏi này góp phần nào tham khảo vào quá trình đưa ra quyết định cho cả 2 phía: bên cho thuê và bên thuê chỗ du lịch. Bên cho thuê có thể dựa vào đó để đưa ra giá tiền thuê sao cho phù hợp với thị trường, dựa trên những tiêu chí/ thông tin của tài sản. Cũng như cần chuẩn bị những tiêu chí gì để \"tối ưu\" giá cho thuê lên. Ngược lại, bên đi thuê sẽ dựa theo các tiêu chí mình cần để chuẩn bị ngân sách cho chỗ ở khi du lịch... \n",
    "\n",
    "Ở giai đoạn này, thông tin của chỗ ở - input sẽ cần được lọc bớt. Vì hiện tại dữ liệu có khá nhiều cột và nhóm cảm thấy một số cột là không cần thiết/ không ảnh hưởng tới output (ít nhất là với góc độ của thị trường Việt Nam).  "
   ]
  },
  {
   "cell_type": "code",
   "execution_count": 20,
   "metadata": {},
   "outputs": [
    {
     "data": {
      "text/plain": [
       "(13397, 102)"
      ]
     },
     "execution_count": 20,
     "metadata": {},
     "output_type": "execute_result"
    }
   ],
   "source": [
    "drop_cols = ['Không gây dị ứng','Dịch vụ báo thức', 'Lối vào riêng', 'Chăn điện', 'Sản phẩm lau rửa',  'Đầu đĩa CD',  'Đầu đĩa DVD', ' đĩa DVD và nhạc cho trẻ em', 'Thiết bị báo carbon monoxide', 'Đài radio', 'Dịch vụ báo thức']\n",
    "data_df.drop(drop_cols, axis=1, inplace=True)\n",
    "data_df.shape"
   ]
  },
  {
   "cell_type": "markdown",
   "metadata": {},
   "source": [
    "---"
   ]
  },
  {
   "cell_type": "markdown",
   "metadata": {},
   "source": [
    "## Khám phá dữ liệu (để biết tách các tập) + tiền xử lý"
   ]
  },
  {
   "cell_type": "markdown",
   "metadata": {},
   "source": [
    "Ở bước này, dữ liệu ở cột output cần được khám phá một ít để phục vụ cho việc tách tập:\n"
   ]
  },
  {
   "cell_type": "markdown",
   "metadata": {},
   "source": [
    "* Cột output có kiểu dữ liệu gì? "
   ]
  },
  {
   "cell_type": "code",
   "execution_count": 21,
   "metadata": {},
   "outputs": [
    {
     "data": {
      "text/plain": [
       "dtype('O')"
      ]
     },
     "execution_count": 21,
     "metadata": {},
     "output_type": "execute_result"
    }
   ],
   "source": [
    "# Cột output có kiểu dữ liệu gì?\n",
    "data_df['price'].dtype"
   ]
  },
  {
   "cell_type": "markdown",
   "metadata": {},
   "source": [
    "Là kiểu object - string. Cột này cần được tiền xử lý, chuyển sang dạng số vì là bài toán regression. Ngoài ra cần bỏ luôn \"m²\" và những dấu \",\" trong đó."
   ]
  },
  {
   "cell_type": "code",
   "execution_count": 24,
   "metadata": {},
   "outputs": [
    {
     "data": {
      "text/plain": [
       "dtype('int64')"
      ]
     },
     "execution_count": 24,
     "metadata": {},
     "output_type": "execute_result"
    }
   ],
   "source": [
    "data_df['price'] = data_df['price'].str.replace('.', '')\n",
    "data_df['price'] = pd.to_numeric(data_df['price'],errors='coerce')\n",
    "data_df['price'].dtype"
   ]
  },
  {
   "cell_type": "markdown",
   "metadata": {},
   "source": [
    "* Cột này có giá trị thiếu không?"
   ]
  },
  {
   "cell_type": "code",
   "execution_count": 25,
   "metadata": {},
   "outputs": [
    {
     "data": {
      "text/plain": [
       "0"
      ]
     },
     "execution_count": 25,
     "metadata": {},
     "output_type": "execute_result"
    }
   ],
   "source": [
    "data_df['price'].isna().sum()"
   ]
  },
  {
   "cell_type": "markdown",
   "metadata": {},
   "source": [
    "---"
   ]
  },
  {
   "cell_type": "markdown",
   "metadata": {},
   "source": [
    "## Tiền xử lý (tách các tập)"
   ]
  },
  {
   "cell_type": "markdown",
   "metadata": {},
   "source": [
    "Sau khi đã khám phá và tiền xử lý 1 ít với dữ liệu, thì bây giờ là lúc tách tập test và validation ra khỏi dữ liệu."
   ]
  },
  {
   "cell_type": "code",
   "execution_count": 26,
   "metadata": {},
   "outputs": [],
   "source": [
    "# Tách X và y\n",
    "y_sr = data_df[\"price\"] # sr là viết tắt của series\n",
    "X_df = data_df.drop(\"price\", axis=1)"
   ]
  },
  {
   "cell_type": "code",
   "execution_count": 27,
   "metadata": {},
   "outputs": [],
   "source": [
    "# Tách tập huấn luyện và tập test theo tỉ lệ 80%:20%\n",
    "train_X_df, test_X_df, train_y_sr, test_y_sr = train_test_split(X_df, y_sr, test_size=0.2, \n",
    "                                                                  random_state=0)\n",
    "# Tiếp tục từ tập huấn luyện tách ra tập huấn luyện và tập validation 80%:20%\n",
    "train_X_df, val_X_df, train_y_sr, val_y_sr = train_test_split(X_df, y_sr, test_size=0.2, \n",
    "                                                                  random_state=0)\n",
    "                                                            "
   ]
  },
  {
   "cell_type": "code",
   "execution_count": 29,
   "metadata": {},
   "outputs": [
    {
     "data": {
      "text/plain": [
       "((10717, 101), (10717,))"
      ]
     },
     "execution_count": 29,
     "metadata": {},
     "output_type": "execute_result"
    }
   ],
   "source": [
    "train_X_df.shape, train_y_sr.shape"
   ]
  },
  {
   "cell_type": "code",
   "execution_count": 30,
   "metadata": {},
   "outputs": [
    {
     "data": {
      "text/plain": [
       "((2680, 101), (2680,))"
      ]
     },
     "execution_count": 30,
     "metadata": {},
     "output_type": "execute_result"
    }
   ],
   "source": [
    " val_X_df.shape, val_y_sr.shape"
   ]
  },
  {
   "cell_type": "code",
   "execution_count": 31,
   "metadata": {},
   "outputs": [
    {
     "data": {
      "text/plain": [
       "((2680, 101), (2680,))"
      ]
     },
     "execution_count": 31,
     "metadata": {},
     "output_type": "execute_result"
    }
   ],
   "source": [
    "test_X_df.shape, test_y_sr.shape"
   ]
  },
  {
   "cell_type": "markdown",
   "metadata": {},
   "source": [
    "---"
   ]
  },
  {
   "cell_type": "markdown",
   "metadata": {},
   "source": [
    "## Khám phá đữ liệu (tập huấn luyện)"
   ]
  },
  {
   "cell_type": "markdown",
   "metadata": {},
   "source": [
    "---"
   ]
  },
  {
   "cell_type": "markdown",
   "metadata": {},
   "source": [
    "## Tiền xử lý (tập huấn luyện)"
   ]
  },
  {
   "cell_type": "markdown",
   "metadata": {},
   "source": [
    "---"
   ]
  },
  {
   "cell_type": "markdown",
   "metadata": {},
   "source": [
    "## Tiền xử lý (tập validation)"
   ]
  },
  {
   "cell_type": "markdown",
   "metadata": {},
   "source": [
    "---"
   ]
  },
  {
   "cell_type": "markdown",
   "metadata": {},
   "source": [
    "## Tiền xử lý + mô hình hóa"
   ]
  }
 ],
 "metadata": {
  "jupytext": {
   "formats": "ipynb,md"
  },
  "kernelspec": {
   "display_name": "Python 3",
   "language": "python",
   "name": "python3"
  },
  "language_info": {
   "codemirror_mode": {
    "name": "ipython",
    "version": 3
   },
   "file_extension": ".py",
   "mimetype": "text/x-python",
   "name": "python",
   "nbconvert_exporter": "python",
   "pygments_lexer": "ipython3",
   "version": "3.8.5"
  }
 },
 "nbformat": 4,
 "nbformat_minor": 4
}
