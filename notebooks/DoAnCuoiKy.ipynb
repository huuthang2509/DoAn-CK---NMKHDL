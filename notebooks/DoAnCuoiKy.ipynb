{
 "cells": [
  {
   "cell_type": "markdown",
   "metadata": {},
   "source": [
    "# ĐỒ ÁN CUỐI KỲ (NMKHDL - CQ2018/2)\n",
    "### Giảng viên hướng dẫn: Thầy Trần Trung Kiên\n",
    "### Trợ giảng: Thầy Hoàng Xuân Trường\n",
    "\n",
    "__Thông tin nhóm__: \n",
    "\n",
    "* STT: 46\n",
    "\n",
    "* Họ và tên sinh viên: Nguyễn Hữu Huân - MSSV: 1712466\n",
    "\n",
    "* Họ và tên sinh viên: Đặng Hữu Thắng - MSSV: 18120555"
   ]
  },
  {
   "cell_type": "markdown",
   "metadata": {},
   "source": [
    "---"
   ]
  },
  {
   "cell_type": "markdown",
   "metadata": {},
   "source": [
    "## Import"
   ]
  },
  {
   "cell_type": "code",
   "execution_count": 1,
   "metadata": {},
   "outputs": [],
   "source": [
    "%matplotlib inline\n",
    "import matplotlib.pyplot as plt\n",
    "import seaborn as sns\n",
    "import pandas as pd\n",
    "import numpy as np\n",
    "\n",
    "from sklearn.model_selection import train_test_split\n",
    "from sklearn.preprocessing import OneHotEncoder, StandardScaler\n",
    "from sklearn.impute import SimpleImputer\n",
    "from sklearn.base import BaseEstimator, TransformerMixin\n",
    "from sklearn.pipeline import Pipeline, make_pipeline\n",
    "from sklearn.compose import ColumnTransformer, make_column_transformer\n",
    "\n",
    "from sklearn.neural_network import MLPRegressor\n",
    "from sklearn.ensemble import RandomForestRegressor\n",
    "from sklearn.svm import SVR\n",
    "from sklearn.ensemble import GradientBoostingRegressor\n",
    "from sklearn.model_selection import GridSearchCV\n",
    "from sklearn.compose import TransformedTargetRegressor\n",
    "from sklearn.metrics import mean_squared_error, mean_absolute_error\n",
    "\n",
    "\n",
    "from sklearn import set_config\n",
    "set_config(display='diagram') # Để trực quan hóa pipeline\n",
    "\n",
    "# Để show hết dòng, cột khi hiển thị\n",
    "pd.set_option('display.max_rows', None)\n",
    "pd.set_option('display.max_columns', None)\n",
    "\n",
    "# Để ẩn đi warnings :(\n",
    "import warnings\n",
    "warnings.filterwarnings('ignore')"
   ]
  },
  {
   "cell_type": "markdown",
   "metadata": {},
   "source": [
    "----"
   ]
  },
  {
   "cell_type": "markdown",
   "metadata": {},
   "source": [
    "## Thu thập dữ liệu"
   ]
  },
  {
   "cell_type": "markdown",
   "metadata": {},
   "source": [
    "Dữ liệu mà nhóm em dùng cho đồ án cuối kỳ được tự thu thập từ trang [Booking.com](https://booking.com) - Trang web về du lịch cung cấp dịch vụ đặt chỗ, đặt phòng khách sạn ở trực tuyến trên toàn thế giới. Dữ liệu nhóm em thu thập chứa thông tin về chỗ ở (bao gồm cả khách sạn, nhà nghỉ, homestay,..) ở 4 địa điểm du lịch của Việt Nam: Hà Nội, Đà Nẵng, Đà Lạt, Thành phố Hồ Chí Minh.\n",
    "\n",
    "Dữ liệu trên trang web này được phép thu thập, được mô tả cụ thể thông qua file robots.txt.\n",
    "\n",
    "Phần source code cho quá trình cào dữ liệu về  được lưu ở file notebook [crawl_data.ipynb](https://github.com/huuthang2509/DoAn-CK---NMKHDL/blob/master/notebooks/crawl_data.ipynb).\n",
    "\n",
    "Toàn bộ dữ liệu thô sau khi cào về lưu ở file: \"full_data.csv\"."
   ]
  },
  {
   "cell_type": "markdown",
   "metadata": {},
   "source": [
    "---"
   ]
  },
  {
   "cell_type": "markdown",
   "metadata": {},
   "source": [
    "## Khám phá dữ liệu (đủ để xác định câu hỏi) + tiền xử lý "
   ]
  },
  {
   "cell_type": "markdown",
   "metadata": {},
   "source": [
    "Do file \"full_data.csv\" là tất cả dữ liệu mà nhóm em tự cào được, nên nhóm sẽ cần khám phá một ít trên dữ liệu để đưa ra câu hỏi cần trả lời, sau đó tiến hành kiểm tra, làm sạch một vài vấn đề cơ bản (vì tất cả hoàn toàn là dữ liệu thô) và ngay lập tức tách tập validation và test ra khỏi dữ liệu. Như đã được thầy đề cập ở BT03, điều này để tránh hiểu quá sâu dữ liệu, làm mất đi tính khách quan khi đánh giá kết quả."
   ]
  },
  {
   "cell_type": "code",
   "execution_count": 2,
   "metadata": {},
   "outputs": [
    {
     "output_type": "execute_result",
     "data": {
      "text/plain": [
       "g thay quần áo  Nhìn ra hồ bơi  Bếp  Máy giặt  \\\n",
       "5132                       0               0     1           0   \n",
       "156                        0               0     0           0   \n",
       "2965                       0               0     0           0   \n",
       "1444                       1               0     0           0   \n",
       "5785                       0               0     0           0   \n",
       "8023                       1               0     1           0   \n",
       "10840                      0               0     0           0   \n",
       "12996                      1               0     0           0   \n",
       "950                        0               0     1           0   \n",
       "4192                       0               0     0           0   \n",
       "\n",
       "       Bồn tắm hoặc Vòi sen  Đồng hồ báo thức  Bàn ăn  Bồn tắm spa  \\\n",
       "5132                          1                 0       1            0   \n",
       "156                           0                 0       0            0   \n",
       "2965                          1                 0       0            0   \n",
       "1444                          0                 0       1            0   \n",
       "5785                          0                 0       0            0   \n",
       "8023                          1                 0       0            0   \n",
       "10840                         1                 0       0            0   \n",
       "12996                         0                 0       0            0   \n",
       "950                           1                 0       1            0   \n",
       "4192                          1                 1       1            0   \n",
       "\n",
       "       Ổ điện gần giường  Toilet phụ  Dịch vụ báo thức  Giấy vệ sinh  \\\n",
       "5132                   1           0                   0             1   \n",
       "156                    1           1                   1             1   \n",
       "2965                   1           0                   1             1   \n",
       "1444                   1           0                   1             1   \n",
       "5785                   0           0                   0             1   \n",
       "8023                   1           0                   1             1   \n",
       "10840                  0           1                   0             1   \n",
       "12996                  1           0                   0             1   \n",
       "950                    1           0                   0             1   \n",
       "4192                   0           0                   0             1   \n",
       "\n",
       "       Phòng tắm riêng trong phòng  Tiện nghi ủi  \\\n",
       "5132                             0               1   \n",
       "156                              1               0   \n",
       "2965                             1               0   \n",
       "1444                             0               1   \n",
       "5785                             1               0   \n",
       "8023                             1               1   \n",
       "10840                            0               0   \n",
       "12996                            0               0   \n",
       "950                              0               1   \n",
       "4192                             1               0   \n",
       "\n",
       "       Giường cực dài (> 2 mét)  Bếp nhỏ  Khu vực phòng ăn  \\\n",
       "5132                              0          1                 1   \n",
       "156                               0          1                 0   \n",
       "2965                              0          0                 0   \n",
       "1444                              0          0                 0   \n",
       "5785                              0          0                 0   \n",
       "8023                              0          1                 1   \n",
       "10840                             0          0                 0   \n",
       "12996                             0          0                 0   \n",
       "950                               0          1                 1   \n",
       "4192                              0          0                 0   \n",
       "\n",
       "       Tầm nhìn ra khung cảnh  Truyền hình vệ tinh  Bàn ủi  Ban công  \\\n",
       "5132                        0                       0         0         1   \n",
       "156                         0                       1         0         0   \n",
       "2965                        0                       0         0         0   \n",
       "1444                        0                       0         1         1   \n",
       "5785                        1                       0         0         0   \n",
       "8023                        0                       1         1         0   \n",
       "10840                       0                       0         0         1   \n",
       "12996                       1                       0         0         1   \n",
       "950                         0                       1         1         1   \n",
       "4192                        0                       0         0         1   \n",
       "\n",
       "       Nhìn ra sông  Quyền sử dụng Executive Lounge  Sàn lát gỗ  \\\n",
       "5132              0                               0           1   \n",
       "156               0                               0           1   \n",
       "2965              0                               0           1   \n",
       "1444              0                               0           1   \n",
       "5785              0                               0           0   \n",
       "8023              0                               0           1   \n",
       "10840             0                               0           0   \n",
       "12996             0                               0           0   \n",
       "950               0                               0           1   \n",
       "4192              0                               0           1   \n",
       "\n",
       "       Ra trải giường  Không gây dị ứng  Máy pha trà/cà phê  \\\n",
       "5132                1                 0                   0   \n",
       "156                 0                 1                   1   \n",
       "2965                1                 1                   0   \n",
       "1444                1                 1                   0   \n",
       "5785                0                 0                   0   \n",
       "8023                0                 0                   1   \n",
       "10840               0                 0                   0   \n",
       "12996               0                 0                   0   \n",
       "950                 1                 0                   0   \n",
       "4192                0                 0                   1   \n",
       "\n",
       "       Khăn tắm/Bộ khăn trải giường (có thu phí)  Máy sấy quần áo  \\\n",
       "5132                                           0                0   \n",
       "156                                            0                0   \n",
       "2965                                           0                0   \n",
       "1444                                           1                0   \n",
       "5785                                           0                0   \n",
       "8023                                           0                1   \n",
       "10840                                          0                0   \n",
       "12996                                          0                0   \n",
       "950                                            1                0   \n",
       "4192                                           0                1   \n",
       "\n",
       "       Nhìn ra địa danh nổi tiếng  Phòng tắm phụ  \\\n",
       "5132                            0              0   \n",
       "156                             0              1   \n",
       "2965                            0              0   \n",
       "1444                            0              0   \n",
       "5785                            0              0   \n",
       "8023                            0              0   \n",
       "10840                           0              0   \n",
       "12996                           0              0   \n",
       "950                             0              0   \n",
       "4192                            0              0   \n",
       "\n",
       "       Có phòng thông nhau qua cửa nối  Chậu rửa vệ sinh (bidet)  \\\n",
       "5132                                 0                           0   \n",
       "156                                  0                           0   \n",
       "2965                                 0                           1   \n",
       "1444                                 0                           1   \n",
       "5785                                 0                           0   \n",
       "8023                                 0                           0   \n",
       "10840                                0                           0   \n",
       "12996                                0                           0   \n",
       "950                                  0                           0   \n",
       "4192                                 0                           0   \n",
       "\n",
       "       Lối vào riêng  Các tầng trên đi lên bằng thang máy  \\\n",
       "5132               0                                    0   \n",
       "156                1                                    1   \n",
       "2965               0                                    1   \n",
       "1444               1                                    1   \n",
       "5785               0                                    0   \n",
       "8023               0                                    1   \n",
       "10840              0                                    0   \n",
       "12996              0                                    0   \n",
       "950                1                                    0   \n",
       "4192               0                                    0   \n",
       "\n",
       "       Xe lăn có thể đi đến mọi nơi trong toàn bộ khuôn viên  Nhìn ra vườn  \\\n",
       "5132                                                   0                 0   \n",
       "156                                                    1                 0   \n",
       "2965                                                   0                 0   \n",
       "1444                                                   1                 0   \n",
       "5785                                                   0                 0   \n",
       "8023                                                   1                 0   \n",
       "10840                                                  0                 1   \n",
       "12996                                                  0                 0   \n",
       "950                                                    0                 0   \n",
       "4192                                                   0                 0   \n",
       "\n",
       "       Máy vi tính  Giường sofa  Giá phơi quần áo  Két an toàn cỡ laptop  \\\n",
       "5132             0            0                 0                      0   \n",
       "156              0            1                 0                      0   \n",
       "2965             0            0                 0                      1   \n",
       "1444             0            0                 0                      0   \n",
       "5785             0            0                 0                      0   \n",
       "8023             0            1                 1                      0   \n",
       "10840            0            0                 0                      0   \n",
       "12996            0            0                 0                      0   \n",
       "950              0            1                 1                      0   \n",
       "4192             0            0                 0                      0   \n",
       "\n",
       "       Giường xếp  Quạt máy  Chăn điện  Sản phẩm lau rửa  \\\n",
       "5132            0           1          0                 1   \n",
       "156             0           1          0                 0   \n",
       "2965            0           0          0                 1   \n",
       "1444            0           0          0                 0   \n",
       "5785            0           0          0                 0   \n",
       "8023            0           0          0                 0   \n",
       "10840           0           1          0                 0   \n",
       "12996           0           0          0                 0   \n",
       "950             1           1          0                 1   \n",
       "4192            0           0          0                 0   \n",
       "\n",
       "       Ghế cao dành cho trẻ em  Cửa an toàn cho trẻ nhỏ  Máy pha Cà phê  \\\n",
       "5132                         0                        0               0   \n",
       "156                          0                        0               0   \n",
       "2965                         0                        0               0   \n",
       "1444                         0                        0               0   \n",
       "5785                         0                        0               0   \n",
       "8023                         0                        1               0   \n",
       "10840                        0                        0               0   \n",
       "12996                        0                        0               0   \n",
       "950                          1                        0               0   \n",
       "4192                         0                        0               0   \n",
       "\n",
       "       Sàn lát gạch/đá cẩm thạch  Bàn ủi li quần  \\\n",
       "5132                           0                  0   \n",
       "156                            1                  0   \n",
       "2965                           0                  0   \n",
       "1444                           0                  0   \n",
       "5785                           0                  0   \n",
       "8023                           1                  1   \n",
       "10840                          1                  0   \n",
       "12996                          0                  0   \n",
       "950                            1                  0   \n",
       "4192                           0                  0   \n",
       "\n",
       "       Hoàn toàn nằm ở tầng trệt  Các tầng trên chỉ lên được bằng cầu thang  \\\n",
       "5132                           0                                          1   \n",
       "156                            0                                          0   \n",
       "2965                           0                                          0   \n",
       "1444                           0                                          1   \n",
       "5785                           0                                          0   \n",
       "8023                           0                                          0   \n",
       "10840                          0                                          0   \n",
       "12996                          0                                          0   \n",
       "950                            0                                          1   \n",
       "4192                           0                                          0   \n",
       "\n",
       "       Nắp che ổ cắm điện an toàn  Đồ bếp  Đầu đĩa CD  \\\n",
       "5132                            0       1            0   \n",
       "156                             0       0            0   \n",
       "2965                            1       0            0   \n",
       "1444                            0       0            0   \n",
       "5785                            0       0            0   \n",
       "8023                            1       1            0   \n",
       "10840                           0       0            0   \n",
       "12996                           0       0            0   \n",
       "950                             0       1            0   \n",
       "4192                            0       0            0   \n",
       "\n",
       "       Máy điều hòa độc lập cho từng phòng  Nước rửa tay  Đầu đĩa DVD  \\\n",
       "5132                                     0             0              0   \n",
       "156                                      1             0              0   \n",
       "2965                                     0             0              0   \n",
       "1444                                     0             0              0   \n",
       "5785                                     0             0              0   \n",
       "8023                                     0             1              0   \n",
       "10840                                    0             0              0   \n",
       "12996                                    0             0              0   \n",
       "950                                      0             0              0   \n",
       "4192                                     0             0              0   \n",
       "\n",
       "       Hồ bơi trên sân thượng  Ổ cắm cho iPod  Hồ bơi có tầm nhìn  \\\n",
       "5132                        0               0                   0   \n",
       "156                         0               0                   0   \n",
       "2965                        0               0                   0   \n",
       "1444                        0               0                   0   \n",
       "5785                        0               0                   0   \n",
       "8023                        1               0                   1   \n",
       "10840                       0               0                   0   \n",
       "12996                       0               0                   0   \n",
       "950                         0               0                   0   \n",
       "4192                        0               0                   0   \n",
       "\n",
       "       Trò chơi board game/giải đố  Sách   đĩa DVD và nhạc cho trẻ em  \\\n",
       "5132                             0     0                            0   \n",
       "156                              0     0                            0   \n",
       "2965                             0     0                            0   \n",
       "1444                             0     0                            0   \n",
       "5785                             0     0                            0   \n",
       "8023                             0     0                            0   \n",
       "10840                            0     0                            0   \n",
       "12996                            0     0                            0   \n",
       "950                              0     0                            0   \n",
       "4192                             0     0                            0   \n",
       "\n",
       "       Có lắp đặt máy lọc không khí  Thiết bị báo carbon monoxide  \\\n",
       "5132                              0                             1   \n",
       "156                               0                             1   \n",
       "2965                              0                             0   \n",
       "1444                              0                             0   \n",
       "5785                              0                             0   \n",
       "8023                              1                             1   \n",
       "10840                             0                             0   \n",
       "12996                             0                             0   \n",
       "950                               0                             1   \n",
       "4192                              0                             0   \n",
       "\n",
       "       Lò vi sóng  Máy nướng bánh mỳ  Lò sưởi  Lò nướng  Bếp nấu  Đài radio  \\\n",
       "5132              0                  0        1         1        0          0   \n",
       "156               0                  0        0         0        0          0   \n",
       "2965              0                  0        0         0        0          0   \n",
       "1444              0                  0        0         0        0          0   \n",
       "5785              0                  0        0         0        0          0   \n",
       "8023              0                  0        0         0        0          0   \n",
       "10840             0                  0        0         0        0          0   \n",
       "12996             0                  0        0         0        0          0   \n",
       "950               0                  0        0         0        0          1   \n",
       "4192              0                  0        0         0        0          0   \n",
       "\n",
       "       Khu vực ăn uống ngoài trời  Phòng xông hơi  Toilet chung  \\\n",
       "5132                            0               0             0   \n",
       "156                             0               0             0   \n",
       "2965                            0               1             1   \n",
       "1444                            0               0             0   \n",
       "5785                            0               0             0   \n",
       "8023                            0               0             0   \n",
       "10840                           0               0             0   \n",
       "12996                           0               1             0   \n",
       "950                             0               0             1   \n",
       "4192                            0               0             0   \n",
       "\n",
       "       Bàn ghế ngoài trời  Bể sục  Hồ bơi riêng  Sân trong  \\\n",
       "5132                    0         0             0          0   \n",
       "156                     0         0             0          0   \n",
       "2965                    0         0             0          0   \n",
       "1444                    0         0             0          0   \n",
       "5785                    0         0             0          0   \n",
       "8023                    0         0             0          0   \n",
       "10840                   0         0             0          0   \n",
       "12996                   0         0             0          0   \n",
       "950                     1         0             1          0   \n",
       "4192                    0         0             0          0   \n",
       "\n",
       "       Hướng nhìn sân trong      price  \n",
       "5132                      0    330.000  \n",
       "156                       0  1.544.337  \n",
       "2965                      0    587.160  \n",
       "1444                      1    700.000  \n",
       "5785                      0  1.012.500  \n",
       "8023                      0    600.000  \n",
       "10840                     1  2.811.600  \n",
       "12996                     1    648.000  \n",
       "950                       1  2.268.000  \n",
       "4192                      0    588.099  "
      ],
      "text/html": "<div>\n<style scoped>\n    .dataframe tbody tr th:only-of-type {\n        vertical-align: middle;\n    }\n\n    .dataframe tbody tr th {\n        vertical-align: top;\n    }\n\n    .dataframe thead th {\n        text-align: right;\n    }\n</style>\n<table border=\"1\" class=\"dataframe\">\n  <thead>\n    <tr style=\"text-align: right;\">\n      <th></th>\n      <th>City</th>\n      <th>Diện tích</th>\n      <th>Đồ vệ sinh cá nhân miễn phí</th>\n      <th>Vòi sen</th>\n      <th>Áo choàng tắm</th>\n      <th>Két an toàn</th>\n      <th>Nhà vệ sinh</th>\n      <th>Khăn tắm</th>\n      <th>Bàn làm việc</th>\n      <th>Khu vực tiếp khách</th>\n      <th>TV</th>\n      <th>Dép</th>\n      <th>Tủ lạnh</th>\n      <th>Điện thoại</th>\n      <th>Hệ thống sưởi</th>\n      <th>Máy sấy tóc</th>\n      <th>Sàn trải thảm</th>\n      <th>Ấm đun nước điện</th>\n      <th>Truyền hình cáp</th>\n      <th>Dịch vụ báo thức</th>\n      <th>Tủ hoặc phòng để quần áo</th>\n      <th>Giá treo quần áo</th>\n      <th>Nhìn ra thành phố</th>\n      <th>Bồn tắm</th>\n      <th>Điều hòa không khí</th>\n      <th>Phòng tắm riêng</th>\n      <th>TV màn hình phẳng</th>\n      <th>Hệ thống cách âm</th>\n      <th>Minibar</th>\n      <th>WiFi miễn phí</th>\n      <th>Ghế sofa</th>\n      <th>Máy fax</th>\n      <th>Phòng thay quần áo</th>\n      <th>Nhìn ra hồ bơi</th>\n      <th>Bếp</th>\n      <th>Máy giặt</th>\n      <th>Bồn tắm hoặc Vòi sen</th>\n      <th>Đồng hồ báo thức</th>\n      <th>Bàn ăn</th>\n      <th>Bồn tắm spa</th>\n      <th>Ổ điện gần giường</th>\n      <th>Toilet phụ</th>\n      <th>Dịch vụ báo thức</th>\n      <th>Giấy vệ sinh</th>\n      <th>Phòng tắm riêng trong phòng</th>\n      <th>Tiện nghi ủi</th>\n      <th>Giường cực dài (&gt; 2 mét)</th>\n      <th>Bếp nhỏ</th>\n      <th>Khu vực phòng ăn</th>\n      <th>Tầm nhìn ra khung cảnh</th>\n      <th>Truyền hình vệ tinh</th>\n      <th>Bàn ủi</th>\n      <th>Ban công</th>\n      <th>Nhìn ra sông</th>\n      <th>Quyền sử dụng Executive Lounge</th>\n      <th>Sàn lát gỗ</th>\n      <th>Ra trải giường</th>\n      <th>Không gây dị ứng</th>\n      <th>Máy pha trà/cà phê</th>\n      <th>Khăn tắm/Bộ khăn trải giường (có thu phí)</th>\n      <th>Máy sấy quần áo</th>\n      <th>Nhìn ra địa danh nổi tiếng</th>\n      <th>Phòng tắm phụ</th>\n      <th>Có phòng thông nhau qua cửa nối</th>\n      <th>Chậu rửa vệ sinh (bidet)</th>\n      <th>Lối vào riêng</th>\n      <th>Các tầng trên đi lên bằng thang máy</th>\n      <th>Xe lăn có thể đi đến mọi nơi trong toàn bộ khuôn viên</th>\n      <th>Nhìn ra vườn</th>\n      <th>Máy vi tính</th>\n      <th>Giường sofa</th>\n      <th>Giá phơi quần áo</th>\n      <th>Két an toàn cỡ laptop</th>\n      <th>Giường xếp</th>\n      <th>Quạt máy</th>\n      <th>Chăn điện</th>\n      <th>Sản phẩm lau rửa</th>\n      <th>Ghế cao dành cho trẻ em</th>\n      <th>Cửa an toàn cho trẻ nhỏ</th>\n      <th>Máy pha Cà phê</th>\n      <th>Sàn lát gạch/đá cẩm thạch</th>\n      <th>Bàn ủi li quần</th>\n      <th>Hoàn toàn nằm ở tầng trệt</th>\n      <th>Các tầng trên chỉ lên được bằng cầu thang</th>\n      <th>Nắp che ổ cắm điện an toàn</th>\n      <th>Đồ bếp</th>\n      <th>Đầu đĩa CD</th>\n      <th>Máy điều hòa độc lập cho từng phòng</th>\n      <th>Nước rửa tay</th>\n      <th>Đầu đĩa DVD</th>\n      <th>Hồ bơi trên sân thượng</th>\n      <th>Ổ cắm cho iPod</th>\n      <th>Hồ bơi có tầm nhìn</th>\n      <th>Trò chơi board game/giải đố</th>\n      <th>Sách</th>\n      <th>đĩa DVD và nhạc cho trẻ em</th>\n      <th>Có lắp đặt máy lọc không khí</th>\n      <th>Thiết bị báo carbon monoxide</th>\n      <th>Lò vi sóng</th>\n      <th>Máy nướng bánh mỳ</th>\n      <th>Lò sưởi</th>\n      <th>Lò nướng</th>\n      <th>Bếp nấu</th>\n      <th>Đài radio</th>\n      <th>Khu vực ăn uống ngoài trời</th>\n      <th>Phòng xông hơi</th>\n      <th>Toilet chung</th>\n      <th>Bàn ghế ngoài trời</th>\n      <th>Bể sục</th>\n      <th>Hồ bơi riêng</th>\n      <th>Sân trong</th>\n      <th>Hướng nhìn sân trong</th>\n      <th>price</th>\n    </tr>\n  </thead>\n  <tbody>\n    <tr>\n      <th>5132</th>\n      <td>Ha Noi</td>\n      <td>30 m²</td>\n      <td>1</td>\n      <td>0</td>\n      <td>0</td>\n      <td>0</td>\n      <td>1</td>\n      <td>1</td>\n      <td>1</td>\n      <td>1</td>\n      <td>0</td>\n      <td>1</td>\n      <td>1</td>\n      <td>0</td>\n      <td>1</td>\n      <td>1</td>\n      <td>0</td>\n      <td>1</td>\n      <td>0</td>\n      <td>1</td>\n      <td>1</td>\n      <td>1</td>\n      <td>1</td>\n      <td>0</td>\n      <td>1</td>\n      <td>1</td>\n      <td>0</td>\n      <td>0</td>\n      <td>0</td>\n      <td>1</td>\n      <td>0</td>\n      <td>0</td>\n      <td>0</td>\n      <td>0</td>\n      <td>1</td>\n      <td>0</td>\n      <td>1</td>\n      <td>0</td>\n      <td>1</td>\n      <td>0</td>\n      <td>1</td>\n      <td>0</td>\n      <td>0</td>\n      <td>1</td>\n      <td>0</td>\n      <td>1</td>\n      <td>0</td>\n      <td>1</td>\n      <td>1</td>\n      <td>0</td>\n      <td>0</td>\n      <td>0</td>\n      <td>1</td>\n      <td>0</td>\n      <td>0</td>\n      <td>1</td>\n      <td>1</td>\n      <td>0</td>\n      <td>0</td>\n      <td>0</td>\n      <td>0</td>\n      <td>0</td>\n      <td>0</td>\n      <td>0</td>\n      <td>0</td>\n      <td>0</td>\n      <td>0</td>\n      <td>0</td>\n      <td>0</td>\n      <td>0</td>\n      <td>0</td>\n      <td>0</td>\n      <td>0</td>\n      <td>0</td>\n      <td>1</td>\n      <td>0</td>\n      <td>1</td>\n      <td>0</td>\n      <td>0</td>\n      <td>0</td>\n      <td>0</td>\n      <td>0</td>\n      <td>0</td>\n      <td>1</td>\n      <td>0</td>\n      <td>1</td>\n      <td>0</td>\n      <td>0</td>\n      <td>0</td>\n      <td>0</td>\n      <td>0</td>\n      <td>0</td>\n      <td>0</td>\n      <td>0</td>\n      <td>0</td>\n      <td>0</td>\n      <td>0</td>\n      <td>1</td>\n      <td>0</td>\n      <td>0</td>\n      <td>1</td>\n      <td>1</td>\n      <td>0</td>\n      <td>0</td>\n      <td>0</td>\n      <td>0</td>\n      <td>0</td>\n      <td>0</td>\n      <td>0</td>\n      <td>0</td>\n      <td>0</td>\n      <td>0</td>\n      <td>330.000</td>\n    </tr>\n    <tr>\n      <th>156</th>\n      <td>TP.Ho Chi Minh</td>\n      <td>42 m²</td>\n      <td>1</td>\n      <td>1</td>\n      <td>0</td>\n      <td>1</td>\n      <td>1</td>\n      <td>1</td>\n      <td>1</td>\n      <td>1</td>\n      <td>1</td>\n      <td>1</td>\n      <td>0</td>\n      <td>1</td>\n      <td>0</td>\n      <td>1</td>\n      <td>1</td>\n      <td>1</td>\n      <td>1</td>\n      <td>1</td>\n      <td>1</td>\n      <td>1</td>\n      <td>1</td>\n      <td>1</td>\n      <td>1</td>\n      <td>0</td>\n      <td>1</td>\n      <td>0</td>\n      <td>1</td>\n      <td>1</td>\n      <td>1</td>\n      <td>0</td>\n      <td>0</td>\n      <td>0</td>\n      <td>0</td>\n      <td>0</td>\n      <td>0</td>\n      <td>0</td>\n      <td>0</td>\n      <td>0</td>\n      <td>1</td>\n      <td>1</td>\n      <td>1</td>\n      <td>1</td>\n      <td>1</td>\n      <td>0</td>\n      <td>0</td>\n      <td>1</td>\n      <td>0</td>\n      <td>0</td>\n      <td>1</td>\n      <td>0</td>\n      <td>0</td>\n      <td>0</td>\n      <td>0</td>\n      <td>1</td>\n      <td>0</td>\n      <td>1</td>\n      <td>1</td>\n      <td>0</td>\n      <td>0</td>\n      <td>0</td>\n      <td>1</td>\n      <td>0</td>\n      <td>0</td>\n      <td>1</td>\n      <td>1</td>\n      <td>1</td>\n      <td>0</td>\n      <td>0</td>\n      <td>1</td>\n      <td>0</td>\n      <td>0</td>\n      <td>0</td>\n      <td>1</td>\n      <td>0</td>\n      <td>0</td>\n      <td>0</td>\n      <td>0</td>\n      <td>0</td>\n      <td>1</td>\n      <td>0</td>\n      <td>0</td>\n      <td>0</td>\n      <td>0</td>\n      <td>0</td>\n      <td>0</td>\n      <td>1</td>\n      <td>0</td>\n      <td>0</td>\n      <td>0</td>\n      <td>0</td>\n      <td>0</td>\n      <td>0</td>\n      <td>0</td>\n      <td>0</td>\n      <td>0</td>\n      <td>1</td>\n      <td>0</td>\n      <td>0</td>\n      <td>0</td>\n      <td>0</td>\n      <td>0</td>\n      <td>0</td>\n      <td>0</td>\n      <td>0</td>\n      <td>0</td>\n      <td>0</td>\n      <td>0</td>\n      <td>0</td>\n      <td>0</td>\n      <td>0</td>\n      <td>1.544.337</td>\n    </tr>\n    <tr>\n      <th>2965</th>\n      <td>TP.Ho Chi Minh</td>\n      <td>19 m²</td>\n      <td>1</td>\n      <td>0</td>\n      <td>0</td>\n      <td>1</td>\n      <td>1</td>\n      <td>1</td>\n      <td>1</td>\n      <td>0</td>\n      <td>1</td>\n      <td>1</td>\n      <td>1</td>\n      <td>1</td>\n      <td>0</td>\n      <td>1</td>\n      <td>0</td>\n      <td>1</td>\n      <td>0</td>\n      <td>1</td>\n      <td>0</td>\n      <td>1</td>\n      <td>0</td>\n      <td>0</td>\n      <td>1</td>\n      <td>0</td>\n      <td>1</td>\n      <td>0</td>\n      <td>1</td>\n      <td>1</td>\n      <td>0</td>\n      <td>0</td>\n      <td>0</td>\n      <td>0</td>\n      <td>0</td>\n      <td>0</td>\n      <td>1</td>\n      <td>0</td>\n      <td>0</td>\n      <td>0</td>\n      <td>1</td>\n      <td>0</td>\n      <td>1</td>\n      <td>1</td>\n      <td>1</td>\n      <td>0</td>\n      <td>0</td>\n      <td>0</td>\n      <td>0</td>\n      <td>0</td>\n      <td>0</td>\n      <td>0</td>\n      <td>0</td>\n      <td>0</td>\n      <td>0</td>\n      <td>1</td>\n      <td>1</td>\n      <td>1</td>\n      <td>0</td>\n      <td>0</td>\n      <td>0</td>\n      <td>0</td>\n      <td>0</td>\n      <td>0</td>\n      <td>1</td>\n      <td>0</td>\n      <td>1</td>\n      <td>0</td>\n      <td>0</td>\n      <td>0</td>\n      <td>0</td>\n      <td>0</td>\n      <td>1</td>\n      <td>0</td>\n      <td>0</td>\n      <td>0</td>\n      <td>1</td>\n      <td>0</td>\n      <td>0</td>\n      <td>0</td>\n      <td>0</td>\n      <td>0</td>\n      <td>0</td>\n      <td>0</td>\n      <td>1</td>\n      <td>0</td>\n      <td>0</td>\n      <td>0</td>\n      <td>0</td>\n      <td>0</td>\n      <td>0</td>\n      <td>0</td>\n      <td>0</td>\n      <td>0</td>\n      <td>0</td>\n      <td>0</td>\n      <td>0</td>\n      <td>0</td>\n      <td>0</td>\n      <td>0</td>\n      <td>0</td>\n      <td>0</td>\n      <td>0</td>\n      <td>0</td>\n      <td>0</td>\n      <td>1</td>\n      <td>1</td>\n      <td>0</td>\n      <td>0</td>\n      <td>0</td>\n      <td>0</td>\n      <td>0</td>\n      <td>587.160</td>\n    </tr>\n    <tr>\n      <th>1444</th>\n      <td>TP.Ho Chi Minh</td>\n      <td>45 m²</td>\n      <td>1</td>\n      <td>1</td>\n      <td>0</td>\n      <td>0</td>\n      <td>1</td>\n      <td>1</td>\n      <td>1</td>\n      <td>0</td>\n      <td>1</td>\n      <td>1</td>\n      <td>0</td>\n      <td>0</td>\n      <td>0</td>\n      <td>1</td>\n      <td>0</td>\n      <td>1</td>\n      <td>1</td>\n      <td>1</td>\n      <td>1</td>\n      <td>0</td>\n      <td>1</td>\n      <td>0</td>\n      <td>1</td>\n      <td>1</td>\n      <td>1</td>\n      <td>0</td>\n      <td>1</td>\n      <td>1</td>\n      <td>0</td>\n      <td>0</td>\n      <td>1</td>\n      <td>0</td>\n      <td>0</td>\n      <td>0</td>\n      <td>0</td>\n      <td>0</td>\n      <td>1</td>\n      <td>0</td>\n      <td>1</td>\n      <td>0</td>\n      <td>1</td>\n      <td>1</td>\n      <td>0</td>\n      <td>1</td>\n      <td>0</td>\n      <td>0</td>\n      <td>0</td>\n      <td>0</td>\n      <td>0</td>\n      <td>1</td>\n      <td>1</td>\n      <td>0</td>\n      <td>0</td>\n      <td>1</td>\n      <td>1</td>\n      <td>1</td>\n      <td>0</td>\n      <td>1</td>\n      <td>0</td>\n      <td>0</td>\n      <td>0</td>\n      <td>0</td>\n      <td>1</td>\n      <td>1</td>\n      <td>1</td>\n      <td>1</td>\n      <td>0</td>\n      <td>0</td>\n      <td>0</td>\n      <td>0</td>\n      <td>0</td>\n      <td>0</td>\n      <td>0</td>\n      <td>0</td>\n      <td>0</td>\n      <td>0</td>\n      <td>0</td>\n      <td>0</td>\n      <td>0</td>\n      <td>0</td>\n      <td>0</td>\n      <td>1</td>\n      <td>0</td>\n      <td>0</td>\n      <td>0</td>\n      <td>0</td>\n      <td>0</td>\n      <td>0</td>\n      <td>0</td>\n      <td>0</td>\n      <td>0</td>\n      <td>0</td>\n      <td>0</td>\n      <td>0</td>\n      <td>0</td>\n      <td>0</td>\n      <td>0</td>\n      <td>0</td>\n      <td>0</td>\n      <td>0</td>\n      <td>0</td>\n      <td>0</td>\n      <td>0</td>\n      <td>0</td>\n      <td>0</td>\n      <td>0</td>\n      <td>0</td>\n      <td>0</td>\n      <td>0</td>\n      <td>1</td>\n      <td>700.000</td>\n    </tr>\n    <tr>\n      <th>5785</th>\n      <td>Ha Noi</td>\n      <td>48 m²</td>\n      <td>1</td>\n      <td>1</td>\n      <td>0</td>\n      <td>0</td>\n      <td>1</td>\n      <td>0</td>\n      <td>1</td>\n      <td>0</td>\n      <td>0</td>\n      <td>1</td>\n      <td>0</td>\n      <td>0</td>\n      <td>0</td>\n      <td>0</td>\n      <td>0</td>\n      <td>1</td>\n      <td>0</td>\n      <td>0</td>\n      <td>0</td>\n      <td>0</td>\n      <td>0</td>\n      <td>0</td>\n      <td>1</td>\n      <td>0</td>\n      <td>1</td>\n      <td>0</td>\n      <td>0</td>\n      <td>1</td>\n      <td>0</td>\n      <td>0</td>\n      <td>0</td>\n      <td>0</td>\n      <td>0</td>\n      <td>0</td>\n      <td>0</td>\n      <td>0</td>\n      <td>0</td>\n      <td>0</td>\n      <td>0</td>\n      <td>0</td>\n      <td>0</td>\n      <td>1</td>\n      <td>1</td>\n      <td>0</td>\n      <td>0</td>\n      <td>0</td>\n      <td>0</td>\n      <td>1</td>\n      <td>0</td>\n      <td>0</td>\n      <td>0</td>\n      <td>0</td>\n      <td>0</td>\n      <td>0</td>\n      <td>0</td>\n      <td>0</td>\n      <td>0</td>\n      <td>0</td>\n      <td>0</td>\n      <td>0</td>\n      <td>0</td>\n      <td>0</td>\n      <td>0</td>\n      <td>0</td>\n      <td>0</td>\n      <td>0</td>\n      <td>0</td>\n      <td>0</td>\n      <td>0</td>\n      <td>0</td>\n      <td>0</td>\n      <td>0</td>\n      <td>0</td>\n      <td>0</td>\n      <td>0</td>\n      <td>0</td>\n      <td>0</td>\n      <td>0</td>\n      <td>0</td>\n      <td>0</td>\n      <td>0</td>\n      <td>0</td>\n      <td>0</td>\n      <td>0</td>\n      <td>0</td>\n      <td>0</td>\n      <td>0</td>\n      <td>0</td>\n      <td>0</td>\n      <td>0</td>\n      <td>0</td>\n      <td>0</td>\n      <td>0</td>\n      <td>0</td>\n      <td>0</td>\n      <td>0</td>\n      <td>0</td>\n      <td>0</td>\n      <td>0</td>\n      <td>0</td>\n      <td>0</td>\n      <td>0</td>\n      <td>0</td>\n      <td>0</td>\n      <td>0</td>\n      <td>0</td>\n      <td>0</td>\n      <td>0</td>\n      <td>0</td>\n      <td>0</td>\n      <td>1.012.500</td>\n    </tr>\n    <tr>\n      <th>8023</th>\n      <td>Da Nang</td>\n      <td>36 m²</td>\n      <td>1</td>\n      <td>0</td>\n      <td>1</td>\n      <td>1</td>\n      <td>1</td>\n      <td>1</td>\n      <td>1</td>\n      <td>1</td>\n      <td>1</td>\n      <td>1</td>\n      <td>0</td>\n      <td>1</td>\n      <td>0</td>\n      <td>1</td>\n      <td>0</td>\n      <td>1</td>\n      <td>1</td>\n      <td>1</td>\n      <td>1</td>\n      <td>1</td>\n      <td>0</td>\n      <td>0</td>\n      <td>1</td>\n      <td>0</td>\n      <td>1</td>\n      <td>1</td>\n      <td>1</td>\n      <td>1</td>\n      <td>1</td>\n      <td>0</td>\n      <td>1</td>\n      <td>0</td>\n      <td>1</td>\n      <td>0</td>\n      <td>1</td>\n      <td>0</td>\n      <td>0</td>\n      <td>0</td>\n      <td>1</td>\n      <td>0</td>\n      <td>1</td>\n      <td>1</td>\n      <td>1</td>\n      <td>1</td>\n      <td>0</td>\n      <td>1</td>\n      <td>1</td>\n      <td>0</td>\n      <td>1</td>\n      <td>1</td>\n      <td>0</td>\n      <td>0</td>\n      <td>0</td>\n      <td>1</td>\n      <td>0</td>\n      <td>0</td>\n      <td>1</td>\n      <td>0</td>\n      <td>1</td>\n      <td>0</td>\n      <td>0</td>\n      <td>0</td>\n      <td>0</td>\n      <td>0</td>\n      <td>1</td>\n      <td>1</td>\n      <td>0</td>\n      <td>0</td>\n      <td>1</td>\n      <td>1</td>\n      <td>0</td>\n      <td>0</td>\n      <td>0</td>\n      <td>0</td>\n      <td>0</td>\n      <td>0</td>\n      <td>1</td>\n      <td>0</td>\n      <td>1</td>\n      <td>1</td>\n      <td>0</td>\n      <td>0</td>\n      <td>1</td>\n      <td>1</td>\n      <td>0</td>\n      <td>0</td>\n      <td>1</td>\n      <td>0</td>\n      <td>1</td>\n      <td>0</td>\n      <td>1</td>\n      <td>0</td>\n      <td>0</td>\n      <td>0</td>\n      <td>1</td>\n      <td>1</td>\n      <td>0</td>\n      <td>0</td>\n      <td>0</td>\n      <td>0</td>\n      <td>0</td>\n      <td>0</td>\n      <td>0</td>\n      <td>0</td>\n      <td>0</td>\n      <td>0</td>\n      <td>0</td>\n      <td>0</td>\n      <td>0</td>\n      <td>0</td>\n      <td>600.000</td>\n    </tr>\n    <tr>\n      <th>10840</th>\n      <td>Da Lat</td>\n      <td>340 m²</td>\n      <td>1</td>\n      <td>0</td>\n      <td>1</td>\n      <td>1</td>\n      <td>1</td>\n      <td>1</td>\n      <td>1</td>\n      <td>1</td>\n      <td>0</td>\n      <td>1</td>\n      <td>0</td>\n      <td>1</td>\n      <td>0</td>\n      <td>1</td>\n      <td>0</td>\n      <td>1</td>\n      <td>1</td>\n      <td>1</td>\n      <td>1</td>\n      <td>1</td>\n      <td>0</td>\n      <td>0</td>\n      <td>0</td>\n      <td>1</td>\n      <td>1</td>\n      <td>0</td>\n      <td>1</td>\n      <td>1</td>\n      <td>1</td>\n      <td>0</td>\n      <td>0</td>\n      <td>0</td>\n      <td>0</td>\n      <td>0</td>\n      <td>1</td>\n      <td>0</td>\n      <td>0</td>\n      <td>0</td>\n      <td>0</td>\n      <td>1</td>\n      <td>0</td>\n      <td>1</td>\n      <td>0</td>\n      <td>0</td>\n      <td>0</td>\n      <td>0</td>\n      <td>0</td>\n      <td>0</td>\n      <td>0</td>\n      <td>0</td>\n      <td>1</td>\n      <td>0</td>\n      <td>0</td>\n      <td>0</td>\n      <td>0</td>\n      <td>0</td>\n      <td>0</td>\n      <td>0</td>\n      <td>0</td>\n      <td>0</td>\n      <td>0</td>\n      <td>0</td>\n      <td>0</td>\n      <td>0</td>\n      <td>0</td>\n      <td>0</td>\n      <td>1</td>\n      <td>0</td>\n      <td>0</td>\n      <td>0</td>\n      <td>0</td>\n      <td>0</td>\n      <td>1</td>\n      <td>0</td>\n      <td>0</td>\n      <td>0</td>\n      <td>0</td>\n      <td>0</td>\n      <td>1</td>\n      <td>0</td>\n      <td>0</td>\n      <td>0</td>\n      <td>0</td>\n      <td>0</td>\n      <td>0</td>\n      <td>0</td>\n      <td>0</td>\n      <td>0</td>\n      <td>0</td>\n      <td>0</td>\n      <td>0</td>\n      <td>0</td>\n      <td>0</td>\n      <td>0</td>\n      <td>0</td>\n      <td>0</td>\n      <td>0</td>\n      <td>0</td>\n      <td>0</td>\n      <td>0</td>\n      <td>0</td>\n      <td>0</td>\n      <td>0</td>\n      <td>0</td>\n      <td>0</td>\n      <td>0</td>\n      <td>0</td>\n      <td>0</td>\n      <td>0</td>\n      <td>1</td>\n      <td>2.811.600</td>\n    </tr>\n    <tr>\n      <th>12996</th>\n      <td>Da Lat</td>\n      <td>24 m²</td>\n      <td>1</td>\n      <td>1</td>\n      <td>0</td>\n      <td>0</td>\n      <td>1</td>\n      <td>1</td>\n      <td>1</td>\n      <td>1</td>\n      <td>0</td>\n      <td>0</td>\n      <td>0</td>\n      <td>0</td>\n      <td>0</td>\n      <td>1</td>\n      <td>0</td>\n      <td>1</td>\n      <td>0</td>\n      <td>0</td>\n      <td>0</td>\n      <td>1</td>\n      <td>0</td>\n      <td>0</td>\n      <td>1</td>\n      <td>0</td>\n      <td>0</td>\n      <td>0</td>\n      <td>0</td>\n      <td>0</td>\n      <td>0</td>\n      <td>0</td>\n      <td>1</td>\n      <td>0</td>\n      <td>0</td>\n      <td>0</td>\n      <td>0</td>\n      <td>0</td>\n      <td>0</td>\n      <td>0</td>\n      <td>1</td>\n      <td>0</td>\n      <td>0</td>\n      <td>1</td>\n      <td>0</td>\n      <td>0</td>\n      <td>0</td>\n      <td>0</td>\n      <td>0</td>\n      <td>1</td>\n      <td>0</td>\n      <td>0</td>\n      <td>1</td>\n      <td>0</td>\n      <td>0</td>\n      <td>0</td>\n      <td>0</td>\n      <td>0</td>\n      <td>0</td>\n      <td>0</td>\n      <td>0</td>\n      <td>0</td>\n      <td>0</td>\n      <td>0</td>\n      <td>0</td>\n      <td>0</td>\n      <td>0</td>\n      <td>0</td>\n      <td>0</td>\n      <td>0</td>\n      <td>0</td>\n      <td>0</td>\n      <td>0</td>\n      <td>0</td>\n      <td>0</td>\n      <td>0</td>\n      <td>0</td>\n      <td>0</td>\n      <td>0</td>\n      <td>0</td>\n      <td>0</td>\n      <td>0</td>\n      <td>0</td>\n      <td>0</td>\n      <td>0</td>\n      <td>0</td>\n      <td>0</td>\n      <td>0</td>\n      <td>0</td>\n      <td>0</td>\n      <td>0</td>\n      <td>0</td>\n      <td>0</td>\n      <td>0</td>\n      <td>0</td>\n      <td>0</td>\n      <td>0</td>\n      <td>0</td>\n      <td>0</td>\n      <td>0</td>\n      <td>0</td>\n      <td>0</td>\n      <td>0</td>\n      <td>0</td>\n      <td>0</td>\n      <td>1</td>\n      <td>0</td>\n      <td>0</td>\n      <td>0</td>\n      <td>0</td>\n      <td>0</td>\n      <td>1</td>\n      <td>648.000</td>\n    </tr>\n    <tr>\n      <th>950</th>\n      <td>TP.Ho Chi Minh</td>\n      <td>110 m²</td>\n      <td>1</td>\n      <td>0</td>\n      <td>0</td>\n      <td>0</td>\n      <td>1</td>\n      <td>1</td>\n      <td>1</td>\n      <td>1</td>\n      <td>1</td>\n      <td>1</td>\n      <td>1</td>\n      <td>0</td>\n      <td>0</td>\n      <td>1</td>\n      <td>0</td>\n      <td>1</td>\n      <td>0</td>\n      <td>0</td>\n      <td>0</td>\n      <td>1</td>\n      <td>1</td>\n      <td>0</td>\n      <td>1</td>\n      <td>1</td>\n      <td>1</td>\n      <td>1</td>\n      <td>0</td>\n      <td>0</td>\n      <td>1</td>\n      <td>0</td>\n      <td>0</td>\n      <td>0</td>\n      <td>1</td>\n      <td>0</td>\n      <td>1</td>\n      <td>0</td>\n      <td>1</td>\n      <td>0</td>\n      <td>1</td>\n      <td>0</td>\n      <td>0</td>\n      <td>1</td>\n      <td>0</td>\n      <td>1</td>\n      <td>0</td>\n      <td>1</td>\n      <td>1</td>\n      <td>0</td>\n      <td>1</td>\n      <td>1</td>\n      <td>1</td>\n      <td>0</td>\n      <td>0</td>\n      <td>1</td>\n      <td>1</td>\n      <td>0</td>\n      <td>0</td>\n      <td>1</td>\n      <td>0</td>\n      <td>0</td>\n      <td>0</td>\n      <td>0</td>\n      <td>0</td>\n      <td>1</td>\n      <td>0</td>\n      <td>0</td>\n      <td>0</td>\n      <td>0</td>\n      <td>1</td>\n      <td>1</td>\n      <td>0</td>\n      <td>1</td>\n      <td>1</td>\n      <td>0</td>\n      <td>1</td>\n      <td>1</td>\n      <td>0</td>\n      <td>0</td>\n      <td>1</td>\n      <td>0</td>\n      <td>0</td>\n      <td>1</td>\n      <td>0</td>\n      <td>1</td>\n      <td>0</td>\n      <td>0</td>\n      <td>0</td>\n      <td>0</td>\n      <td>0</td>\n      <td>0</td>\n      <td>0</td>\n      <td>0</td>\n      <td>0</td>\n      <td>0</td>\n      <td>0</td>\n      <td>1</td>\n      <td>0</td>\n      <td>0</td>\n      <td>0</td>\n      <td>0</td>\n      <td>0</td>\n      <td>1</td>\n      <td>0</td>\n      <td>0</td>\n      <td>1</td>\n      <td>1</td>\n      <td>0</td>\n      <td>1</td>\n      <td>0</td>\n      <td>1</td>\n      <td>2.268.000</td>\n    </tr>\n    <tr>\n      <th>4192</th>\n      <td>Ha Noi</td>\n      <td>30 m²</td>\n      <td>1</td>\n      <td>0</td>\n      <td>1</td>\n      <td>1</td>\n      <td>1</td>\n      <td>0</td>\n      <td>1</td>\n      <td>1</td>\n      <td>1</td>\n      <td>1</td>\n      <td>0</td>\n      <td>1</td>\n      <td>0</td>\n      <td>1</td>\n      <td>0</td>\n      <td>1</td>\n      <td>0</td>\n      <td>1</td>\n      <td>1</td>\n      <td>0</td>\n      <td>1</td>\n      <td>0</td>\n      <td>1</td>\n      <td>0</td>\n      <td>1</td>\n      <td>0</td>\n      <td>1</td>\n      <td>1</td>\n      <td>0</td>\n      <td>0</td>\n      <td>0</td>\n      <td>0</td>\n      <td>0</td>\n      <td>0</td>\n      <td>1</td>\n      <td>1</td>\n      <td>1</td>\n      <td>0</td>\n      <td>0</td>\n      <td>0</td>\n      <td>0</td>\n      <td>1</td>\n      <td>1</td>\n      <td>0</td>\n      <td>0</td>\n      <td>0</td>\n      <td>0</td>\n      <td>0</td>\n      <td>0</td>\n      <td>0</td>\n      <td>1</td>\n      <td>0</td>\n      <td>0</td>\n      <td>1</td>\n      <td>0</td>\n      <td>0</td>\n      <td>1</td>\n      <td>0</td>\n      <td>1</td>\n      <td>0</td>\n      <td>0</td>\n      <td>0</td>\n      <td>0</td>\n      <td>0</td>\n      <td>0</td>\n      <td>0</td>\n      <td>0</td>\n      <td>0</td>\n      <td>0</td>\n      <td>0</td>\n      <td>0</td>\n      <td>0</td>\n      <td>0</td>\n      <td>0</td>\n      <td>0</td>\n      <td>0</td>\n      <td>0</td>\n      <td>0</td>\n      <td>0</td>\n      <td>0</td>\n      <td>0</td>\n      <td>0</td>\n      <td>0</td>\n      <td>0</td>\n      <td>0</td>\n      <td>0</td>\n      <td>0</td>\n      <td>0</td>\n      <td>0</td>\n      <td>0</td>\n      <td>0</td>\n      <td>0</td>\n      <td>0</td>\n      <td>0</td>\n      <td>0</td>\n      <td>0</td>\n      <td>0</td>\n      <td>0</td>\n      <td>0</td>\n      <td>0</td>\n      <td>0</td>\n      <td>0</td>\n      <td>0</td>\n      <td>0</td>\n      <td>0</td>\n      <td>0</td>\n      <td>0</td>\n      <td>0</td>\n      <td>0</td>\n      <td>0</td>\n      <td>588.099</td>\n    </tr>\n  </tbody>\n</table>\n</div>"
     },
     "metadata": {},
     "execution_count": 2
    }
   ],
   "source": [
    "data_df =pd.read_csv('../datasets/full_data.csv')\n",
    "data_df.sample(n=10)"
   ]
  },
  {
   "cell_type": "markdown",
   "metadata": {},
   "source": [
    "### Dữ liệu có bao nhiêu dòng và bao nhiêu cột?"
   ]
  },
  {
   "cell_type": "code",
   "execution_count": 3,
   "metadata": {},
   "outputs": [
    {
     "output_type": "execute_result",
     "data": {
      "text/plain": [
       "(14316, 113)"
      ]
     },
     "metadata": {},
     "execution_count": 3
    }
   ],
   "source": [
    "data_df.shape"
   ]
  },
  {
   "cell_type": "markdown",
   "metadata": {},
   "source": [
    "### Mỗi dòng có ý nghĩa gì? Có vấn đề các dòng có ý nghĩa khác nhau không?"
   ]
  },
  {
   "cell_type": "markdown",
   "metadata": {},
   "source": [
    "Quan sát sơ qua thì ta thấy mỗi dòng chứa thông tin của một chỗ ở. Mà cụ thể hơn, do dữ liệu được nhóm em cào nên đó là chỗ ở cho thuê cho **2 người**, thời gian thuê **1 ngày 1 đêm**, bao gồm địa chỉ(*thành phố nào?*) - các *tiện nghi/dịch vụ* được cung cấp - *giá thuê*, được cào trong giai đoạn từ ngày 3/1/2021 đến ngày 6/1/2021.\n",
    "\n",
    "Nhìn sơ qua (bằng cách chạy `data_df.sample()` nhiều lần) thì thấy có vẻ có một số dòng bị vấn đề ở cột \"Diện tích\". Cụ thể, thay vì chứa thông tin về \"x m²\" thì sẽ là \"Phòng tắm riêng trong phòng\", \"Ban công\", \"Điều hòa không khí\",... \n",
    "\n",
    "Có thể đây là lỗi gặp phải trong quá trình nhóm em cào tự động, những dòng này cần phải được loại bỏ. Sau đó, sẵn tiện thì lược bỏ luôn \"m2\" trong cột này, chuyển sang dạng số luôn."
   ]
  },
  {
   "cell_type": "code",
   "execution_count": 4,
   "metadata": {},
   "outputs": [
    {
     "output_type": "execute_result",
     "data": {
      "text/plain": [
       "(13397, 113)"
      ]
     },
     "metadata": {},
     "execution_count": 4
    }
   ],
   "source": [
    "data_df.drop(data_df[data_df['Diện tích'].str.find('m²') == -1].index,inplace=True)\n",
    "data_df.shape"
   ]
  },
  {
   "cell_type": "code",
   "execution_count": 5,
   "metadata": {},
   "outputs": [
    {
     "output_type": "execute_result",
     "data": {
      "text/plain": [
       "dtype('int64')"
      ]
     },
     "metadata": {},
     "execution_count": 5
    }
   ],
   "source": [
    "data_df['Diện tích'] = data_df['Diện tích'].str[:-3]\n",
    "data_df['Diện tích'] = pd.to_numeric(data_df['Diện tích'], errors='coerce')\n",
    "data_df = data_df.rename(columns={'Diện tích' : 'dien_tich_m2'})\n",
    "data_df['dien_tich_m2'].dtypes"
   ]
  },
  {
   "cell_type": "markdown",
   "metadata": {},
   "source": [
    "### Dữ liệu có các dòng bị lặp không?"
   ]
  },
  {
   "cell_type": "code",
   "execution_count": 6,
   "metadata": {},
   "outputs": [
    {
     "output_type": "execute_result",
     "data": {
      "text/plain": [
       "0"
      ]
     },
     "metadata": {},
     "execution_count": 6
    }
   ],
   "source": [
    "data_df.index.duplicated().sum()"
   ]
  },
  {
   "cell_type": "markdown",
   "metadata": {},
   "source": [
    "### Mỗi cột có ý nghĩa gì?"
   ]
  },
  {
   "cell_type": "markdown",
   "metadata": {},
   "source": [
    "Vì hầu hết thông tin trên booking.com đều đã được dịch sang Tiếng Việt nên các cột nhìn vào có thể hiểu được nó chứa thông tin về gì. Ngoài thông tin về \"price\", \"City\", \"Diện tích\" thì các thông tin còn lại của booking đều hiển thị dưới dạng: 1 - có và 0 - không, tức là có cung cấp *tiện nghi/dịch vụ* này hay không. Nên dữ liệu ở các cột còn lại đều là thuộc loại **binary**."
   ]
  },
  {
   "cell_type": "code",
   "execution_count": 7,
   "metadata": {},
   "outputs": [
    {
     "output_type": "execute_result",
     "data": {
      "text/plain": [
       "['City',\n",
       " 'dien_tich_m2',\n",
       " 'Đồ vệ sinh cá nhân miễn phí',\n",
       " 'Vòi sen',\n",
       " 'Áo choàng tắm',\n",
       " 'Két an toàn',\n",
       " 'Nhà vệ sinh',\n",
       " 'Khăn tắm',\n",
       " 'Bàn làm việc',\n",
       " 'Khu vực tiếp khách',\n",
       " 'TV',\n",
       " 'Dép',\n",
       " 'Tủ lạnh',\n",
       " 'Điện thoại',\n",
       " 'Hệ thống sưởi',\n",
       " 'Máy sấy tóc',\n",
       " 'Sàn trải thảm',\n",
       " 'Ấm đun nước điện',\n",
       " 'Truyền hình cáp',\n",
       " 'Dịch vụ báo thức',\n",
       " 'Tủ hoặc phòng để quần áo',\n",
       " 'Giá treo quần áo',\n",
       " 'Nhìn ra thành phố',\n",
       " 'Bồn tắm',\n",
       " 'Điều hòa không khí',\n",
       " 'Phòng tắm riêng',\n",
       " 'TV màn hình phẳng',\n",
       " 'Hệ thống cách âm',\n",
       " 'Minibar',\n",
       " 'WiFi miễn phí',\n",
       " 'Ghế sofa',\n",
       " 'Máy fax',\n",
       " 'Phòng thay quần áo',\n",
       " 'Nhìn ra hồ bơi',\n",
       " 'Bếp',\n",
       " 'Máy giặt',\n",
       " 'Bồn tắm hoặc Vòi sen',\n",
       " 'Đồng hồ báo thức',\n",
       " 'Bàn ăn',\n",
       " 'Bồn tắm spa',\n",
       " 'Ổ điện gần giường',\n",
       " 'Toilet phụ',\n",
       " 'Dịch vụ báo thức',\n",
       " 'Giấy vệ sinh',\n",
       " 'Phòng tắm riêng trong phòng',\n",
       " 'Tiện nghi ủi',\n",
       " 'Giường cực dài (> 2 mét)',\n",
       " 'Bếp nhỏ',\n",
       " 'Khu vực phòng ăn',\n",
       " 'Tầm nhìn ra khung cảnh',\n",
       " 'Truyền hình vệ tinh',\n",
       " 'Bàn ủi',\n",
       " 'Ban công',\n",
       " 'Nhìn ra sông',\n",
       " 'Quyền sử dụng Executive Lounge',\n",
       " 'Sàn lát gỗ',\n",
       " 'Ra trải giường',\n",
       " 'Không gây dị ứng',\n",
       " 'Máy pha trà/cà phê',\n",
       " 'Khăn tắm/Bộ khăn trải giường (có thu phí)',\n",
       " 'Máy sấy quần áo',\n",
       " 'Nhìn ra địa danh nổi tiếng',\n",
       " 'Phòng tắm phụ',\n",
       " 'Có phòng thông nhau qua cửa nối',\n",
       " 'Chậu rửa vệ sinh (bidet)',\n",
       " 'Lối vào riêng',\n",
       " 'Các tầng trên đi lên bằng thang máy',\n",
       " 'Xe lăn có thể đi đến mọi nơi trong toàn bộ khuôn viên',\n",
       " 'Nhìn ra vườn',\n",
       " 'Máy vi tính',\n",
       " 'Giường sofa',\n",
       " 'Giá phơi quần áo',\n",
       " 'Két an toàn cỡ laptop',\n",
       " 'Giường xếp',\n",
       " 'Quạt máy',\n",
       " 'Chăn điện',\n",
       " 'Sản phẩm lau rửa',\n",
       " 'Ghế cao dành cho trẻ em',\n",
       " 'Cửa an toàn cho trẻ nhỏ',\n",
       " 'Máy pha Cà phê',\n",
       " 'Sàn lát gạch/đá cẩm thạch',\n",
       " 'Bàn ủi li quần',\n",
       " 'Hoàn toàn nằm ở tầng trệt',\n",
       " 'Các tầng trên chỉ lên được bằng cầu thang',\n",
       " 'Nắp che ổ cắm điện an toàn',\n",
       " 'Đồ bếp',\n",
       " 'Đầu đĩa CD',\n",
       " 'Máy điều hòa độc lập cho từng phòng',\n",
       " 'Nước rửa tay',\n",
       " 'Đầu đĩa DVD',\n",
       " 'Hồ bơi trên sân thượng',\n",
       " 'Ổ cắm cho iPod',\n",
       " 'Hồ bơi có tầm nhìn',\n",
       " 'Trò chơi board game/giải đố',\n",
       " 'Sách',\n",
       " ' đĩa DVD và nhạc cho trẻ em',\n",
       " 'Có lắp đặt máy lọc không khí',\n",
       " 'Thiết bị báo carbon monoxide',\n",
       " 'Lò vi sóng',\n",
       " 'Máy nướng bánh mỳ',\n",
       " 'Lò sưởi',\n",
       " 'Lò nướng',\n",
       " 'Bếp nấu',\n",
       " 'Đài radio',\n",
       " 'Khu vực ăn uống ngoài trời',\n",
       " 'Phòng xông hơi',\n",
       " 'Toilet chung',\n",
       " 'Bàn ghế ngoài trời',\n",
       " 'Bể sục',\n",
       " 'Hồ bơi riêng',\n",
       " 'Sân trong',\n",
       " 'Hướng nhìn sân trong',\n",
       " 'price']"
      ]
     },
     "metadata": {},
     "execution_count": 7
    }
   ],
   "source": [
    "list(data_df.columns)"
   ]
  },
  {
   "cell_type": "code",
   "execution_count": 8,
   "metadata": {},
   "outputs": [
    {
     "output_type": "stream",
     "name": "stdout",
     "text": [
      "[1 0]\n[0 1]\n[0 1]\n[0 1]\n[0 1]\n[1 0]\n[0 1]\n[0 1]\n[0 1]\n[1 0]\n[1 0]\n[0 1]\n[1 0]\n[0 1]\n[0 1]\n[1 0]\n[0 1]\n[1 0]\n[0 1]\n[1 0]\n[1 0]\n[1 0]\n[0 1]\n[1 0]\n[1 0]\n[0 1]\n[1 0]\n[0 1]\n[0 1]\n[0 1]\n[0 1]\n[0 1]\n[0 1]\n[0 1]\n[0 1]\n[0 1]\n[0 1]\n[0 1]\n[1 0]\n[0 1]\n[0 1]\n[0 1]\n[0 1]\n[0 1]\n[0 1]\n[0 1]\n[0 1]\n[0 1]\n[1 0]\n[0 1]\n[0 1]\n[1 0]\n[0 1]\n[0 1]\n[0 1]\n[0 1]\n[0 1]\n[0 1]\n[0 1]\n[0 1]\n[0 1]\n[0 1]\n[0 1]\n[0 1]\n[0 1]\n[0 1]\n[0 1]\n[0 1]\n[1 0]\n[0 1]\n[1 0]\n[0 1]\n[0 1]\n[0 1]\n[0 1]\n[0 1]\n[0 1]\n[0 1]\n[1 0]\n[0 1]\n[1 0]\n[1 0]\n[1 0]\n[0 1]\n[0 1]\n[0 1]\n[0 1]\n[0 1]\n[0 1]\n[1 0]\n[1 0]\n[0 1]\n[0 1]\n[0 1]\n[0 1]\n[0 1]\n[0 1]\n[0 1]\n[0 1]\n[0 1]\n[1 0]\n[0 1]\n[0 1]\n[0 1]\n[0 1]\n[1 0]\n[0 1]\n[1 0]\n[1 0]\n[0 1]\n"
     ]
    }
   ],
   "source": [
    "for col in set(data_df.columns) - set([\"price\", \"City\", \"dien_tich_m2\"]):\n",
    "    print(data_df[col].unique())"
   ]
  },
  {
   "cell_type": "markdown",
   "metadata": {},
   "source": [
    "---"
   ]
  },
  {
   "cell_type": "markdown",
   "metadata": {},
   "source": [
    "## Đưa ra câu hỏi cần trả lời"
   ]
  },
  {
   "cell_type": "markdown",
   "metadata": {},
   "source": [
    "Với dữ liệu này, nhóm em đã xác định từ đầu cột output sẽ là \"price\" - Bài toán regression. Do đó, câu hỏi cần được trả lời sẽ là:\n",
    "\n",
    "*Output - giá thuê chỗ ở (cho 2 người, trong 1 ngày 1 đêm, đơn vị: VNĐ) -* được tính từ *input - các thông tin của chỗ ở* theo công thức nào?\n",
    "\n",
    "Việc tìm ra câu trả lời cho câu hỏi này góp phần nào tham khảo vào quá trình đưa ra quyết định cho cả 2 phía: **bên cho thuê** và **bên thuê chỗ** ở khi đi du lịch. \n",
    "- **Bên cho thuê** có thể dựa vào đó để đưa ra giá tiền thuê sao cho phù hợp với thị trường, dựa trên những tiêu chí/ thông tin của tài sản. Cũng như cần chuẩn bị những tiêu chí gì để \"tối ưu\" giá cho thuê lên. \n",
    "- **Bên thuê chỗ** sẽ dựa theo các tiêu chí mình cần để chuẩn bị ngân sách cho chỗ ở khi du lịch... \n",
    "\n",
    "Ở giai đoạn này, thông tin của chỗ ở - input sẽ cần được lọc bớt. Vì hiện tại dữ liệu có khá nhiều cột và nhóm cảm thấy một số cột là không cần thiết/ không ảnh hưởng tới output (ít nhất là với góc độ của thị trường Việt Nam).  "
   ]
  },
  {
   "cell_type": "code",
   "execution_count": 9,
   "metadata": {},
   "outputs": [
    {
     "output_type": "execute_result",
     "data": {
      "text/plain": [
       "(13397, 98)"
      ]
     },
     "metadata": {},
     "execution_count": 9
    }
   ],
   "source": [
    "drop_cols = ['Bể sục','Máy fax', 'Ổ cắm cho iPod', 'Trò chơi board game/giải đố','Không gây dị ứng','Dịch vụ báo thức', 'Lối vào riêng', 'Chăn điện', 'Sản phẩm lau rửa',  'Đầu đĩa CD',  'Đầu đĩa DVD', ' đĩa DVD và nhạc cho trẻ em', 'Thiết bị báo carbon monoxide', 'Đài radio', 'Dịch vụ báo thức']\n",
    "data_df.drop(drop_cols, axis=1, inplace=True)\n",
    "data_df.shape"
   ]
  },
  {
   "cell_type": "markdown",
   "metadata": {},
   "source": [
    "---"
   ]
  },
  {
   "cell_type": "markdown",
   "metadata": {},
   "source": [
    "## Khám phá dữ liệu (để biết tách các tập) + tiền xử lý"
   ]
  },
  {
   "cell_type": "markdown",
   "metadata": {},
   "source": [
    "Ở bước này, dữ liệu ở cột output cần được khám phá một ít để phục vụ cho việc tách tập:\n"
   ]
  },
  {
   "cell_type": "markdown",
   "metadata": {},
   "source": [
    "* Cột output có kiểu dữ liệu gì? "
   ]
  },
  {
   "cell_type": "code",
   "execution_count": 10,
   "metadata": {},
   "outputs": [
    {
     "output_type": "execute_result",
     "data": {
      "text/plain": [
       "dtype('O')"
      ]
     },
     "metadata": {},
     "execution_count": 10
    }
   ],
   "source": [
    "# Cột output có kiểu dữ liệu gì?\n",
    "data_df['price'].dtype"
   ]
  },
  {
   "cell_type": "markdown",
   "metadata": {},
   "source": [
    "Là kiểu object - string. Vì đây là bài toán regression nên cột này cần được tiền xử lý, bỏ những dấu \".\" và chuyển sang **dạng số**"
   ]
  },
  {
   "cell_type": "code",
   "execution_count": 11,
   "metadata": {},
   "outputs": [
    {
     "output_type": "execute_result",
     "data": {
      "text/plain": [
       "dtype('int64')"
      ]
     },
     "metadata": {},
     "execution_count": 11
    }
   ],
   "source": [
    "data_df['price'] = data_df['price'].str.replace('.', '')\n",
    "data_df['price'] = pd.to_numeric(data_df['price'],errors='coerce')\n",
    "data_df['price'].dtype"
   ]
  },
  {
   "cell_type": "markdown",
   "metadata": {},
   "source": [
    "* Cột này có giá trị thiếu không?"
   ]
  },
  {
   "cell_type": "code",
   "execution_count": 12,
   "metadata": {},
   "outputs": [
    {
     "output_type": "execute_result",
     "data": {
      "text/plain": [
       "0"
      ]
     },
     "metadata": {},
     "execution_count": 12
    }
   ],
   "source": [
    "data_df['price'].isna().sum()"
   ]
  },
  {
   "cell_type": "markdown",
   "metadata": {},
   "source": [
    "---"
   ]
  },
  {
   "cell_type": "markdown",
   "metadata": {},
   "source": [
    "## Tiền xử lý (tách các tập)"
   ]
  },
  {
   "cell_type": "markdown",
   "metadata": {},
   "source": [
    "Sau khi đã khám phá và tiền xử lý 1 ít với dữ liệu, thì bây giờ là lúc tách tập test và validation ra khỏi dữ liệu."
   ]
  },
  {
   "cell_type": "code",
   "execution_count": 13,
   "metadata": {},
   "outputs": [],
   "source": [
    "# Tách X và y\n",
    "y_sr = data_df[\"price\"] # sr là viết tắt của series\n",
    "X_df =data_df.drop(\"price\", axis=1)"
   ]
  },
  {
   "cell_type": "code",
   "execution_count": 14,
   "metadata": {},
   "outputs": [],
   "source": [
    "# Tách tập huấn luyện và tập test theo tỉ lệ 80%:20%\n",
    "temp_X_df, test_X_df, temp_y_sr, test_y_sr = train_test_split(X_df, y_sr, test_size=0.2, \n",
    "                                                                  random_state=0)\n",
    "# Tiếp tục từ tập huấn luyện tách ra tập huấn luyện và tập validation 80%:20%\n",
    "train_X_df, val_X_df, train_y_sr, val_y_sr = train_test_split(temp_X_df, temp_y_sr, test_size=0.2, \n",
    "                                                                  random_state=0)\n",
    "                                                            "
   ]
  },
  {
   "cell_type": "code",
   "execution_count": 15,
   "metadata": {},
   "outputs": [
    {
     "output_type": "execute_result",
     "data": {
      "text/plain": [
       "((10717, 97), (10717,))"
      ]
     },
     "metadata": {},
     "execution_count": 15
    }
   ],
   "source": [
    "temp_X_df.shape, temp_y_sr.shape"
   ]
  },
  {
   "cell_type": "code",
   "execution_count": 16,
   "metadata": {},
   "outputs": [
    {
     "output_type": "execute_result",
     "data": {
      "text/plain": [
       "((8573, 97), (8573,))"
      ]
     },
     "metadata": {},
     "execution_count": 16
    }
   ],
   "source": [
    "train_X_df.shape, train_y_sr.shape"
   ]
  },
  {
   "cell_type": "code",
   "execution_count": 17,
   "metadata": {},
   "outputs": [
    {
     "output_type": "execute_result",
     "data": {
      "text/plain": [
       "((2144, 97), (2144,))"
      ]
     },
     "metadata": {},
     "execution_count": 17
    }
   ],
   "source": [
    " val_X_df.shape, val_y_sr.shape"
   ]
  },
  {
   "cell_type": "code",
   "execution_count": 18,
   "metadata": {},
   "outputs": [
    {
     "output_type": "execute_result",
     "data": {
      "text/plain": [
       "((2680, 97), (2680,))"
      ]
     },
     "metadata": {},
     "execution_count": 18
    }
   ],
   "source": [
    "test_X_df.shape, test_y_sr.shape"
   ]
  },
  {
   "cell_type": "markdown",
   "metadata": {},
   "source": [
    "---"
   ]
  },
  {
   "cell_type": "markdown",
   "metadata": {},
   "source": [
    "## Khám phá dữ liệu (tập huấn luyện)\n",
    "\n",
    "\n"
   ]
  },
  {
   "cell_type": "markdown",
   "metadata": {},
   "source": [
    "### Mỗi cột input hiện đang có kiểu dữ liệu gì? Có cột nào có kiểu dữ liệu chưa phù hợp để có thể xử lý tiếp không?"
   ]
  },
  {
   "cell_type": "code",
   "execution_count": 19,
   "metadata": {},
   "outputs": [
    {
     "output_type": "execute_result",
     "data": {
      "text/plain": [
       "City                                                     object\n",
       "dien_tich_m2                                              int64\n",
       "Đồ vệ sinh cá nhân miễn phí                               int64\n",
       "Vòi sen                                                  int64\n",
       "Áo choàng tắm                                          int64\n",
       "Két an toàn                                             int64\n",
       "Nhà vệ sinh                                               int64\n",
       "Khăn tắm                                                  int64\n",
       "Bàn làm việc                                           int64\n",
       "Khu vực tiếp khách                                     int64\n",
       "TV                                                        int64\n",
       "Dép                                                      int64\n",
       "Tủ lạnh                                                 int64\n",
       "Điện thoại                                              int64\n",
       "Hệ thống sưởi                                          int64\n",
       "Máy sấy tóc                                            int64\n",
       "Sàn trải thảm                                             int64\n",
       "Ấm đun nước điện                                          int64\n",
       "Truyền hình cáp                                        int64\n",
       "Tủ hoặc phòng để quần áo                                  int64\n",
       "Giá treo quần áo                                          int64\n",
       "Nhìn ra thành phố                                         int64\n",
       "Bồn tắm                                                 int64\n",
       "Điều hòa không khí                                        int64\n",
       "Phòng tắm riêng                                           int64\n",
       "TV màn hình phẳng                                         int64\n",
       "Hệ thống cách âm                                          int64\n",
       "Minibar                                                   int64\n",
       "WiFi miễn phí                                             int64\n",
       "Ghế sofa                                                  int64\n",
       "Phòng thay quần áo                                     int64\n",
       "Nhìn ra hồ bơi                                            int64\n",
       "Bếp                                                      int64\n",
       "Máy giặt                                                int64\n",
       "Bồn tắm hoặc Vòi sen                                  int64\n",
       "Đồng hồ báo thức                                          int64\n",
       "Bàn ăn                                                    int64\n",
       "Bồn tắm spa                                               int64\n",
       "Ổ điện gần giường                                         int64\n",
       "Toilet phụ                                                int64\n",
       "Giấy vệ sinh                                              int64\n",
       "Phòng tắm riêng trong phòng                               int64\n",
       "Tiện nghi ủi                                            int64\n",
       "Giường cực dài (> 2 mét)                              int64\n",
       "Bếp nhỏ                                                 int64\n",
       "Khu vực phòng ăn                                          int64\n",
       "Tầm nhìn ra khung cảnh                                    int64\n",
       "Truyền hình vệ tinh                                    int64\n",
       "Bàn ủi                                                  int64\n",
       "Ban công                                                  int64\n",
       "Nhìn ra sông                                              int64\n",
       "Quyền sử dụng Executive Lounge                            int64\n",
       "Sàn lát gỗ                                                int64\n",
       "Ra trải giường                                            int64\n",
       "Máy pha trà/cà phê                                        int64\n",
       "Khăn tắm/Bộ khăn trải giường (có thu phí)                 int64\n",
       "Máy sấy quần áo                                           int64\n",
       "Nhìn ra địa danh nổi tiếng                                int64\n",
       "Phòng tắm phụ                                             int64\n",
       "Có phòng thông nhau qua cửa nối                           int64\n",
       "Chậu rửa vệ sinh (bidet)                                int64\n",
       "Các tầng trên đi lên bằng thang máy                       int64\n",
       "Xe lăn có thể đi đến mọi nơi trong toàn bộ khuôn viên     int64\n",
       "Nhìn ra vườn                                              int64\n",
       "Máy vi tính                                               int64\n",
       "Giường sofa                                               int64\n",
       "Giá phơi quần áo                                          int64\n",
       "Két an toàn cỡ laptop                                     int64\n",
       "Giường xếp                                                int64\n",
       "Quạt máy                                                int64\n",
       "Ghế cao dành cho trẻ em                                   int64\n",
       "Cửa an toàn cho trẻ nhỏ                                   int64\n",
       "Máy pha Cà phê                                            int64\n",
       "Sàn lát gạch/đá cẩm thạch                                 int64\n",
       "Bàn ủi li quần                                         int64\n",
       "Hoàn toàn nằm ở tầng trệt                                 int64\n",
       "Các tầng trên chỉ lên được bằng cầu thang                 int64\n",
       "Nắp che ổ cắm điện an toàn                                int64\n",
       "Đồ bếp                                                    int64\n",
       "Máy điều hòa độc lập cho từng phòng                       int64\n",
       "Nước rửa tay                                              int64\n",
       "Hồ bơi trên sân thượng                                    int64\n",
       "Hồ bơi có tầm nhìn                                        int64\n",
       "Sách                                                      int64\n",
       "Có lắp đặt máy lọc không khí                              int64\n",
       "Lò vi sóng                                              int64\n",
       "Máy nướng bánh mỳ                                         int64\n",
       "Lò sưởi                                                   int64\n",
       "Lò nướng                                                  int64\n",
       "Bếp nấu                                                   int64\n",
       "Khu vực ăn uống ngoài trời                                int64\n",
       "Phòng xông hơi                                            int64\n",
       "Toilet chung                                              int64\n",
       "Bàn ghế ngoài trời                                        int64\n",
       "Hồ bơi riêng                                              int64\n",
       "Sân trong                                                 int64\n",
       "Hướng nhìn sân trong                                      int64\n",
       "dtype: object"
      ]
     },
     "metadata": {},
     "execution_count": 19
    }
   ],
   "source": [
    "train_X_df.dtypes"
   ]
  },
  {
   "cell_type": "markdown",
   "metadata": {},
   "source": [
    "Các cột đều có kiểu dữ liệu phù hợp."
   ]
  },
  {
   "cell_type": "markdown",
   "metadata": {},
   "source": [
    "### Với mỗi cột input có kiểu dữ liệu dạng số, các giá trị được phân bố như thế nào?"
   ]
  },
  {
   "cell_type": "markdown",
   "metadata": {},
   "source": [
    "Chỉ có cột \"Diện tích\" là kiểu dạng số . "
   ]
  },
  {
   "cell_type": "code",
   "execution_count": 20,
   "metadata": {
    "lines_to_next_cell": 0
   },
   "outputs": [
    {
     "output_type": "execute_result",
     "data": {
      "text/plain": [
       "                dien_tich_m2\n",
       "missing_ratio            0.0\n",
       "min                     15.0\n",
       "lower_quartile          24.0\n",
       "median                  30.0\n",
       "upper_quartile          42.0\n",
       "max                   1200.0"
      ],
      "text/html": "<div>\n<style scoped>\n    .dataframe tbody tr th:only-of-type {\n        vertical-align: middle;\n    }\n\n    .dataframe tbody tr th {\n        vertical-align: top;\n    }\n\n    .dataframe thead th {\n        text-align: right;\n    }\n</style>\n<table border=\"1\" class=\"dataframe\">\n  <thead>\n    <tr style=\"text-align: right;\">\n      <th></th>\n      <th>dien_tich_m2</th>\n    </tr>\n  </thead>\n  <tbody>\n    <tr>\n      <th>missing_ratio</th>\n      <td>0.0</td>\n    </tr>\n    <tr>\n      <th>min</th>\n      <td>15.0</td>\n    </tr>\n    <tr>\n      <th>lower_quartile</th>\n      <td>24.0</td>\n    </tr>\n    <tr>\n      <th>median</th>\n      <td>30.0</td>\n    </tr>\n    <tr>\n      <th>upper_quartile</th>\n      <td>42.0</td>\n    </tr>\n    <tr>\n      <th>max</th>\n      <td>1200.0</td>\n    </tr>\n  </tbody>\n</table>\n</div>"
     },
     "metadata": {},
     "execution_count": 20
    }
   ],
   "source": [
    "num_cols = ['dien_tich_m2']\n",
    "num_df = train_X_df[num_cols]\n",
    "def missing_ratio(df):\n",
    "    return (df.isna().mean() * 100).round(1)\n",
    "def lower_quartile(df):\n",
    "    return df.quantile(0.25).round(1)\n",
    "def median(df):\n",
    "    return df.quantile(0.5).round(1)\n",
    "def upper_quartile(df):\n",
    "    return df.quantile(0.75).round(1)\n",
    "num_df.agg([missing_ratio, 'min', lower_quartile, median, upper_quartile, 'max'])"
   ]
  },
  {
   "cell_type": "markdown",
   "metadata": {},
   "source": [
    "\n"
   ]
  },
  {
   "cell_type": "markdown",
   "metadata": {},
   "source": [
    "### Với mỗi cột input có kiểu dữ liệu không phải dạng số, các giá trị được phân bố như thế nào?"
   ]
  },
  {
   "cell_type": "code",
   "execution_count": 21,
   "metadata": {},
   "outputs": [
    {
     "output_type": "execute_result",
     "data": {
      "text/plain": [
       "                     Điện thoại Ghế cao dành cho trẻ em  Hồ bơi có tầm nhìn  \\\n",
       "missing_ratio                   0                       0                   0   \n",
       "num_values                      2                       2                   2   \n",
       "value_ratios   {1: 65.2, 0: 34.8}       {0: 92.7, 1: 7.3}  {0: 87.9, 1: 12.1}   \n",
       "\n",
       "                  Máy sấy quần áo       Két an toàn Truyền hình vệ tinh  \\\n",
       "missing_ratio                   0                   0                      0   \n",
       "num_values                      2                   2                      2   \n",
       "value_ratios   {0: 79.5, 1: 20.5}  {1: 50.9, 0: 49.1}     {0: 58.9, 1: 41.1}   \n",
       "\n",
       "                      Giường xếp    Áo choàng tắm Tủ hoặc phòng để quần áo  \\\n",
       "missing_ratio                  0                   0                        0   \n",
       "num_values                     2                   2                        2   \n",
       "value_ratios   {0: 92.4, 1: 7.6}  {0: 65.9, 1: 34.1}       {1: 82.6, 0: 17.4}   \n",
       "\n",
       "                           Đồ bếp  Truyền hình cáp Tầm nhìn ra khung cảnh  \\\n",
       "missing_ratio                   0                   0                      0   \n",
       "num_values                      2                   2                      2   \n",
       "value_ratios   {0: 78.5, 1: 21.5}  {1: 68.1, 0: 31.9}     {0: 89.9, 1: 10.1}   \n",
       "\n",
       "                  Bàn làm việc          Máy giặt    Hệ thống cách âm  \\\n",
       "missing_ratio                   0                   0                   0   \n",
       "num_values                      2                   2                   2   \n",
       "value_ratios   {1: 79.8, 0: 20.2}  {0: 83.4, 1: 16.6}  {0: 50.5, 1: 49.5}   \n",
       "\n",
       "              Hồ bơi trên sân thượng Đồ vệ sinh cá nhân miễn phí  \\\n",
       "missing_ratio                      0                           0   \n",
       "num_values                         2                           2   \n",
       "value_ratios       {0: 91.9, 1: 8.1}          {1: 88.0, 0: 12.0}   \n",
       "\n",
       "                TV màn hình phẳng Khu vực tiếp khách   Máy nướng bánh mỳ  \\\n",
       "missing_ratio                   0                     0                   0   \n",
       "num_values                      2                     2                   2   \n",
       "value_ratios   {1: 88.6, 0: 11.4}    {1: 56.1, 0: 43.9}  {0: 87.1, 1: 12.9}   \n",
       "\n",
       "                Nhìn ra thành phố  Điều hòa không khí  \\\n",
       "missing_ratio                   0                   0   \n",
       "num_values                      2                   2   \n",
       "value_ratios   {1: 54.2, 0: 45.8}  {1: 77.9, 0: 22.1}   \n",
       "\n",
       "              Bồn tắm hoặc Vòi sen            Ghế sofa Bàn ghế ngoài trời  \\\n",
       "missing_ratio                        0                   0                  0   \n",
       "num_values                           2                   2                  2   \n",
       "value_ratios        {1: 68.1, 0: 31.9}  {0: 63.9, 1: 36.1}  {0: 93.9, 1: 6.1}   \n",
       "\n",
       "                   Phòng xông hơi        Toilet chung                Bếp  \\\n",
       "missing_ratio                   0                   0                   0   \n",
       "num_values                      2                   2                   2   \n",
       "value_ratios   {0: 87.4, 1: 12.6}  {0: 83.0, 1: 17.0}  {0: 78.2, 1: 21.8}   \n",
       "\n",
       "              Quyền sử dụng Executive Lounge Giường cực dài (> 2 mét)  \\\n",
       "missing_ratio                              0                            0   \n",
       "num_values                                 2                            2   \n",
       "value_ratios              {0: 89.8, 1: 10.2}           {0: 83.3, 1: 16.7}   \n",
       "\n",
       "              Két an toàn cỡ laptop    Ấm đun nước điện     Máy pha Cà phê  \\\n",
       "missing_ratio                     0                   0                  0   \n",
       "num_values                        2                   2                  2   \n",
       "value_ratios     {0: 85.7, 1: 14.3}  {1: 82.3, 0: 17.7}  {0: 93.2, 1: 6.8}   \n",
       "\n",
       "                     Nước rửa tay            Bếp nấu Cửa an toàn cho trẻ nhỏ  \\\n",
       "missing_ratio                   0                  0                       0   \n",
       "num_values                      2                  2                       2   \n",
       "value_ratios   {0: 82.9, 1: 17.1}  {0: 95.8, 1: 4.2}      {0: 81.2, 1: 18.8}   \n",
       "\n",
       "                           Bàn ăn    Đồng hồ báo thức        Nhìn ra vườn  \\\n",
       "missing_ratio                   0                   0                   0   \n",
       "num_values                      2                   2                   2   \n",
       "value_ratios   {0: 65.7, 1: 34.3}  {0: 74.6, 1: 25.4}  {0: 82.8, 1: 17.2}   \n",
       "\n",
       "                       Bồn tắm         Giường sofa    Giá phơi quần áo  \\\n",
       "missing_ratio                  0                   0                   0   \n",
       "num_values                     2                   2                   2   \n",
       "value_ratios   {0: 95.0, 1: 5.0}  {0: 85.1, 1: 14.9}  {0: 72.2, 1: 27.8}   \n",
       "\n",
       "                 Hệ thống sưởi            Lò nướng        Bồn tắm spa  \\\n",
       "missing_ratio                   0                   0                  0   \n",
       "num_values                      2                   2                  2   \n",
       "value_ratios   {0: 82.3, 1: 17.7}  {0: 82.9, 1: 17.1}  {0: 96.8, 1: 3.2}   \n",
       "\n",
       "                    Lò vi sóng            Bàn ủi  \\\n",
       "missing_ratio                  0                   0   \n",
       "num_values                     2                   2   \n",
       "value_ratios   {0: 94.2, 1: 5.8}  {0: 60.8, 1: 39.2}   \n",
       "\n",
       "              Các tầng trên chỉ lên được bằng cầu thang  \\\n",
       "missing_ratio                                         0   \n",
       "num_values                                            2   \n",
       "value_ratios                         {0: 78.1, 1: 21.9}   \n",
       "\n",
       "              Các tầng trên đi lên bằng thang máy Khu vực ăn uống ngoài trời  \\\n",
       "missing_ratio                                   0                          0   \n",
       "num_values                                      2                          2   \n",
       "value_ratios                   {1: 54.1, 0: 45.9}          {0: 97.6, 1: 2.4}   \n",
       "\n",
       "               Máy pha trà/cà phê          Quạt máy          Sàn lát gỗ  \\\n",
       "missing_ratio                   0                   0                   0   \n",
       "num_values                      2                   2                   2   \n",
       "value_ratios   {0: 80.1, 1: 19.9}  {0: 63.9, 1: 36.1}  {0: 55.3, 1: 44.7}   \n",
       "\n",
       "                Bàn ủi li quần Hướng nhìn sân trong            Ban công  \\\n",
       "missing_ratio                   0                    0                   0   \n",
       "num_values                      2                    2                   2   \n",
       "value_ratios   {0: 89.4, 1: 10.6}   {0: 79.6, 1: 20.4}  {0: 65.7, 1: 34.3}   \n",
       "\n",
       "                     Hồ bơi riêng Hoàn toàn nằm ở tầng trệt  \\\n",
       "missing_ratio                   0                         0   \n",
       "num_values                      2                         2   \n",
       "value_ratios   {0: 86.9, 1: 13.1}         {0: 92.1, 1: 7.9}   \n",
       "\n",
       "              Phòng tắm riêng trong phòng            Vòi sen  \\\n",
       "missing_ratio                           0                   0   \n",
       "num_values                              2                   2   \n",
       "value_ratios           {0: 58.2, 1: 41.8}  {0: 74.1, 1: 25.9}   \n",
       "\n",
       "              Nắp che ổ cắm điện an toàn                Dép  \\\n",
       "missing_ratio                          0                   0   \n",
       "num_values                             2                   2   \n",
       "value_ratios          {0: 77.4, 1: 22.6}  {1: 90.0, 0: 10.0}   \n",
       "\n",
       "              Máy điều hòa độc lập cho từng phòng    Khu vực phòng ăn  \\\n",
       "missing_ratio                                   0                   0   \n",
       "num_values                                      2                   2   \n",
       "value_ratios                   {0: 86.0, 1: 14.0}  {0: 72.1, 1: 27.9}   \n",
       "\n",
       "              Phòng thay quần áo Có phòng thông nhau qua cửa nối  \\\n",
       "missing_ratio                     0                               0   \n",
       "num_values                        2                               2   \n",
       "value_ratios     {0: 74.8, 1: 25.2}               {0: 90.4, 1: 9.6}   \n",
       "\n",
       "                Ổ điện gần giường Sàn lát gạch/đá cẩm thạch  \\\n",
       "missing_ratio                   0                         0   \n",
       "num_values                      2                         2   \n",
       "value_ratios   {1: 72.6, 0: 27.4}        {0: 60.4, 1: 39.6}   \n",
       "\n",
       "                   Tiện nghi ủi        Nhà vệ sinh            Khăn tắm  \\\n",
       "missing_ratio                   0                  0                   0   \n",
       "num_values                      2                  2                   2   \n",
       "value_ratios   {0: 62.7, 1: 37.3}  {1: 93.2, 0: 6.8}  {1: 90.0, 0: 10.0}   \n",
       "\n",
       "                               TV      Phòng tắm phụ             Minibar  \\\n",
       "missing_ratio                   0                  0                   0   \n",
       "num_values                      2                  2                   2   \n",
       "value_ratios   {1: 82.9, 0: 17.1}  {0: 91.7, 1: 8.3}  {1: 62.9, 0: 37.1}   \n",
       "\n",
       "                   Ra trải giường Nhìn ra địa danh nổi tiếng  \\\n",
       "missing_ratio                   0                          0   \n",
       "num_values                      2                          2   \n",
       "value_ratios   {1: 71.6, 0: 28.4}         {0: 87.8, 1: 12.2}   \n",
       "\n",
       "                    Giấy vệ sinh       Sàn trải thảm           Tủ lạnh  \\\n",
       "missing_ratio                  0                   0                   0   \n",
       "num_values                     2                   2                   2   \n",
       "value_ratios   {1: 92.5, 0: 7.5}  {0: 76.3, 1: 23.7}  {1: 60.4, 0: 39.6}   \n",
       "\n",
       "              Khăn tắm/Bộ khăn trải giường (có thu phí)     Nhìn ra hồ bơi  \\\n",
       "missing_ratio                                         0                  0   \n",
       "num_values                                            2                  2   \n",
       "value_ratios                         {0: 68.8, 1: 31.2}  {0: 95.1, 1: 4.9}   \n",
       "\n",
       "                     Máy vi tính Chậu rửa vệ sinh (bidet)  \\\n",
       "missing_ratio                  0                          0   \n",
       "num_values                     2                          2   \n",
       "value_ratios   {0: 98.3, 1: 1.7}         {0: 53.7, 1: 46.3}   \n",
       "\n",
       "                       Toilet phụ               Sách            Lò sưởi  \\\n",
       "missing_ratio                   0                  0                  0   \n",
       "num_values                      2                  2                  2   \n",
       "value_ratios   {0: 80.7, 1: 19.3}  {0: 96.9, 1: 3.1}  {0: 90.4, 1: 9.6}   \n",
       "\n",
       "                  Phòng tắm riêng           Bếp nhỏ  \\\n",
       "missing_ratio                   0                   0   \n",
       "num_values                      2                   2   \n",
       "value_ratios   {0: 53.1, 1: 46.9}  {0: 79.9, 1: 20.1}   \n",
       "\n",
       "              Xe lăn có thể đi đến mọi nơi trong toàn bộ khuôn viên  \\\n",
       "missing_ratio                                                  0      \n",
       "num_values                                                     2      \n",
       "value_ratios                                  {0: 69.9, 1: 30.1}      \n",
       "\n",
       "                                                            City  \\\n",
       "missing_ratio                                                  0   \n",
       "num_values                                                     4   \n",
       "value_ratios   {'Ha Noi': 28.1, 'TP.Ho Chi Minh': 24.7, 'Da N...   \n",
       "\n",
       "                    Nhìn ra sông    Giá treo quần áo          Sân trong  \\\n",
       "missing_ratio                  0                   0                  0   \n",
       "num_values                     2                   2                  2   \n",
       "value_ratios   {0: 93.3, 1: 6.7}  {1: 75.7, 0: 24.3}  {0: 90.9, 1: 9.1}   \n",
       "\n",
       "                    WiFi miễn phí      Máy sấy tóc  \\\n",
       "missing_ratio                   0                   0   \n",
       "num_values                      2                   2   \n",
       "value_ratios   {1: 79.2, 0: 20.8}  {1: 88.5, 0: 11.5}   \n",
       "\n",
       "              Có lắp đặt máy lọc không khí  \n",
       "missing_ratio                            0  \n",
       "num_values                               2  \n",
       "value_ratios             {0: 94.4, 1: 5.6}  "
      ],
      "text/html": "<div>\n<style scoped>\n    .dataframe tbody tr th:only-of-type {\n        vertical-align: middle;\n    }\n\n    .dataframe tbody tr th {\n        vertical-align: top;\n    }\n\n    .dataframe thead th {\n        text-align: right;\n    }\n</style>\n<table border=\"1\" class=\"dataframe\">\n  <thead>\n    <tr style=\"text-align: right;\">\n      <th></th>\n      <th>Điện thoại</th>\n      <th>Ghế cao dành cho trẻ em</th>\n      <th>Hồ bơi có tầm nhìn</th>\n      <th>Máy sấy quần áo</th>\n      <th>Két an toàn</th>\n      <th>Truyền hình vệ tinh</th>\n      <th>Giường xếp</th>\n      <th>Áo choàng tắm</th>\n      <th>Tủ hoặc phòng để quần áo</th>\n      <th>Đồ bếp</th>\n      <th>Truyền hình cáp</th>\n      <th>Tầm nhìn ra khung cảnh</th>\n      <th>Bàn làm việc</th>\n      <th>Máy giặt</th>\n      <th>Hệ thống cách âm</th>\n      <th>Hồ bơi trên sân thượng</th>\n      <th>Đồ vệ sinh cá nhân miễn phí</th>\n      <th>TV màn hình phẳng</th>\n      <th>Khu vực tiếp khách</th>\n      <th>Máy nướng bánh mỳ</th>\n      <th>Nhìn ra thành phố</th>\n      <th>Điều hòa không khí</th>\n      <th>Bồn tắm hoặc Vòi sen</th>\n      <th>Ghế sofa</th>\n      <th>Bàn ghế ngoài trời</th>\n      <th>Phòng xông hơi</th>\n      <th>Toilet chung</th>\n      <th>Bếp</th>\n      <th>Quyền sử dụng Executive Lounge</th>\n      <th>Giường cực dài (&gt; 2 mét)</th>\n      <th>Két an toàn cỡ laptop</th>\n      <th>Ấm đun nước điện</th>\n      <th>Máy pha Cà phê</th>\n      <th>Nước rửa tay</th>\n      <th>Bếp nấu</th>\n      <th>Cửa an toàn cho trẻ nhỏ</th>\n      <th>Bàn ăn</th>\n      <th>Đồng hồ báo thức</th>\n      <th>Nhìn ra vườn</th>\n      <th>Bồn tắm</th>\n      <th>Giường sofa</th>\n      <th>Giá phơi quần áo</th>\n      <th>Hệ thống sưởi</th>\n      <th>Lò nướng</th>\n      <th>Bồn tắm spa</th>\n      <th>Lò vi sóng</th>\n      <th>Bàn ủi</th>\n      <th>Các tầng trên chỉ lên được bằng cầu thang</th>\n      <th>Các tầng trên đi lên bằng thang máy</th>\n      <th>Khu vực ăn uống ngoài trời</th>\n      <th>Máy pha trà/cà phê</th>\n      <th>Quạt máy</th>\n      <th>Sàn lát gỗ</th>\n      <th>Bàn ủi li quần</th>\n      <th>Hướng nhìn sân trong</th>\n      <th>Ban công</th>\n      <th>Hồ bơi riêng</th>\n      <th>Hoàn toàn nằm ở tầng trệt</th>\n      <th>Phòng tắm riêng trong phòng</th>\n      <th>Vòi sen</th>\n      <th>Nắp che ổ cắm điện an toàn</th>\n      <th>Dép</th>\n      <th>Máy điều hòa độc lập cho từng phòng</th>\n      <th>Khu vực phòng ăn</th>\n      <th>Phòng thay quần áo</th>\n      <th>Có phòng thông nhau qua cửa nối</th>\n      <th>Ổ điện gần giường</th>\n      <th>Sàn lát gạch/đá cẩm thạch</th>\n      <th>Tiện nghi ủi</th>\n      <th>Nhà vệ sinh</th>\n      <th>Khăn tắm</th>\n      <th>TV</th>\n      <th>Phòng tắm phụ</th>\n      <th>Minibar</th>\n      <th>Ra trải giường</th>\n      <th>Nhìn ra địa danh nổi tiếng</th>\n      <th>Giấy vệ sinh</th>\n      <th>Sàn trải thảm</th>\n      <th>Tủ lạnh</th>\n      <th>Khăn tắm/Bộ khăn trải giường (có thu phí)</th>\n      <th>Nhìn ra hồ bơi</th>\n      <th>Máy vi tính</th>\n      <th>Chậu rửa vệ sinh (bidet)</th>\n      <th>Toilet phụ</th>\n      <th>Sách</th>\n      <th>Lò sưởi</th>\n      <th>Phòng tắm riêng</th>\n      <th>Bếp nhỏ</th>\n      <th>Xe lăn có thể đi đến mọi nơi trong toàn bộ khuôn viên</th>\n      <th>City</th>\n      <th>Nhìn ra sông</th>\n      <th>Giá treo quần áo</th>\n      <th>Sân trong</th>\n      <th>WiFi miễn phí</th>\n      <th>Máy sấy tóc</th>\n      <th>Có lắp đặt máy lọc không khí</th>\n    </tr>\n  </thead>\n  <tbody>\n    <tr>\n      <th>missing_ratio</th>\n      <td>0</td>\n      <td>0</td>\n      <td>0</td>\n      <td>0</td>\n      <td>0</td>\n      <td>0</td>\n      <td>0</td>\n      <td>0</td>\n      <td>0</td>\n      <td>0</td>\n      <td>0</td>\n      <td>0</td>\n      <td>0</td>\n      <td>0</td>\n      <td>0</td>\n      <td>0</td>\n      <td>0</td>\n      <td>0</td>\n      <td>0</td>\n      <td>0</td>\n      <td>0</td>\n      <td>0</td>\n      <td>0</td>\n      <td>0</td>\n      <td>0</td>\n      <td>0</td>\n      <td>0</td>\n      <td>0</td>\n      <td>0</td>\n      <td>0</td>\n      <td>0</td>\n      <td>0</td>\n      <td>0</td>\n      <td>0</td>\n      <td>0</td>\n      <td>0</td>\n      <td>0</td>\n      <td>0</td>\n      <td>0</td>\n      <td>0</td>\n      <td>0</td>\n      <td>0</td>\n      <td>0</td>\n      <td>0</td>\n      <td>0</td>\n      <td>0</td>\n      <td>0</td>\n      <td>0</td>\n      <td>0</td>\n      <td>0</td>\n      <td>0</td>\n      <td>0</td>\n      <td>0</td>\n      <td>0</td>\n      <td>0</td>\n      <td>0</td>\n      <td>0</td>\n      <td>0</td>\n      <td>0</td>\n      <td>0</td>\n      <td>0</td>\n      <td>0</td>\n      <td>0</td>\n      <td>0</td>\n      <td>0</td>\n      <td>0</td>\n      <td>0</td>\n      <td>0</td>\n      <td>0</td>\n      <td>0</td>\n      <td>0</td>\n      <td>0</td>\n      <td>0</td>\n      <td>0</td>\n      <td>0</td>\n      <td>0</td>\n      <td>0</td>\n      <td>0</td>\n      <td>0</td>\n      <td>0</td>\n      <td>0</td>\n      <td>0</td>\n      <td>0</td>\n      <td>0</td>\n      <td>0</td>\n      <td>0</td>\n      <td>0</td>\n      <td>0</td>\n      <td>0</td>\n      <td>0</td>\n      <td>0</td>\n      <td>0</td>\n      <td>0</td>\n      <td>0</td>\n      <td>0</td>\n      <td>0</td>\n    </tr>\n    <tr>\n      <th>num_values</th>\n      <td>2</td>\n      <td>2</td>\n      <td>2</td>\n      <td>2</td>\n      <td>2</td>\n      <td>2</td>\n      <td>2</td>\n      <td>2</td>\n      <td>2</td>\n      <td>2</td>\n      <td>2</td>\n      <td>2</td>\n      <td>2</td>\n      <td>2</td>\n      <td>2</td>\n      <td>2</td>\n      <td>2</td>\n      <td>2</td>\n      <td>2</td>\n      <td>2</td>\n      <td>2</td>\n      <td>2</td>\n      <td>2</td>\n      <td>2</td>\n      <td>2</td>\n      <td>2</td>\n      <td>2</td>\n      <td>2</td>\n      <td>2</td>\n      <td>2</td>\n      <td>2</td>\n      <td>2</td>\n      <td>2</td>\n      <td>2</td>\n      <td>2</td>\n      <td>2</td>\n      <td>2</td>\n      <td>2</td>\n      <td>2</td>\n      <td>2</td>\n      <td>2</td>\n      <td>2</td>\n      <td>2</td>\n      <td>2</td>\n      <td>2</td>\n      <td>2</td>\n      <td>2</td>\n      <td>2</td>\n      <td>2</td>\n      <td>2</td>\n      <td>2</td>\n      <td>2</td>\n      <td>2</td>\n      <td>2</td>\n      <td>2</td>\n      <td>2</td>\n      <td>2</td>\n      <td>2</td>\n      <td>2</td>\n      <td>2</td>\n      <td>2</td>\n      <td>2</td>\n      <td>2</td>\n      <td>2</td>\n      <td>2</td>\n      <td>2</td>\n      <td>2</td>\n      <td>2</td>\n      <td>2</td>\n      <td>2</td>\n      <td>2</td>\n      <td>2</td>\n      <td>2</td>\n      <td>2</td>\n      <td>2</td>\n      <td>2</td>\n      <td>2</td>\n      <td>2</td>\n      <td>2</td>\n      <td>2</td>\n      <td>2</td>\n      <td>2</td>\n      <td>2</td>\n      <td>2</td>\n      <td>2</td>\n      <td>2</td>\n      <td>2</td>\n      <td>2</td>\n      <td>2</td>\n      <td>4</td>\n      <td>2</td>\n      <td>2</td>\n      <td>2</td>\n      <td>2</td>\n      <td>2</td>\n      <td>2</td>\n    </tr>\n    <tr>\n      <th>value_ratios</th>\n      <td>{1: 65.2, 0: 34.8}</td>\n      <td>{0: 92.7, 1: 7.3}</td>\n      <td>{0: 87.9, 1: 12.1}</td>\n      <td>{0: 79.5, 1: 20.5}</td>\n      <td>{1: 50.9, 0: 49.1}</td>\n      <td>{0: 58.9, 1: 41.1}</td>\n      <td>{0: 92.4, 1: 7.6}</td>\n      <td>{0: 65.9, 1: 34.1}</td>\n      <td>{1: 82.6, 0: 17.4}</td>\n      <td>{0: 78.5, 1: 21.5}</td>\n      <td>{1: 68.1, 0: 31.9}</td>\n      <td>{0: 89.9, 1: 10.1}</td>\n      <td>{1: 79.8, 0: 20.2}</td>\n      <td>{0: 83.4, 1: 16.6}</td>\n      <td>{0: 50.5, 1: 49.5}</td>\n      <td>{0: 91.9, 1: 8.1}</td>\n      <td>{1: 88.0, 0: 12.0}</td>\n      <td>{1: 88.6, 0: 11.4}</td>\n      <td>{1: 56.1, 0: 43.9}</td>\n      <td>{0: 87.1, 1: 12.9}</td>\n      <td>{1: 54.2, 0: 45.8}</td>\n      <td>{1: 77.9, 0: 22.1}</td>\n      <td>{1: 68.1, 0: 31.9}</td>\n      <td>{0: 63.9, 1: 36.1}</td>\n      <td>{0: 93.9, 1: 6.1}</td>\n      <td>{0: 87.4, 1: 12.6}</td>\n      <td>{0: 83.0, 1: 17.0}</td>\n      <td>{0: 78.2, 1: 21.8}</td>\n      <td>{0: 89.8, 1: 10.2}</td>\n      <td>{0: 83.3, 1: 16.7}</td>\n      <td>{0: 85.7, 1: 14.3}</td>\n      <td>{1: 82.3, 0: 17.7}</td>\n      <td>{0: 93.2, 1: 6.8}</td>\n      <td>{0: 82.9, 1: 17.1}</td>\n      <td>{0: 95.8, 1: 4.2}</td>\n      <td>{0: 81.2, 1: 18.8}</td>\n      <td>{0: 65.7, 1: 34.3}</td>\n      <td>{0: 74.6, 1: 25.4}</td>\n      <td>{0: 82.8, 1: 17.2}</td>\n      <td>{0: 95.0, 1: 5.0}</td>\n      <td>{0: 85.1, 1: 14.9}</td>\n      <td>{0: 72.2, 1: 27.8}</td>\n      <td>{0: 82.3, 1: 17.7}</td>\n      <td>{0: 82.9, 1: 17.1}</td>\n      <td>{0: 96.8, 1: 3.2}</td>\n      <td>{0: 94.2, 1: 5.8}</td>\n      <td>{0: 60.8, 1: 39.2}</td>\n      <td>{0: 78.1, 1: 21.9}</td>\n      <td>{1: 54.1, 0: 45.9}</td>\n      <td>{0: 97.6, 1: 2.4}</td>\n      <td>{0: 80.1, 1: 19.9}</td>\n      <td>{0: 63.9, 1: 36.1}</td>\n      <td>{0: 55.3, 1: 44.7}</td>\n      <td>{0: 89.4, 1: 10.6}</td>\n      <td>{0: 79.6, 1: 20.4}</td>\n      <td>{0: 65.7, 1: 34.3}</td>\n      <td>{0: 86.9, 1: 13.1}</td>\n      <td>{0: 92.1, 1: 7.9}</td>\n      <td>{0: 58.2, 1: 41.8}</td>\n      <td>{0: 74.1, 1: 25.9}</td>\n      <td>{0: 77.4, 1: 22.6}</td>\n      <td>{1: 90.0, 0: 10.0}</td>\n      <td>{0: 86.0, 1: 14.0}</td>\n      <td>{0: 72.1, 1: 27.9}</td>\n      <td>{0: 74.8, 1: 25.2}</td>\n      <td>{0: 90.4, 1: 9.6}</td>\n      <td>{1: 72.6, 0: 27.4}</td>\n      <td>{0: 60.4, 1: 39.6}</td>\n      <td>{0: 62.7, 1: 37.3}</td>\n      <td>{1: 93.2, 0: 6.8}</td>\n      <td>{1: 90.0, 0: 10.0}</td>\n      <td>{1: 82.9, 0: 17.1}</td>\n      <td>{0: 91.7, 1: 8.3}</td>\n      <td>{1: 62.9, 0: 37.1}</td>\n      <td>{1: 71.6, 0: 28.4}</td>\n      <td>{0: 87.8, 1: 12.2}</td>\n      <td>{1: 92.5, 0: 7.5}</td>\n      <td>{0: 76.3, 1: 23.7}</td>\n      <td>{1: 60.4, 0: 39.6}</td>\n      <td>{0: 68.8, 1: 31.2}</td>\n      <td>{0: 95.1, 1: 4.9}</td>\n      <td>{0: 98.3, 1: 1.7}</td>\n      <td>{0: 53.7, 1: 46.3}</td>\n      <td>{0: 80.7, 1: 19.3}</td>\n      <td>{0: 96.9, 1: 3.1}</td>\n      <td>{0: 90.4, 1: 9.6}</td>\n      <td>{0: 53.1, 1: 46.9}</td>\n      <td>{0: 79.9, 1: 20.1}</td>\n      <td>{0: 69.9, 1: 30.1}</td>\n      <td>{'Ha Noi': 28.1, 'TP.Ho Chi Minh': 24.7, 'Da N...</td>\n      <td>{0: 93.3, 1: 6.7}</td>\n      <td>{1: 75.7, 0: 24.3}</td>\n      <td>{0: 90.9, 1: 9.1}</td>\n      <td>{1: 79.2, 0: 20.8}</td>\n      <td>{1: 88.5, 0: 11.5}</td>\n      <td>{0: 94.4, 1: 5.6}</td>\n    </tr>\n  </tbody>\n</table>\n</div>"
     },
     "metadata": {},
     "execution_count": 21
    }
   ],
   "source": [
    "cat_cols = list(set(train_X_df.columns) - set(num_cols))\n",
    "cat_df =train_X_df[cat_cols]\n",
    "def missing_ratio(df):\n",
    "    return (df.isna().mean() * 100).round(1)\n",
    "def num_values(df):\n",
    "    return df.nunique()\n",
    "def value_ratios(c):\n",
    "    return dict((c.value_counts(normalize=True) * 100).round(1))\n",
    "cat_df.agg([missing_ratio, num_values, value_ratios])"
   ]
  },
  {
   "cell_type": "markdown",
   "metadata": {},
   "source": [
    "Một số trường có vẻ bị chênh lệch quá nhiều giưa 2 giá trị 0-1. Có thể kể tới như \"Giường xếp\", \"Giấy vệ sinh\",... Liệu có cần bỏ các cột này?\n",
    "-  Theo em nghĩ là vì các cột này "
   ]
  },
  {
   "cell_type": "markdown",
   "metadata": {},
   "source": [
    "---"
   ]
  },
  {
   "cell_type": "markdown",
   "metadata": {},
   "source": [
    "## Tiền xử lý (tập huấn luyện)"
   ]
  },
  {
   "cell_type": "code",
   "execution_count": 22,
   "metadata": {},
   "outputs": [
    {
     "output_type": "execute_result",
     "data": {
      "text/plain": [
       "(8573, 97)"
      ]
     },
     "metadata": {},
     "execution_count": 22
    }
   ],
   "source": [
    "train_X_df.shape"
   ]
  },
  {
   "cell_type": "markdown",
   "metadata": {},
   "source": [
    "- Ở ColAdderDropper() ta sẽ tiến hành gom các cột tiện nghi/dịch vụ *cùng 1 loại*, hoặc *có điểm chung* lại để giảm số cột\n",
    "\n",
    "VD: Các thuộc tính 'Sàn trải thảm', 'Sàn lát gạch/đá cẩm thạch', 'Sàn lát gỗ' sẽ được gom lại thành 1 cột là 'lot_san', với:\n",
    "\n",
    "- 'Sàn trải thảm' = 1\n",
    "- 'Sàn lát gạch/đá cẩm thạch' = 2\n",
    "- 'Sàn lát gỗ' = 3\n"
   ]
  },
  {
   "cell_type": "code",
   "execution_count": 23,
   "metadata": {},
   "outputs": [],
   "source": [
    "# Ý tưởng: gom các tiện ích cùng 1 loại, hoặc có điểm chung lại để giảm số cột\n",
    "\n",
    "class ColAdderDropper(BaseEstimator, TransformerMixin):\n",
    "    def __init__(self, may_pha_tra_cf=True,\n",
    "                bep_an=True, phong_tam=True, ket_sat=True,toilet=True,\n",
    "                TV=True, dieu_hoa=True,lot_san=True, tu_quan_ao=True,\n",
    "                view=True, ban_an=True, ui_quan_ao=True, giuong=True,\n",
    "                tien_ich_cho_tre_em=True, ho_boi=True,\n",
    "                khu_ngoai_troi=True, tien_ich_phong=True):\n",
    "        \n",
    "        self.may_pha_tra_cf = may_pha_tra_cf\n",
    "        self.bep_an = bep_an\n",
    "        self.phong_tam = phong_tam\n",
    "        self.ket_sat = ket_sat\n",
    "        self.toilet = toilet\n",
    "        self.TV = TV\n",
    "        self.dieu_hoa = dieu_hoa\n",
    "        self.lot_san = lot_san\n",
    "        self.tu_quan_ao = tu_quan_ao\n",
    "        self.view = view\n",
    "        self.ban_an = ban_an\n",
    "        self.ui_quan_ao = ui_quan_ao\n",
    "        self.giuong = giuong\n",
    "        self.tien_ich_cho_tre_em = tien_ich_cho_tre_em\n",
    "        self.ho_boi = ho_boi\n",
    "        self.khu_ngoai_troi = khu_ngoai_troi\n",
    "        self.tien_ich_phong = tien_ich_phong\n",
    "        \n",
    "    def fit(self, X_df, y=None):\n",
    "        return self\n",
    "    \n",
    "    def transform(self, X_df, y=None):\n",
    "        df = X_df.copy()\n",
    "        if self.may_pha_tra_cf:\n",
    "            col1 = 'Máy pha trà/cà phê'\n",
    "            col2 = 'Máy pha Cà phê'\n",
    "            for i in df.index:\n",
    "                if df[col1][i] == 0 and df[col2][i] == 0:\n",
    "                    pass\n",
    "                else:\n",
    "                    df[col1][i] = 1\n",
    "\n",
    "            df.drop(col2, axis=1, inplace=True)\n",
    "            df = df.rename(columns={col1 : 'may_pha_tra_cf'})\n",
    "        if self.bep_an:\n",
    "            col1 = 'Bếp'\n",
    "            col2 = 'Bếp nhỏ'\n",
    "            col3 = 'Đồ bếp'\n",
    "            col4 = 'Bếp nấu'\n",
    "            col5 = 'Lò vi sóng'\n",
    "            col6 = 'Máy nướng bánh mỳ'\n",
    "            col7 = 'Lò nướng'\n",
    "            for i in df.index:\n",
    "                if df[col1][i] == 0 and df[col2][i] == 0 and df[col3][i] == 0 and df[col4][i] == 0 and df[col5][i] == 0 and df[col6][i] == 0 and df[col7][i] == 0:\n",
    "                    pass\n",
    "                else:\n",
    "                    if df[col5][i] == 1:\n",
    "                        if df[col6][i] == 1:\n",
    "                            if df[col7][i] == 1:\n",
    "                                df[col1][i] = 3\n",
    "                            else:\n",
    "                                df[col1][i] = 2\n",
    "                        else:\n",
    "                            df[col1][i] = 1\n",
    "                    else:\n",
    "                        df[col1][i] = 1\n",
    "\n",
    "\n",
    "            df.drop([col2, col3, col4, col5, col6, col7], axis=1, inplace=True)\n",
    "            df = df.rename(columns={col1 : 'bep_an'})\n",
    "\n",
    "        if self.phong_tam:\n",
    "            col1 = 'Vòi sen'\n",
    "            col2 = 'Bồn tắm'\n",
    "            col3 = 'Bồn tắm hoặc Vòi sen'\n",
    "            col4 = 'Bồn tắm spa'\n",
    "            col5 = 'Phòng tắm riêng trong phòng'\n",
    "            col6 = 'Phòng tắm phụ'\n",
    "            col7 = 'Phòng tắm riêng'\n",
    "\n",
    "            for i in df.index:\n",
    "                if df[col1][i] == 0 and df[col2][i] == 0 and df[col3][i] == 0 and df[col4][i] == 0 and df[col5][i] == 0 and df[col6][i] == 0 and df[col7][i] == 0:\n",
    "                    df[col1][i] = 1\n",
    "                else:\n",
    "                    if df[col2][i] == 1 or df[col3][i] == 1 or df[col5][i] == 1 or df[col6][i] == 1 or df[col7][i] == 1:\n",
    "                        df[col1][i] = 2\n",
    "                    elif df[col4][i] == 1:\n",
    "                        df[col1][i] = 3\n",
    "                    else:\n",
    "                        df[col1][i] = 1\n",
    "            df.drop([col2, col3, col4, col5, col6, col7], axis=1, inplace=True)\n",
    "            df = df.rename(columns={col1 : 'phong_tam'})\n",
    "            \n",
    "        if self.ket_sat:\n",
    "            col1 = 'Két an toàn'\n",
    "            col2 = 'Két an toàn cỡ laptop'\n",
    "            for i in df.index:\n",
    "                if df[col1][i] == 0 and df[col2][i] == 0:\n",
    "                    pass\n",
    "                else:\n",
    "                    if df[col2][i] == 1:\n",
    "                        df[col1][i] = 2\n",
    "\n",
    "            df.drop(col2, axis=1, inplace=True)\n",
    "            df = df.rename(columns={col1 : 'ket_sat'})\n",
    "        if self.toilet:\n",
    "            col1 = 'Nhà vệ sinh'\n",
    "            col2 = 'Toilet phụ'\n",
    "            col3 = 'Toilet chung'\n",
    "\n",
    "            for i in df.index:\n",
    "                if df[col1][i] == 0 and df[col2][i] == 0 and df[col3][i] == 0:\n",
    "                    pass\n",
    "                else:\n",
    "                    df[col1][i] = 1\n",
    "\n",
    "            df.drop([col2, col3], axis=1, inplace=True)\n",
    "            df = df.rename(columns={col1 : 'toilet'})\n",
    "        if self.TV:\n",
    "            col1 = 'TV'\n",
    "            col2 = 'TV màn hình phẳng'\n",
    "            for i in df.index:\n",
    "                if df[col1][i] == 0 and df[col2][i] == 0:\n",
    "                    pass\n",
    "                else:\n",
    "                    df[col1][i] = 1\n",
    "\n",
    "            df.drop(col2, axis=1, inplace=True)\n",
    "            df = df.rename(columns={col1 : 'TV'})\n",
    "        if self.dieu_hoa:\n",
    "            col1 = 'Quạt máy'\n",
    "            col2 = 'Điều hòa không khí'\n",
    "            col3 = 'Hệ thống sưởi'\n",
    "            col4 = 'Máy điều hòa độc lập cho từng phòng'\n",
    "            col5 = 'Có lắp đặt máy lọc không khí'\n",
    "            col6 = 'Lò sưởi'\n",
    "\n",
    "            for i in df.index:\n",
    "                if df[col1][i] == 0 and df[col2][i] == 0 and df[col3][i] == 0 and df[col4][i] == 0 and df[col5][i] == 0 and df[col6][i] == 0:\n",
    "                    pass\n",
    "                else:\n",
    "                    if df[col2][i] == 1 or df[col4][i] == 1:\n",
    "                        df[col1][i] = 2\n",
    "                    if df[col3][i] == 1 or df[col6][i] == 1:\n",
    "                        df[col1][i] = 3\n",
    "                    if df[col5][i] == 1:\n",
    "                        df[col1][i] = 4\n",
    "\n",
    "\n",
    "            df.drop([col2, col3, col4, col5, col6], axis=1, inplace=True)\n",
    "            df = df.rename(columns={col1 : 'dieu_hoa'})\n",
    "        if self.lot_san:\n",
    "            col1 = 'Sàn trải thảm'\n",
    "            col2 = 'Sàn lát gạch/đá cẩm thạch'\n",
    "            col3 = 'Sàn lát gỗ'\n",
    "\n",
    "            for i in df.index:\n",
    "                if df[col1][i] == 0 and df[col2][i] == 0 and df[col3][i] == 0:\n",
    "                    pass\n",
    "                else:\n",
    "                    if df[col2][i] == 1:\n",
    "                        df[col1][i] = 2\n",
    "                    if df[col3][i] == 1:\n",
    "                        df[col1][i] = 3\n",
    "\n",
    "            df.drop([col2, col3], axis=1, inplace=True)\n",
    "            df = df.rename(columns={col1 : 'lot_san'})\n",
    "        if self.tu_quan_ao:\n",
    "            col1 = 'Tủ hoặc phòng để quần áo'\n",
    "            col2 = 'Giá treo quần áo'\n",
    "            col3 = 'Phòng thay quần áo'\n",
    "            col4 = 'Giá phơi quần áo'\n",
    "\n",
    "            for i in df.index:\n",
    "                if df[col1][i] == 0 and df[col2][i] == 0 and df[col3][i] == 0 and df[col4][i] == 0:\n",
    "                    pass\n",
    "                else:\n",
    "                    df[col1][i] = 1\n",
    "\n",
    "            df.drop([col2, col3, col4], axis=1, inplace=True)\n",
    "            df = df.rename(columns={col1 : 'tu_quan_ao'})            \n",
    "        if self.view:\n",
    "            col1 = 'Nhìn ra thành phố'\n",
    "            col2 = 'Nhìn ra hồ bơi'\n",
    "            col3 = 'Tầm nhìn ra khung cảnh'\n",
    "            col4 = 'Nhìn ra sông'\n",
    "            col5 = 'Nhìn ra địa danh nổi tiếng'\n",
    "            col6 = 'Nhìn ra vườn'\n",
    "            col7 = 'Hướng nhìn sân trong'\n",
    "\n",
    "            for i in df.index:\n",
    "                if df[col1][i] == 0 and df[col2][i] == 0 and df[col3][i] == 0 and df[col4][i] == 0 and df[col5][i] == 0 and df[col6][i] == 0 and df[col7][i] == 0:\n",
    "                    pass\n",
    "                else:\n",
    "                    if df[col2][i] == 1:\n",
    "                        df[col1][i] = 1\n",
    "                    if df[col1][i] == 1 or df[col3][i] == 1 or df[col7][i] == 1:\n",
    "                        df[col1][i] = 2\n",
    "                    if df[col6][i] == 1:\n",
    "                        df[col1][i] = 3\n",
    "                    if df[col4][i] == 1 or df[col5][i] == 1:\n",
    "                        df[col1][i] = 4\n",
    "\n",
    "            df.drop([col2, col3, col4, col5, col6, col7], axis=1, inplace=True)\n",
    "            df = df.rename(columns={col1 : 'view'})\n",
    "        if self.ban_an:\n",
    "            col1 = 'Bàn ăn'\n",
    "            col2 = 'Khu vực phòng ăn'\n",
    "            for i in df.index:\n",
    "                if df[col1][i] == 0 and df[col2][i] == 0:\n",
    "                    pass\n",
    "                else:\n",
    "                    df[col1][i] = 1\n",
    "\n",
    "            df.drop(col2, axis=1, inplace=True)\n",
    "            df = df.rename(columns={col1 : 'ban_an'})\n",
    "        if self.ui_quan_ao:\n",
    "            col1 = 'Tiện nghi ủi'\n",
    "            col2 = 'Bàn ủi'\n",
    "            col3 = 'Bàn ủi li quần'\n",
    "\n",
    "            for i in df.index:\n",
    "                if df[col1][i] == 0 and df[col2][i] == 0 and df[col3][i] == 0:\n",
    "                    pass\n",
    "                else:\n",
    "                    df[col1][i] = 1\n",
    "\n",
    "            df.drop([col2, col3], axis=1, inplace=True)\n",
    "            df = df.rename(columns={col1 : 'ui_quan_ao'})\n",
    "        if self.giuong:\n",
    "            col1 = 'Giường cực dài (> 2 mét)'\n",
    "            col2 = 'Giường sofa'\n",
    "            col3 = 'Giường xếp'\n",
    "\n",
    "            for i in df.index:\n",
    "                if df[col1][i] == 0 and df[col2][i] == 0 and df[col3][i] == 0:\n",
    "                    df[col1][i] = 1\n",
    "                else:\n",
    "                    if df[col3][i] == 1:\n",
    "                        df[col1][i] = 1\n",
    "                    if df[col1][i] == 1 or df[col2][i] == 1:\n",
    "                        df[col1][i] = 2\n",
    "\n",
    "            df.drop([col2, col3], axis=1, inplace=True)\n",
    "            df = df.rename(columns={col1 : 'giuong'})\n",
    "        if self.tien_ich_cho_tre_em:\n",
    "            col1 = 'Ghế cao dành cho trẻ em'\n",
    "            col2 = 'Cửa an toàn cho trẻ nhỏ'\n",
    "            col3 = 'Nắp che ổ cắm điện an toàn'\n",
    "            for i in df.index:\n",
    "                if df[col1][i] == 0 and df[col2][i] == 0 and df[col3][i] == 0:\n",
    "                    pass\n",
    "                else:\n",
    "                    df[col1][i] = 1\n",
    "\n",
    "            df.drop([col2, col3], axis=1, inplace=True)\n",
    "            df = df.rename(columns={col1 : 'tien_ich_cho_tre_em'})\n",
    "        if self.ho_boi:\n",
    "            col1 = 'Hồ bơi trên sân thượng'\n",
    "            col2 = 'Hồ bơi có tầm nhìn'\n",
    "            col3 = 'Hồ bơi riêng'\n",
    "\n",
    "            for i in df.index:\n",
    "                if df[col1][i] == 0 and df[col2][i] == 0 and df[col3][i] == 0:\n",
    "                    pass\n",
    "                else:\n",
    "                    if df[col3][i] == 1:\n",
    "                        df[col1][i] = 1\n",
    "                    if df[col1][i] == 1 or df[col2][i] == 1:\n",
    "                        df[col1][i] = 2\n",
    "\n",
    "            df.drop([col2, col3], axis=1, inplace=True)\n",
    "            df = df.rename(columns={col1 : 'ho_boi'})            \n",
    "        if self.khu_ngoai_troi:\n",
    "            col1 = 'Khu vực ăn uống ngoài trời'\n",
    "            col2 = 'Bàn ghế ngoài trời'\n",
    "            for i in df.index:\n",
    "                if df[col1][i] == 0 and df[col2][i] == 0:\n",
    "                    pass\n",
    "                else:\n",
    "                    df[col1][i] = 1\n",
    "\n",
    "            df.drop(col2, axis=1, inplace=True)\n",
    "            df = df.rename(columns={col1 : 'khu_ngoai_troi'})\n",
    "        if self.tien_ich_phong:\n",
    "            col1 = 'Áo choàng tắm'\n",
    "            col2 = 'Khăn tắm'\n",
    "            col3 = 'Khăn tắm/Bộ khăn trải giường (có thu phí)'\n",
    "\n",
    "            for i in df.index:\n",
    "                if df[col1][i] == 0 and df[col2][i] == 0:\n",
    "                    pass\n",
    "                if df[col3][i] == 1:\n",
    "                    df[col1][i] = 0\n",
    "                if df[col1][i] == 1 or df[col2][i] == 1:\n",
    "                    df[col1][i] = 1\n",
    "\n",
    "            df.drop([col2, col3], axis=1, inplace=True)\n",
    "            df = df.rename(columns={col1 : 'tien_ich_phong'})\n",
    "        return df"
   ]
  },
  {
   "cell_type": "code",
   "execution_count": 24,
   "metadata": {},
   "outputs": [],
   "source": [
    "nume_cols = ['dien_tich_m2']\n",
    "unorder_cate_cols = ['City']\n",
    "feature_cols = ['Đồ vệ sinh cá nhân miễn phí',\n",
    "       'tien_ich_phong', 'ket_sat', 'toilet', 'Bàn làm việc',\n",
    "       'Khu vực tiếp khách', 'TV', 'Dép', 'Tủ lạnh', 'Điện thoại',\n",
    "       'Máy sấy tóc', 'lot_san', 'Ấm đun nước điện', 'Truyền hình cáp',\n",
    "       'tu_quan_ao', 'view',\n",
    "       'Hệ thống cách âm', 'Minibar', 'WiFi miễn phí', 'Ghế sofa', 'bep_an',\n",
    "       'Máy giặt', 'Đồng hồ báo thức', 'ban_an',\n",
    "       'Ổ điện gần giường', 'Giấy vệ sinh',\n",
    "        'ui_quan_ao', 'giuong',\n",
    "       'Truyền hình vệ tinh', 'Ban công', 'Quyền sử dụng Executive Lounge',\n",
    "       'Ra trải giường', 'may_pha_tra_cf', 'Máy sấy quần áo',\n",
    "       'Có phòng thông nhau qua cửa nối', 'Chậu rửa vệ sinh (bidet)',\n",
    "       'Các tầng trên đi lên bằng thang máy',\n",
    "       'Xe lăn có thể đi đến mọi nơi trong toàn bộ khuôn viên', 'Máy vi tính',\n",
    "       'dieu_hoa', 'tien_ich_cho_tre_em', 'Hoàn toàn nằm ở tầng trệt',\n",
    "       'Các tầng trên chỉ lên được bằng cầu thang', 'Nước rửa tay', 'ho_boi',\n",
    "       'Sách', 'khu_ngoai_troi', 'Phòng xông hơi', 'Sân trong']\n",
    "\n",
    "# Điền các giá trị thiếu nếu có cho cột dien_tich_m2\n",
    "nume_col_transformer = SimpleImputer(strategy = 'mean')\n",
    "\n",
    "# Tiến hành OneHotEncoded cho cột 'City'\n",
    "unorder_cate_col_transformer = Pipeline(steps = [\n",
    "    ('imputer', SimpleImputer(strategy = 'most_frequent')),\n",
    "    ('one_hot_encoder', OneHotEncoder())])\n",
    "\n",
    "# Điền các giá trị thiếu nếu có cho các cột thuộc tính còn lại\n",
    "feature_col_transformer = SimpleImputer(strategy = 'most_frequent')\n",
    "\n",
    "col_transformer = ColumnTransformer(transformers = [\n",
    "    ('nume_col_transformer', nume_col_transformer, nume_cols),\n",
    "    ('unorder_cate_col_transformer', unorder_cate_col_transformer, unorder_cate_cols),\n",
    "    ('feature_col_transformer', feature_col_transformer, feature_cols)])\n",
    "\n",
    "# Cuối cùng, ta dùng StandardScaler() để chuẩn hóa\n",
    "preprocess_pipeline = Pipeline(steps = [('col_adderdropper', ColAdderDropper()),\n",
    "                                           ('col_transformer', col_transformer),\n",
    "                                           ('col_normalizer', StandardScaler())])"
   ]
  },
  {
   "cell_type": "code",
   "execution_count": 25,
   "metadata": {},
   "outputs": [
    {
     "output_type": "execute_result",
     "data": {
      "text/plain": [
       "Pipeline(steps=[('col_adderdropper', ColAdderDropper()),\n",
       "                ('col_transformer',\n",
       "                 ColumnTransformer(transformers=[('nume_col_transformer',\n",
       "                                                  SimpleImputer(),\n",
       "                                                  ['dien_tich_m2']),\n",
       "                                                 ('unorder_cate_col_transformer',\n",
       "                                                  Pipeline(steps=[('imputer',\n",
       "                                                                   SimpleImputer(strategy='most_frequent')),\n",
       "                                                                  ('one_hot_encoder',\n",
       "                                                                   OneHotEncoder())]),\n",
       "                                                  ['City']),\n",
       "                                                 ('feature_col_transformer',\n",
       "                                                  SimpleImput...\n",
       "                                                   'Khu vực tiếp khách',\n",
       "                                                   'TV', 'Dép', 'Tủ lạnh',\n",
       "                                                   'Điện thoại',\n",
       "                                                   'Máy sấy tóc', 'lot_san',\n",
       "                                                   'Ấm đun nước điện',\n",
       "                                                   'Truyền hình cáp',\n",
       "                                                   'tu_quan_ao', 'view',\n",
       "                                                   'Hệ thống cách âm',\n",
       "                                                   'Minibar', 'WiFi miễn phí',\n",
       "                                                   'Ghế sofa', 'bep_an',\n",
       "                                                   'Máy giặt',\n",
       "                                                   'Đồng hồ báo thức', 'ban_an',\n",
       "                                                   'Ổ điện gần giường',\n",
       "                                                   'Giấy vệ sinh', 'ui_quan_ao',\n",
       "                                                   'giuong',\n",
       "                                                   'Truyền hình vệ tinh',\n",
       "                                                   'Ban công', ...])])),\n",
       "                ('col_normalizer', StandardScaler())])"
      ],
      "text/html": "<style>div.sk-top-container {color: black;background-color: white;}div.sk-toggleable {background-color: white;}label.sk-toggleable__label {cursor: pointer;display: block;width: 100%;margin-bottom: 0;padding: 0.2em 0.3em;box-sizing: border-box;text-align: center;}div.sk-toggleable__content {max-height: 0;max-width: 0;overflow: hidden;text-align: left;background-color: #f0f8ff;}div.sk-toggleable__content pre {margin: 0.2em;color: black;border-radius: 0.25em;background-color: #f0f8ff;}input.sk-toggleable__control:checked~div.sk-toggleable__content {max-height: 200px;max-width: 100%;overflow: auto;}div.sk-estimator input.sk-toggleable__control:checked~label.sk-toggleable__label {background-color: #d4ebff;}div.sk-label input.sk-toggleable__control:checked~label.sk-toggleable__label {background-color: #d4ebff;}input.sk-hidden--visually {border: 0;clip: rect(1px 1px 1px 1px);clip: rect(1px, 1px, 1px, 1px);height: 1px;margin: -1px;overflow: hidden;padding: 0;position: absolute;width: 1px;}div.sk-estimator {font-family: monospace;background-color: #f0f8ff;margin: 0.25em 0.25em;border: 1px dotted black;border-radius: 0.25em;box-sizing: border-box;}div.sk-estimator:hover {background-color: #d4ebff;}div.sk-parallel-item::after {content: \"\";width: 100%;border-bottom: 1px solid gray;flex-grow: 1;}div.sk-label:hover label.sk-toggleable__label {background-color: #d4ebff;}div.sk-serial::before {content: \"\";position: absolute;border-left: 1px solid gray;box-sizing: border-box;top: 2em;bottom: 0;left: 50%;}div.sk-serial {display: flex;flex-direction: column;align-items: center;background-color: white;}div.sk-item {z-index: 1;}div.sk-parallel {display: flex;align-items: stretch;justify-content: center;background-color: white;}div.sk-parallel-item {display: flex;flex-direction: column;position: relative;background-color: white;}div.sk-parallel-item:first-child::after {align-self: flex-end;width: 50%;}div.sk-parallel-item:last-child::after {align-self: flex-start;width: 50%;}div.sk-parallel-item:only-child::after {width: 0;}div.sk-dashed-wrapped {border: 1px dashed gray;margin: 0.2em;box-sizing: border-box;padding-bottom: 0.1em;background-color: white;position: relative;}div.sk-label label {font-family: monospace;font-weight: bold;background-color: white;display: inline-block;line-height: 1.2em;}div.sk-label-container {position: relative;z-index: 2;text-align: center;}div.sk-container {display: inline-block;position: relative;}</style><div class=\"sk-top-container\"><div class=\"sk-container\"><div class=\"sk-item sk-dashed-wrapped\"><div class=\"sk-label-container\"><div class=\"sk-label sk-toggleable\"><input class=\"sk-toggleable__control sk-hidden--visually\" id=\"2f46a1d9-d9d3-4a8d-a907-5d6d952dac99\" type=\"checkbox\" ><label class=\"sk-toggleable__label\" for=\"2f46a1d9-d9d3-4a8d-a907-5d6d952dac99\">Pipeline</label><div class=\"sk-toggleable__content\"><pre>Pipeline(steps=[('col_adderdropper', ColAdderDropper()),\n                ('col_transformer',\n                 ColumnTransformer(transformers=[('nume_col_transformer',\n                                                  SimpleImputer(),\n                                                  ['dien_tich_m2']),\n                                                 ('unorder_cate_col_transformer',\n                                                  Pipeline(steps=[('imputer',\n                                                                   SimpleImputer(strategy='most_frequent')),\n                                                                  ('one_hot_encoder',\n                                                                   OneHotEncoder())]),\n                                                  ['City']),\n                                                 ('feature_col_transformer',\n                                                  SimpleImput...\n                                                   'Khu vực tiếp khách',\n                                                   'TV', 'Dép', 'Tủ lạnh',\n                                                   'Điện thoại',\n                                                   'Máy sấy tóc', 'lot_san',\n                                                   'Ấm đun nước điện',\n                                                   'Truyền hình cáp',\n                                                   'tu_quan_ao', 'view',\n                                                   'Hệ thống cách âm',\n                                                   'Minibar', 'WiFi miễn phí',\n                                                   'Ghế sofa', 'bep_an',\n                                                   'Máy giặt',\n                                                   'Đồng hồ báo thức', 'ban_an',\n                                                   'Ổ điện gần giường',\n                                                   'Giấy vệ sinh', 'ui_quan_ao',\n                                                   'giuong',\n                                                   'Truyền hình vệ tinh',\n                                                   'Ban công', ...])])),\n                ('col_normalizer', StandardScaler())])</pre></div></div></div><div class=\"sk-serial\"><div class=\"sk-item\"><div class=\"sk-estimator sk-toggleable\"><input class=\"sk-toggleable__control sk-hidden--visually\" id=\"ef01d471-3279-45fc-b7df-92fa05b92acc\" type=\"checkbox\" ><label class=\"sk-toggleable__label\" for=\"ef01d471-3279-45fc-b7df-92fa05b92acc\">ColAdderDropper</label><div class=\"sk-toggleable__content\"><pre>ColAdderDropper()</pre></div></div></div><div class=\"sk-item sk-dashed-wrapped\"><div class=\"sk-label-container\"><div class=\"sk-label sk-toggleable\"><input class=\"sk-toggleable__control sk-hidden--visually\" id=\"f0b687a0-95ab-44dc-b512-c74a2c3b7ace\" type=\"checkbox\" ><label class=\"sk-toggleable__label\" for=\"f0b687a0-95ab-44dc-b512-c74a2c3b7ace\">col_transformer: ColumnTransformer</label><div class=\"sk-toggleable__content\"><pre>ColumnTransformer(transformers=[('nume_col_transformer', SimpleImputer(),\n                                 ['dien_tich_m2']),\n                                ('unorder_cate_col_transformer',\n                                 Pipeline(steps=[('imputer',\n                                                  SimpleImputer(strategy='most_frequent')),\n                                                 ('one_hot_encoder',\n                                                  OneHotEncoder())]),\n                                 ['City']),\n                                ('feature_col_transformer',\n                                 SimpleImputer(strategy='most_frequent'),\n                                 ['Đồ vệ sinh cá nhân miễn phí',\n                                  'tien_ich_phong', 'ke...'toilet',\n                                  'Bàn làm việc', 'Khu vực tiếp khách',\n                                  'TV', 'Dép', 'Tủ lạnh', 'Điện thoại',\n                                  'Máy sấy tóc', 'lot_san',\n                                  'Ấm đun nước điện', 'Truyền hình cáp',\n                                  'tu_quan_ao', 'view', 'Hệ thống cách âm',\n                                  'Minibar', 'WiFi miễn phí', 'Ghế sofa',\n                                  'bep_an', 'Máy giặt', 'Đồng hồ báo thức',\n                                  'ban_an', 'Ổ điện gần giường', 'Giấy vệ sinh',\n                                  'ui_quan_ao', 'giuong',\n                                  'Truyền hình vệ tinh', 'Ban công', ...])])</pre></div></div></div><div class=\"sk-parallel\"><div class=\"sk-parallel-item\"><div class=\"sk-item\"><div class=\"sk-label-container\"><div class=\"sk-label sk-toggleable\"><input class=\"sk-toggleable__control sk-hidden--visually\" id=\"74008836-447d-4612-a774-2a2f69101931\" type=\"checkbox\" ><label class=\"sk-toggleable__label\" for=\"74008836-447d-4612-a774-2a2f69101931\">nume_col_transformer</label><div class=\"sk-toggleable__content\"><pre>['dien_tich_m2']</pre></div></div></div><div class=\"sk-serial\"><div class=\"sk-item\"><div class=\"sk-estimator sk-toggleable\"><input class=\"sk-toggleable__control sk-hidden--visually\" id=\"6bf31ece-4710-4e40-afa0-790704385502\" type=\"checkbox\" ><label class=\"sk-toggleable__label\" for=\"6bf31ece-4710-4e40-afa0-790704385502\">SimpleImputer</label><div class=\"sk-toggleable__content\"><pre>SimpleImputer()</pre></div></div></div></div></div></div><div class=\"sk-parallel-item\"><div class=\"sk-item\"><div class=\"sk-label-container\"><div class=\"sk-label sk-toggleable\"><input class=\"sk-toggleable__control sk-hidden--visually\" id=\"36cc5e3a-f769-4ad0-be62-45e8de504674\" type=\"checkbox\" ><label class=\"sk-toggleable__label\" for=\"36cc5e3a-f769-4ad0-be62-45e8de504674\">unorder_cate_col_transformer</label><div class=\"sk-toggleable__content\"><pre>['City']</pre></div></div></div><div class=\"sk-serial\"><div class=\"sk-item\"><div class=\"sk-serial\"><div class=\"sk-item\"><div class=\"sk-estimator sk-toggleable\"><input class=\"sk-toggleable__control sk-hidden--visually\" id=\"e0bbd54b-c1c4-46e3-bdde-80dd83588e7e\" type=\"checkbox\" ><label class=\"sk-toggleable__label\" for=\"e0bbd54b-c1c4-46e3-bdde-80dd83588e7e\">SimpleImputer</label><div class=\"sk-toggleable__content\"><pre>SimpleImputer(strategy='most_frequent')</pre></div></div></div><div class=\"sk-item\"><div class=\"sk-estimator sk-toggleable\"><input class=\"sk-toggleable__control sk-hidden--visually\" id=\"df3dbd1f-ba6b-4765-8c65-0a484f2566f0\" type=\"checkbox\" ><label class=\"sk-toggleable__label\" for=\"df3dbd1f-ba6b-4765-8c65-0a484f2566f0\">OneHotEncoder</label><div class=\"sk-toggleable__content\"><pre>OneHotEncoder()</pre></div></div></div></div></div></div></div></div><div class=\"sk-parallel-item\"><div class=\"sk-item\"><div class=\"sk-label-container\"><div class=\"sk-label sk-toggleable\"><input class=\"sk-toggleable__control sk-hidden--visually\" id=\"84a7a324-9634-4618-b408-df3edbc99645\" type=\"checkbox\" ><label class=\"sk-toggleable__label\" for=\"84a7a324-9634-4618-b408-df3edbc99645\">feature_col_transformer</label><div class=\"sk-toggleable__content\"><pre>['Đồ vệ sinh cá nhân miễn phí', 'tien_ich_phong', 'ket_sat', 'toilet', 'Bàn làm việc', 'Khu vực tiếp khách', 'TV', 'Dép', 'Tủ lạnh', 'Điện thoại', 'Máy sấy tóc', 'lot_san', 'Ấm đun nước điện', 'Truyền hình cáp', 'tu_quan_ao', 'view', 'Hệ thống cách âm', 'Minibar', 'WiFi miễn phí', 'Ghế sofa', 'bep_an', 'Máy giặt', 'Đồng hồ báo thức', 'ban_an', 'Ổ điện gần giường', 'Giấy vệ sinh', 'ui_quan_ao', 'giuong', 'Truyền hình vệ tinh', 'Ban công', 'Quyền sử dụng Executive Lounge', 'Ra trải giường', 'may_pha_tra_cf', 'Máy sấy quần áo', 'Có phòng thông nhau qua cửa nối', 'Chậu rửa vệ sinh (bidet)', 'Các tầng trên đi lên bằng thang máy', 'Xe lăn có thể đi đến mọi nơi trong toàn bộ khuôn viên', 'Máy vi tính', 'dieu_hoa', 'tien_ich_cho_tre_em', 'Hoàn toàn nằm ở tầng trệt', 'Các tầng trên chỉ lên được bằng cầu thang', 'Nước rửa tay', 'ho_boi', 'Sách', 'khu_ngoai_troi', 'Phòng xông hơi', 'Sân trong']</pre></div></div></div><div class=\"sk-serial\"><div class=\"sk-item\"><div class=\"sk-estimator sk-toggleable\"><input class=\"sk-toggleable__control sk-hidden--visually\" id=\"2f0a2009-204e-4a8b-9e0a-013f8014eb29\" type=\"checkbox\" ><label class=\"sk-toggleable__label\" for=\"2f0a2009-204e-4a8b-9e0a-013f8014eb29\">SimpleImputer</label><div class=\"sk-toggleable__content\"><pre>SimpleImputer(strategy='most_frequent')</pre></div></div></div></div></div></div></div></div><div class=\"sk-item\"><div class=\"sk-estimator sk-toggleable\"><input class=\"sk-toggleable__control sk-hidden--visually\" id=\"f08b96ce-0544-4b46-b7d1-29ba2a00c105\" type=\"checkbox\" ><label class=\"sk-toggleable__label\" for=\"f08b96ce-0544-4b46-b7d1-29ba2a00c105\">StandardScaler</label><div class=\"sk-toggleable__content\"><pre>StandardScaler()</pre></div></div></div></div></div></div></div>"
     },
     "metadata": {},
     "execution_count": 25
    }
   ],
   "source": [
    "preprocess_pipeline"
   ]
  },
  {
   "cell_type": "code",
   "execution_count": 26,
   "metadata": {},
   "outputs": [],
   "source": [
    "preprocessed_train_X = preprocess_pipeline.fit_transform(train_X_df)"
   ]
  },
  {
   "cell_type": "code",
   "execution_count": 27,
   "metadata": {},
   "outputs": [
    {
     "output_type": "execute_result",
     "data": {
      "text/plain": [
       "(8573, 54)"
      ]
     },
     "metadata": {},
     "execution_count": 27
    }
   ],
   "source": [
    "preprocessed_train_X.shape"
   ]
  },
  {
   "cell_type": "markdown",
   "metadata": {},
   "source": [
    "---"
   ]
  },
  {
   "cell_type": "markdown",
   "metadata": {},
   "source": [
    "## Tiền xử lý (tập validation)"
   ]
  },
  {
   "cell_type": "code",
   "execution_count": 28,
   "metadata": {},
   "outputs": [],
   "source": [
    "preprocessed_val_X = preprocess_pipeline.transform(val_X_df)"
   ]
  },
  {
   "cell_type": "markdown",
   "metadata": {},
   "source": [
    "---"
   ]
  },
  {
   "cell_type": "markdown",
   "metadata": {},
   "source": [
    "## Tiền xử lý + mô hình hóa"
   ]
  },
  {
   "cell_type": "markdown",
   "metadata": {},
   "source": [
    "### Tìm mô hình tốt nhất"
   ]
  },
  {
   "cell_type": "code",
   "execution_count": 29,
   "metadata": {},
   "outputs": [],
   "source": [
    "# Neural Net regressor\n",
    "mlp_regressor = MLPRegressor(hidden_layer_sizes=(100, 300, 300, 100), solver='adam', learning_rate='adaptive',\n",
    "                            random_state=0, max_iter=400, early_stopping=True, verbose=0)\n",
    "\n",
    "model = TransformedTargetRegressor(regressor=mlp_regressor,\n",
    "                                 func=np.log, inverse_func=np.exp)\n",
    "\n",
    "# Full pipeline = preprocess_pipeline + model\n",
    "full_pipeline = Pipeline(steps = [\n",
    "    ('preprocessor', preprocess_pipeline),\n",
    "    ('model', model)\n",
    "])"
   ]
  },
  {
   "cell_type": "code",
   "execution_count": 30,
   "metadata": {},
   "outputs": [
    {
     "output_type": "execute_result",
     "data": {
      "text/plain": [
       "Pipeline(steps=[('preprocessor',\n",
       "                 Pipeline(steps=[('col_adderdropper', ColAdderDropper()),\n",
       "                                 ('col_transformer',\n",
       "                                  ColumnTransformer(transformers=[('nume_col_transformer',\n",
       "                                                                   SimpleImputer(),\n",
       "                                                                   ['dien_tich_m2']),\n",
       "                                                                  ('unorder_cate_col_transformer',\n",
       "                                                                   Pipeline(steps=[('imputer',\n",
       "                                                                                    SimpleImputer(strategy='most_frequent')),\n",
       "                                                                                   ('one_hot_encoder',\n",
       "                                                                                    OneHotEncoder())]),\n",
       "                                                                   ['City']),\n",
       "                                                                  ('feat...\n",
       "                                                                    'giường',\n",
       "                                                                    'Giấy vệ '\n",
       "                                                                    'sinh',\n",
       "                                                                    'ui_quan_ao',\n",
       "                                                                    'giuong',\n",
       "                                                                    'Truyền '\n",
       "                                                                    'hình vệ '\n",
       "                                                                    'tinh',\n",
       "                                                                    'Ban công', ...])])),\n",
       "                                 ('col_normalizer', StandardScaler())])),\n",
       "                ('model',\n",
       "                 TransformedTargetRegressor(func=<ufunc 'log'>,\n",
       "                                            inverse_func=<ufunc 'exp'>,\n",
       "                                            regressor=MLPRegressor(early_stopping=True,\n",
       "                                                                   hidden_layer_sizes=(100,\n",
       "                                                                                       300,\n",
       "                                                                                       300,\n",
       "                                                                                       100),\n",
       "                                                                   learning_rate='adaptive',\n",
       "                                                                   max_iter=400,\n",
       "                                                                   random_state=0,\n",
       "                                                                   verbose=0)))])"
      ],
      "text/html": "<style>div.sk-top-container {color: black;background-color: white;}div.sk-toggleable {background-color: white;}label.sk-toggleable__label {cursor: pointer;display: block;width: 100%;margin-bottom: 0;padding: 0.2em 0.3em;box-sizing: border-box;text-align: center;}div.sk-toggleable__content {max-height: 0;max-width: 0;overflow: hidden;text-align: left;background-color: #f0f8ff;}div.sk-toggleable__content pre {margin: 0.2em;color: black;border-radius: 0.25em;background-color: #f0f8ff;}input.sk-toggleable__control:checked~div.sk-toggleable__content {max-height: 200px;max-width: 100%;overflow: auto;}div.sk-estimator input.sk-toggleable__control:checked~label.sk-toggleable__label {background-color: #d4ebff;}div.sk-label input.sk-toggleable__control:checked~label.sk-toggleable__label {background-color: #d4ebff;}input.sk-hidden--visually {border: 0;clip: rect(1px 1px 1px 1px);clip: rect(1px, 1px, 1px, 1px);height: 1px;margin: -1px;overflow: hidden;padding: 0;position: absolute;width: 1px;}div.sk-estimator {font-family: monospace;background-color: #f0f8ff;margin: 0.25em 0.25em;border: 1px dotted black;border-radius: 0.25em;box-sizing: border-box;}div.sk-estimator:hover {background-color: #d4ebff;}div.sk-parallel-item::after {content: \"\";width: 100%;border-bottom: 1px solid gray;flex-grow: 1;}div.sk-label:hover label.sk-toggleable__label {background-color: #d4ebff;}div.sk-serial::before {content: \"\";position: absolute;border-left: 1px solid gray;box-sizing: border-box;top: 2em;bottom: 0;left: 50%;}div.sk-serial {display: flex;flex-direction: column;align-items: center;background-color: white;}div.sk-item {z-index: 1;}div.sk-parallel {display: flex;align-items: stretch;justify-content: center;background-color: white;}div.sk-parallel-item {display: flex;flex-direction: column;position: relative;background-color: white;}div.sk-parallel-item:first-child::after {align-self: flex-end;width: 50%;}div.sk-parallel-item:last-child::after {align-self: flex-start;width: 50%;}div.sk-parallel-item:only-child::after {width: 0;}div.sk-dashed-wrapped {border: 1px dashed gray;margin: 0.2em;box-sizing: border-box;padding-bottom: 0.1em;background-color: white;position: relative;}div.sk-label label {font-family: monospace;font-weight: bold;background-color: white;display: inline-block;line-height: 1.2em;}div.sk-label-container {position: relative;z-index: 2;text-align: center;}div.sk-container {display: inline-block;position: relative;}</style><div class=\"sk-top-container\"><div class=\"sk-container\"><div class=\"sk-item sk-dashed-wrapped\"><div class=\"sk-label-container\"><div class=\"sk-label sk-toggleable\"><input class=\"sk-toggleable__control sk-hidden--visually\" id=\"3defa71a-6538-43cf-8edd-7856177d4460\" type=\"checkbox\" ><label class=\"sk-toggleable__label\" for=\"3defa71a-6538-43cf-8edd-7856177d4460\">Pipeline</label><div class=\"sk-toggleable__content\"><pre>Pipeline(steps=[('preprocessor',\n                 Pipeline(steps=[('col_adderdropper', ColAdderDropper()),\n                                 ('col_transformer',\n                                  ColumnTransformer(transformers=[('nume_col_transformer',\n                                                                   SimpleImputer(),\n                                                                   ['dien_tich_m2']),\n                                                                  ('unorder_cate_col_transformer',\n                                                                   Pipeline(steps=[('imputer',\n                                                                                    SimpleImputer(strategy='most_frequent')),\n                                                                                   ('one_hot_encoder',\n                                                                                    OneHotEncoder())]),\n                                                                   ['City']),\n                                                                  ('feat...\n                                                                    'giường',\n                                                                    'Giấy vệ '\n                                                                    'sinh',\n                                                                    'ui_quan_ao',\n                                                                    'giuong',\n                                                                    'Truyền '\n                                                                    'hình vệ '\n                                                                    'tinh',\n                                                                    'Ban công', ...])])),\n                                 ('col_normalizer', StandardScaler())])),\n                ('model',\n                 TransformedTargetRegressor(func=<ufunc 'log'>,\n                                            inverse_func=<ufunc 'exp'>,\n                                            regressor=MLPRegressor(early_stopping=True,\n                                                                   hidden_layer_sizes=(100,\n                                                                                       300,\n                                                                                       300,\n                                                                                       100),\n                                                                   learning_rate='adaptive',\n                                                                   max_iter=400,\n                                                                   random_state=0,\n                                                                   verbose=0)))])</pre></div></div></div><div class=\"sk-serial\"><div class=\"sk-item\"><div class=\"sk-label-container\"><div class=\"sk-label sk-toggleable\"><input class=\"sk-toggleable__control sk-hidden--visually\" id=\"dbea0a8e-b07e-4012-8698-98574431a37d\" type=\"checkbox\" ><label class=\"sk-toggleable__label\" for=\"dbea0a8e-b07e-4012-8698-98574431a37d\">preprocessor: Pipeline</label><div class=\"sk-toggleable__content\"><pre>Pipeline(steps=[('col_adderdropper', ColAdderDropper()),\n                ('col_transformer',\n                 ColumnTransformer(transformers=[('nume_col_transformer',\n                                                  SimpleImputer(),\n                                                  ['dien_tich_m2']),\n                                                 ('unorder_cate_col_transformer',\n                                                  Pipeline(steps=[('imputer',\n                                                                   SimpleImputer(strategy='most_frequent')),\n                                                                  ('one_hot_encoder',\n                                                                   OneHotEncoder())]),\n                                                  ['City']),\n                                                 ('feature_col_transformer',\n                                                  SimpleImput...\n                                                   'Khu vực tiếp khách',\n                                                   'TV', 'Dép', 'Tủ lạnh',\n                                                   'Điện thoại',\n                                                   'Máy sấy tóc', 'lot_san',\n                                                   'Ấm đun nước điện',\n                                                   'Truyền hình cáp',\n                                                   'tu_quan_ao', 'view',\n                                                   'Hệ thống cách âm',\n                                                   'Minibar', 'WiFi miễn phí',\n                                                   'Ghế sofa', 'bep_an',\n                                                   'Máy giặt',\n                                                   'Đồng hồ báo thức', 'ban_an',\n                                                   'Ổ điện gần giường',\n                                                   'Giấy vệ sinh', 'ui_quan_ao',\n                                                   'giuong',\n                                                   'Truyền hình vệ tinh',\n                                                   'Ban công', ...])])),\n                ('col_normalizer', StandardScaler())])</pre></div></div></div><div class=\"sk-serial\"><div class=\"sk-item\"><div class=\"sk-estimator sk-toggleable\"><input class=\"sk-toggleable__control sk-hidden--visually\" id=\"e57eb784-7079-437f-9faf-87c39008539b\" type=\"checkbox\" ><label class=\"sk-toggleable__label\" for=\"e57eb784-7079-437f-9faf-87c39008539b\">ColAdderDropper</label><div class=\"sk-toggleable__content\"><pre>ColAdderDropper()</pre></div></div></div><div class=\"sk-item sk-dashed-wrapped\"><div class=\"sk-label-container\"><div class=\"sk-label sk-toggleable\"><input class=\"sk-toggleable__control sk-hidden--visually\" id=\"2d2480ea-fe53-4eab-a4d1-5e9a4ced5c0e\" type=\"checkbox\" ><label class=\"sk-toggleable__label\" for=\"2d2480ea-fe53-4eab-a4d1-5e9a4ced5c0e\">col_transformer: ColumnTransformer</label><div class=\"sk-toggleable__content\"><pre>ColumnTransformer(transformers=[('nume_col_transformer', SimpleImputer(),\n                                 ['dien_tich_m2']),\n                                ('unorder_cate_col_transformer',\n                                 Pipeline(steps=[('imputer',\n                                                  SimpleImputer(strategy='most_frequent')),\n                                                 ('one_hot_encoder',\n                                                  OneHotEncoder())]),\n                                 ['City']),\n                                ('feature_col_transformer',\n                                 SimpleImputer(strategy='most_frequent'),\n                                 ['Đồ vệ sinh cá nhân miễn phí',\n                                  'tien_ich_phong', 'ke...'toilet',\n                                  'Bàn làm việc', 'Khu vực tiếp khách',\n                                  'TV', 'Dép', 'Tủ lạnh', 'Điện thoại',\n                                  'Máy sấy tóc', 'lot_san',\n                                  'Ấm đun nước điện', 'Truyền hình cáp',\n                                  'tu_quan_ao', 'view', 'Hệ thống cách âm',\n                                  'Minibar', 'WiFi miễn phí', 'Ghế sofa',\n                                  'bep_an', 'Máy giặt', 'Đồng hồ báo thức',\n                                  'ban_an', 'Ổ điện gần giường', 'Giấy vệ sinh',\n                                  'ui_quan_ao', 'giuong',\n                                  'Truyền hình vệ tinh', 'Ban công', ...])])</pre></div></div></div><div class=\"sk-parallel\"><div class=\"sk-parallel-item\"><div class=\"sk-item\"><div class=\"sk-label-container\"><div class=\"sk-label sk-toggleable\"><input class=\"sk-toggleable__control sk-hidden--visually\" id=\"c45b57c4-6e7d-48ef-8f7d-f9abd07b4ce9\" type=\"checkbox\" ><label class=\"sk-toggleable__label\" for=\"c45b57c4-6e7d-48ef-8f7d-f9abd07b4ce9\">nume_col_transformer</label><div class=\"sk-toggleable__content\"><pre>['dien_tich_m2']</pre></div></div></div><div class=\"sk-serial\"><div class=\"sk-item\"><div class=\"sk-estimator sk-toggleable\"><input class=\"sk-toggleable__control sk-hidden--visually\" id=\"ad71f2d0-72e9-46ee-a9a5-42044abd7df6\" type=\"checkbox\" ><label class=\"sk-toggleable__label\" for=\"ad71f2d0-72e9-46ee-a9a5-42044abd7df6\">SimpleImputer</label><div class=\"sk-toggleable__content\"><pre>SimpleImputer()</pre></div></div></div></div></div></div><div class=\"sk-parallel-item\"><div class=\"sk-item\"><div class=\"sk-label-container\"><div class=\"sk-label sk-toggleable\"><input class=\"sk-toggleable__control sk-hidden--visually\" id=\"19684a22-c8ea-456d-845a-f174338b502c\" type=\"checkbox\" ><label class=\"sk-toggleable__label\" for=\"19684a22-c8ea-456d-845a-f174338b502c\">unorder_cate_col_transformer</label><div class=\"sk-toggleable__content\"><pre>['City']</pre></div></div></div><div class=\"sk-serial\"><div class=\"sk-item\"><div class=\"sk-serial\"><div class=\"sk-item\"><div class=\"sk-estimator sk-toggleable\"><input class=\"sk-toggleable__control sk-hidden--visually\" id=\"1649bd41-2b2c-4c21-986e-977c7ca07bfd\" type=\"checkbox\" ><label class=\"sk-toggleable__label\" for=\"1649bd41-2b2c-4c21-986e-977c7ca07bfd\">SimpleImputer</label><div class=\"sk-toggleable__content\"><pre>SimpleImputer(strategy='most_frequent')</pre></div></div></div><div class=\"sk-item\"><div class=\"sk-estimator sk-toggleable\"><input class=\"sk-toggleable__control sk-hidden--visually\" id=\"09ae0939-cd7a-4f33-a4aa-695925f243fa\" type=\"checkbox\" ><label class=\"sk-toggleable__label\" for=\"09ae0939-cd7a-4f33-a4aa-695925f243fa\">OneHotEncoder</label><div class=\"sk-toggleable__content\"><pre>OneHotEncoder()</pre></div></div></div></div></div></div></div></div><div class=\"sk-parallel-item\"><div class=\"sk-item\"><div class=\"sk-label-container\"><div class=\"sk-label sk-toggleable\"><input class=\"sk-toggleable__control sk-hidden--visually\" id=\"023b12d8-91be-4431-9d2f-767e5a1e8311\" type=\"checkbox\" ><label class=\"sk-toggleable__label\" for=\"023b12d8-91be-4431-9d2f-767e5a1e8311\">feature_col_transformer</label><div class=\"sk-toggleable__content\"><pre>['Đồ vệ sinh cá nhân miễn phí', 'tien_ich_phong', 'ket_sat', 'toilet', 'Bàn làm việc', 'Khu vực tiếp khách', 'TV', 'Dép', 'Tủ lạnh', 'Điện thoại', 'Máy sấy tóc', 'lot_san', 'Ấm đun nước điện', 'Truyền hình cáp', 'tu_quan_ao', 'view', 'Hệ thống cách âm', 'Minibar', 'WiFi miễn phí', 'Ghế sofa', 'bep_an', 'Máy giặt', 'Đồng hồ báo thức', 'ban_an', 'Ổ điện gần giường', 'Giấy vệ sinh', 'ui_quan_ao', 'giuong', 'Truyền hình vệ tinh', 'Ban công', 'Quyền sử dụng Executive Lounge', 'Ra trải giường', 'may_pha_tra_cf', 'Máy sấy quần áo', 'Có phòng thông nhau qua cửa nối', 'Chậu rửa vệ sinh (bidet)', 'Các tầng trên đi lên bằng thang máy', 'Xe lăn có thể đi đến mọi nơi trong toàn bộ khuôn viên', 'Máy vi tính', 'dieu_hoa', 'tien_ich_cho_tre_em', 'Hoàn toàn nằm ở tầng trệt', 'Các tầng trên chỉ lên được bằng cầu thang', 'Nước rửa tay', 'ho_boi', 'Sách', 'khu_ngoai_troi', 'Phòng xông hơi', 'Sân trong']</pre></div></div></div><div class=\"sk-serial\"><div class=\"sk-item\"><div class=\"sk-estimator sk-toggleable\"><input class=\"sk-toggleable__control sk-hidden--visually\" id=\"5bd6b8d1-294f-4280-82e3-476a0f934f4c\" type=\"checkbox\" ><label class=\"sk-toggleable__label\" for=\"5bd6b8d1-294f-4280-82e3-476a0f934f4c\">SimpleImputer</label><div class=\"sk-toggleable__content\"><pre>SimpleImputer(strategy='most_frequent')</pre></div></div></div></div></div></div></div></div><div class=\"sk-item\"><div class=\"sk-estimator sk-toggleable\"><input class=\"sk-toggleable__control sk-hidden--visually\" id=\"c464866b-99c8-476b-98eb-787b36b8328f\" type=\"checkbox\" ><label class=\"sk-toggleable__label\" for=\"c464866b-99c8-476b-98eb-787b36b8328f\">StandardScaler</label><div class=\"sk-toggleable__content\"><pre>StandardScaler()</pre></div></div></div></div></div><div class=\"sk-item sk-dashed-wrapped\"><div class=\"sk-label-container\"><div class=\"sk-label sk-toggleable\"><input class=\"sk-toggleable__control sk-hidden--visually\" id=\"b3fc886b-3c3e-4913-a9d9-e1770b5eecef\" type=\"checkbox\" ><label class=\"sk-toggleable__label\" for=\"b3fc886b-3c3e-4913-a9d9-e1770b5eecef\">model: TransformedTargetRegressor</label><div class=\"sk-toggleable__content\"><pre>TransformedTargetRegressor(func=<ufunc 'log'>, inverse_func=<ufunc 'exp'>,\n                           regressor=MLPRegressor(early_stopping=True,\n                                                  hidden_layer_sizes=(100, 300,\n                                                                      300,\n                                                                      100),\n                                                  learning_rate='adaptive',\n                                                  max_iter=400, random_state=0,\n                                                  verbose=0))</pre></div></div></div><div class=\"sk-parallel\"><div class=\"sk-parallel-item\"><div class=\"sk-item\"><div class=\"sk-serial\"><div class=\"sk-item\"><div class=\"sk-estimator sk-toggleable\"><input class=\"sk-toggleable__control sk-hidden--visually\" id=\"f44c75ca-f3c5-4a9b-be34-442d53df7dc9\" type=\"checkbox\" ><label class=\"sk-toggleable__label\" for=\"f44c75ca-f3c5-4a9b-be34-442d53df7dc9\">MLPRegressor</label><div class=\"sk-toggleable__content\"><pre>MLPRegressor(early_stopping=True, hidden_layer_sizes=(100, 300, 300, 100),\n             learning_rate='adaptive', max_iter=400, random_state=0, verbose=0)</pre></div></div></div></div></div></div></div></div></div></div></div></div>"
     },
     "metadata": {},
     "execution_count": 30
    }
   ],
   "source": [
    "full_pipeline"
   ]
  },
  {
   "cell_type": "code",
   "execution_count": 31,
   "metadata": {},
   "outputs": [
    {
     "output_type": "stream",
     "name": "stdout",
     "text": [
      "MAE = 774003.2266868228\n",
      "MAE = 777301.3279403553\n",
      "MAE = 900038.2867390646\n",
      "MAE = 1030269.1673290639\n",
      "MAE = 1179610.7436706966\n"
     ]
    },
    {
     "output_type": "execute_result",
     "data": {
      "text/plain": [
       "'Finish!'"
      ]
     },
     "metadata": {},
     "execution_count": 31
    }
   ],
   "source": [
    "# Thử nghiệm với các giá trị khác nhau của các siêu tham số\n",
    "# và chọn ra các giá trị tốt nhất\n",
    "\n",
    "val_MAEs = []\n",
    "train_MAEs = []\n",
    "alphas = [0.1, 1, 10, 100, 1000]\n",
    "best_val_MAE = float('inf'); best_alpha = None;\n",
    "for alpha in alphas:\n",
    "    full_pipeline.set_params(model__regressor__alpha=alpha)  # nested pipeline\n",
    "    full_pipeline.fit(train_X_df, train_y_sr)\n",
    "    preds_y = full_pipeline.predict(val_X_df)\n",
    "    val_mae = mean_absolute_error(preds_y, val_y_sr)\n",
    "    print(\"MAE =\", val_mae)\n",
    "    val_MAEs.append(val_mae)\n",
    "    preds_train_y = full_pipeline.predict(train_X_df)\n",
    "    train_MAEs.append(mean_absolute_error(preds_train_y, train_y_sr))\n",
    "    \n",
    "    if best_val_MAE > val_mae:\n",
    "        best_val_MAE = val_mae\n",
    "        best_alpha = alpha\n",
    "'Finish!'"
   ]
  },
  {
   "cell_type": "code",
   "execution_count": 32,
   "metadata": {},
   "outputs": [
    {
     "output_type": "display_data",
     "data": {
      "text/plain": "<Figure size 432x288 with 1 Axes>",
      "image/svg+xml": "<?xml version=\"1.0\" encoding=\"utf-8\" standalone=\"no\"?>\r\n<!DOCTYPE svg PUBLIC \"-//W3C//DTD SVG 1.1//EN\"\r\n  \"http://www.w3.org/Graphics/SVG/1.1/DTD/svg11.dtd\">\r\n<!-- Created with matplotlib (https://matplotlib.org/) -->\r\n<svg height=\"272.794688pt\" version=\"1.1\" viewBox=\"0 0 385.78125 272.794688\" width=\"385.78125pt\" xmlns=\"http://www.w3.org/2000/svg\" xmlns:xlink=\"http://www.w3.org/1999/xlink\">\r\n <metadata>\r\n  <rdf:RDF xmlns:cc=\"http://creativecommons.org/ns#\" xmlns:dc=\"http://purl.org/dc/elements/1.1/\" xmlns:rdf=\"http://www.w3.org/1999/02/22-rdf-syntax-ns#\">\r\n   <cc:Work>\r\n    <dc:type rdf:resource=\"http://purl.org/dc/dcmitype/StillImage\"/>\r\n    <dc:date>2021-01-15T23:52:15.236169</dc:date>\r\n    <dc:format>image/svg+xml</dc:format>\r\n    <dc:creator>\r\n     <cc:Agent>\r\n      <dc:title>Matplotlib v3.3.2, https://matplotlib.org/</dc:title>\r\n     </cc:Agent>\r\n    </dc:creator>\r\n   </cc:Work>\r\n  </rdf:RDF>\r\n </metadata>\r\n <defs>\r\n  <style type=\"text/css\">*{stroke-linecap:butt;stroke-linejoin:round;}</style>\r\n </defs>\r\n <g id=\"figure_1\">\r\n  <g id=\"patch_1\">\r\n   <path d=\"M 0 272.794688 \r\nL 385.78125 272.794688 \r\nL 385.78125 0 \r\nL 0 0 \r\nz\r\n\" style=\"fill:none;\"/>\r\n  </g>\r\n  <g id=\"axes_1\">\r\n   <g id=\"patch_2\">\r\n    <path d=\"M 43.78125 235.238438 \r\nL 378.58125 235.238438 \r\nL 378.58125 17.798438 \r\nL 43.78125 17.798438 \r\nz\r\n\" style=\"fill:#ffffff;\"/>\r\n   </g>\r\n   <g id=\"matplotlib.axis_1\">\r\n    <g id=\"xtick_1\">\r\n     <g id=\"line2d_1\">\r\n      <path clip-path=\"url(#p5cc7c76648)\" d=\"M 58.999432 235.238438 \r\nL 58.999432 17.798438 \r\n\" style=\"fill:none;stroke:#b0b0b0;stroke-linecap:square;stroke-width:0.8;\"/>\r\n     </g>\r\n     <g id=\"line2d_2\">\r\n      <defs>\r\n       <path d=\"M 0 0 \r\nL 0 3.5 \r\n\" id=\"m3006fd255e\" style=\"stroke:#000000;stroke-width:0.8;\"/>\r\n      </defs>\r\n      <g>\r\n       <use style=\"stroke:#000000;stroke-width:0.8;\" x=\"58.999432\" xlink:href=\"#m3006fd255e\" y=\"235.238438\"/>\r\n      </g>\r\n     </g>\r\n     <g id=\"text_1\">\r\n      <!-- 0.1 -->\r\n      <g transform=\"translate(51.047869 249.836875)scale(0.1 -0.1)\">\r\n       <defs>\r\n        <path d=\"M 31.78125 66.40625 \r\nQ 24.171875 66.40625 20.328125 58.90625 \r\nQ 16.5 51.421875 16.5 36.375 \r\nQ 16.5 21.390625 20.328125 13.890625 \r\nQ 24.171875 6.390625 31.78125 6.390625 \r\nQ 39.453125 6.390625 43.28125 13.890625 \r\nQ 47.125 21.390625 47.125 36.375 \r\nQ 47.125 51.421875 43.28125 58.90625 \r\nQ 39.453125 66.40625 31.78125 66.40625 \r\nz\r\nM 31.78125 74.21875 \r\nQ 44.046875 74.21875 50.515625 64.515625 \r\nQ 56.984375 54.828125 56.984375 36.375 \r\nQ 56.984375 17.96875 50.515625 8.265625 \r\nQ 44.046875 -1.421875 31.78125 -1.421875 \r\nQ 19.53125 -1.421875 13.0625 8.265625 \r\nQ 6.59375 17.96875 6.59375 36.375 \r\nQ 6.59375 54.828125 13.0625 64.515625 \r\nQ 19.53125 74.21875 31.78125 74.21875 \r\nz\r\n\" id=\"DejaVuSans-48\"/>\r\n        <path d=\"M 10.6875 12.40625 \r\nL 21 12.40625 \r\nL 21 0 \r\nL 10.6875 0 \r\nz\r\n\" id=\"DejaVuSans-46\"/>\r\n        <path d=\"M 12.40625 8.296875 \r\nL 28.515625 8.296875 \r\nL 28.515625 63.921875 \r\nL 10.984375 60.40625 \r\nL 10.984375 69.390625 \r\nL 28.421875 72.90625 \r\nL 38.28125 72.90625 \r\nL 38.28125 8.296875 \r\nL 54.390625 8.296875 \r\nL 54.390625 0 \r\nL 12.40625 0 \r\nz\r\n\" id=\"DejaVuSans-49\"/>\r\n       </defs>\r\n       <use xlink:href=\"#DejaVuSans-48\"/>\r\n       <use x=\"63.623047\" xlink:href=\"#DejaVuSans-46\"/>\r\n       <use x=\"95.410156\" xlink:href=\"#DejaVuSans-49\"/>\r\n      </g>\r\n     </g>\r\n    </g>\r\n    <g id=\"xtick_2\">\r\n     <g id=\"line2d_3\">\r\n      <path clip-path=\"url(#p5cc7c76648)\" d=\"M 135.090341 235.238438 \r\nL 135.090341 17.798438 \r\n\" style=\"fill:none;stroke:#b0b0b0;stroke-linecap:square;stroke-width:0.8;\"/>\r\n     </g>\r\n     <g id=\"line2d_4\">\r\n      <g>\r\n       <use style=\"stroke:#000000;stroke-width:0.8;\" x=\"135.090341\" xlink:href=\"#m3006fd255e\" y=\"235.238438\"/>\r\n      </g>\r\n     </g>\r\n     <g id=\"text_2\">\r\n      <!-- 1 -->\r\n      <g transform=\"translate(131.909091 249.836875)scale(0.1 -0.1)\">\r\n       <use xlink:href=\"#DejaVuSans-49\"/>\r\n      </g>\r\n     </g>\r\n    </g>\r\n    <g id=\"xtick_3\">\r\n     <g id=\"line2d_5\">\r\n      <path clip-path=\"url(#p5cc7c76648)\" d=\"M 211.18125 235.238438 \r\nL 211.18125 17.798438 \r\n\" style=\"fill:none;stroke:#b0b0b0;stroke-linecap:square;stroke-width:0.8;\"/>\r\n     </g>\r\n     <g id=\"line2d_6\">\r\n      <g>\r\n       <use style=\"stroke:#000000;stroke-width:0.8;\" x=\"211.18125\" xlink:href=\"#m3006fd255e\" y=\"235.238438\"/>\r\n      </g>\r\n     </g>\r\n     <g id=\"text_3\">\r\n      <!-- 10 -->\r\n      <g transform=\"translate(204.81875 249.836875)scale(0.1 -0.1)\">\r\n       <use xlink:href=\"#DejaVuSans-49\"/>\r\n       <use x=\"63.623047\" xlink:href=\"#DejaVuSans-48\"/>\r\n      </g>\r\n     </g>\r\n    </g>\r\n    <g id=\"xtick_4\">\r\n     <g id=\"line2d_7\">\r\n      <path clip-path=\"url(#p5cc7c76648)\" d=\"M 287.272159 235.238438 \r\nL 287.272159 17.798438 \r\n\" style=\"fill:none;stroke:#b0b0b0;stroke-linecap:square;stroke-width:0.8;\"/>\r\n     </g>\r\n     <g id=\"line2d_8\">\r\n      <g>\r\n       <use style=\"stroke:#000000;stroke-width:0.8;\" x=\"287.272159\" xlink:href=\"#m3006fd255e\" y=\"235.238438\"/>\r\n      </g>\r\n     </g>\r\n     <g id=\"text_4\">\r\n      <!-- 100 -->\r\n      <g transform=\"translate(277.728409 249.836875)scale(0.1 -0.1)\">\r\n       <use xlink:href=\"#DejaVuSans-49\"/>\r\n       <use x=\"63.623047\" xlink:href=\"#DejaVuSans-48\"/>\r\n       <use x=\"127.246094\" xlink:href=\"#DejaVuSans-48\"/>\r\n      </g>\r\n     </g>\r\n    </g>\r\n    <g id=\"xtick_5\">\r\n     <g id=\"line2d_9\">\r\n      <path clip-path=\"url(#p5cc7c76648)\" d=\"M 363.363068 235.238438 \r\nL 363.363068 17.798438 \r\n\" style=\"fill:none;stroke:#b0b0b0;stroke-linecap:square;stroke-width:0.8;\"/>\r\n     </g>\r\n     <g id=\"line2d_10\">\r\n      <g>\r\n       <use style=\"stroke:#000000;stroke-width:0.8;\" x=\"363.363068\" xlink:href=\"#m3006fd255e\" y=\"235.238438\"/>\r\n      </g>\r\n     </g>\r\n     <g id=\"text_5\">\r\n      <!-- 1000 -->\r\n      <g transform=\"translate(350.638068 249.836875)scale(0.1 -0.1)\">\r\n       <use xlink:href=\"#DejaVuSans-49\"/>\r\n       <use x=\"63.623047\" xlink:href=\"#DejaVuSans-48\"/>\r\n       <use x=\"127.246094\" xlink:href=\"#DejaVuSans-48\"/>\r\n       <use x=\"190.869141\" xlink:href=\"#DejaVuSans-48\"/>\r\n      </g>\r\n     </g>\r\n    </g>\r\n    <g id=\"text_6\">\r\n     <!-- alpha -->\r\n     <g transform=\"translate(197.321094 263.515)scale(0.1 -0.1)\">\r\n      <defs>\r\n       <path d=\"M 34.28125 27.484375 \r\nQ 23.390625 27.484375 19.1875 25 \r\nQ 14.984375 22.515625 14.984375 16.5 \r\nQ 14.984375 11.71875 18.140625 8.90625 \r\nQ 21.296875 6.109375 26.703125 6.109375 \r\nQ 34.1875 6.109375 38.703125 11.40625 \r\nQ 43.21875 16.703125 43.21875 25.484375 \r\nL 43.21875 27.484375 \r\nz\r\nM 52.203125 31.203125 \r\nL 52.203125 0 \r\nL 43.21875 0 \r\nL 43.21875 8.296875 \r\nQ 40.140625 3.328125 35.546875 0.953125 \r\nQ 30.953125 -1.421875 24.3125 -1.421875 \r\nQ 15.921875 -1.421875 10.953125 3.296875 \r\nQ 6 8.015625 6 15.921875 \r\nQ 6 25.140625 12.171875 29.828125 \r\nQ 18.359375 34.515625 30.609375 34.515625 \r\nL 43.21875 34.515625 \r\nL 43.21875 35.40625 \r\nQ 43.21875 41.609375 39.140625 45 \r\nQ 35.0625 48.390625 27.6875 48.390625 \r\nQ 23 48.390625 18.546875 47.265625 \r\nQ 14.109375 46.140625 10.015625 43.890625 \r\nL 10.015625 52.203125 \r\nQ 14.9375 54.109375 19.578125 55.046875 \r\nQ 24.21875 56 28.609375 56 \r\nQ 40.484375 56 46.34375 49.84375 \r\nQ 52.203125 43.703125 52.203125 31.203125 \r\nz\r\n\" id=\"DejaVuSans-97\"/>\r\n       <path d=\"M 9.421875 75.984375 \r\nL 18.40625 75.984375 \r\nL 18.40625 0 \r\nL 9.421875 0 \r\nz\r\n\" id=\"DejaVuSans-108\"/>\r\n       <path d=\"M 18.109375 8.203125 \r\nL 18.109375 -20.796875 \r\nL 9.078125 -20.796875 \r\nL 9.078125 54.6875 \r\nL 18.109375 54.6875 \r\nL 18.109375 46.390625 \r\nQ 20.953125 51.265625 25.265625 53.625 \r\nQ 29.59375 56 35.59375 56 \r\nQ 45.5625 56 51.78125 48.09375 \r\nQ 58.015625 40.1875 58.015625 27.296875 \r\nQ 58.015625 14.40625 51.78125 6.484375 \r\nQ 45.5625 -1.421875 35.59375 -1.421875 \r\nQ 29.59375 -1.421875 25.265625 0.953125 \r\nQ 20.953125 3.328125 18.109375 8.203125 \r\nz\r\nM 48.6875 27.296875 \r\nQ 48.6875 37.203125 44.609375 42.84375 \r\nQ 40.53125 48.484375 33.40625 48.484375 \r\nQ 26.265625 48.484375 22.1875 42.84375 \r\nQ 18.109375 37.203125 18.109375 27.296875 \r\nQ 18.109375 17.390625 22.1875 11.75 \r\nQ 26.265625 6.109375 33.40625 6.109375 \r\nQ 40.53125 6.109375 44.609375 11.75 \r\nQ 48.6875 17.390625 48.6875 27.296875 \r\nz\r\n\" id=\"DejaVuSans-112\"/>\r\n       <path d=\"M 54.890625 33.015625 \r\nL 54.890625 0 \r\nL 45.90625 0 \r\nL 45.90625 32.71875 \r\nQ 45.90625 40.484375 42.875 44.328125 \r\nQ 39.84375 48.1875 33.796875 48.1875 \r\nQ 26.515625 48.1875 22.3125 43.546875 \r\nQ 18.109375 38.921875 18.109375 30.90625 \r\nL 18.109375 0 \r\nL 9.078125 0 \r\nL 9.078125 75.984375 \r\nL 18.109375 75.984375 \r\nL 18.109375 46.1875 \r\nQ 21.34375 51.125 25.703125 53.5625 \r\nQ 30.078125 56 35.796875 56 \r\nQ 45.21875 56 50.046875 50.171875 \r\nQ 54.890625 44.34375 54.890625 33.015625 \r\nz\r\n\" id=\"DejaVuSans-104\"/>\r\n      </defs>\r\n      <use xlink:href=\"#DejaVuSans-97\"/>\r\n      <use x=\"61.279297\" xlink:href=\"#DejaVuSans-108\"/>\r\n      <use x=\"89.0625\" xlink:href=\"#DejaVuSans-112\"/>\r\n      <use x=\"152.539062\" xlink:href=\"#DejaVuSans-104\"/>\r\n      <use x=\"215.917969\" xlink:href=\"#DejaVuSans-97\"/>\r\n     </g>\r\n    </g>\r\n   </g>\r\n   <g id=\"matplotlib.axis_2\">\r\n    <g id=\"ytick_1\">\r\n     <g id=\"line2d_11\">\r\n      <path clip-path=\"url(#p5cc7c76648)\" d=\"M 43.78125 213.518385 \r\nL 378.58125 213.518385 \r\n\" style=\"fill:none;stroke:#b0b0b0;stroke-linecap:square;stroke-width:0.8;\"/>\r\n     </g>\r\n     <g id=\"line2d_12\">\r\n      <defs>\r\n       <path d=\"M 0 0 \r\nL -3.5 0 \r\n\" id=\"ma232c8405a\" style=\"stroke:#000000;stroke-width:0.8;\"/>\r\n      </defs>\r\n      <g>\r\n       <use style=\"stroke:#000000;stroke-width:0.8;\" x=\"43.78125\" xlink:href=\"#ma232c8405a\" y=\"213.518385\"/>\r\n      </g>\r\n     </g>\r\n     <g id=\"text_7\">\r\n      <!-- 0.4 -->\r\n      <g transform=\"translate(20.878125 217.317604)scale(0.1 -0.1)\">\r\n       <defs>\r\n        <path d=\"M 37.796875 64.3125 \r\nL 12.890625 25.390625 \r\nL 37.796875 25.390625 \r\nz\r\nM 35.203125 72.90625 \r\nL 47.609375 72.90625 \r\nL 47.609375 25.390625 \r\nL 58.015625 25.390625 \r\nL 58.015625 17.1875 \r\nL 47.609375 17.1875 \r\nL 47.609375 0 \r\nL 37.796875 0 \r\nL 37.796875 17.1875 \r\nL 4.890625 17.1875 \r\nL 4.890625 26.703125 \r\nz\r\n\" id=\"DejaVuSans-52\"/>\r\n       </defs>\r\n       <use xlink:href=\"#DejaVuSans-48\"/>\r\n       <use x=\"63.623047\" xlink:href=\"#DejaVuSans-46\"/>\r\n       <use x=\"95.410156\" xlink:href=\"#DejaVuSans-52\"/>\r\n      </g>\r\n     </g>\r\n    </g>\r\n    <g id=\"ytick_2\">\r\n     <g id=\"line2d_13\">\r\n      <path clip-path=\"url(#p5cc7c76648)\" d=\"M 43.78125 165.844257 \r\nL 378.58125 165.844257 \r\n\" style=\"fill:none;stroke:#b0b0b0;stroke-linecap:square;stroke-width:0.8;\"/>\r\n     </g>\r\n     <g id=\"line2d_14\">\r\n      <g>\r\n       <use style=\"stroke:#000000;stroke-width:0.8;\" x=\"43.78125\" xlink:href=\"#ma232c8405a\" y=\"165.844257\"/>\r\n      </g>\r\n     </g>\r\n     <g id=\"text_8\">\r\n      <!-- 0.6 -->\r\n      <g transform=\"translate(20.878125 169.643476)scale(0.1 -0.1)\">\r\n       <defs>\r\n        <path d=\"M 33.015625 40.375 \r\nQ 26.375 40.375 22.484375 35.828125 \r\nQ 18.609375 31.296875 18.609375 23.390625 \r\nQ 18.609375 15.53125 22.484375 10.953125 \r\nQ 26.375 6.390625 33.015625 6.390625 \r\nQ 39.65625 6.390625 43.53125 10.953125 \r\nQ 47.40625 15.53125 47.40625 23.390625 \r\nQ 47.40625 31.296875 43.53125 35.828125 \r\nQ 39.65625 40.375 33.015625 40.375 \r\nz\r\nM 52.59375 71.296875 \r\nL 52.59375 62.3125 \r\nQ 48.875 64.0625 45.09375 64.984375 \r\nQ 41.3125 65.921875 37.59375 65.921875 \r\nQ 27.828125 65.921875 22.671875 59.328125 \r\nQ 17.53125 52.734375 16.796875 39.40625 \r\nQ 19.671875 43.65625 24.015625 45.921875 \r\nQ 28.375 48.1875 33.59375 48.1875 \r\nQ 44.578125 48.1875 50.953125 41.515625 \r\nQ 57.328125 34.859375 57.328125 23.390625 \r\nQ 57.328125 12.15625 50.6875 5.359375 \r\nQ 44.046875 -1.421875 33.015625 -1.421875 \r\nQ 20.359375 -1.421875 13.671875 8.265625 \r\nQ 6.984375 17.96875 6.984375 36.375 \r\nQ 6.984375 53.65625 15.1875 63.9375 \r\nQ 23.390625 74.21875 37.203125 74.21875 \r\nQ 40.921875 74.21875 44.703125 73.484375 \r\nQ 48.484375 72.75 52.59375 71.296875 \r\nz\r\n\" id=\"DejaVuSans-54\"/>\r\n       </defs>\r\n       <use xlink:href=\"#DejaVuSans-48\"/>\r\n       <use x=\"63.623047\" xlink:href=\"#DejaVuSans-46\"/>\r\n       <use x=\"95.410156\" xlink:href=\"#DejaVuSans-54\"/>\r\n      </g>\r\n     </g>\r\n    </g>\r\n    <g id=\"ytick_3\">\r\n     <g id=\"line2d_15\">\r\n      <path clip-path=\"url(#p5cc7c76648)\" d=\"M 43.78125 118.170129 \r\nL 378.58125 118.170129 \r\n\" style=\"fill:none;stroke:#b0b0b0;stroke-linecap:square;stroke-width:0.8;\"/>\r\n     </g>\r\n     <g id=\"line2d_16\">\r\n      <g>\r\n       <use style=\"stroke:#000000;stroke-width:0.8;\" x=\"43.78125\" xlink:href=\"#ma232c8405a\" y=\"118.170129\"/>\r\n      </g>\r\n     </g>\r\n     <g id=\"text_9\">\r\n      <!-- 0.8 -->\r\n      <g transform=\"translate(20.878125 121.969348)scale(0.1 -0.1)\">\r\n       <defs>\r\n        <path d=\"M 31.78125 34.625 \r\nQ 24.75 34.625 20.71875 30.859375 \r\nQ 16.703125 27.09375 16.703125 20.515625 \r\nQ 16.703125 13.921875 20.71875 10.15625 \r\nQ 24.75 6.390625 31.78125 6.390625 \r\nQ 38.8125 6.390625 42.859375 10.171875 \r\nQ 46.921875 13.96875 46.921875 20.515625 \r\nQ 46.921875 27.09375 42.890625 30.859375 \r\nQ 38.875 34.625 31.78125 34.625 \r\nz\r\nM 21.921875 38.8125 \r\nQ 15.578125 40.375 12.03125 44.71875 \r\nQ 8.5 49.078125 8.5 55.328125 \r\nQ 8.5 64.0625 14.71875 69.140625 \r\nQ 20.953125 74.21875 31.78125 74.21875 \r\nQ 42.671875 74.21875 48.875 69.140625 \r\nQ 55.078125 64.0625 55.078125 55.328125 \r\nQ 55.078125 49.078125 51.53125 44.71875 \r\nQ 48 40.375 41.703125 38.8125 \r\nQ 48.828125 37.15625 52.796875 32.3125 \r\nQ 56.78125 27.484375 56.78125 20.515625 \r\nQ 56.78125 9.90625 50.3125 4.234375 \r\nQ 43.84375 -1.421875 31.78125 -1.421875 \r\nQ 19.734375 -1.421875 13.25 4.234375 \r\nQ 6.78125 9.90625 6.78125 20.515625 \r\nQ 6.78125 27.484375 10.78125 32.3125 \r\nQ 14.796875 37.15625 21.921875 38.8125 \r\nz\r\nM 18.3125 54.390625 \r\nQ 18.3125 48.734375 21.84375 45.5625 \r\nQ 25.390625 42.390625 31.78125 42.390625 \r\nQ 38.140625 42.390625 41.71875 45.5625 \r\nQ 45.3125 48.734375 45.3125 54.390625 \r\nQ 45.3125 60.0625 41.71875 63.234375 \r\nQ 38.140625 66.40625 31.78125 66.40625 \r\nQ 25.390625 66.40625 21.84375 63.234375 \r\nQ 18.3125 60.0625 18.3125 54.390625 \r\nz\r\n\" id=\"DejaVuSans-56\"/>\r\n       </defs>\r\n       <use xlink:href=\"#DejaVuSans-48\"/>\r\n       <use x=\"63.623047\" xlink:href=\"#DejaVuSans-46\"/>\r\n       <use x=\"95.410156\" xlink:href=\"#DejaVuSans-56\"/>\r\n      </g>\r\n     </g>\r\n    </g>\r\n    <g id=\"ytick_4\">\r\n     <g id=\"line2d_17\">\r\n      <path clip-path=\"url(#p5cc7c76648)\" d=\"M 43.78125 70.496002 \r\nL 378.58125 70.496002 \r\n\" style=\"fill:none;stroke:#b0b0b0;stroke-linecap:square;stroke-width:0.8;\"/>\r\n     </g>\r\n     <g id=\"line2d_18\">\r\n      <g>\r\n       <use style=\"stroke:#000000;stroke-width:0.8;\" x=\"43.78125\" xlink:href=\"#ma232c8405a\" y=\"70.496002\"/>\r\n      </g>\r\n     </g>\r\n     <g id=\"text_10\">\r\n      <!-- 1.0 -->\r\n      <g transform=\"translate(20.878125 74.29522)scale(0.1 -0.1)\">\r\n       <use xlink:href=\"#DejaVuSans-49\"/>\r\n       <use x=\"63.623047\" xlink:href=\"#DejaVuSans-46\"/>\r\n       <use x=\"95.410156\" xlink:href=\"#DejaVuSans-48\"/>\r\n      </g>\r\n     </g>\r\n    </g>\r\n    <g id=\"ytick_5\">\r\n     <g id=\"line2d_19\">\r\n      <path clip-path=\"url(#p5cc7c76648)\" d=\"M 43.78125 22.821874 \r\nL 378.58125 22.821874 \r\n\" style=\"fill:none;stroke:#b0b0b0;stroke-linecap:square;stroke-width:0.8;\"/>\r\n     </g>\r\n     <g id=\"line2d_20\">\r\n      <g>\r\n       <use style=\"stroke:#000000;stroke-width:0.8;\" x=\"43.78125\" xlink:href=\"#ma232c8405a\" y=\"22.821874\"/>\r\n      </g>\r\n     </g>\r\n     <g id=\"text_11\">\r\n      <!-- 1.2 -->\r\n      <g transform=\"translate(20.878125 26.621093)scale(0.1 -0.1)\">\r\n       <defs>\r\n        <path d=\"M 19.1875 8.296875 \r\nL 53.609375 8.296875 \r\nL 53.609375 0 \r\nL 7.328125 0 \r\nL 7.328125 8.296875 \r\nQ 12.9375 14.109375 22.625 23.890625 \r\nQ 32.328125 33.6875 34.8125 36.53125 \r\nQ 39.546875 41.84375 41.421875 45.53125 \r\nQ 43.3125 49.21875 43.3125 52.78125 \r\nQ 43.3125 58.59375 39.234375 62.25 \r\nQ 35.15625 65.921875 28.609375 65.921875 \r\nQ 23.96875 65.921875 18.8125 64.3125 \r\nQ 13.671875 62.703125 7.8125 59.421875 \r\nL 7.8125 69.390625 \r\nQ 13.765625 71.78125 18.9375 73 \r\nQ 24.125 74.21875 28.421875 74.21875 \r\nQ 39.75 74.21875 46.484375 68.546875 \r\nQ 53.21875 62.890625 53.21875 53.421875 \r\nQ 53.21875 48.921875 51.53125 44.890625 \r\nQ 49.859375 40.875 45.40625 35.40625 \r\nQ 44.1875 33.984375 37.640625 27.21875 \r\nQ 31.109375 20.453125 19.1875 8.296875 \r\nz\r\n\" id=\"DejaVuSans-50\"/>\r\n       </defs>\r\n       <use xlink:href=\"#DejaVuSans-49\"/>\r\n       <use x=\"63.623047\" xlink:href=\"#DejaVuSans-46\"/>\r\n       <use x=\"95.410156\" xlink:href=\"#DejaVuSans-50\"/>\r\n      </g>\r\n     </g>\r\n    </g>\r\n    <g id=\"text_12\">\r\n     <!-- Error -->\r\n     <g transform=\"translate(14.798438 138.703594)rotate(-90)scale(0.1 -0.1)\">\r\n      <defs>\r\n       <path d=\"M 9.8125 72.90625 \r\nL 55.90625 72.90625 \r\nL 55.90625 64.59375 \r\nL 19.671875 64.59375 \r\nL 19.671875 43.015625 \r\nL 54.390625 43.015625 \r\nL 54.390625 34.71875 \r\nL 19.671875 34.71875 \r\nL 19.671875 8.296875 \r\nL 56.78125 8.296875 \r\nL 56.78125 0 \r\nL 9.8125 0 \r\nz\r\n\" id=\"DejaVuSans-69\"/>\r\n       <path d=\"M 41.109375 46.296875 \r\nQ 39.59375 47.171875 37.8125 47.578125 \r\nQ 36.03125 48 33.890625 48 \r\nQ 26.265625 48 22.1875 43.046875 \r\nQ 18.109375 38.09375 18.109375 28.8125 \r\nL 18.109375 0 \r\nL 9.078125 0 \r\nL 9.078125 54.6875 \r\nL 18.109375 54.6875 \r\nL 18.109375 46.1875 \r\nQ 20.953125 51.171875 25.484375 53.578125 \r\nQ 30.03125 56 36.53125 56 \r\nQ 37.453125 56 38.578125 55.875 \r\nQ 39.703125 55.765625 41.0625 55.515625 \r\nz\r\n\" id=\"DejaVuSans-114\"/>\r\n       <path d=\"M 30.609375 48.390625 \r\nQ 23.390625 48.390625 19.1875 42.75 \r\nQ 14.984375 37.109375 14.984375 27.296875 \r\nQ 14.984375 17.484375 19.15625 11.84375 \r\nQ 23.34375 6.203125 30.609375 6.203125 \r\nQ 37.796875 6.203125 41.984375 11.859375 \r\nQ 46.1875 17.53125 46.1875 27.296875 \r\nQ 46.1875 37.015625 41.984375 42.703125 \r\nQ 37.796875 48.390625 30.609375 48.390625 \r\nz\r\nM 30.609375 56 \r\nQ 42.328125 56 49.015625 48.375 \r\nQ 55.71875 40.765625 55.71875 27.296875 \r\nQ 55.71875 13.875 49.015625 6.21875 \r\nQ 42.328125 -1.421875 30.609375 -1.421875 \r\nQ 18.84375 -1.421875 12.171875 6.21875 \r\nQ 5.515625 13.875 5.515625 27.296875 \r\nQ 5.515625 40.765625 12.171875 48.375 \r\nQ 18.84375 56 30.609375 56 \r\nz\r\n\" id=\"DejaVuSans-111\"/>\r\n      </defs>\r\n      <use xlink:href=\"#DejaVuSans-69\"/>\r\n      <use x=\"63.183594\" xlink:href=\"#DejaVuSans-114\"/>\r\n      <use x=\"102.546875\" xlink:href=\"#DejaVuSans-114\"/>\r\n      <use x=\"141.410156\" xlink:href=\"#DejaVuSans-111\"/>\r\n      <use x=\"202.591797\" xlink:href=\"#DejaVuSans-114\"/>\r\n     </g>\r\n    </g>\r\n    <g id=\"text_13\">\r\n     <!-- 1e6 -->\r\n     <g transform=\"translate(43.78125 14.798437)scale(0.1 -0.1)\">\r\n      <defs>\r\n       <path d=\"M 56.203125 29.59375 \r\nL 56.203125 25.203125 \r\nL 14.890625 25.203125 \r\nQ 15.484375 15.921875 20.484375 11.0625 \r\nQ 25.484375 6.203125 34.421875 6.203125 \r\nQ 39.59375 6.203125 44.453125 7.46875 \r\nQ 49.3125 8.734375 54.109375 11.28125 \r\nL 54.109375 2.78125 \r\nQ 49.265625 0.734375 44.1875 -0.34375 \r\nQ 39.109375 -1.421875 33.890625 -1.421875 \r\nQ 20.796875 -1.421875 13.15625 6.1875 \r\nQ 5.515625 13.8125 5.515625 26.8125 \r\nQ 5.515625 40.234375 12.765625 48.109375 \r\nQ 20.015625 56 32.328125 56 \r\nQ 43.359375 56 49.78125 48.890625 \r\nQ 56.203125 41.796875 56.203125 29.59375 \r\nz\r\nM 47.21875 32.234375 \r\nQ 47.125 39.59375 43.09375 43.984375 \r\nQ 39.0625 48.390625 32.421875 48.390625 \r\nQ 24.90625 48.390625 20.390625 44.140625 \r\nQ 15.875 39.890625 15.1875 32.171875 \r\nz\r\n\" id=\"DejaVuSans-101\"/>\r\n      </defs>\r\n      <use xlink:href=\"#DejaVuSans-49\"/>\r\n      <use x=\"63.623047\" xlink:href=\"#DejaVuSans-101\"/>\r\n      <use x=\"125.146484\" xlink:href=\"#DejaVuSans-54\"/>\r\n     </g>\r\n    </g>\r\n   </g>\r\n   <g id=\"line2d_21\">\r\n    <path clip-path=\"url(#p5cc7c76648)\" d=\"M 58.999432 225.354801 \r\nL 135.090341 212.243489 \r\nL 211.18125 166.004202 \r\nL 287.272159 129.06674 \r\nL 363.363068 84.515131 \r\n\" style=\"fill:none;stroke:#008000;stroke-linecap:square;stroke-width:1.5;\"/>\r\n    <defs>\r\n     <path d=\"M 0 3 \r\nC 0.795609 3 1.55874 2.683901 2.12132 2.12132 \r\nC 2.683901 1.55874 3 0.795609 3 0 \r\nC 3 -0.795609 2.683901 -1.55874 2.12132 -2.12132 \r\nC 1.55874 -2.683901 0.795609 -3 0 -3 \r\nC -0.795609 -3 -1.55874 -2.683901 -2.12132 -2.12132 \r\nC -2.683901 -1.55874 -3 -0.795609 -3 0 \r\nC -3 0.795609 -2.683901 1.55874 -2.12132 2.12132 \r\nC -1.55874 2.683901 -0.795609 3 0 3 \r\nz\r\n\" id=\"md937d9cc75\" style=\"stroke:#008000;\"/>\r\n    </defs>\r\n    <g clip-path=\"url(#p5cc7c76648)\">\r\n     <use style=\"fill:#008000;stroke:#008000;\" x=\"58.999432\" xlink:href=\"#md937d9cc75\" y=\"225.354801\"/>\r\n     <use style=\"fill:#008000;stroke:#008000;\" x=\"135.090341\" xlink:href=\"#md937d9cc75\" y=\"212.243489\"/>\r\n     <use style=\"fill:#008000;stroke:#008000;\" x=\"211.18125\" xlink:href=\"#md937d9cc75\" y=\"166.004202\"/>\r\n     <use style=\"fill:#008000;stroke:#008000;\" x=\"287.272159\" xlink:href=\"#md937d9cc75\" y=\"129.06674\"/>\r\n     <use style=\"fill:#008000;stroke:#008000;\" x=\"363.363068\" xlink:href=\"#md937d9cc75\" y=\"84.515131\"/>\r\n    </g>\r\n   </g>\r\n   <g id=\"line2d_22\">\r\n    <path clip-path=\"url(#p5cc7c76648)\" d=\"M 58.999432 124.366997 \r\nL 135.090341 123.580826 \r\nL 211.18125 94.323939 \r\nL 287.272159 63.280721 \r\nL 363.363068 27.682074 \r\n\" style=\"fill:none;stroke:#ff0000;stroke-linecap:square;stroke-width:1.5;\"/>\r\n    <defs>\r\n     <path d=\"M 0 3 \r\nC 0.795609 3 1.55874 2.683901 2.12132 2.12132 \r\nC 2.683901 1.55874 3 0.795609 3 0 \r\nC 3 -0.795609 2.683901 -1.55874 2.12132 -2.12132 \r\nC 1.55874 -2.683901 0.795609 -3 0 -3 \r\nC -0.795609 -3 -1.55874 -2.683901 -2.12132 -2.12132 \r\nC -2.683901 -1.55874 -3 -0.795609 -3 0 \r\nC -3 0.795609 -2.683901 1.55874 -2.12132 2.12132 \r\nC -1.55874 2.683901 -0.795609 3 0 3 \r\nz\r\n\" id=\"m152507718c\" style=\"stroke:#ff0000;\"/>\r\n    </defs>\r\n    <g clip-path=\"url(#p5cc7c76648)\">\r\n     <use style=\"fill:#ff0000;stroke:#ff0000;\" x=\"58.999432\" xlink:href=\"#m152507718c\" y=\"124.366997\"/>\r\n     <use style=\"fill:#ff0000;stroke:#ff0000;\" x=\"135.090341\" xlink:href=\"#m152507718c\" y=\"123.580826\"/>\r\n     <use style=\"fill:#ff0000;stroke:#ff0000;\" x=\"211.18125\" xlink:href=\"#m152507718c\" y=\"94.323939\"/>\r\n     <use style=\"fill:#ff0000;stroke:#ff0000;\" x=\"287.272159\" xlink:href=\"#m152507718c\" y=\"63.280721\"/>\r\n     <use style=\"fill:#ff0000;stroke:#ff0000;\" x=\"363.363068\" xlink:href=\"#m152507718c\" y=\"27.682074\"/>\r\n    </g>\r\n   </g>\r\n   <g id=\"patch_3\">\r\n    <path d=\"M 43.78125 235.238438 \r\nL 43.78125 17.798438 \r\n\" style=\"fill:none;stroke:#000000;stroke-linecap:square;stroke-linejoin:miter;stroke-width:0.8;\"/>\r\n   </g>\r\n   <g id=\"patch_4\">\r\n    <path d=\"M 378.58125 235.238438 \r\nL 378.58125 17.798438 \r\n\" style=\"fill:none;stroke:#000000;stroke-linecap:square;stroke-linejoin:miter;stroke-width:0.8;\"/>\r\n   </g>\r\n   <g id=\"patch_5\">\r\n    <path d=\"M 43.78125 235.238438 \r\nL 378.58125 235.238438 \r\n\" style=\"fill:none;stroke:#000000;stroke-linecap:square;stroke-linejoin:miter;stroke-width:0.8;\"/>\r\n   </g>\r\n   <g id=\"patch_6\">\r\n    <path d=\"M 43.78125 17.798438 \r\nL 378.58125 17.798438 \r\n\" style=\"fill:none;stroke:#000000;stroke-linecap:square;stroke-linejoin:miter;stroke-width:0.8;\"/>\r\n   </g>\r\n   <g id=\"legend_1\">\r\n    <g id=\"patch_7\">\r\n     <path d=\"M 177.884375 55.710938 \r\nL 244.478125 55.710938 \r\nQ 246.478125 55.710938 246.478125 53.710938 \r\nL 246.478125 24.798438 \r\nQ 246.478125 22.798438 244.478125 22.798438 \r\nL 177.884375 22.798438 \r\nQ 175.884375 22.798438 175.884375 24.798438 \r\nL 175.884375 53.710938 \r\nQ 175.884375 55.710938 177.884375 55.710938 \r\nz\r\n\" style=\"fill:#ffffff;opacity:0.8;stroke:#cccccc;stroke-linejoin:miter;\"/>\r\n    </g>\r\n    <g id=\"line2d_23\">\r\n     <path d=\"M 179.884375 30.896875 \r\nL 199.884375 30.896875 \r\n\" style=\"fill:none;stroke:#008000;stroke-linecap:square;stroke-width:1.5;\"/>\r\n    </g>\r\n    <g id=\"line2d_24\">\r\n     <g>\r\n      <use style=\"fill:#008000;stroke:#008000;\" x=\"189.884375\" xlink:href=\"#md937d9cc75\" y=\"30.896875\"/>\r\n     </g>\r\n    </g>\r\n    <g id=\"text_14\">\r\n     <!-- E_train -->\r\n     <g transform=\"translate(207.884375 34.396875)scale(0.1 -0.1)\">\r\n      <defs>\r\n       <path d=\"M 50.984375 -16.609375 \r\nL 50.984375 -23.578125 \r\nL -0.984375 -23.578125 \r\nL -0.984375 -16.609375 \r\nz\r\n\" id=\"DejaVuSans-95\"/>\r\n       <path d=\"M 18.3125 70.21875 \r\nL 18.3125 54.6875 \r\nL 36.8125 54.6875 \r\nL 36.8125 47.703125 \r\nL 18.3125 47.703125 \r\nL 18.3125 18.015625 \r\nQ 18.3125 11.328125 20.140625 9.421875 \r\nQ 21.96875 7.515625 27.59375 7.515625 \r\nL 36.8125 7.515625 \r\nL 36.8125 0 \r\nL 27.59375 0 \r\nQ 17.1875 0 13.234375 3.875 \r\nQ 9.28125 7.765625 9.28125 18.015625 \r\nL 9.28125 47.703125 \r\nL 2.6875 47.703125 \r\nL 2.6875 54.6875 \r\nL 9.28125 54.6875 \r\nL 9.28125 70.21875 \r\nz\r\n\" id=\"DejaVuSans-116\"/>\r\n       <path d=\"M 9.421875 54.6875 \r\nL 18.40625 54.6875 \r\nL 18.40625 0 \r\nL 9.421875 0 \r\nz\r\nM 9.421875 75.984375 \r\nL 18.40625 75.984375 \r\nL 18.40625 64.59375 \r\nL 9.421875 64.59375 \r\nz\r\n\" id=\"DejaVuSans-105\"/>\r\n       <path d=\"M 54.890625 33.015625 \r\nL 54.890625 0 \r\nL 45.90625 0 \r\nL 45.90625 32.71875 \r\nQ 45.90625 40.484375 42.875 44.328125 \r\nQ 39.84375 48.1875 33.796875 48.1875 \r\nQ 26.515625 48.1875 22.3125 43.546875 \r\nQ 18.109375 38.921875 18.109375 30.90625 \r\nL 18.109375 0 \r\nL 9.078125 0 \r\nL 9.078125 54.6875 \r\nL 18.109375 54.6875 \r\nL 18.109375 46.1875 \r\nQ 21.34375 51.125 25.703125 53.5625 \r\nQ 30.078125 56 35.796875 56 \r\nQ 45.21875 56 50.046875 50.171875 \r\nQ 54.890625 44.34375 54.890625 33.015625 \r\nz\r\n\" id=\"DejaVuSans-110\"/>\r\n      </defs>\r\n      <use xlink:href=\"#DejaVuSans-69\"/>\r\n      <use x=\"63.183594\" xlink:href=\"#DejaVuSans-95\"/>\r\n      <use x=\"113.183594\" xlink:href=\"#DejaVuSans-116\"/>\r\n      <use x=\"152.392578\" xlink:href=\"#DejaVuSans-114\"/>\r\n      <use x=\"193.505859\" xlink:href=\"#DejaVuSans-97\"/>\r\n      <use x=\"254.785156\" xlink:href=\"#DejaVuSans-105\"/>\r\n      <use x=\"282.568359\" xlink:href=\"#DejaVuSans-110\"/>\r\n     </g>\r\n    </g>\r\n    <g id=\"line2d_25\">\r\n     <path d=\"M 179.884375 45.853125 \r\nL 199.884375 45.853125 \r\n\" style=\"fill:none;stroke:#ff0000;stroke-linecap:square;stroke-width:1.5;\"/>\r\n    </g>\r\n    <g id=\"line2d_26\">\r\n     <g>\r\n      <use style=\"fill:#ff0000;stroke:#ff0000;\" x=\"189.884375\" xlink:href=\"#m152507718c\" y=\"45.853125\"/>\r\n     </g>\r\n    </g>\r\n    <g id=\"text_15\">\r\n     <!-- E_val -->\r\n     <g transform=\"translate(207.884375 49.353125)scale(0.1 -0.1)\">\r\n      <defs>\r\n       <path d=\"M 2.984375 54.6875 \r\nL 12.5 54.6875 \r\nL 29.59375 8.796875 \r\nL 46.6875 54.6875 \r\nL 56.203125 54.6875 \r\nL 35.6875 0 \r\nL 23.484375 0 \r\nz\r\n\" id=\"DejaVuSans-118\"/>\r\n      </defs>\r\n      <use xlink:href=\"#DejaVuSans-69\"/>\r\n      <use x=\"63.183594\" xlink:href=\"#DejaVuSans-95\"/>\r\n      <use x=\"113.183594\" xlink:href=\"#DejaVuSans-118\"/>\r\n      <use x=\"172.363281\" xlink:href=\"#DejaVuSans-97\"/>\r\n      <use x=\"233.642578\" xlink:href=\"#DejaVuSans-108\"/>\r\n     </g>\r\n    </g>\r\n   </g>\r\n  </g>\r\n </g>\r\n <defs>\r\n  <clipPath id=\"p5cc7c76648\">\r\n   <rect height=\"217.44\" width=\"334.8\" x=\"43.78125\" y=\"17.798438\"/>\r\n  </clipPath>\r\n </defs>\r\n</svg>\r\n",
      "image/png": "[encoded data removed]"
     },
     "metadata": {
      "needs_background": "light"
     }
    }
   ],
   "source": [
    "from train_val_chart import chart\n",
    "\n",
    "chart(train_MAEs, val_MAEs, alphas, 'alpha')"
   ]
  },
  {
   "cell_type": "markdown",
   "metadata": {},
   "source": [
    "---"
   ]
  },
  {
   "cell_type": "code",
   "execution_count": 33,
   "metadata": {},
   "outputs": [],
   "source": [
    "# Random forest regressor\n",
    "rf_regressor = RandomForestRegressor(n_estimators=800, random_state=0, verbose=0)\n",
    "\n",
    "model = TransformedTargetRegressor(regressor=rf_regressor,\n",
    "                                 func=np.log, inverse_func=np.exp)\n",
    "\n",
    "# Full pipeline = preprocess_pipeline + model\n",
    "full_pipeline = Pipeline(steps = [\n",
    "    ('preprocessor', preprocess_pipeline),\n",
    "    ('model', model)\n",
    "])"
   ]
  },
  {
   "cell_type": "code",
   "execution_count": 34,
   "metadata": {},
   "outputs": [
    {
     "output_type": "stream",
     "name": "stdout",
     "text": [
      "MAE = 697962.2556765627\n",
      "MAE = 695554.9814056441\n",
      "MAE = 693861.2915576712\n",
      "MAE = 695033.2259001777\n",
      "MAE = 694798.7667132171\n",
      "MAE = 694596.1129243408\n",
      "MAE = 694042.9709465638\n"
     ]
    },
    {
     "output_type": "execute_result",
     "data": {
      "text/plain": [
       "'Finish!'"
      ]
     },
     "metadata": {},
     "execution_count": 34
    }
   ],
   "source": [
    "# Thử nghiệm với các giá trị khác nhau của các siêu tham số\n",
    "# và chọn ra các giá trị tốt nhất\n",
    "\n",
    "val_MAEs = []\n",
    "train_MAEs = []\n",
    "my_n_estimators = [100, 200, 400, 600, 800, 1000, 1500]\n",
    "best_val_MAE = float('inf'); best_estimator = None;\n",
    "for estimator in my_n_estimators:\n",
    "    full_pipeline.set_params(model__regressor__n_estimators=estimator)  # nested pipeline\n",
    "    full_pipeline.fit(train_X_df, train_y_sr)\n",
    "    preds_y = full_pipeline.predict(val_X_df)\n",
    "    val_mae = mean_absolute_error(preds_y, val_y_sr)\n",
    "    print(\"MAE =\", val_mae)\n",
    "    val_MAEs.append(val_mae)\n",
    "    preds_train_y = full_pipeline.predict(train_X_df)\n",
    "    train_MAEs.append(mean_absolute_error(preds_train_y, train_y_sr))\n",
    "    \n",
    "    if best_val_MAE > val_mae:\n",
    "        best_val_MAE = val_mae\n",
    "        best_estimator = estimator\n",
    "'Finish!'"
   ]
  },
  {
   "cell_type": "code",
   "execution_count": 35,
   "metadata": {},
   "outputs": [
    {
     "output_type": "execute_result",
     "data": {
      "text/plain": [
       "400"
      ]
     },
     "metadata": {},
     "execution_count": 35
    }
   ],
   "source": [
    "best_estimator"
   ]
  },
  {
   "cell_type": "code",
   "execution_count": 36,
   "metadata": {},
   "outputs": [
    {
     "output_type": "display_data",
     "data": {
      "text/plain": "<Figure size 432x288 with 1 Axes>",
      "image/svg+xml": "<?xml version=\"1.0\" encoding=\"utf-8\" standalone=\"no\"?>\r\n<!DOCTYPE svg PUBLIC \"-//W3C//DTD SVG 1.1//EN\"\r\n  \"http://www.w3.org/Graphics/SVG/1.1/DTD/svg11.dtd\">\r\n<!-- Created with matplotlib (https://matplotlib.org/) -->\r\n<svg height=\"262.474375pt\" version=\"1.1\" viewBox=\"0 0 408.053125 262.474375\" width=\"408.053125pt\" xmlns=\"http://www.w3.org/2000/svg\" xmlns:xlink=\"http://www.w3.org/1999/xlink\">\r\n <metadata>\r\n  <rdf:RDF xmlns:cc=\"http://creativecommons.org/ns#\" xmlns:dc=\"http://purl.org/dc/elements/1.1/\" xmlns:rdf=\"http://www.w3.org/1999/02/22-rdf-syntax-ns#\">\r\n   <cc:Work>\r\n    <dc:type rdf:resource=\"http://purl.org/dc/dcmitype/StillImage\"/>\r\n    <dc:date>2021-01-15T23:59:03.861905</dc:date>\r\n    <dc:format>image/svg+xml</dc:format>\r\n    <dc:creator>\r\n     <cc:Agent>\r\n      <dc:title>Matplotlib v3.3.2, https://matplotlib.org/</dc:title>\r\n     </cc:Agent>\r\n    </dc:creator>\r\n   </cc:Work>\r\n  </rdf:RDF>\r\n </metadata>\r\n <defs>\r\n  <style type=\"text/css\">*{stroke-linecap:butt;stroke-linejoin:round;}</style>\r\n </defs>\r\n <g id=\"figure_1\">\r\n  <g id=\"patch_1\">\r\n   <path d=\"M 0 262.474375 \r\nL 408.053125 262.474375 \r\nL 408.053125 0 \r\nL 0 0 \r\nz\r\n\" style=\"fill:none;\"/>\r\n  </g>\r\n  <g id=\"axes_1\">\r\n   <g id=\"patch_2\">\r\n    <path d=\"M 66.053125 224.64 \r\nL 400.853125 224.64 \r\nL 400.853125 7.2 \r\nL 66.053125 7.2 \r\nz\r\n\" style=\"fill:#ffffff;\"/>\r\n   </g>\r\n   <g id=\"matplotlib.axis_1\">\r\n    <g id=\"xtick_1\">\r\n     <g id=\"line2d_1\">\r\n      <path clip-path=\"url(#p68c7abe35e)\" d=\"M 81.271307 224.64 \r\nL 81.271307 7.2 \r\n\" style=\"fill:none;stroke:#b0b0b0;stroke-linecap:square;stroke-width:0.8;\"/>\r\n     </g>\r\n     <g id=\"line2d_2\">\r\n      <defs>\r\n       <path d=\"M 0 0 \r\nL 0 3.5 \r\n\" id=\"m22c83e5794\" style=\"stroke:#000000;stroke-width:0.8;\"/>\r\n      </defs>\r\n      <g>\r\n       <use style=\"stroke:#000000;stroke-width:0.8;\" x=\"81.271307\" xlink:href=\"#m22c83e5794\" y=\"224.64\"/>\r\n      </g>\r\n     </g>\r\n     <g id=\"text_1\">\r\n      <!-- 100 -->\r\n      <g transform=\"translate(71.727557 239.238438)scale(0.1 -0.1)\">\r\n       <defs>\r\n        <path d=\"M 12.40625 8.296875 \r\nL 28.515625 8.296875 \r\nL 28.515625 63.921875 \r\nL 10.984375 60.40625 \r\nL 10.984375 69.390625 \r\nL 28.421875 72.90625 \r\nL 38.28125 72.90625 \r\nL 38.28125 8.296875 \r\nL 54.390625 8.296875 \r\nL 54.390625 0 \r\nL 12.40625 0 \r\nz\r\n\" id=\"DejaVuSans-49\"/>\r\n        <path d=\"M 31.78125 66.40625 \r\nQ 24.171875 66.40625 20.328125 58.90625 \r\nQ 16.5 51.421875 16.5 36.375 \r\nQ 16.5 21.390625 20.328125 13.890625 \r\nQ 24.171875 6.390625 31.78125 6.390625 \r\nQ 39.453125 6.390625 43.28125 13.890625 \r\nQ 47.125 21.390625 47.125 36.375 \r\nQ 47.125 51.421875 43.28125 58.90625 \r\nQ 39.453125 66.40625 31.78125 66.40625 \r\nz\r\nM 31.78125 74.21875 \r\nQ 44.046875 74.21875 50.515625 64.515625 \r\nQ 56.984375 54.828125 56.984375 36.375 \r\nQ 56.984375 17.96875 50.515625 8.265625 \r\nQ 44.046875 -1.421875 31.78125 -1.421875 \r\nQ 19.53125 -1.421875 13.0625 8.265625 \r\nQ 6.59375 17.96875 6.59375 36.375 \r\nQ 6.59375 54.828125 13.0625 64.515625 \r\nQ 19.53125 74.21875 31.78125 74.21875 \r\nz\r\n\" id=\"DejaVuSans-48\"/>\r\n       </defs>\r\n       <use xlink:href=\"#DejaVuSans-49\"/>\r\n       <use x=\"63.623047\" xlink:href=\"#DejaVuSans-48\"/>\r\n       <use x=\"127.246094\" xlink:href=\"#DejaVuSans-48\"/>\r\n      </g>\r\n     </g>\r\n    </g>\r\n    <g id=\"xtick_2\">\r\n     <g id=\"line2d_3\">\r\n      <path clip-path=\"url(#p68c7abe35e)\" d=\"M 159.175622 224.64 \r\nL 159.175622 7.2 \r\n\" style=\"fill:none;stroke:#b0b0b0;stroke-linecap:square;stroke-width:0.8;\"/>\r\n     </g>\r\n     <g id=\"line2d_4\">\r\n      <g>\r\n       <use style=\"stroke:#000000;stroke-width:0.8;\" x=\"159.175622\" xlink:href=\"#m22c83e5794\" y=\"224.64\"/>\r\n      </g>\r\n     </g>\r\n     <g id=\"text_2\">\r\n      <!-- 200 -->\r\n      <g transform=\"translate(149.631872 239.238438)scale(0.1 -0.1)\">\r\n       <defs>\r\n        <path d=\"M 19.1875 8.296875 \r\nL 53.609375 8.296875 \r\nL 53.609375 0 \r\nL 7.328125 0 \r\nL 7.328125 8.296875 \r\nQ 12.9375 14.109375 22.625 23.890625 \r\nQ 32.328125 33.6875 34.8125 36.53125 \r\nQ 39.546875 41.84375 41.421875 45.53125 \r\nQ 43.3125 49.21875 43.3125 52.78125 \r\nQ 43.3125 58.59375 39.234375 62.25 \r\nQ 35.15625 65.921875 28.609375 65.921875 \r\nQ 23.96875 65.921875 18.8125 64.3125 \r\nQ 13.671875 62.703125 7.8125 59.421875 \r\nL 7.8125 69.390625 \r\nQ 13.765625 71.78125 18.9375 73 \r\nQ 24.125 74.21875 28.421875 74.21875 \r\nQ 39.75 74.21875 46.484375 68.546875 \r\nQ 53.21875 62.890625 53.21875 53.421875 \r\nQ 53.21875 48.921875 51.53125 44.890625 \r\nQ 49.859375 40.875 45.40625 35.40625 \r\nQ 44.1875 33.984375 37.640625 27.21875 \r\nQ 31.109375 20.453125 19.1875 8.296875 \r\nz\r\n\" id=\"DejaVuSans-50\"/>\r\n       </defs>\r\n       <use xlink:href=\"#DejaVuSans-50\"/>\r\n       <use x=\"63.623047\" xlink:href=\"#DejaVuSans-48\"/>\r\n       <use x=\"127.246094\" xlink:href=\"#DejaVuSans-48\"/>\r\n      </g>\r\n     </g>\r\n    </g>\r\n    <g id=\"xtick_3\">\r\n     <g id=\"line2d_5\">\r\n      <path clip-path=\"url(#p68c7abe35e)\" d=\"M 237.079937 224.64 \r\nL 237.079937 7.2 \r\n\" style=\"fill:none;stroke:#b0b0b0;stroke-linecap:square;stroke-width:0.8;\"/>\r\n     </g>\r\n     <g id=\"line2d_6\">\r\n      <g>\r\n       <use style=\"stroke:#000000;stroke-width:0.8;\" x=\"237.079937\" xlink:href=\"#m22c83e5794\" y=\"224.64\"/>\r\n      </g>\r\n     </g>\r\n     <g id=\"text_3\">\r\n      <!-- 400 -->\r\n      <g transform=\"translate(227.536187 239.238438)scale(0.1 -0.1)\">\r\n       <defs>\r\n        <path d=\"M 37.796875 64.3125 \r\nL 12.890625 25.390625 \r\nL 37.796875 25.390625 \r\nz\r\nM 35.203125 72.90625 \r\nL 47.609375 72.90625 \r\nL 47.609375 25.390625 \r\nL 58.015625 25.390625 \r\nL 58.015625 17.1875 \r\nL 47.609375 17.1875 \r\nL 47.609375 0 \r\nL 37.796875 0 \r\nL 37.796875 17.1875 \r\nL 4.890625 17.1875 \r\nL 4.890625 26.703125 \r\nz\r\n\" id=\"DejaVuSans-52\"/>\r\n       </defs>\r\n       <use xlink:href=\"#DejaVuSans-52\"/>\r\n       <use x=\"63.623047\" xlink:href=\"#DejaVuSans-48\"/>\r\n       <use x=\"127.246094\" xlink:href=\"#DejaVuSans-48\"/>\r\n      </g>\r\n     </g>\r\n    </g>\r\n    <g id=\"xtick_4\">\r\n     <g id=\"line2d_7\">\r\n      <path clip-path=\"url(#p68c7abe35e)\" d=\"M 282.65104 224.64 \r\nL 282.65104 7.2 \r\n\" style=\"fill:none;stroke:#b0b0b0;stroke-linecap:square;stroke-width:0.8;\"/>\r\n     </g>\r\n     <g id=\"line2d_8\">\r\n      <g>\r\n       <use style=\"stroke:#000000;stroke-width:0.8;\" x=\"282.65104\" xlink:href=\"#m22c83e5794\" y=\"224.64\"/>\r\n      </g>\r\n     </g>\r\n     <g id=\"text_4\">\r\n      <!-- 600 -->\r\n      <g transform=\"translate(273.10729 239.238438)scale(0.1 -0.1)\">\r\n       <defs>\r\n        <path d=\"M 33.015625 40.375 \r\nQ 26.375 40.375 22.484375 35.828125 \r\nQ 18.609375 31.296875 18.609375 23.390625 \r\nQ 18.609375 15.53125 22.484375 10.953125 \r\nQ 26.375 6.390625 33.015625 6.390625 \r\nQ 39.65625 6.390625 43.53125 10.953125 \r\nQ 47.40625 15.53125 47.40625 23.390625 \r\nQ 47.40625 31.296875 43.53125 35.828125 \r\nQ 39.65625 40.375 33.015625 40.375 \r\nz\r\nM 52.59375 71.296875 \r\nL 52.59375 62.3125 \r\nQ 48.875 64.0625 45.09375 64.984375 \r\nQ 41.3125 65.921875 37.59375 65.921875 \r\nQ 27.828125 65.921875 22.671875 59.328125 \r\nQ 17.53125 52.734375 16.796875 39.40625 \r\nQ 19.671875 43.65625 24.015625 45.921875 \r\nQ 28.375 48.1875 33.59375 48.1875 \r\nQ 44.578125 48.1875 50.953125 41.515625 \r\nQ 57.328125 34.859375 57.328125 23.390625 \r\nQ 57.328125 12.15625 50.6875 5.359375 \r\nQ 44.046875 -1.421875 33.015625 -1.421875 \r\nQ 20.359375 -1.421875 13.671875 8.265625 \r\nQ 6.984375 17.96875 6.984375 36.375 \r\nQ 6.984375 53.65625 15.1875 63.9375 \r\nQ 23.390625 74.21875 37.203125 74.21875 \r\nQ 40.921875 74.21875 44.703125 73.484375 \r\nQ 48.484375 72.75 52.59375 71.296875 \r\nz\r\n\" id=\"DejaVuSans-54\"/>\r\n       </defs>\r\n       <use xlink:href=\"#DejaVuSans-54\"/>\r\n       <use x=\"63.623047\" xlink:href=\"#DejaVuSans-48\"/>\r\n       <use x=\"127.246094\" xlink:href=\"#DejaVuSans-48\"/>\r\n      </g>\r\n     </g>\r\n    </g>\r\n    <g id=\"xtick_5\">\r\n     <g id=\"line2d_9\">\r\n      <path clip-path=\"url(#p68c7abe35e)\" d=\"M 314.984252 224.64 \r\nL 314.984252 7.2 \r\n\" style=\"fill:none;stroke:#b0b0b0;stroke-linecap:square;stroke-width:0.8;\"/>\r\n     </g>\r\n     <g id=\"line2d_10\">\r\n      <g>\r\n       <use style=\"stroke:#000000;stroke-width:0.8;\" x=\"314.984252\" xlink:href=\"#m22c83e5794\" y=\"224.64\"/>\r\n      </g>\r\n     </g>\r\n     <g id=\"text_5\">\r\n      <!-- 800 -->\r\n      <g transform=\"translate(305.440502 239.238438)scale(0.1 -0.1)\">\r\n       <defs>\r\n        <path d=\"M 31.78125 34.625 \r\nQ 24.75 34.625 20.71875 30.859375 \r\nQ 16.703125 27.09375 16.703125 20.515625 \r\nQ 16.703125 13.921875 20.71875 10.15625 \r\nQ 24.75 6.390625 31.78125 6.390625 \r\nQ 38.8125 6.390625 42.859375 10.171875 \r\nQ 46.921875 13.96875 46.921875 20.515625 \r\nQ 46.921875 27.09375 42.890625 30.859375 \r\nQ 38.875 34.625 31.78125 34.625 \r\nz\r\nM 21.921875 38.8125 \r\nQ 15.578125 40.375 12.03125 44.71875 \r\nQ 8.5 49.078125 8.5 55.328125 \r\nQ 8.5 64.0625 14.71875 69.140625 \r\nQ 20.953125 74.21875 31.78125 74.21875 \r\nQ 42.671875 74.21875 48.875 69.140625 \r\nQ 55.078125 64.0625 55.078125 55.328125 \r\nQ 55.078125 49.078125 51.53125 44.71875 \r\nQ 48 40.375 41.703125 38.8125 \r\nQ 48.828125 37.15625 52.796875 32.3125 \r\nQ 56.78125 27.484375 56.78125 20.515625 \r\nQ 56.78125 9.90625 50.3125 4.234375 \r\nQ 43.84375 -1.421875 31.78125 -1.421875 \r\nQ 19.734375 -1.421875 13.25 4.234375 \r\nQ 6.78125 9.90625 6.78125 20.515625 \r\nQ 6.78125 27.484375 10.78125 32.3125 \r\nQ 14.796875 37.15625 21.921875 38.8125 \r\nz\r\nM 18.3125 54.390625 \r\nQ 18.3125 48.734375 21.84375 45.5625 \r\nQ 25.390625 42.390625 31.78125 42.390625 \r\nQ 38.140625 42.390625 41.71875 45.5625 \r\nQ 45.3125 48.734375 45.3125 54.390625 \r\nQ 45.3125 60.0625 41.71875 63.234375 \r\nQ 38.140625 66.40625 31.78125 66.40625 \r\nQ 25.390625 66.40625 21.84375 63.234375 \r\nQ 18.3125 60.0625 18.3125 54.390625 \r\nz\r\n\" id=\"DejaVuSans-56\"/>\r\n       </defs>\r\n       <use xlink:href=\"#DejaVuSans-56\"/>\r\n       <use x=\"63.623047\" xlink:href=\"#DejaVuSans-48\"/>\r\n       <use x=\"127.246094\" xlink:href=\"#DejaVuSans-48\"/>\r\n      </g>\r\n     </g>\r\n    </g>\r\n    <g id=\"xtick_6\">\r\n     <g id=\"line2d_11\">\r\n      <path clip-path=\"url(#p68c7abe35e)\" d=\"M 340.06384 224.64 \r\nL 340.06384 7.2 \r\n\" style=\"fill:none;stroke:#b0b0b0;stroke-linecap:square;stroke-width:0.8;\"/>\r\n     </g>\r\n     <g id=\"line2d_12\">\r\n      <g>\r\n       <use style=\"stroke:#000000;stroke-width:0.8;\" x=\"340.06384\" xlink:href=\"#m22c83e5794\" y=\"224.64\"/>\r\n      </g>\r\n     </g>\r\n     <g id=\"text_6\">\r\n      <!-- 1000 -->\r\n      <g transform=\"translate(327.33884 239.238438)scale(0.1 -0.1)\">\r\n       <use xlink:href=\"#DejaVuSans-49\"/>\r\n       <use x=\"63.623047\" xlink:href=\"#DejaVuSans-48\"/>\r\n       <use x=\"127.246094\" xlink:href=\"#DejaVuSans-48\"/>\r\n       <use x=\"190.869141\" xlink:href=\"#DejaVuSans-48\"/>\r\n      </g>\r\n     </g>\r\n    </g>\r\n    <g id=\"xtick_7\">\r\n     <g id=\"line2d_13\">\r\n      <path clip-path=\"url(#p68c7abe35e)\" d=\"M 385.634943 224.64 \r\nL 385.634943 7.2 \r\n\" style=\"fill:none;stroke:#b0b0b0;stroke-linecap:square;stroke-width:0.8;\"/>\r\n     </g>\r\n     <g id=\"line2d_14\">\r\n      <g>\r\n       <use style=\"stroke:#000000;stroke-width:0.8;\" x=\"385.634943\" xlink:href=\"#m22c83e5794\" y=\"224.64\"/>\r\n      </g>\r\n     </g>\r\n     <g id=\"text_7\">\r\n      <!-- 1500 -->\r\n      <g transform=\"translate(372.909943 239.238438)scale(0.1 -0.1)\">\r\n       <defs>\r\n        <path d=\"M 10.796875 72.90625 \r\nL 49.515625 72.90625 \r\nL 49.515625 64.59375 \r\nL 19.828125 64.59375 \r\nL 19.828125 46.734375 \r\nQ 21.96875 47.46875 24.109375 47.828125 \r\nQ 26.265625 48.1875 28.421875 48.1875 \r\nQ 40.625 48.1875 47.75 41.5 \r\nQ 54.890625 34.8125 54.890625 23.390625 \r\nQ 54.890625 11.625 47.5625 5.09375 \r\nQ 40.234375 -1.421875 26.90625 -1.421875 \r\nQ 22.3125 -1.421875 17.546875 -0.640625 \r\nQ 12.796875 0.140625 7.71875 1.703125 \r\nL 7.71875 11.625 \r\nQ 12.109375 9.234375 16.796875 8.0625 \r\nQ 21.484375 6.890625 26.703125 6.890625 \r\nQ 35.15625 6.890625 40.078125 11.328125 \r\nQ 45.015625 15.765625 45.015625 23.390625 \r\nQ 45.015625 31 40.078125 35.4375 \r\nQ 35.15625 39.890625 26.703125 39.890625 \r\nQ 22.75 39.890625 18.8125 39.015625 \r\nQ 14.890625 38.140625 10.796875 36.28125 \r\nz\r\n\" id=\"DejaVuSans-53\"/>\r\n       </defs>\r\n       <use xlink:href=\"#DejaVuSans-49\"/>\r\n       <use x=\"63.623047\" xlink:href=\"#DejaVuSans-53\"/>\r\n       <use x=\"127.246094\" xlink:href=\"#DejaVuSans-48\"/>\r\n       <use x=\"190.869141\" xlink:href=\"#DejaVuSans-48\"/>\r\n      </g>\r\n     </g>\r\n    </g>\r\n    <g id=\"text_8\">\r\n     <!-- n_estimators -->\r\n     <g transform=\"translate(201.139844 252.916562)scale(0.1 -0.1)\">\r\n      <defs>\r\n       <path d=\"M 54.890625 33.015625 \r\nL 54.890625 0 \r\nL 45.90625 0 \r\nL 45.90625 32.71875 \r\nQ 45.90625 40.484375 42.875 44.328125 \r\nQ 39.84375 48.1875 33.796875 48.1875 \r\nQ 26.515625 48.1875 22.3125 43.546875 \r\nQ 18.109375 38.921875 18.109375 30.90625 \r\nL 18.109375 0 \r\nL 9.078125 0 \r\nL 9.078125 54.6875 \r\nL 18.109375 54.6875 \r\nL 18.109375 46.1875 \r\nQ 21.34375 51.125 25.703125 53.5625 \r\nQ 30.078125 56 35.796875 56 \r\nQ 45.21875 56 50.046875 50.171875 \r\nQ 54.890625 44.34375 54.890625 33.015625 \r\nz\r\n\" id=\"DejaVuSans-110\"/>\r\n       <path d=\"M 50.984375 -16.609375 \r\nL 50.984375 -23.578125 \r\nL -0.984375 -23.578125 \r\nL -0.984375 -16.609375 \r\nz\r\n\" id=\"DejaVuSans-95\"/>\r\n       <path d=\"M 56.203125 29.59375 \r\nL 56.203125 25.203125 \r\nL 14.890625 25.203125 \r\nQ 15.484375 15.921875 20.484375 11.0625 \r\nQ 25.484375 6.203125 34.421875 6.203125 \r\nQ 39.59375 6.203125 44.453125 7.46875 \r\nQ 49.3125 8.734375 54.109375 11.28125 \r\nL 54.109375 2.78125 \r\nQ 49.265625 0.734375 44.1875 -0.34375 \r\nQ 39.109375 -1.421875 33.890625 -1.421875 \r\nQ 20.796875 -1.421875 13.15625 6.1875 \r\nQ 5.515625 13.8125 5.515625 26.8125 \r\nQ 5.515625 40.234375 12.765625 48.109375 \r\nQ 20.015625 56 32.328125 56 \r\nQ 43.359375 56 49.78125 48.890625 \r\nQ 56.203125 41.796875 56.203125 29.59375 \r\nz\r\nM 47.21875 32.234375 \r\nQ 47.125 39.59375 43.09375 43.984375 \r\nQ 39.0625 48.390625 32.421875 48.390625 \r\nQ 24.90625 48.390625 20.390625 44.140625 \r\nQ 15.875 39.890625 15.1875 32.171875 \r\nz\r\n\" id=\"DejaVuSans-101\"/>\r\n       <path d=\"M 44.28125 53.078125 \r\nL 44.28125 44.578125 \r\nQ 40.484375 46.53125 36.375 47.5 \r\nQ 32.28125 48.484375 27.875 48.484375 \r\nQ 21.1875 48.484375 17.84375 46.4375 \r\nQ 14.5 44.390625 14.5 40.28125 \r\nQ 14.5 37.15625 16.890625 35.375 \r\nQ 19.28125 33.59375 26.515625 31.984375 \r\nL 29.59375 31.296875 \r\nQ 39.15625 29.25 43.1875 25.515625 \r\nQ 47.21875 21.78125 47.21875 15.09375 \r\nQ 47.21875 7.46875 41.1875 3.015625 \r\nQ 35.15625 -1.421875 24.609375 -1.421875 \r\nQ 20.21875 -1.421875 15.453125 -0.5625 \r\nQ 10.6875 0.296875 5.421875 2 \r\nL 5.421875 11.28125 \r\nQ 10.40625 8.6875 15.234375 7.390625 \r\nQ 20.0625 6.109375 24.8125 6.109375 \r\nQ 31.15625 6.109375 34.5625 8.28125 \r\nQ 37.984375 10.453125 37.984375 14.40625 \r\nQ 37.984375 18.0625 35.515625 20.015625 \r\nQ 33.0625 21.96875 24.703125 23.78125 \r\nL 21.578125 24.515625 \r\nQ 13.234375 26.265625 9.515625 29.90625 \r\nQ 5.8125 33.546875 5.8125 39.890625 \r\nQ 5.8125 47.609375 11.28125 51.796875 \r\nQ 16.75 56 26.8125 56 \r\nQ 31.78125 56 36.171875 55.265625 \r\nQ 40.578125 54.546875 44.28125 53.078125 \r\nz\r\n\" id=\"DejaVuSans-115\"/>\r\n       <path d=\"M 18.3125 70.21875 \r\nL 18.3125 54.6875 \r\nL 36.8125 54.6875 \r\nL 36.8125 47.703125 \r\nL 18.3125 47.703125 \r\nL 18.3125 18.015625 \r\nQ 18.3125 11.328125 20.140625 9.421875 \r\nQ 21.96875 7.515625 27.59375 7.515625 \r\nL 36.8125 7.515625 \r\nL 36.8125 0 \r\nL 27.59375 0 \r\nQ 17.1875 0 13.234375 3.875 \r\nQ 9.28125 7.765625 9.28125 18.015625 \r\nL 9.28125 47.703125 \r\nL 2.6875 47.703125 \r\nL 2.6875 54.6875 \r\nL 9.28125 54.6875 \r\nL 9.28125 70.21875 \r\nz\r\n\" id=\"DejaVuSans-116\"/>\r\n       <path d=\"M 9.421875 54.6875 \r\nL 18.40625 54.6875 \r\nL 18.40625 0 \r\nL 9.421875 0 \r\nz\r\nM 9.421875 75.984375 \r\nL 18.40625 75.984375 \r\nL 18.40625 64.59375 \r\nL 9.421875 64.59375 \r\nz\r\n\" id=\"DejaVuSans-105\"/>\r\n       <path d=\"M 52 44.1875 \r\nQ 55.375 50.25 60.0625 53.125 \r\nQ 64.75 56 71.09375 56 \r\nQ 79.640625 56 84.28125 50.015625 \r\nQ 88.921875 44.046875 88.921875 33.015625 \r\nL 88.921875 0 \r\nL 79.890625 0 \r\nL 79.890625 32.71875 \r\nQ 79.890625 40.578125 77.09375 44.375 \r\nQ 74.3125 48.1875 68.609375 48.1875 \r\nQ 61.625 48.1875 57.5625 43.546875 \r\nQ 53.515625 38.921875 53.515625 30.90625 \r\nL 53.515625 0 \r\nL 44.484375 0 \r\nL 44.484375 32.71875 \r\nQ 44.484375 40.625 41.703125 44.40625 \r\nQ 38.921875 48.1875 33.109375 48.1875 \r\nQ 26.21875 48.1875 22.15625 43.53125 \r\nQ 18.109375 38.875 18.109375 30.90625 \r\nL 18.109375 0 \r\nL 9.078125 0 \r\nL 9.078125 54.6875 \r\nL 18.109375 54.6875 \r\nL 18.109375 46.1875 \r\nQ 21.1875 51.21875 25.484375 53.609375 \r\nQ 29.78125 56 35.6875 56 \r\nQ 41.65625 56 45.828125 52.96875 \r\nQ 50 49.953125 52 44.1875 \r\nz\r\n\" id=\"DejaVuSans-109\"/>\r\n       <path d=\"M 34.28125 27.484375 \r\nQ 23.390625 27.484375 19.1875 25 \r\nQ 14.984375 22.515625 14.984375 16.5 \r\nQ 14.984375 11.71875 18.140625 8.90625 \r\nQ 21.296875 6.109375 26.703125 6.109375 \r\nQ 34.1875 6.109375 38.703125 11.40625 \r\nQ 43.21875 16.703125 43.21875 25.484375 \r\nL 43.21875 27.484375 \r\nz\r\nM 52.203125 31.203125 \r\nL 52.203125 0 \r\nL 43.21875 0 \r\nL 43.21875 8.296875 \r\nQ 40.140625 3.328125 35.546875 0.953125 \r\nQ 30.953125 -1.421875 24.3125 -1.421875 \r\nQ 15.921875 -1.421875 10.953125 3.296875 \r\nQ 6 8.015625 6 15.921875 \r\nQ 6 25.140625 12.171875 29.828125 \r\nQ 18.359375 34.515625 30.609375 34.515625 \r\nL 43.21875 34.515625 \r\nL 43.21875 35.40625 \r\nQ 43.21875 41.609375 39.140625 45 \r\nQ 35.0625 48.390625 27.6875 48.390625 \r\nQ 23 48.390625 18.546875 47.265625 \r\nQ 14.109375 46.140625 10.015625 43.890625 \r\nL 10.015625 52.203125 \r\nQ 14.9375 54.109375 19.578125 55.046875 \r\nQ 24.21875 56 28.609375 56 \r\nQ 40.484375 56 46.34375 49.84375 \r\nQ 52.203125 43.703125 52.203125 31.203125 \r\nz\r\n\" id=\"DejaVuSans-97\"/>\r\n       <path d=\"M 30.609375 48.390625 \r\nQ 23.390625 48.390625 19.1875 42.75 \r\nQ 14.984375 37.109375 14.984375 27.296875 \r\nQ 14.984375 17.484375 19.15625 11.84375 \r\nQ 23.34375 6.203125 30.609375 6.203125 \r\nQ 37.796875 6.203125 41.984375 11.859375 \r\nQ 46.1875 17.53125 46.1875 27.296875 \r\nQ 46.1875 37.015625 41.984375 42.703125 \r\nQ 37.796875 48.390625 30.609375 48.390625 \r\nz\r\nM 30.609375 56 \r\nQ 42.328125 56 49.015625 48.375 \r\nQ 55.71875 40.765625 55.71875 27.296875 \r\nQ 55.71875 13.875 49.015625 6.21875 \r\nQ 42.328125 -1.421875 30.609375 -1.421875 \r\nQ 18.84375 -1.421875 12.171875 6.21875 \r\nQ 5.515625 13.875 5.515625 27.296875 \r\nQ 5.515625 40.765625 12.171875 48.375 \r\nQ 18.84375 56 30.609375 56 \r\nz\r\n\" id=\"DejaVuSans-111\"/>\r\n       <path d=\"M 41.109375 46.296875 \r\nQ 39.59375 47.171875 37.8125 47.578125 \r\nQ 36.03125 48 33.890625 48 \r\nQ 26.265625 48 22.1875 43.046875 \r\nQ 18.109375 38.09375 18.109375 28.8125 \r\nL 18.109375 0 \r\nL 9.078125 0 \r\nL 9.078125 54.6875 \r\nL 18.109375 54.6875 \r\nL 18.109375 46.1875 \r\nQ 20.953125 51.171875 25.484375 53.578125 \r\nQ 30.03125 56 36.53125 56 \r\nQ 37.453125 56 38.578125 55.875 \r\nQ 39.703125 55.765625 41.0625 55.515625 \r\nz\r\n\" id=\"DejaVuSans-114\"/>\r\n      </defs>\r\n      <use xlink:href=\"#DejaVuSans-110\"/>\r\n      <use x=\"63.378906\" xlink:href=\"#DejaVuSans-95\"/>\r\n      <use x=\"113.378906\" xlink:href=\"#DejaVuSans-101\"/>\r\n      <use x=\"174.902344\" xlink:href=\"#DejaVuSans-115\"/>\r\n      <use x=\"227.001953\" xlink:href=\"#DejaVuSans-116\"/>\r\n      <use x=\"266.210938\" xlink:href=\"#DejaVuSans-105\"/>\r\n      <use x=\"293.994141\" xlink:href=\"#DejaVuSans-109\"/>\r\n      <use x=\"391.40625\" xlink:href=\"#DejaVuSans-97\"/>\r\n      <use x=\"452.685547\" xlink:href=\"#DejaVuSans-116\"/>\r\n      <use x=\"491.894531\" xlink:href=\"#DejaVuSans-111\"/>\r\n      <use x=\"553.076172\" xlink:href=\"#DejaVuSans-114\"/>\r\n      <use x=\"594.189453\" xlink:href=\"#DejaVuSans-115\"/>\r\n     </g>\r\n    </g>\r\n   </g>\r\n   <g id=\"matplotlib.axis_2\">\r\n    <g id=\"ytick_1\">\r\n     <g id=\"line2d_15\">\r\n      <path clip-path=\"url(#p68c7abe35e)\" d=\"M 66.053125 194.884471 \r\nL 400.853125 194.884471 \r\n\" style=\"fill:none;stroke:#b0b0b0;stroke-linecap:square;stroke-width:0.8;\"/>\r\n     </g>\r\n     <g id=\"line2d_16\">\r\n      <defs>\r\n       <path d=\"M 0 0 \r\nL -3.5 0 \r\n\" id=\"mb59360281d\" style=\"stroke:#000000;stroke-width:0.8;\"/>\r\n      </defs>\r\n      <g>\r\n       <use style=\"stroke:#000000;stroke-width:0.8;\" x=\"66.053125\" xlink:href=\"#mb59360281d\" y=\"194.884471\"/>\r\n      </g>\r\n     </g>\r\n     <g id=\"text_9\">\r\n      <!-- 300000 -->\r\n      <g transform=\"translate(20.878125 198.68369)scale(0.1 -0.1)\">\r\n       <defs>\r\n        <path d=\"M 40.578125 39.3125 \r\nQ 47.65625 37.796875 51.625 33 \r\nQ 55.609375 28.21875 55.609375 21.1875 \r\nQ 55.609375 10.40625 48.1875 4.484375 \r\nQ 40.765625 -1.421875 27.09375 -1.421875 \r\nQ 22.515625 -1.421875 17.65625 -0.515625 \r\nQ 12.796875 0.390625 7.625 2.203125 \r\nL 7.625 11.71875 \r\nQ 11.71875 9.328125 16.59375 8.109375 \r\nQ 21.484375 6.890625 26.8125 6.890625 \r\nQ 36.078125 6.890625 40.9375 10.546875 \r\nQ 45.796875 14.203125 45.796875 21.1875 \r\nQ 45.796875 27.640625 41.28125 31.265625 \r\nQ 36.765625 34.90625 28.71875 34.90625 \r\nL 20.21875 34.90625 \r\nL 20.21875 43.015625 \r\nL 29.109375 43.015625 \r\nQ 36.375 43.015625 40.234375 45.921875 \r\nQ 44.09375 48.828125 44.09375 54.296875 \r\nQ 44.09375 59.90625 40.109375 62.90625 \r\nQ 36.140625 65.921875 28.71875 65.921875 \r\nQ 24.65625 65.921875 20.015625 65.03125 \r\nQ 15.375 64.15625 9.8125 62.3125 \r\nL 9.8125 71.09375 \r\nQ 15.4375 72.65625 20.34375 73.4375 \r\nQ 25.25 74.21875 29.59375 74.21875 \r\nQ 40.828125 74.21875 47.359375 69.109375 \r\nQ 53.90625 64.015625 53.90625 55.328125 \r\nQ 53.90625 49.265625 50.4375 45.09375 \r\nQ 46.96875 40.921875 40.578125 39.3125 \r\nz\r\n\" id=\"DejaVuSans-51\"/>\r\n       </defs>\r\n       <use xlink:href=\"#DejaVuSans-51\"/>\r\n       <use x=\"63.623047\" xlink:href=\"#DejaVuSans-48\"/>\r\n       <use x=\"127.246094\" xlink:href=\"#DejaVuSans-48\"/>\r\n       <use x=\"190.869141\" xlink:href=\"#DejaVuSans-48\"/>\r\n       <use x=\"254.492188\" xlink:href=\"#DejaVuSans-48\"/>\r\n       <use x=\"318.115234\" xlink:href=\"#DejaVuSans-48\"/>\r\n      </g>\r\n     </g>\r\n    </g>\r\n    <g id=\"ytick_2\">\r\n     <g id=\"line2d_17\">\r\n      <path clip-path=\"url(#p68c7abe35e)\" d=\"M 66.053125 150.206658 \r\nL 400.853125 150.206658 \r\n\" style=\"fill:none;stroke:#b0b0b0;stroke-linecap:square;stroke-width:0.8;\"/>\r\n     </g>\r\n     <g id=\"line2d_18\">\r\n      <g>\r\n       <use style=\"stroke:#000000;stroke-width:0.8;\" x=\"66.053125\" xlink:href=\"#mb59360281d\" y=\"150.206658\"/>\r\n      </g>\r\n     </g>\r\n     <g id=\"text_10\">\r\n      <!-- 400000 -->\r\n      <g transform=\"translate(20.878125 154.005876)scale(0.1 -0.1)\">\r\n       <use xlink:href=\"#DejaVuSans-52\"/>\r\n       <use x=\"63.623047\" xlink:href=\"#DejaVuSans-48\"/>\r\n       <use x=\"127.246094\" xlink:href=\"#DejaVuSans-48\"/>\r\n       <use x=\"190.869141\" xlink:href=\"#DejaVuSans-48\"/>\r\n       <use x=\"254.492188\" xlink:href=\"#DejaVuSans-48\"/>\r\n       <use x=\"318.115234\" xlink:href=\"#DejaVuSans-48\"/>\r\n      </g>\r\n     </g>\r\n    </g>\r\n    <g id=\"ytick_3\">\r\n     <g id=\"line2d_19\">\r\n      <path clip-path=\"url(#p68c7abe35e)\" d=\"M 66.053125 105.528844 \r\nL 400.853125 105.528844 \r\n\" style=\"fill:none;stroke:#b0b0b0;stroke-linecap:square;stroke-width:0.8;\"/>\r\n     </g>\r\n     <g id=\"line2d_20\">\r\n      <g>\r\n       <use style=\"stroke:#000000;stroke-width:0.8;\" x=\"66.053125\" xlink:href=\"#mb59360281d\" y=\"105.528844\"/>\r\n      </g>\r\n     </g>\r\n     <g id=\"text_11\">\r\n      <!-- 500000 -->\r\n      <g transform=\"translate(20.878125 109.328063)scale(0.1 -0.1)\">\r\n       <use xlink:href=\"#DejaVuSans-53\"/>\r\n       <use x=\"63.623047\" xlink:href=\"#DejaVuSans-48\"/>\r\n       <use x=\"127.246094\" xlink:href=\"#DejaVuSans-48\"/>\r\n       <use x=\"190.869141\" xlink:href=\"#DejaVuSans-48\"/>\r\n       <use x=\"254.492188\" xlink:href=\"#DejaVuSans-48\"/>\r\n       <use x=\"318.115234\" xlink:href=\"#DejaVuSans-48\"/>\r\n      </g>\r\n     </g>\r\n    </g>\r\n    <g id=\"ytick_4\">\r\n     <g id=\"line2d_21\">\r\n      <path clip-path=\"url(#p68c7abe35e)\" d=\"M 66.053125 60.85103 \r\nL 400.853125 60.85103 \r\n\" style=\"fill:none;stroke:#b0b0b0;stroke-linecap:square;stroke-width:0.8;\"/>\r\n     </g>\r\n     <g id=\"line2d_22\">\r\n      <g>\r\n       <use style=\"stroke:#000000;stroke-width:0.8;\" x=\"66.053125\" xlink:href=\"#mb59360281d\" y=\"60.85103\"/>\r\n      </g>\r\n     </g>\r\n     <g id=\"text_12\">\r\n      <!-- 600000 -->\r\n      <g transform=\"translate(20.878125 64.650249)scale(0.1 -0.1)\">\r\n       <use xlink:href=\"#DejaVuSans-54\"/>\r\n       <use x=\"63.623047\" xlink:href=\"#DejaVuSans-48\"/>\r\n       <use x=\"127.246094\" xlink:href=\"#DejaVuSans-48\"/>\r\n       <use x=\"190.869141\" xlink:href=\"#DejaVuSans-48\"/>\r\n       <use x=\"254.492188\" xlink:href=\"#DejaVuSans-48\"/>\r\n       <use x=\"318.115234\" xlink:href=\"#DejaVuSans-48\"/>\r\n      </g>\r\n     </g>\r\n    </g>\r\n    <g id=\"ytick_5\">\r\n     <g id=\"line2d_23\">\r\n      <path clip-path=\"url(#p68c7abe35e)\" d=\"M 66.053125 16.173217 \r\nL 400.853125 16.173217 \r\n\" style=\"fill:none;stroke:#b0b0b0;stroke-linecap:square;stroke-width:0.8;\"/>\r\n     </g>\r\n     <g id=\"line2d_24\">\r\n      <g>\r\n       <use style=\"stroke:#000000;stroke-width:0.8;\" x=\"66.053125\" xlink:href=\"#mb59360281d\" y=\"16.173217\"/>\r\n      </g>\r\n     </g>\r\n     <g id=\"text_13\">\r\n      <!-- 700000 -->\r\n      <g transform=\"translate(20.878125 19.972436)scale(0.1 -0.1)\">\r\n       <defs>\r\n        <path d=\"M 8.203125 72.90625 \r\nL 55.078125 72.90625 \r\nL 55.078125 68.703125 \r\nL 28.609375 0 \r\nL 18.3125 0 \r\nL 43.21875 64.59375 \r\nL 8.203125 64.59375 \r\nz\r\n\" id=\"DejaVuSans-55\"/>\r\n       </defs>\r\n       <use xlink:href=\"#DejaVuSans-55\"/>\r\n       <use x=\"63.623047\" xlink:href=\"#DejaVuSans-48\"/>\r\n       <use x=\"127.246094\" xlink:href=\"#DejaVuSans-48\"/>\r\n       <use x=\"190.869141\" xlink:href=\"#DejaVuSans-48\"/>\r\n       <use x=\"254.492188\" xlink:href=\"#DejaVuSans-48\"/>\r\n       <use x=\"318.115234\" xlink:href=\"#DejaVuSans-48\"/>\r\n      </g>\r\n     </g>\r\n    </g>\r\n    <g id=\"text_14\">\r\n     <!-- Error -->\r\n     <g transform=\"translate(14.798438 128.105156)rotate(-90)scale(0.1 -0.1)\">\r\n      <defs>\r\n       <path d=\"M 9.8125 72.90625 \r\nL 55.90625 72.90625 \r\nL 55.90625 64.59375 \r\nL 19.671875 64.59375 \r\nL 19.671875 43.015625 \r\nL 54.390625 43.015625 \r\nL 54.390625 34.71875 \r\nL 19.671875 34.71875 \r\nL 19.671875 8.296875 \r\nL 56.78125 8.296875 \r\nL 56.78125 0 \r\nL 9.8125 0 \r\nz\r\n\" id=\"DejaVuSans-69\"/>\r\n      </defs>\r\n      <use xlink:href=\"#DejaVuSans-69\"/>\r\n      <use x=\"63.183594\" xlink:href=\"#DejaVuSans-114\"/>\r\n      <use x=\"102.546875\" xlink:href=\"#DejaVuSans-114\"/>\r\n      <use x=\"141.410156\" xlink:href=\"#DejaVuSans-111\"/>\r\n      <use x=\"202.591797\" xlink:href=\"#DejaVuSans-114\"/>\r\n     </g>\r\n    </g>\r\n   </g>\r\n   <g id=\"line2d_25\">\r\n    <path clip-path=\"url(#p68c7abe35e)\" d=\"M 81.271307 214.097862 \r\nL 159.175622 214.238343 \r\nL 237.079937 214.665904 \r\nL 282.65104 214.626919 \r\nL 314.984252 214.614534 \r\nL 340.06384 214.588856 \r\nL 385.634943 214.756364 \r\n\" style=\"fill:none;stroke:#008000;stroke-linecap:square;stroke-width:1.5;\"/>\r\n    <defs>\r\n     <path d=\"M 0 3 \r\nC 0.795609 3 1.55874 2.683901 2.12132 2.12132 \r\nC 2.683901 1.55874 3 0.795609 3 0 \r\nC 3 -0.795609 2.683901 -1.55874 2.12132 -2.12132 \r\nC 1.55874 -2.683901 0.795609 -3 0 -3 \r\nC -0.795609 -3 -1.55874 -2.683901 -2.12132 -2.12132 \r\nC -2.683901 -1.55874 -3 -0.795609 -3 0 \r\nC -3 0.795609 -2.683901 1.55874 -2.12132 2.12132 \r\nC -1.55874 2.683901 -0.795609 3 0 3 \r\nz\r\n\" id=\"m6ee0cf75f6\" style=\"stroke:#008000;\"/>\r\n    </defs>\r\n    <g clip-path=\"url(#p68c7abe35e)\">\r\n     <use style=\"fill:#008000;stroke:#008000;\" x=\"81.271307\" xlink:href=\"#m6ee0cf75f6\" y=\"214.097862\"/>\r\n     <use style=\"fill:#008000;stroke:#008000;\" x=\"159.175622\" xlink:href=\"#m6ee0cf75f6\" y=\"214.238343\"/>\r\n     <use style=\"fill:#008000;stroke:#008000;\" x=\"237.079937\" xlink:href=\"#m6ee0cf75f6\" y=\"214.665904\"/>\r\n     <use style=\"fill:#008000;stroke:#008000;\" x=\"282.65104\" xlink:href=\"#m6ee0cf75f6\" y=\"214.626919\"/>\r\n     <use style=\"fill:#008000;stroke:#008000;\" x=\"314.984252\" xlink:href=\"#m6ee0cf75f6\" y=\"214.614534\"/>\r\n     <use style=\"fill:#008000;stroke:#008000;\" x=\"340.06384\" xlink:href=\"#m6ee0cf75f6\" y=\"214.588856\"/>\r\n     <use style=\"fill:#008000;stroke:#008000;\" x=\"385.634943\" xlink:href=\"#m6ee0cf75f6\" y=\"214.756364\"/>\r\n    </g>\r\n   </g>\r\n   <g id=\"line2d_26\">\r\n    <path clip-path=\"url(#p68c7abe35e)\" d=\"M 81.271307 17.083636 \r\nL 159.175622 18.159154 \r\nL 237.079937 18.915857 \r\nL 282.65104 18.392263 \r\nL 314.984252 18.497014 \r\nL 340.06384 18.587555 \r\nL 385.634943 18.834687 \r\n\" style=\"fill:none;stroke:#ff0000;stroke-linecap:square;stroke-width:1.5;\"/>\r\n    <defs>\r\n     <path d=\"M 0 3 \r\nC 0.795609 3 1.55874 2.683901 2.12132 2.12132 \r\nC 2.683901 1.55874 3 0.795609 3 0 \r\nC 3 -0.795609 2.683901 -1.55874 2.12132 -2.12132 \r\nC 1.55874 -2.683901 0.795609 -3 0 -3 \r\nC -0.795609 -3 -1.55874 -2.683901 -2.12132 -2.12132 \r\nC -2.683901 -1.55874 -3 -0.795609 -3 0 \r\nC -3 0.795609 -2.683901 1.55874 -2.12132 2.12132 \r\nC -1.55874 2.683901 -0.795609 3 0 3 \r\nz\r\n\" id=\"m99c5ec7c4f\" style=\"stroke:#ff0000;\"/>\r\n    </defs>\r\n    <g clip-path=\"url(#p68c7abe35e)\">\r\n     <use style=\"fill:#ff0000;stroke:#ff0000;\" x=\"81.271307\" xlink:href=\"#m99c5ec7c4f\" y=\"17.083636\"/>\r\n     <use style=\"fill:#ff0000;stroke:#ff0000;\" x=\"159.175622\" xlink:href=\"#m99c5ec7c4f\" y=\"18.159154\"/>\r\n     <use style=\"fill:#ff0000;stroke:#ff0000;\" x=\"237.079937\" xlink:href=\"#m99c5ec7c4f\" y=\"18.915857\"/>\r\n     <use style=\"fill:#ff0000;stroke:#ff0000;\" x=\"282.65104\" xlink:href=\"#m99c5ec7c4f\" y=\"18.392263\"/>\r\n     <use style=\"fill:#ff0000;stroke:#ff0000;\" x=\"314.984252\" xlink:href=\"#m99c5ec7c4f\" y=\"18.497014\"/>\r\n     <use style=\"fill:#ff0000;stroke:#ff0000;\" x=\"340.06384\" xlink:href=\"#m99c5ec7c4f\" y=\"18.587555\"/>\r\n     <use style=\"fill:#ff0000;stroke:#ff0000;\" x=\"385.634943\" xlink:href=\"#m99c5ec7c4f\" y=\"18.834687\"/>\r\n    </g>\r\n   </g>\r\n   <g id=\"patch_3\">\r\n    <path d=\"M 66.053125 224.64 \r\nL 66.053125 7.2 \r\n\" style=\"fill:none;stroke:#000000;stroke-linecap:square;stroke-linejoin:miter;stroke-width:0.8;\"/>\r\n   </g>\r\n   <g id=\"patch_4\">\r\n    <path d=\"M 400.853125 224.64 \r\nL 400.853125 7.2 \r\n\" style=\"fill:none;stroke:#000000;stroke-linecap:square;stroke-linejoin:miter;stroke-width:0.8;\"/>\r\n   </g>\r\n   <g id=\"patch_5\">\r\n    <path d=\"M 66.053125 224.64 \r\nL 400.853125 224.64 \r\n\" style=\"fill:none;stroke:#000000;stroke-linecap:square;stroke-linejoin:miter;stroke-width:0.8;\"/>\r\n   </g>\r\n   <g id=\"patch_6\">\r\n    <path d=\"M 66.053125 7.2 \r\nL 400.853125 7.2 \r\n\" style=\"fill:none;stroke:#000000;stroke-linecap:square;stroke-linejoin:miter;stroke-width:0.8;\"/>\r\n   </g>\r\n   <g id=\"legend_1\">\r\n    <g id=\"patch_7\">\r\n     <path d=\"M 200.15625 45.1125 \r\nL 266.75 45.1125 \r\nQ 268.75 45.1125 268.75 43.1125 \r\nL 268.75 14.2 \r\nQ 268.75 12.2 266.75 12.2 \r\nL 200.15625 12.2 \r\nQ 198.15625 12.2 198.15625 14.2 \r\nL 198.15625 43.1125 \r\nQ 198.15625 45.1125 200.15625 45.1125 \r\nz\r\n\" style=\"fill:#ffffff;opacity:0.8;stroke:#cccccc;stroke-linejoin:miter;\"/>\r\n    </g>\r\n    <g id=\"line2d_27\">\r\n     <path d=\"M 202.15625 20.298438 \r\nL 222.15625 20.298438 \r\n\" style=\"fill:none;stroke:#008000;stroke-linecap:square;stroke-width:1.5;\"/>\r\n    </g>\r\n    <g id=\"line2d_28\">\r\n     <g>\r\n      <use style=\"fill:#008000;stroke:#008000;\" x=\"212.15625\" xlink:href=\"#m6ee0cf75f6\" y=\"20.298438\"/>\r\n     </g>\r\n    </g>\r\n    <g id=\"text_15\">\r\n     <!-- E_train -->\r\n     <g transform=\"translate(230.15625 23.798438)scale(0.1 -0.1)\">\r\n      <use xlink:href=\"#DejaVuSans-69\"/>\r\n      <use x=\"63.183594\" xlink:href=\"#DejaVuSans-95\"/>\r\n      <use x=\"113.183594\" xlink:href=\"#DejaVuSans-116\"/>\r\n      <use x=\"152.392578\" xlink:href=\"#DejaVuSans-114\"/>\r\n      <use x=\"193.505859\" xlink:href=\"#DejaVuSans-97\"/>\r\n      <use x=\"254.785156\" xlink:href=\"#DejaVuSans-105\"/>\r\n      <use x=\"282.568359\" xlink:href=\"#DejaVuSans-110\"/>\r\n     </g>\r\n    </g>\r\n    <g id=\"line2d_29\">\r\n     <path d=\"M 202.15625 35.254687 \r\nL 222.15625 35.254687 \r\n\" style=\"fill:none;stroke:#ff0000;stroke-linecap:square;stroke-width:1.5;\"/>\r\n    </g>\r\n    <g id=\"line2d_30\">\r\n     <g>\r\n      <use style=\"fill:#ff0000;stroke:#ff0000;\" x=\"212.15625\" xlink:href=\"#m99c5ec7c4f\" y=\"35.254687\"/>\r\n     </g>\r\n    </g>\r\n    <g id=\"text_16\">\r\n     <!-- E_val -->\r\n     <g transform=\"translate(230.15625 38.754687)scale(0.1 -0.1)\">\r\n      <defs>\r\n       <path d=\"M 2.984375 54.6875 \r\nL 12.5 54.6875 \r\nL 29.59375 8.796875 \r\nL 46.6875 54.6875 \r\nL 56.203125 54.6875 \r\nL 35.6875 0 \r\nL 23.484375 0 \r\nz\r\n\" id=\"DejaVuSans-118\"/>\r\n       <path d=\"M 9.421875 75.984375 \r\nL 18.40625 75.984375 \r\nL 18.40625 0 \r\nL 9.421875 0 \r\nz\r\n\" id=\"DejaVuSans-108\"/>\r\n      </defs>\r\n      <use xlink:href=\"#DejaVuSans-69\"/>\r\n      <use x=\"63.183594\" xlink:href=\"#DejaVuSans-95\"/>\r\n      <use x=\"113.183594\" xlink:href=\"#DejaVuSans-118\"/>\r\n      <use x=\"172.363281\" xlink:href=\"#DejaVuSans-97\"/>\r\n      <use x=\"233.642578\" xlink:href=\"#DejaVuSans-108\"/>\r\n     </g>\r\n    </g>\r\n   </g>\r\n  </g>\r\n </g>\r\n <defs>\r\n  <clipPath id=\"p68c7abe35e\">\r\n   <rect height=\"217.44\" width=\"334.8\" x=\"66.053125\" y=\"7.2\"/>\r\n  </clipPath>\r\n </defs>\r\n</svg>\r\n",
      "image/png": "[encoded data removed]"
     },
     "metadata": {
      "needs_background": "light"
     }
    }
   ],
   "source": [
    "from train_val_chart import chart\n",
    "\n",
    "chart(train_MAEs, val_MAEs, my_n_estimators, 'n_estimators')\n"
   ]
  },
  {
   "cell_type": "markdown",
   "metadata": {},
   "source": [
    "---"
   ]
  },
  {
   "cell_type": "markdown",
   "metadata": {},
   "source": [
    "### Đánh giá mô hình tìm được"
   ]
  },
  {
   "cell_type": "code",
   "execution_count": 37,
   "metadata": {},
   "outputs": [
    {
     "output_type": "execute_result",
     "data": {
      "text/plain": [
       "Pipeline(steps=[('preprocessor',\n",
       "                 Pipeline(steps=[('col_adderdropper', ColAdderDropper()),\n",
       "                                 ('col_transformer',\n",
       "                                  ColumnTransformer(transformers=[('nume_col_transformer',\n",
       "                                                                   SimpleImputer(),\n",
       "                                                                   ['dien_tich_m2']),\n",
       "                                                                  ('unorder_cate_col_transformer',\n",
       "                                                                   Pipeline(steps=[('imputer',\n",
       "                                                                                    SimpleImputer(strategy='most_frequent')),\n",
       "                                                                                   ('one_hot_encoder',\n",
       "                                                                                    OneHotEncoder())]),\n",
       "                                                                   ['City']),\n",
       "                                                                  ('feat...\n",
       "                                                                    'Ghế sofa',\n",
       "                                                                    'bep_an',\n",
       "                                                                    'Máy '\n",
       "                                                                    'giặt',\n",
       "                                                                    'Đồng hồ '\n",
       "                                                                    'báo thức',\n",
       "                                                                    'ban_an',\n",
       "                                                                    'Ổ điện '\n",
       "                                                                    'gần '\n",
       "                                                                    'giường',\n",
       "                                                                    'Giấy vệ '\n",
       "                                                                    'sinh',\n",
       "                                                                    'ui_quan_ao',\n",
       "                                                                    'giuong',\n",
       "                                                                    'Truyền '\n",
       "                                                                    'hình vệ '\n",
       "                                                                    'tinh',\n",
       "                                                                    'Ban công', ...])])),\n",
       "                                 ('col_normalizer', StandardScaler())])),\n",
       "                ('model',\n",
       "                 TransformedTargetRegressor(func=<ufunc 'log'>,\n",
       "                                            inverse_func=<ufunc 'exp'>,\n",
       "                                            regressor=RandomForestRegressor(n_estimators=400,\n",
       "                                                                            random_state=0)))])"
      ],
      "text/html": "<style>div.sk-top-container {color: black;background-color: white;}div.sk-toggleable {background-color: white;}label.sk-toggleable__label {cursor: pointer;display: block;width: 100%;margin-bottom: 0;padding: 0.2em 0.3em;box-sizing: border-box;text-align: center;}div.sk-toggleable__content {max-height: 0;max-width: 0;overflow: hidden;text-align: left;background-color: #f0f8ff;}div.sk-toggleable__content pre {margin: 0.2em;color: black;border-radius: 0.25em;background-color: #f0f8ff;}input.sk-toggleable__control:checked~div.sk-toggleable__content {max-height: 200px;max-width: 100%;overflow: auto;}div.sk-estimator input.sk-toggleable__control:checked~label.sk-toggleable__label {background-color: #d4ebff;}div.sk-label input.sk-toggleable__control:checked~label.sk-toggleable__label {background-color: #d4ebff;}input.sk-hidden--visually {border: 0;clip: rect(1px 1px 1px 1px);clip: rect(1px, 1px, 1px, 1px);height: 1px;margin: -1px;overflow: hidden;padding: 0;position: absolute;width: 1px;}div.sk-estimator {font-family: monospace;background-color: #f0f8ff;margin: 0.25em 0.25em;border: 1px dotted black;border-radius: 0.25em;box-sizing: border-box;}div.sk-estimator:hover {background-color: #d4ebff;}div.sk-parallel-item::after {content: \"\";width: 100%;border-bottom: 1px solid gray;flex-grow: 1;}div.sk-label:hover label.sk-toggleable__label {background-color: #d4ebff;}div.sk-serial::before {content: \"\";position: absolute;border-left: 1px solid gray;box-sizing: border-box;top: 2em;bottom: 0;left: 50%;}div.sk-serial {display: flex;flex-direction: column;align-items: center;background-color: white;}div.sk-item {z-index: 1;}div.sk-parallel {display: flex;align-items: stretch;justify-content: center;background-color: white;}div.sk-parallel-item {display: flex;flex-direction: column;position: relative;background-color: white;}div.sk-parallel-item:first-child::after {align-self: flex-end;width: 50%;}div.sk-parallel-item:last-child::after {align-self: flex-start;width: 50%;}div.sk-parallel-item:only-child::after {width: 0;}div.sk-dashed-wrapped {border: 1px dashed gray;margin: 0.2em;box-sizing: border-box;padding-bottom: 0.1em;background-color: white;position: relative;}div.sk-label label {font-family: monospace;font-weight: bold;background-color: white;display: inline-block;line-height: 1.2em;}div.sk-label-container {position: relative;z-index: 2;text-align: center;}div.sk-container {display: inline-block;position: relative;}</style><div class=\"sk-top-container\"><div class=\"sk-container\"><div class=\"sk-item sk-dashed-wrapped\"><div class=\"sk-label-container\"><div class=\"sk-label sk-toggleable\"><input class=\"sk-toggleable__control sk-hidden--visually\" id=\"547a349b-0177-4661-a0b3-1978108464be\" type=\"checkbox\" ><label class=\"sk-toggleable__label\" for=\"547a349b-0177-4661-a0b3-1978108464be\">Pipeline</label><div class=\"sk-toggleable__content\"><pre>Pipeline(steps=[('preprocessor',\n                 Pipeline(steps=[('col_adderdropper', ColAdderDropper()),\n                                 ('col_transformer',\n                                  ColumnTransformer(transformers=[('nume_col_transformer',\n                                                                   SimpleImputer(),\n                                                                   ['dien_tich_m2']),\n                                                                  ('unorder_cate_col_transformer',\n                                                                   Pipeline(steps=[('imputer',\n                                                                                    SimpleImputer(strategy='most_frequent')),\n                                                                                   ('one_hot_encoder',\n                                                                                    OneHotEncoder())]),\n                                                                   ['City']),\n                                                                  ('feat...\n                                                                    'Ghế sofa',\n                                                                    'bep_an',\n                                                                    'Máy '\n                                                                    'giặt',\n                                                                    'Đồng hồ '\n                                                                    'báo thức',\n                                                                    'ban_an',\n                                                                    'Ổ điện '\n                                                                    'gần '\n                                                                    'giường',\n                                                                    'Giấy vệ '\n                                                                    'sinh',\n                                                                    'ui_quan_ao',\n                                                                    'giuong',\n                                                                    'Truyền '\n                                                                    'hình vệ '\n                                                                    'tinh',\n                                                                    'Ban công', ...])])),\n                                 ('col_normalizer', StandardScaler())])),\n                ('model',\n                 TransformedTargetRegressor(func=<ufunc 'log'>,\n                                            inverse_func=<ufunc 'exp'>,\n                                            regressor=RandomForestRegressor(n_estimators=400,\n                                                                            random_state=0)))])</pre></div></div></div><div class=\"sk-serial\"><div class=\"sk-item\"><div class=\"sk-label-container\"><div class=\"sk-label sk-toggleable\"><input class=\"sk-toggleable__control sk-hidden--visually\" id=\"0fbd4a05-d6a4-4406-93a8-d1d8d296241d\" type=\"checkbox\" ><label class=\"sk-toggleable__label\" for=\"0fbd4a05-d6a4-4406-93a8-d1d8d296241d\">preprocessor: Pipeline</label><div class=\"sk-toggleable__content\"><pre>Pipeline(steps=[('col_adderdropper', ColAdderDropper()),\n                ('col_transformer',\n                 ColumnTransformer(transformers=[('nume_col_transformer',\n                                                  SimpleImputer(),\n                                                  ['dien_tich_m2']),\n                                                 ('unorder_cate_col_transformer',\n                                                  Pipeline(steps=[('imputer',\n                                                                   SimpleImputer(strategy='most_frequent')),\n                                                                  ('one_hot_encoder',\n                                                                   OneHotEncoder())]),\n                                                  ['City']),\n                                                 ('feature_col_transformer',\n                                                  SimpleImput...\n                                                   'Khu vực tiếp khách',\n                                                   'TV', 'Dép', 'Tủ lạnh',\n                                                   'Điện thoại',\n                                                   'Máy sấy tóc', 'lot_san',\n                                                   'Ấm đun nước điện',\n                                                   'Truyền hình cáp',\n                                                   'tu_quan_ao', 'view',\n                                                   'Hệ thống cách âm',\n                                                   'Minibar', 'WiFi miễn phí',\n                                                   'Ghế sofa', 'bep_an',\n                                                   'Máy giặt',\n                                                   'Đồng hồ báo thức', 'ban_an',\n                                                   'Ổ điện gần giường',\n                                                   'Giấy vệ sinh', 'ui_quan_ao',\n                                                   'giuong',\n                                                   'Truyền hình vệ tinh',\n                                                   'Ban công', ...])])),\n                ('col_normalizer', StandardScaler())])</pre></div></div></div><div class=\"sk-serial\"><div class=\"sk-item\"><div class=\"sk-estimator sk-toggleable\"><input class=\"sk-toggleable__control sk-hidden--visually\" id=\"39170eee-7d7d-4fab-aadd-b4bd61c3e158\" type=\"checkbox\" ><label class=\"sk-toggleable__label\" for=\"39170eee-7d7d-4fab-aadd-b4bd61c3e158\">ColAdderDropper</label><div class=\"sk-toggleable__content\"><pre>ColAdderDropper()</pre></div></div></div><div class=\"sk-item sk-dashed-wrapped\"><div class=\"sk-label-container\"><div class=\"sk-label sk-toggleable\"><input class=\"sk-toggleable__control sk-hidden--visually\" id=\"ed6d4361-31d5-4ca5-8a52-6b8db055fcf0\" type=\"checkbox\" ><label class=\"sk-toggleable__label\" for=\"ed6d4361-31d5-4ca5-8a52-6b8db055fcf0\">col_transformer: ColumnTransformer</label><div class=\"sk-toggleable__content\"><pre>ColumnTransformer(transformers=[('nume_col_transformer', SimpleImputer(),\n                                 ['dien_tich_m2']),\n                                ('unorder_cate_col_transformer',\n                                 Pipeline(steps=[('imputer',\n                                                  SimpleImputer(strategy='most_frequent')),\n                                                 ('one_hot_encoder',\n                                                  OneHotEncoder())]),\n                                 ['City']),\n                                ('feature_col_transformer',\n                                 SimpleImputer(strategy='most_frequent'),\n                                 ['Đồ vệ sinh cá nhân miễn phí',\n                                  'tien_ich_phong', 'ke...'toilet',\n                                  'Bàn làm việc', 'Khu vực tiếp khách',\n                                  'TV', 'Dép', 'Tủ lạnh', 'Điện thoại',\n                                  'Máy sấy tóc', 'lot_san',\n                                  'Ấm đun nước điện', 'Truyền hình cáp',\n                                  'tu_quan_ao', 'view', 'Hệ thống cách âm',\n                                  'Minibar', 'WiFi miễn phí', 'Ghế sofa',\n                                  'bep_an', 'Máy giặt', 'Đồng hồ báo thức',\n                                  'ban_an', 'Ổ điện gần giường', 'Giấy vệ sinh',\n                                  'ui_quan_ao', 'giuong',\n                                  'Truyền hình vệ tinh', 'Ban công', ...])])</pre></div></div></div><div class=\"sk-parallel\"><div class=\"sk-parallel-item\"><div class=\"sk-item\"><div class=\"sk-label-container\"><div class=\"sk-label sk-toggleable\"><input class=\"sk-toggleable__control sk-hidden--visually\" id=\"bda04c2b-4a21-4d7f-a4b7-aeff027e2bf2\" type=\"checkbox\" ><label class=\"sk-toggleable__label\" for=\"bda04c2b-4a21-4d7f-a4b7-aeff027e2bf2\">nume_col_transformer</label><div class=\"sk-toggleable__content\"><pre>['dien_tich_m2']</pre></div></div></div><div class=\"sk-serial\"><div class=\"sk-item\"><div class=\"sk-estimator sk-toggleable\"><input class=\"sk-toggleable__control sk-hidden--visually\" id=\"fe2633dc-066f-464b-bd0c-0538f4b894a4\" type=\"checkbox\" ><label class=\"sk-toggleable__label\" for=\"fe2633dc-066f-464b-bd0c-0538f4b894a4\">SimpleImputer</label><div class=\"sk-toggleable__content\"><pre>SimpleImputer()</pre></div></div></div></div></div></div><div class=\"sk-parallel-item\"><div class=\"sk-item\"><div class=\"sk-label-container\"><div class=\"sk-label sk-toggleable\"><input class=\"sk-toggleable__control sk-hidden--visually\" id=\"1db19c66-a626-4686-b900-60efb92001b4\" type=\"checkbox\" ><label class=\"sk-toggleable__label\" for=\"1db19c66-a626-4686-b900-60efb92001b4\">unorder_cate_col_transformer</label><div class=\"sk-toggleable__content\"><pre>['City']</pre></div></div></div><div class=\"sk-serial\"><div class=\"sk-item\"><div class=\"sk-serial\"><div class=\"sk-item\"><div class=\"sk-estimator sk-toggleable\"><input class=\"sk-toggleable__control sk-hidden--visually\" id=\"3faca240-0d8a-497b-ac59-c4bb9c958da2\" type=\"checkbox\" ><label class=\"sk-toggleable__label\" for=\"3faca240-0d8a-497b-ac59-c4bb9c958da2\">SimpleImputer</label><div class=\"sk-toggleable__content\"><pre>SimpleImputer(strategy='most_frequent')</pre></div></div></div><div class=\"sk-item\"><div class=\"sk-estimator sk-toggleable\"><input class=\"sk-toggleable__control sk-hidden--visually\" id=\"90114811-fa0b-4765-8fb5-9ccd52407b79\" type=\"checkbox\" ><label class=\"sk-toggleable__label\" for=\"90114811-fa0b-4765-8fb5-9ccd52407b79\">OneHotEncoder</label><div class=\"sk-toggleable__content\"><pre>OneHotEncoder()</pre></div></div></div></div></div></div></div></div><div class=\"sk-parallel-item\"><div class=\"sk-item\"><div class=\"sk-label-container\"><div class=\"sk-label sk-toggleable\"><input class=\"sk-toggleable__control sk-hidden--visually\" id=\"179ccc3c-cd89-4432-a616-6b1f5db9818d\" type=\"checkbox\" ><label class=\"sk-toggleable__label\" for=\"179ccc3c-cd89-4432-a616-6b1f5db9818d\">feature_col_transformer</label><div class=\"sk-toggleable__content\"><pre>['Đồ vệ sinh cá nhân miễn phí', 'tien_ich_phong', 'ket_sat', 'toilet', 'Bàn làm việc', 'Khu vực tiếp khách', 'TV', 'Dép', 'Tủ lạnh', 'Điện thoại', 'Máy sấy tóc', 'lot_san', 'Ấm đun nước điện', 'Truyền hình cáp', 'tu_quan_ao', 'view', 'Hệ thống cách âm', 'Minibar', 'WiFi miễn phí', 'Ghế sofa', 'bep_an', 'Máy giặt', 'Đồng hồ báo thức', 'ban_an', 'Ổ điện gần giường', 'Giấy vệ sinh', 'ui_quan_ao', 'giuong', 'Truyền hình vệ tinh', 'Ban công', 'Quyền sử dụng Executive Lounge', 'Ra trải giường', 'may_pha_tra_cf', 'Máy sấy quần áo', 'Có phòng thông nhau qua cửa nối', 'Chậu rửa vệ sinh (bidet)', 'Các tầng trên đi lên bằng thang máy', 'Xe lăn có thể đi đến mọi nơi trong toàn bộ khuôn viên', 'Máy vi tính', 'dieu_hoa', 'tien_ich_cho_tre_em', 'Hoàn toàn nằm ở tầng trệt', 'Các tầng trên chỉ lên được bằng cầu thang', 'Nước rửa tay', 'ho_boi', 'Sách', 'khu_ngoai_troi', 'Phòng xông hơi', 'Sân trong']</pre></div></div></div><div class=\"sk-serial\"><div class=\"sk-item\"><div class=\"sk-estimator sk-toggleable\"><input class=\"sk-toggleable__control sk-hidden--visually\" id=\"69f333e5-168f-4b12-81aa-030ebdde6106\" type=\"checkbox\" ><label class=\"sk-toggleable__label\" for=\"69f333e5-168f-4b12-81aa-030ebdde6106\">SimpleImputer</label><div class=\"sk-toggleable__content\"><pre>SimpleImputer(strategy='most_frequent')</pre></div></div></div></div></div></div></div></div><div class=\"sk-item\"><div class=\"sk-estimator sk-toggleable\"><input class=\"sk-toggleable__control sk-hidden--visually\" id=\"1c0639f7-0e2a-4234-b450-85fd83d87e33\" type=\"checkbox\" ><label class=\"sk-toggleable__label\" for=\"1c0639f7-0e2a-4234-b450-85fd83d87e33\">StandardScaler</label><div class=\"sk-toggleable__content\"><pre>StandardScaler()</pre></div></div></div></div></div><div class=\"sk-item sk-dashed-wrapped\"><div class=\"sk-label-container\"><div class=\"sk-label sk-toggleable\"><input class=\"sk-toggleable__control sk-hidden--visually\" id=\"73823f2f-291e-495c-9810-c902e1605ca5\" type=\"checkbox\" ><label class=\"sk-toggleable__label\" for=\"73823f2f-291e-495c-9810-c902e1605ca5\">model: TransformedTargetRegressor</label><div class=\"sk-toggleable__content\"><pre>TransformedTargetRegressor(func=<ufunc 'log'>, inverse_func=<ufunc 'exp'>,\n                           regressor=RandomForestRegressor(n_estimators=400,\n                                                           random_state=0))</pre></div></div></div><div class=\"sk-parallel\"><div class=\"sk-parallel-item\"><div class=\"sk-item\"><div class=\"sk-serial\"><div class=\"sk-item\"><div class=\"sk-estimator sk-toggleable\"><input class=\"sk-toggleable__control sk-hidden--visually\" id=\"43e9350b-5045-4622-bda3-3d14dc2542d0\" type=\"checkbox\" ><label class=\"sk-toggleable__label\" for=\"43e9350b-5045-4622-bda3-3d14dc2542d0\">RandomForestRegressor</label><div class=\"sk-toggleable__content\"><pre>RandomForestRegressor(n_estimators=400, random_state=0)</pre></div></div></div></div></div></div></div></div></div></div></div></div>"
     },
     "metadata": {},
     "execution_count": 37
    }
   ],
   "source": [
    "# pick model + best hyperparameters\n",
    "# Model được chọn là RandomForestRegressor\n",
    "full_pipeline.set_params(model__regressor__n_estimators=best_estimator)\n",
    "\n",
    "# fit on total (train+validation)\n",
    "full_pipeline.fit(temp_X_df, temp_y_sr)"
   ]
  },
  {
   "cell_type": "code",
   "execution_count": 38,
   "metadata": {},
   "outputs": [
    {
     "output_type": "stream",
     "name": "stdout",
     "text": [
      "MAE = 446354.9407516476\n"
     ]
    }
   ],
   "source": [
    "pred_test_y = full_pipeline.predict(test_X_df)\n",
    "print(\"MAE =\", mean_absolute_error(test_y_sr, pred_test_y))"
   ]
  },
  {
   "source": [
    "## Nhìn lại quá trình làm đồ án"
   ],
   "cell_type": "markdown",
   "metadata": {}
  },
  {
   "source": [
    "### Khó khăn, thuận lợi"
   ],
   "cell_type": "markdown",
   "metadata": {}
  },
  {
   "source": [
    "Dù đồ án này nhóm em thực hiện còn nhiều thiếu sót, nhưng nhóm cũng đã cố gắng rất nhiều vì gặp phải những khó khăn, hoang mang:\n",
    "\n",
    "- Dữ liệu cào trực tiếp trên trang [booking.com](https://booking.com/) có quá nhiều thuộc tính, mà toàn chỉ thuộc kiểu binary có/không. Quá trình cào tốn tận 3 ngày  &#128531;\n",
    "\n",
    "- Vì quá nhiều cột nên việc xử lý bỏ cột, gom cột thủ công tốn rất nhiều thời gian... thậm chí là nghi ngờ tới việc liệu có nên bỏ data này đi kiếm data khác. Tuy nhiên vì cũng chưa build model nên chưa biết data có ổn không, ngoài ra cũng đã lỡ bỏ mấy ngày để cào, nhiều cột 0/1 thì khỏi phải tốn công OneHot &#128540;\n",
    "\n",
    "- Lúc mới build model thì ra r2_score âm trên train nhưng lại dương trên validation (đến bây giờ thì nhóm vẫn chưa trả lời được thật sự tại sao vậy), lại tiếp tục hoang mang liệu data của mình có phải \"garbage\". Sau khi bình tĩnh lại thì cũng có một số nơi thảo luận về việc r2_score trên bài toàn regression  thật sự không quan trọng bằng những độ lỗi như SME/ MAE [[1]](https://stackoverflow.com/a/46887354/8487596)... Vì tính \"dễ hiểu\" nên nhóm chọn metrics là MAE.\n",
    "\n",
    "Nhóm cũng may mắn là được notebook của thầy Kiên \"soi sáng\", kết quả model dù không tốt như kỳ vọng nhưng cũng không đến nỗi \"garbage in - garbage out\"..."
   ],
   "cell_type": "markdown",
   "metadata": {}
  },
  {
   "source": [
    "### Những điều hữu ích học được"
   ],
   "cell_type": "markdown",
   "metadata": {}
  },
  {
   "source": [
    "Qua đồ án này thì nhóm cũng đã học được rất nhiều điều hữu ích:\n",
    "\n",
    "- Vận dụng kiến thức đã học, theo sự hướng dẫn, sự tổ chức notebook, \"code cũ\", ý tưởng của thầy Kiên để từng bước làm theo, áp dụng lên dữ liệu, giải quyết bài toán từ dữ liệu.\n",
    "\n",
    "- Cảm nhận rõ ràng với quy trình khoa học dữ liệu, tập làm quen với sự xuất hiện của những khó khăn không lường trước."
   ],
   "cell_type": "markdown",
   "metadata": {}
  },
  {
   "source": [
    "## Tham Khảo"
   ],
   "cell_type": "markdown",
   "metadata": {}
  },
  {
   "source": [
    "Các nguồn tài liệu đã tham khảo:\n",
    "\n",
    "1. File notebook BT03 của thầy Kiên.\n",
    "\n",
    "2. Slide môn học và đặc biệt là slide DoAnCK.pdf\n",
    "\n",
    "3. [Scikit-learn documentation] (https://scikit-learn.org/0.21/documentation.html)\n",
    "\n",
    "4. [pandas documentation](https://pandas.pydata.org/docs/)\n",
    "\n",
    "5. https://www.answers.com/Q/When_regression_is_not_applicable\n",
    "\n",
    "6. https://www.kaggle.com/c/house-prices-advanced-regression-techniques/discussion/103975\n"
   ],
   "cell_type": "markdown",
   "metadata": {}
  }
 ],
 "metadata": {
  "jupytext": {
   "formats": "ipynb,md"
  },
  "kernelspec": {
   "display_name": "Python 3",
   "language": "python",
   "name": "python3"
  },
  "language_info": {
   "codemirror_mode": {
    "name": "ipython",
    "version": 3
   },
   "file_extension": ".py",
   "mimetype": "text/x-python",
   "name": "python",
   "nbconvert_exporter": "python",
   "pygments_lexer": "ipython3",
   "version": "3.8.3-final"
  }
 },
 "nbformat": 4,
 "nbformat_minor": 4
}