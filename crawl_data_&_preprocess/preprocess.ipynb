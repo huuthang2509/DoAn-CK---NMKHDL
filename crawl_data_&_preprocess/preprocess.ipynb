{
 "metadata": {
  "language_info": {
   "codemirror_mode": {
    "name": "ipython",
    "version": 3
   },
   "file_extension": ".py",
   "mimetype": "text/x-python",
   "name": "python",
   "nbconvert_exporter": "python",
   "pygments_lexer": "ipython3",
   "version": "3.8.3-final"
  },
  "orig_nbformat": 2,
  "kernelspec": {
   "name": "python3",
   "display_name": "Python 3",
   "language": "python"
  }
 },
 "nbformat": 4,
 "nbformat_minor": 2,
 "cells": [
  {
   "cell_type": "code",
   "execution_count": 1,
   "metadata": {},
   "outputs": [],
   "source": [
    "import pandas as pd\n",
    "import numpy as np"
   ]
  },
  {
   "cell_type": "code",
   "execution_count": 2,
   "metadata": {},
   "outputs": [
    {
     "output_type": "execute_result",
     "data": {
      "text/plain": [
       "                 City          Diện tích  Đồ vệ sinh cá nhân miễn phí  \\\n",
       "0      TP.Ho Chi Minh              29 m²                            1   \n",
       "1      TP.Ho Chi Minh              29 m²                            1   \n",
       "2      TP.Ho Chi Minh              56 m²                            1   \n",
       "3      TP.Ho Chi Minh              61 m²                            1   \n",
       "4      TP.Ho Chi Minh              18 m²                            1   \n",
       "...               ...                ...                          ...   \n",
       "14311          Da Lat              34 m²                            1   \n",
       "14312          Da Lat              36 m²                            1   \n",
       "14313          Da Lat  TV màn hình phẳng                            0   \n",
       "14314          Da Lat              30 m²                            1   \n",
       "14315          Da Lat              55 m²                            1   \n",
       "\n",
       "       Vòi sen  Áo choàng tắm  Két an toàn  Nhà vệ sinh  Khăn tắm  \\\n",
       "0             1                 1              1            1         1   \n",
       "1             1                 1              1            1         1   \n",
       "2             1                 1              1            1         1   \n",
       "3             1                 1              1            1         1   \n",
       "4             1                 1              1            1         1   \n",
       "...         ...               ...            ...          ...       ...   \n",
       "14311         0                 0              1            1         1   \n",
       "14312         0                 0              1            1         1   \n",
       "14313         0                 0              0            0         0   \n",
       "14314         0                 0              0            1         1   \n",
       "14315         0                 0              0            1         1   \n",
       "\n",
       "       Bàn làm việc  Khu vực tiếp khách  ...  Đài radio  \\\n",
       "0                    1                      1  ...          0   \n",
       "1                    1                      1  ...          0   \n",
       "2                    1                      1  ...          0   \n",
       "3                    1                      1  ...          0   \n",
       "4                    1                      0  ...          0   \n",
       "...                ...                    ...  ...        ...   \n",
       "14311                1                      1  ...          0   \n",
       "14312                1                      0  ...          0   \n",
       "14313                0                      0  ...          0   \n",
       "14314                0                      1  ...          1   \n",
       "14315                0                      1  ...          1   \n",
       "\n",
       "       Khu vực ăn uống ngoài trời  Phòng xông hơi  Toilet chung  \\\n",
       "0                               0               0             0   \n",
       "1                               0               0             0   \n",
       "2                               0               0             0   \n",
       "3                               0               0             0   \n",
       "4                               0               0             0   \n",
       "...                           ...             ...           ...   \n",
       "14311                           0               0             0   \n",
       "14312                           0               0             0   \n",
       "14313                           0               0             0   \n",
       "14314                           0               0             1   \n",
       "14315                           0               0             1   \n",
       "\n",
       "       Bàn ghế ngoài trời  Bể sục  Hồ bơi riêng  Sân trong  \\\n",
       "0                       0         0             0          0   \n",
       "1                       0         0             0          0   \n",
       "2                       0         0             0          0   \n",
       "3                       0         0             0          0   \n",
       "4                       0         0             0          0   \n",
       "...                   ...       ...           ...        ...   \n",
       "14311                   0         0             0          0   \n",
       "14312                   0         0             0          0   \n",
       "14313                   0         0             0          0   \n",
       "14314                   0         0             1          0   \n",
       "14315                   0         0             1          0   \n",
       "\n",
       "       Hướng nhìn sân trong      price  \n",
       "0                         0  2.405.000  \n",
       "1                         0  2.405.000  \n",
       "2                         0  3.055.000  \n",
       "3                         0  3.380.000  \n",
       "4                         0    846.000  \n",
       "...                     ...        ...  \n",
       "14311                     0    522.340  \n",
       "14312                     0    598.682  \n",
       "14313                     0    900.000  \n",
       "14314                     0    212.511  \n",
       "14315                     0    425.023  \n",
       "\n",
       "[14316 rows x 113 columns]"
      ],
      "text/html": "<div>\n<style scoped>\n    .dataframe tbody tr th:only-of-type {\n        vertical-align: middle;\n    }\n\n    .dataframe tbody tr th {\n        vertical-align: top;\n    }\n\n    .dataframe thead th {\n        text-align: right;\n    }\n</style>\n<table border=\"1\" class=\"dataframe\">\n  <thead>\n    <tr style=\"text-align: right;\">\n      <th></th>\n      <th>City</th>\n      <th>Diện tích</th>\n      <th>Đồ vệ sinh cá nhân miễn phí</th>\n      <th>Vòi sen</th>\n      <th>Áo choàng tắm</th>\n      <th>Két an toàn</th>\n      <th>Nhà vệ sinh</th>\n      <th>Khăn tắm</th>\n      <th>Bàn làm việc</th>\n      <th>Khu vực tiếp khách</th>\n      <th>...</th>\n      <th>Đài radio</th>\n      <th>Khu vực ăn uống ngoài trời</th>\n      <th>Phòng xông hơi</th>\n      <th>Toilet chung</th>\n      <th>Bàn ghế ngoài trời</th>\n      <th>Bể sục</th>\n      <th>Hồ bơi riêng</th>\n      <th>Sân trong</th>\n      <th>Hướng nhìn sân trong</th>\n      <th>price</th>\n    </tr>\n  </thead>\n  <tbody>\n    <tr>\n      <th>0</th>\n      <td>TP.Ho Chi Minh</td>\n      <td>29 m²</td>\n      <td>1</td>\n      <td>1</td>\n      <td>1</td>\n      <td>1</td>\n      <td>1</td>\n      <td>1</td>\n      <td>1</td>\n      <td>1</td>\n      <td>...</td>\n      <td>0</td>\n      <td>0</td>\n      <td>0</td>\n      <td>0</td>\n      <td>0</td>\n      <td>0</td>\n      <td>0</td>\n      <td>0</td>\n      <td>0</td>\n      <td>2.405.000</td>\n    </tr>\n    <tr>\n      <th>1</th>\n      <td>TP.Ho Chi Minh</td>\n      <td>29 m²</td>\n      <td>1</td>\n      <td>1</td>\n      <td>1</td>\n      <td>1</td>\n      <td>1</td>\n      <td>1</td>\n      <td>1</td>\n      <td>1</td>\n      <td>...</td>\n      <td>0</td>\n      <td>0</td>\n      <td>0</td>\n      <td>0</td>\n      <td>0</td>\n      <td>0</td>\n      <td>0</td>\n      <td>0</td>\n      <td>0</td>\n      <td>2.405.000</td>\n    </tr>\n    <tr>\n      <th>2</th>\n      <td>TP.Ho Chi Minh</td>\n      <td>56 m²</td>\n      <td>1</td>\n      <td>1</td>\n      <td>1</td>\n      <td>1</td>\n      <td>1</td>\n      <td>1</td>\n      <td>1</td>\n      <td>1</td>\n      <td>...</td>\n      <td>0</td>\n      <td>0</td>\n      <td>0</td>\n      <td>0</td>\n      <td>0</td>\n      <td>0</td>\n      <td>0</td>\n      <td>0</td>\n      <td>0</td>\n      <td>3.055.000</td>\n    </tr>\n    <tr>\n      <th>3</th>\n      <td>TP.Ho Chi Minh</td>\n      <td>61 m²</td>\n      <td>1</td>\n      <td>1</td>\n      <td>1</td>\n      <td>1</td>\n      <td>1</td>\n      <td>1</td>\n      <td>1</td>\n      <td>1</td>\n      <td>...</td>\n      <td>0</td>\n      <td>0</td>\n      <td>0</td>\n      <td>0</td>\n      <td>0</td>\n      <td>0</td>\n      <td>0</td>\n      <td>0</td>\n      <td>0</td>\n      <td>3.380.000</td>\n    </tr>\n    <tr>\n      <th>4</th>\n      <td>TP.Ho Chi Minh</td>\n      <td>18 m²</td>\n      <td>1</td>\n      <td>1</td>\n      <td>1</td>\n      <td>1</td>\n      <td>1</td>\n      <td>1</td>\n      <td>1</td>\n      <td>0</td>\n      <td>...</td>\n      <td>0</td>\n      <td>0</td>\n      <td>0</td>\n      <td>0</td>\n      <td>0</td>\n      <td>0</td>\n      <td>0</td>\n      <td>0</td>\n      <td>0</td>\n      <td>846.000</td>\n    </tr>\n    <tr>\n      <th>...</th>\n      <td>...</td>\n      <td>...</td>\n      <td>...</td>\n      <td>...</td>\n      <td>...</td>\n      <td>...</td>\n      <td>...</td>\n      <td>...</td>\n      <td>...</td>\n      <td>...</td>\n      <td>...</td>\n      <td>...</td>\n      <td>...</td>\n      <td>...</td>\n      <td>...</td>\n      <td>...</td>\n      <td>...</td>\n      <td>...</td>\n      <td>...</td>\n      <td>...</td>\n      <td>...</td>\n    </tr>\n    <tr>\n      <th>14311</th>\n      <td>Da Lat</td>\n      <td>34 m²</td>\n      <td>1</td>\n      <td>0</td>\n      <td>0</td>\n      <td>1</td>\n      <td>1</td>\n      <td>1</td>\n      <td>1</td>\n      <td>1</td>\n      <td>...</td>\n      <td>0</td>\n      <td>0</td>\n      <td>0</td>\n      <td>0</td>\n      <td>0</td>\n      <td>0</td>\n      <td>0</td>\n      <td>0</td>\n      <td>0</td>\n      <td>522.340</td>\n    </tr>\n    <tr>\n      <th>14312</th>\n      <td>Da Lat</td>\n      <td>36 m²</td>\n      <td>1</td>\n      <td>0</td>\n      <td>0</td>\n      <td>1</td>\n      <td>1</td>\n      <td>1</td>\n      <td>1</td>\n      <td>0</td>\n      <td>...</td>\n      <td>0</td>\n      <td>0</td>\n      <td>0</td>\n      <td>0</td>\n      <td>0</td>\n      <td>0</td>\n      <td>0</td>\n      <td>0</td>\n      <td>0</td>\n      <td>598.682</td>\n    </tr>\n    <tr>\n      <th>14313</th>\n      <td>Da Lat</td>\n      <td>TV màn hình phẳng</td>\n      <td>0</td>\n      <td>0</td>\n      <td>0</td>\n      <td>0</td>\n      <td>0</td>\n      <td>0</td>\n      <td>0</td>\n      <td>0</td>\n      <td>...</td>\n      <td>0</td>\n      <td>0</td>\n      <td>0</td>\n      <td>0</td>\n      <td>0</td>\n      <td>0</td>\n      <td>0</td>\n      <td>0</td>\n      <td>0</td>\n      <td>900.000</td>\n    </tr>\n    <tr>\n      <th>14314</th>\n      <td>Da Lat</td>\n      <td>30 m²</td>\n      <td>1</td>\n      <td>0</td>\n      <td>0</td>\n      <td>0</td>\n      <td>1</td>\n      <td>1</td>\n      <td>0</td>\n      <td>1</td>\n      <td>...</td>\n      <td>1</td>\n      <td>0</td>\n      <td>0</td>\n      <td>1</td>\n      <td>0</td>\n      <td>0</td>\n      <td>1</td>\n      <td>0</td>\n      <td>0</td>\n      <td>212.511</td>\n    </tr>\n    <tr>\n      <th>14315</th>\n      <td>Da Lat</td>\n      <td>55 m²</td>\n      <td>1</td>\n      <td>0</td>\n      <td>0</td>\n      <td>0</td>\n      <td>1</td>\n      <td>1</td>\n      <td>0</td>\n      <td>1</td>\n      <td>...</td>\n      <td>1</td>\n      <td>0</td>\n      <td>0</td>\n      <td>1</td>\n      <td>0</td>\n      <td>0</td>\n      <td>1</td>\n      <td>0</td>\n      <td>0</td>\n      <td>425.023</td>\n    </tr>\n  </tbody>\n</table>\n<p>14316 rows × 113 columns</p>\n</div>"
     },
     "metadata": {},
     "execution_count": 2
    }
   ],
   "source": [
    "df = pd.read_csv('full_data.csv')\n",
    "df"
   ]
  },
  {
   "cell_type": "code",
   "execution_count": 3,
   "metadata": {},
   "outputs": [],
   "source": [
    "df.drop_duplicates(inplace=True, ignore_index=True)"
   ]
  },
  {
   "cell_type": "code",
   "execution_count": 4,
   "metadata": {},
   "outputs": [
    {
     "output_type": "execute_result",
     "data": {
      "text/plain": [
       "0"
      ]
     },
     "metadata": {},
     "execution_count": 4
    }
   ],
   "source": [
    "df.duplicated().sum()"
   ]
  },
  {
   "cell_type": "code",
   "execution_count": 5,
   "metadata": {},
   "outputs": [],
   "source": [
    "df.drop(df[df['Diện tích'].str.find('m²') == -1].index,inplace=True)"
   ]
  },
  {
   "cell_type": "code",
   "execution_count": 6,
   "metadata": {},
   "outputs": [
    {
     "output_type": "execute_result",
     "data": {
      "text/plain": [
       "Empty DataFrame\n",
       "Columns: [City, Diện tích, Đồ vệ sinh cá nhân miễn phí, Vòi sen, Áo choàng tắm, Két an toàn, Nhà vệ sinh, Khăn tắm, Bàn làm việc, Khu vực tiếp khách, TV, Dép, Tủ lạnh, Điện thoại, Hệ thống sưởi, Máy sấy tóc, Sàn trải thảm, Ấm đun nước điện, Truyền hình cáp, Dịch vụ báo thức, Tủ hoặc phòng để quần áo, Giá treo quần áo, Nhìn ra thành phố, Bồn tắm, Điều hòa không khí, Phòng tắm riêng, TV màn hình phẳng, Hệ thống cách âm, Minibar, WiFi miễn phí, Ghế sofa, Máy fax, Phòng thay quần áo, Nhìn ra hồ bơi, Bếp, Máy giặt, Bồn tắm hoặc Vòi sen, Đồng hồ báo thức, Bàn ăn, Bồn tắm spa, Ổ điện gần giường, Toilet phụ, Dịch vụ báo thức, Giấy vệ sinh, Phòng tắm riêng trong phòng, Tiện nghi ủi, Giường cực dài (> 2 mét), Bếp nhỏ, Khu vực phòng ăn, Tầm nhìn ra khung cảnh, Truyền hình vệ tinh, Bàn ủi, Ban công, Nhìn ra sông, Quyền sử dụng Executive Lounge, Sàn lát gỗ, Ra trải giường, Không gây dị ứng, Máy pha trà/cà phê, Khăn tắm/Bộ khăn trải giường (có thu phí), Máy sấy quần áo, Nhìn ra địa danh nổi tiếng, Phòng tắm phụ, Có phòng thông nhau qua cửa nối, Chậu rửa vệ sinh (bidet), Lối vào riêng, Các tầng trên đi lên bằng thang máy, Xe lăn có thể đi đến mọi nơi trong toàn bộ khuôn viên, Nhìn ra vườn, Máy vi tính, Giường sofa, Giá phơi quần áo, Két an toàn cỡ laptop, Giường xếp, Quạt máy, Chăn điện, Sản phẩm lau rửa, Ghế cao dành cho trẻ em, Cửa an toàn cho trẻ nhỏ, Máy pha Cà phê, Sàn lát gạch/đá cẩm thạch, Bàn ủi li quần, Hoàn toàn nằm ở tầng trệt, Các tầng trên chỉ lên được bằng cầu thang, Nắp che ổ cắm điện an toàn, Đồ bếp, Đầu đĩa CD, Máy điều hòa độc lập cho từng phòng, Nước rửa tay, Đầu đĩa DVD, Hồ bơi trên sân thượng, Ổ cắm cho iPod, Hồ bơi có tầm nhìn, Trò chơi board game/giải đố, Sách,  đĩa DVD và nhạc cho trẻ em, Có lắp đặt máy lọc không khí, Thiết bị báo carbon monoxide, Lò vi sóng, Máy nướng bánh mỳ, ...]\n",
       "Index: []\n",
       "\n",
       "[0 rows x 113 columns]"
      ],
      "text/html": "<div>\n<style scoped>\n    .dataframe tbody tr th:only-of-type {\n        vertical-align: middle;\n    }\n\n    .dataframe tbody tr th {\n        vertical-align: top;\n    }\n\n    .dataframe thead th {\n        text-align: right;\n    }\n</style>\n<table border=\"1\" class=\"dataframe\">\n  <thead>\n    <tr style=\"text-align: right;\">\n      <th></th>\n      <th>City</th>\n      <th>Diện tích</th>\n      <th>Đồ vệ sinh cá nhân miễn phí</th>\n      <th>Vòi sen</th>\n      <th>Áo choàng tắm</th>\n      <th>Két an toàn</th>\n      <th>Nhà vệ sinh</th>\n      <th>Khăn tắm</th>\n      <th>Bàn làm việc</th>\n      <th>Khu vực tiếp khách</th>\n      <th>...</th>\n      <th>Đài radio</th>\n      <th>Khu vực ăn uống ngoài trời</th>\n      <th>Phòng xông hơi</th>\n      <th>Toilet chung</th>\n      <th>Bàn ghế ngoài trời</th>\n      <th>Bể sục</th>\n      <th>Hồ bơi riêng</th>\n      <th>Sân trong</th>\n      <th>Hướng nhìn sân trong</th>\n      <th>price</th>\n    </tr>\n  </thead>\n  <tbody>\n  </tbody>\n</table>\n<p>0 rows × 113 columns</p>\n</div>"
     },
     "metadata": {},
     "execution_count": 6
    }
   ],
   "source": [
    "df[df['Diện tích'].str.find('m²') == -1]"
   ]
  },
  {
   "cell_type": "code",
   "execution_count": 7,
   "metadata": {},
   "outputs": [
    {
     "output_type": "execute_result",
     "data": {
      "text/plain": [
       "       Ổ điện gần giường  Không gây dị ứng  Nắp che ổ cắm điện an toàn  \\\n",
       "0                      0                 0                           0   \n",
       "1                      0                 0                           0   \n",
       "2                      0                 0                           0   \n",
       "3                      1                 0                           0   \n",
       "4                      1                 0                           0   \n",
       "...                  ...               ...                         ...   \n",
       "12740                  1                 0                           0   \n",
       "12741                  1                 0                           0   \n",
       "12742                  1                 0                           0   \n",
       "12744                  1                 0                           0   \n",
       "12745                  1                 0                           0   \n",
       "\n",
       "       Ổ cắm cho iPod  Giấy vệ sinh  \n",
       "0                   0             0  \n",
       "1                   0             0  \n",
       "2                   0             0  \n",
       "3                   0             1  \n",
       "4                   0             1  \n",
       "...               ...           ...  \n",
       "12740               0             1  \n",
       "12741               0             1  \n",
       "12742               0             1  \n",
       "12744               0             1  \n",
       "12745               0             1  \n",
       "\n",
       "[11910 rows x 5 columns]"
      ],
      "text/html": "<div>\n<style scoped>\n    .dataframe tbody tr th:only-of-type {\n        vertical-align: middle;\n    }\n\n    .dataframe tbody tr th {\n        vertical-align: top;\n    }\n\n    .dataframe thead th {\n        text-align: right;\n    }\n</style>\n<table border=\"1\" class=\"dataframe\">\n  <thead>\n    <tr style=\"text-align: right;\">\n      <th></th>\n      <th>Ổ điện gần giường</th>\n      <th>Không gây dị ứng</th>\n      <th>Nắp che ổ cắm điện an toàn</th>\n      <th>Ổ cắm cho iPod</th>\n      <th>Giấy vệ sinh</th>\n    </tr>\n  </thead>\n  <tbody>\n    <tr>\n      <th>0</th>\n      <td>0</td>\n      <td>0</td>\n      <td>0</td>\n      <td>0</td>\n      <td>0</td>\n    </tr>\n    <tr>\n      <th>1</th>\n      <td>0</td>\n      <td>0</td>\n      <td>0</td>\n      <td>0</td>\n      <td>0</td>\n    </tr>\n    <tr>\n      <th>2</th>\n      <td>0</td>\n      <td>0</td>\n      <td>0</td>\n      <td>0</td>\n      <td>0</td>\n    </tr>\n    <tr>\n      <th>3</th>\n      <td>1</td>\n      <td>0</td>\n      <td>0</td>\n      <td>0</td>\n      <td>1</td>\n    </tr>\n    <tr>\n      <th>4</th>\n      <td>1</td>\n      <td>0</td>\n      <td>0</td>\n      <td>0</td>\n      <td>1</td>\n    </tr>\n    <tr>\n      <th>...</th>\n      <td>...</td>\n      <td>...</td>\n      <td>...</td>\n      <td>...</td>\n      <td>...</td>\n    </tr>\n    <tr>\n      <th>12740</th>\n      <td>1</td>\n      <td>0</td>\n      <td>0</td>\n      <td>0</td>\n      <td>1</td>\n    </tr>\n    <tr>\n      <th>12741</th>\n      <td>1</td>\n      <td>0</td>\n      <td>0</td>\n      <td>0</td>\n      <td>1</td>\n    </tr>\n    <tr>\n      <th>12742</th>\n      <td>1</td>\n      <td>0</td>\n      <td>0</td>\n      <td>0</td>\n      <td>1</td>\n    </tr>\n    <tr>\n      <th>12744</th>\n      <td>1</td>\n      <td>0</td>\n      <td>0</td>\n      <td>0</td>\n      <td>1</td>\n    </tr>\n    <tr>\n      <th>12745</th>\n      <td>1</td>\n      <td>0</td>\n      <td>0</td>\n      <td>0</td>\n      <td>1</td>\n    </tr>\n  </tbody>\n</table>\n<p>11910 rows × 5 columns</p>\n</div>"
     },
     "metadata": {},
     "execution_count": 7
    }
   ],
   "source": [
    "df.loc[:, ['Ổ điện gần giường', 'Không gây dị ứng', 'Nắp che ổ cắm điện an toàn', 'Ổ cắm cho iPod', 'Giấy vệ sinh']]"
   ]
  },
  {
   "cell_type": "code",
   "execution_count": 8,
   "metadata": {},
   "outputs": [],
   "source": [
    "# Dịch vụ báo thức2\n",
    "drop_cols = ['Ổ điện gần giường', 'Không gây dị ứng', 'Nắp che ổ cắm điện an toàn', 'Ổ cắm cho iPod', 'Giấy vệ sinh', 'Dép', 'Dịch vụ báo thức', 'Đồng hồ báo thức', 'Ra trải giường', 'Lối vào riêng', 'Chăn điện', 'Sản phẩm lau rửa', 'Hoàn toàn nằm ở tầng trệt', 'Đầu đĩa CD', 'Nước rửa tay', 'Đầu đĩa DVD', ' đĩa DVD và nhạc cho trẻ em', 'Thiết bị báo carbon monoxide', 'Đài radio', 'Dịch vụ báo thức']\n",
    "df.drop(drop_cols, axis=1, inplace=True)"
   ]
  },
  {
   "cell_type": "code",
   "execution_count": 9,
   "metadata": {},
   "outputs": [
    {
     "output_type": "execute_result",
     "data": {
      "text/plain": [
       "93"
      ]
     },
     "metadata": {},
     "execution_count": 9
    }
   ],
   "source": [
    "len(df.iloc[0, :])"
   ]
  },
  {
   "cell_type": "code",
   "execution_count": 10,
   "metadata": {},
   "outputs": [
    {
     "output_type": "execute_result",
     "data": {
      "text/plain": [
       "0        29\n",
       "1        56\n",
       "2        61\n",
       "3        18\n",
       "4        24\n",
       "         ..\n",
       "12740    32\n",
       "12741    34\n",
       "12742    36\n",
       "12744    30\n",
       "12745    55\n",
       "Name: dien_tich_m2, Length: 11910, dtype: int64"
      ]
     },
     "metadata": {},
     "execution_count": 10
    }
   ],
   "source": [
    "df['Diện tích'] = df['Diện tích'].str[:-3]\n",
    "df['Diện tích'] = pd.to_numeric(df['Diện tích'], errors='coerce')\n",
    "df = df.rename(columns={'Diện tích' : 'dien_tich_m2'})\n",
    "df['dien_tich_m2']"
   ]
  },
  {
   "cell_type": "code",
   "execution_count": 11,
   "metadata": {},
   "outputs": [
    {
     "output_type": "execute_result",
     "data": {
      "text/plain": [
       "0        2405000\n",
       "1        3055000\n",
       "2        3380000\n",
       "3         846000\n",
       "4         846000\n",
       "          ...   \n",
       "12740     365638\n",
       "12741     522340\n",
       "12742     598682\n",
       "12744     212511\n",
       "12745     425023\n",
       "Name: price, Length: 11910, dtype: int64"
      ]
     },
     "metadata": {},
     "execution_count": 11
    }
   ],
   "source": [
    "df['price'] = df['price'].str.replace('.', '')\n",
    "df['price'] = pd.to_numeric(df['price'],errors='coerce')\n",
    "df['price']"
   ]
  },
  {
   "cell_type": "code",
   "execution_count": 12,
   "metadata": {},
   "outputs": [
    {
     "output_type": "execute_result",
     "data": {
      "text/plain": [
       "11910"
      ]
     },
     "metadata": {},
     "execution_count": 12
    }
   ],
   "source": [
    "len(df.index)"
   ]
  },
  {
   "cell_type": "code",
   "execution_count": 13,
   "metadata": {},
   "outputs": [
    {
     "output_type": "execute_result",
     "data": {
      "text/plain": [
       "0        1\n",
       "1        1\n",
       "2        1\n",
       "3        1\n",
       "4        1\n",
       "        ..\n",
       "12740    1\n",
       "12741    1\n",
       "12742    1\n",
       "12744    1\n",
       "12745    1\n",
       "Name: dich_vu_truyen_hinh, Length: 11910, dtype: int64"
      ]
     },
     "metadata": {},
     "execution_count": 13
    }
   ],
   "source": [
    "col1 = 'Truyền hình cáp'\n",
    "col2 = 'Truyền hình vệ tinh'\n",
    "for i in df.index:\n",
    "    if df[col1][i] == 0 and df[col2][i] == 0:\n",
    "        pass\n",
    "    else:\n",
    "        df[col1][i] = 1\n",
    "\n",
    "df.drop(col2, axis=1, inplace=True)\n",
    "df = df.rename(columns={col1 : 'dich_vu_truyen_hinh'})\n",
    "df['dich_vu_truyen_hinh']"
   ]
  },
  {
   "cell_type": "code",
   "execution_count": 14,
   "metadata": {},
   "outputs": [
    {
     "output_type": "execute_result",
     "data": {
      "text/plain": [
       "0        0\n",
       "1        0\n",
       "2        0\n",
       "3        0\n",
       "4        0\n",
       "        ..\n",
       "12740    1\n",
       "12741    1\n",
       "12742    1\n",
       "12744    1\n",
       "12745    1\n",
       "Name: may_pha_tra_cf, Length: 11910, dtype: int64"
      ]
     },
     "metadata": {},
     "execution_count": 14
    }
   ],
   "source": [
    "col1 = 'Máy pha trà/cà phê'\n",
    "col2 = 'Máy pha Cà phê'\n",
    "for i in df.index:\n",
    "    if df[col1][i] == 0 and df[col2][i] == 0:\n",
    "        pass\n",
    "    else:\n",
    "        df[col1][i] = 1\n",
    "\n",
    "df.drop(col2, axis=1, inplace=True)\n",
    "df = df.rename(columns={col1 : 'may_pha_tra_cf'})\n",
    "df['may_pha_tra_cf']"
   ]
  },
  {
   "cell_type": "code",
   "execution_count": 15,
   "metadata": {},
   "outputs": [
    {
     "output_type": "execute_result",
     "data": {
      "text/plain": [
       "0        0\n",
       "1        0\n",
       "2        0\n",
       "3        0\n",
       "4        0\n",
       "        ..\n",
       "12740    0\n",
       "12741    0\n",
       "12742    0\n",
       "12744    0\n",
       "12745    0\n",
       "Name: bep_an, Length: 11910, dtype: int64"
      ]
     },
     "metadata": {},
     "execution_count": 15
    }
   ],
   "source": [
    "col1 = 'Bếp'\n",
    "col2 = 'Bếp nhỏ'\n",
    "col3 = 'Đồ bếp'\n",
    "col4 = 'Bếp nấu'\n",
    "col5 = 'Lò vi sóng'\n",
    "col6 = 'Máy nướng bánh mỳ'\n",
    "col7 = 'Lò nướng'\n",
    "for i in df.index:\n",
    "    if df[col1][i] == 0 and df[col2][i] == 0 and df[col3][i] == 0 and df[col4][i] == 0 and df[col5][i] == 0 and df[col6][i] == 0 and df[col7][i] == 0:\n",
    "        pass\n",
    "    else:\n",
    "        if df[col5][i] == 1:\n",
    "            if df[col6][i] == 1:\n",
    "                if df[col7][i] == 1:\n",
    "                    df[col1][i] = 3\n",
    "                else:\n",
    "                    df[col1][i] = 2\n",
    "            else:\n",
    "                df[col1][i] = 1\n",
    "        else:\n",
    "            df[col1][i] = 1\n",
    "\n",
    "\n",
    "df.drop([col2, col3, col4, col5, col6, col7], axis=1, inplace=True)\n",
    "df = df.rename(columns={col1 : 'bep_an'})\n",
    "df['bep_an']"
   ]
  },
  {
   "cell_type": "code",
   "execution_count": 16,
   "metadata": {},
   "outputs": [
    {
     "output_type": "execute_result",
     "data": {
      "text/plain": [
       "0        2\n",
       "1        2\n",
       "2        2\n",
       "3        2\n",
       "4        2\n",
       "        ..\n",
       "12740    2\n",
       "12741    2\n",
       "12742    2\n",
       "12744    2\n",
       "12745    2\n",
       "Name: phong_tam, Length: 11910, dtype: int64"
      ]
     },
     "metadata": {},
     "execution_count": 16
    }
   ],
   "source": [
    "col1 = 'Vòi sen'\n",
    "col2 = 'Bồn tắm'\n",
    "col3 = 'Bồn tắm hoặc Vòi sen'\n",
    "col4 = 'Bồn tắm spa'\n",
    "col5 = 'Phòng tắm riêng trong phòng'\n",
    "col6 = 'Phòng tắm phụ'\n",
    "col7 = 'Phòng tắm riêng'\n",
    "\n",
    "for i in df.index:\n",
    "    if df[col1][i] == 0 and df[col2][i] == 0 and df[col3][i] == 0 and df[col4][i] == 0 and df[col5][i] == 0 and df[col6][i] == 0 and df[col7][i] == 0:\n",
    "        df[col1][i] = 1\n",
    "    else:\n",
    "        if df[col2][i] == 1 or df[col3][i] == 1 or df[col5][i] == 1 or df[col6][i] == 1 or df[col7][i] == 1:\n",
    "            df[col1][i] = 2\n",
    "        elif df[col4][i] == 1:\n",
    "            df[col1][i] = 3\n",
    "        else:\n",
    "            df[col1][i] = 1\n",
    "\n",
    "df.drop([col2, col3, col4, col5, col6, col7], axis=1, inplace=True)\n",
    "df = df.rename(columns={col1 : 'phong_tam'})\n",
    "df['phong_tam']"
   ]
  },
  {
   "cell_type": "code",
   "execution_count": 17,
   "metadata": {},
   "outputs": [
    {
     "output_type": "execute_result",
     "data": {
      "text/plain": [
       "0        1\n",
       "1        1\n",
       "2        1\n",
       "3        1\n",
       "4        1\n",
       "        ..\n",
       "12740    1\n",
       "12741    1\n",
       "12742    1\n",
       "12744    0\n",
       "12745    0\n",
       "Name: ket_sat, Length: 11910, dtype: int64"
      ]
     },
     "metadata": {},
     "execution_count": 17
    }
   ],
   "source": [
    "col1 = 'Két an toàn'\n",
    "col2 = 'Két an toàn cỡ laptop'\n",
    "for i in df.index:\n",
    "    if df[col1][i] == 0 and df[col2][i] == 0:\n",
    "        pass\n",
    "    else:\n",
    "        if df[col2][i] == 1:\n",
    "            df[col1][i] = 2\n",
    "\n",
    "df.drop(col2, axis=1, inplace=True)\n",
    "df = df.rename(columns={col1 : 'ket_sat'})\n",
    "df['ket_sat']"
   ]
  },
  {
   "cell_type": "code",
   "execution_count": 18,
   "metadata": {},
   "outputs": [
    {
     "output_type": "execute_result",
     "data": {
      "text/plain": [
       "0        1\n",
       "1        1\n",
       "2        1\n",
       "3        1\n",
       "4        1\n",
       "        ..\n",
       "12740    1\n",
       "12741    1\n",
       "12742    1\n",
       "12744    1\n",
       "12745    1\n",
       "Name: toilet, Length: 11910, dtype: int64"
      ]
     },
     "metadata": {},
     "execution_count": 18
    }
   ],
   "source": [
    "col1 = 'Nhà vệ sinh'\n",
    "col2 = 'Toilet phụ'\n",
    "col3 = 'Toilet chung'\n",
    "\n",
    "for i in df.index:\n",
    "    if df[col1][i] == 0 and df[col2][i] == 0 and df[col3][i] == 0:\n",
    "        pass\n",
    "    else:\n",
    "        df[col1][i] = 1\n",
    "\n",
    "df.drop([col2, col3], axis=1, inplace=True)\n",
    "df = df.rename(columns={col1 : 'toilet'})\n",
    "df['toilet']"
   ]
  },
  {
   "cell_type": "code",
   "execution_count": 19,
   "metadata": {},
   "outputs": [
    {
     "output_type": "execute_result",
     "data": {
      "text/plain": [
       "0        1\n",
       "1        1\n",
       "2        1\n",
       "3        1\n",
       "4        1\n",
       "        ..\n",
       "12740    1\n",
       "12741    1\n",
       "12742    1\n",
       "12744    1\n",
       "12745    1\n",
       "Name: TV, Length: 11910, dtype: int64"
      ]
     },
     "metadata": {},
     "execution_count": 19
    }
   ],
   "source": [
    "col1 = 'TV'\n",
    "col2 = 'TV màn hình phẳng'\n",
    "for i in df.index:\n",
    "    if df[col1][i] == 0 and df[col2][i] == 0:\n",
    "        pass\n",
    "    else:\n",
    "        df[col1][i] = 1\n",
    "\n",
    "df.drop(col2, axis=1, inplace=True)\n",
    "df = df.rename(columns={col1 : 'TV'})\n",
    "df['TV']"
   ]
  },
  {
   "cell_type": "code",
   "execution_count": 20,
   "metadata": {},
   "outputs": [
    {
     "output_type": "execute_result",
     "data": {
      "text/plain": [
       "0        3\n",
       "1        3\n",
       "2        3\n",
       "3        2\n",
       "4        2\n",
       "        ..\n",
       "12740    1\n",
       "12741    1\n",
       "12742    1\n",
       "12744    1\n",
       "12745    1\n",
       "Name: dieu_hoa, Length: 11910, dtype: int64"
      ]
     },
     "metadata": {},
     "execution_count": 20
    }
   ],
   "source": [
    "col1 = 'Quạt máy'\n",
    "col2 = 'Điều hòa không khí'\n",
    "col3 = 'Hệ thống sưởi'\n",
    "col4 = 'Máy điều hòa độc lập cho từng phòng'\n",
    "col5 = 'Có lắp đặt máy lọc không khí'\n",
    "col6 = 'Lò sưởi'\n",
    "\n",
    "for i in df.index:\n",
    "    if df[col1][i] == 0 and df[col2][i] == 0 and df[col3][i] == 0 and df[col4][i] == 0 and df[col5][i] == 0 and df[col6][i] == 0:\n",
    "        pass\n",
    "    else:\n",
    "        if df[col2][i] == 1 or df[col4][i] == 1:\n",
    "            df[col1][i] = 2\n",
    "        if df[col3][i] == 1 or df[col6][i] == 1:\n",
    "            df[col1][i] = 3\n",
    "        if df[col5][i] == 1:\n",
    "            df[col1][i] = 4\n",
    "\n",
    "\n",
    "df.drop([col2, col3, col4, col5, col6], axis=1, inplace=True)\n",
    "df = df.rename(columns={col1 : 'dieu_hoa'})\n",
    "df['dieu_hoa']"
   ]
  },
  {
   "cell_type": "code",
   "execution_count": 21,
   "metadata": {},
   "outputs": [
    {
     "output_type": "execute_result",
     "data": {
      "text/plain": [
       "0        1\n",
       "1        1\n",
       "2        1\n",
       "3        0\n",
       "4        0\n",
       "        ..\n",
       "12740    3\n",
       "12741    3\n",
       "12742    3\n",
       "12744    0\n",
       "12745    0\n",
       "Name: lot_san, Length: 11910, dtype: int64"
      ]
     },
     "metadata": {},
     "execution_count": 21
    }
   ],
   "source": [
    "col1 = 'Sàn trải thảm'\n",
    "col2 = 'Sàn lát gạch/đá cẩm thạch'\n",
    "col3 = 'Sàn lát gỗ'\n",
    "\n",
    "for i in df.index:\n",
    "    if df[col1][i] == 0 and df[col2][i] == 0 and df[col3][i] == 0:\n",
    "        pass\n",
    "    else:\n",
    "        if df[col2][i] == 1:\n",
    "            df[col1][i] = 2\n",
    "        if df[col3][i] == 1:\n",
    "            df[col1][i] = 3\n",
    "\n",
    "df.drop([col2, col3], axis=1, inplace=True)\n",
    "df = df.rename(columns={col1 : 'lot_san'})\n",
    "df['lot_san']"
   ]
  },
  {
   "cell_type": "code",
   "execution_count": 22,
   "metadata": {},
   "outputs": [],
   "source": [
    "col1 = 'Tủ hoặc phòng để quần áo'\n",
    "col2 = 'Giá treo quần áo'\n",
    "col3 = 'Phòng thay quần áo'\n",
    "col4 = 'Giá phơi quần áo'\n",
    "\n",
    "for i in df.index:\n",
    "    if df[col1][i] == 0 and df[col2][i] == 0 and df[col3][i] == 0 and df[col4][i] == 0:\n",
    "        pass\n",
    "    else:\n",
    "        df[col1][i] = 1\n",
    "\n",
    "df.drop([col2, col3, col4], axis=1, inplace=True)\n",
    "df = df.rename(columns={col1 : 'tu_quan_ao'})"
   ]
  },
  {
   "cell_type": "code",
   "execution_count": 23,
   "metadata": {},
   "outputs": [
    {
     "output_type": "execute_result",
     "data": {
      "text/plain": [
       "0        2\n",
       "1        2\n",
       "2        2\n",
       "3        0\n",
       "4        0\n",
       "        ..\n",
       "12740    0\n",
       "12741    2\n",
       "12742    2\n",
       "12744    0\n",
       "12745    0\n",
       "Name: view, Length: 11910, dtype: int64"
      ]
     },
     "metadata": {},
     "execution_count": 23
    }
   ],
   "source": [
    "col1 = 'Nhìn ra thành phố'\n",
    "col2 = 'Nhìn ra hồ bơi'\n",
    "col3 = 'Tầm nhìn ra khung cảnh'\n",
    "col4 = 'Nhìn ra sông'\n",
    "col5 = 'Nhìn ra địa danh nổi tiếng'\n",
    "col6 = 'Nhìn ra vườn'\n",
    "col7 = 'Hướng nhìn sân trong'\n",
    "\n",
    "for i in df.index:\n",
    "    if df[col1][i] == 0 and df[col2][i] == 0 and df[col3][i] == 0 and df[col4][i] == 0 and df[col5][i] == 0 and df[col6][i] == 0 and df[col7][i] == 0:\n",
    "        pass\n",
    "    else:\n",
    "        if df[col2][i] == 1:\n",
    "            df[col1][i] = 1\n",
    "        if df[col1][i] == 1 or df[col3][i] == 1 or df[col7][i] == 1:\n",
    "            df[col1][i] = 2\n",
    "        if df[col6][i] == 1:\n",
    "            df[col1][i] = 3\n",
    "        if df[col4][i] == 1 or df[col5][i] == 1:\n",
    "            df[col1][i] = 4\n",
    "\n",
    "df.drop([col2, col3, col4, col5, col6, col7], axis=1, inplace=True)\n",
    "df = df.rename(columns={col1 : 'view'})\n",
    "df['view']"
   ]
  },
  {
   "cell_type": "code",
   "execution_count": 24,
   "metadata": {},
   "outputs": [
    {
     "output_type": "execute_result",
     "data": {
      "text/plain": [
       "0        0\n",
       "1        0\n",
       "2        0\n",
       "3        0\n",
       "4        0\n",
       "        ..\n",
       "12740    0\n",
       "12741    0\n",
       "12742    0\n",
       "12744    1\n",
       "12745    1\n",
       "Name: ban_an, Length: 11910, dtype: int64"
      ]
     },
     "metadata": {},
     "execution_count": 24
    }
   ],
   "source": [
    "col1 = 'Bàn ăn'\n",
    "col2 = 'Khu vực phòng ăn'\n",
    "for i in df.index:\n",
    "    if df[col1][i] == 0 and df[col2][i] == 0:\n",
    "        pass\n",
    "    else:\n",
    "        df[col1][i] = 1\n",
    "\n",
    "df.drop(col2, axis=1, inplace=True)\n",
    "df = df.rename(columns={col1 : 'ban_an'})\n",
    "df['ban_an']"
   ]
  },
  {
   "cell_type": "code",
   "execution_count": 25,
   "metadata": {},
   "outputs": [
    {
     "output_type": "execute_result",
     "data": {
      "text/plain": [
       "0        0\n",
       "1        0\n",
       "2        0\n",
       "3        0\n",
       "4        0\n",
       "        ..\n",
       "12740    1\n",
       "12741    1\n",
       "12742    1\n",
       "12744    1\n",
       "12745    1\n",
       "Name: ui_quan_ao, Length: 11910, dtype: int64"
      ]
     },
     "metadata": {},
     "execution_count": 25
    }
   ],
   "source": [
    "col1 = 'Tiện nghi ủi'\n",
    "col2 = 'Bàn ủi'\n",
    "col3 = 'Bàn ủi li quần'\n",
    "\n",
    "for i in df.index:\n",
    "    if df[col1][i] == 0 and df[col2][i] == 0 and df[col3][i] == 0:\n",
    "        pass\n",
    "    else:\n",
    "        df[col1][i] = 1\n",
    "\n",
    "df.drop([col2, col3], axis=1, inplace=True)\n",
    "df = df.rename(columns={col1 : 'ui_quan_ao'})\n",
    "df['ui_quan_ao']"
   ]
  },
  {
   "cell_type": "code",
   "execution_count": 26,
   "metadata": {},
   "outputs": [
    {
     "output_type": "execute_result",
     "data": {
      "text/plain": [
       "0        1\n",
       "1        1\n",
       "2        1\n",
       "3        1\n",
       "4        1\n",
       "        ..\n",
       "12740    1\n",
       "12741    1\n",
       "12742    1\n",
       "12744    1\n",
       "12745    1\n",
       "Name: giuong, Length: 11910, dtype: int64"
      ]
     },
     "metadata": {},
     "execution_count": 26
    }
   ],
   "source": [
    "col1 = 'Giường cực dài (> 2 mét)'\n",
    "col2 = 'Giường sofa'\n",
    "col3 = 'Giường xếp'\n",
    "\n",
    "for i in df.index:\n",
    "    if df[col1][i] == 0 and df[col2][i] == 0 and df[col3][i] == 0:\n",
    "        df[col1][i] = 1\n",
    "    else:\n",
    "        if df[col3][i] == 1:\n",
    "            df[col1][i] = 1\n",
    "        if df[col1][i] == 1 or df[col2][i] == 1:\n",
    "            df[col1][i] = 2\n",
    "\n",
    "df.drop([col2, col3], axis=1, inplace=True)\n",
    "df = df.rename(columns={col1 : 'giuong'})\n",
    "df['giuong']"
   ]
  },
  {
   "cell_type": "code",
   "execution_count": 27,
   "metadata": {},
   "outputs": [
    {
     "output_type": "execute_result",
     "data": {
      "text/plain": [
       "0        0\n",
       "1        0\n",
       "2        0\n",
       "3        0\n",
       "4        0\n",
       "        ..\n",
       "12740    0\n",
       "12741    0\n",
       "12742    0\n",
       "12744    0\n",
       "12745    0\n",
       "Name: tien_ich_cho_tre_em, Length: 11910, dtype: int64"
      ]
     },
     "metadata": {},
     "execution_count": 27
    }
   ],
   "source": [
    "col1 = 'Ghế cao dành cho trẻ em'\n",
    "col2 = 'Cửa an toàn cho trẻ nhỏ'\n",
    "for i in df.index:\n",
    "    if df[col1][i] == 0 and df[col2][i] == 0:\n",
    "        pass\n",
    "    else:\n",
    "        df[col1][i] = 1\n",
    "\n",
    "df.drop(col2, axis=1, inplace=True)\n",
    "df = df.rename(columns={col1 : 'tien_ich_cho_tre_em'})\n",
    "df['tien_ich_cho_tre_em']"
   ]
  },
  {
   "cell_type": "code",
   "execution_count": 28,
   "metadata": {},
   "outputs": [],
   "source": [
    "col1 = 'Hồ bơi trên sân thượng'\n",
    "col2 = 'Hồ bơi có tầm nhìn'\n",
    "col3 = 'Hồ bơi riêng'\n",
    "\n",
    "for i in df.index:\n",
    "    if df[col1][i] == 0 and df[col2][i] == 0 and df[col3][i] == 0:\n",
    "        pass\n",
    "    else:\n",
    "        if df[col3][i] == 1:\n",
    "            df[col1][i] = 1\n",
    "        if df[col1][i] == 1 or df[col2][i] == 1:\n",
    "            df[col1][i] = 2\n",
    "\n",
    "df.drop([col2, col3], axis=1, inplace=True)\n",
    "df = df.rename(columns={col1 : 'ho_boi'})"
   ]
  },
  {
   "cell_type": "code",
   "execution_count": 29,
   "metadata": {},
   "outputs": [
    {
     "output_type": "execute_result",
     "data": {
      "text/plain": [
       "0        0\n",
       "1        0\n",
       "2        0\n",
       "3        0\n",
       "4        0\n",
       "        ..\n",
       "12740    0\n",
       "12741    0\n",
       "12742    0\n",
       "12744    0\n",
       "12745    0\n",
       "Name: tien_ich_giai_tri, Length: 11910, dtype: int64"
      ]
     },
     "metadata": {},
     "execution_count": 29
    }
   ],
   "source": [
    "col1 = 'Trò chơi board game/giải đố'\n",
    "col2 = 'Sách'\n",
    "for i in df.index:\n",
    "    if df[col1][i] == 0 and df[col2][i] == 0:\n",
    "        pass\n",
    "    else:\n",
    "        df[col1][i] = 1\n",
    "\n",
    "df.drop(col2, axis=1, inplace=True)\n",
    "df = df.rename(columns={col1 : 'tien_ich_giai_tri'})\n",
    "df['tien_ich_giai_tri']"
   ]
  },
  {
   "cell_type": "code",
   "execution_count": 30,
   "metadata": {},
   "outputs": [
    {
     "output_type": "execute_result",
     "data": {
      "text/plain": [
       "0        0\n",
       "1        0\n",
       "2        0\n",
       "3        0\n",
       "4        0\n",
       "        ..\n",
       "12740    0\n",
       "12741    0\n",
       "12742    0\n",
       "12744    0\n",
       "12745    0\n",
       "Name: outdoor_area, Length: 11910, dtype: int64"
      ]
     },
     "metadata": {},
     "execution_count": 30
    }
   ],
   "source": [
    "col1 = 'Khu vực ăn uống ngoài trời'\n",
    "col2 = 'Bàn ghế ngoài trời'\n",
    "for i in df.index:\n",
    "    if df[col1][i] == 0 and df[col2][i] == 0:\n",
    "        pass\n",
    "    else:\n",
    "        df[col1][i] = 1\n",
    "\n",
    "df.drop(col2, axis=1, inplace=True)\n",
    "df = df.rename(columns={col1 : 'outdoor_area'})\n",
    "df['outdoor_area']"
   ]
  },
  {
   "cell_type": "code",
   "execution_count": 31,
   "metadata": {},
   "outputs": [
    {
     "output_type": "execute_result",
     "data": {
      "text/plain": [
       "0        1\n",
       "1        1\n",
       "2        1\n",
       "3        1\n",
       "4        1\n",
       "        ..\n",
       "12740    1\n",
       "12741    1\n",
       "12742    1\n",
       "12744    1\n",
       "12745    1\n",
       "Name: tien_ich_phong, Length: 11910, dtype: int64"
      ]
     },
     "metadata": {},
     "execution_count": 31
    }
   ],
   "source": [
    "col1 = 'Áo choàng tắm'\n",
    "col2 = 'Khăn tắm'\n",
    "col3 = 'Khăn tắm/Bộ khăn trải giường (có thu phí)'\n",
    "\n",
    "for i in df.index:\n",
    "    if df[col1][i] == 0 and df[col2][i] == 0:\n",
    "        pass\n",
    "    if df[col3][i] == 1:\n",
    "        df[col1][i] = 0\n",
    "    if df[col1][i] == 1 or df[col2][i] == 1:\n",
    "        df[col1][i] = 1\n",
    "\n",
    "df.drop([col2, col3], axis=1, inplace=True)\n",
    "df = df.rename(columns={col1 : 'tien_ich_phong'})\n",
    "df['tien_ich_phong']"
   ]
  },
  {
   "cell_type": "code",
   "execution_count": 32,
   "metadata": {},
   "outputs": [
    {
     "output_type": "execute_result",
     "data": {
      "text/plain": [
       "0        0\n",
       "1        0\n",
       "2        0\n",
       "3        0\n",
       "4        0\n",
       "        ..\n",
       "12740    1\n",
       "12741    1\n",
       "12742    1\n",
       "12744    0\n",
       "12745    0\n",
       "Name: co_thang_may, Length: 11910, dtype: int64"
      ]
     },
     "metadata": {},
     "execution_count": 32
    }
   ],
   "source": [
    "col1 = 'Các tầng trên đi lên bằng thang máy'\n",
    "col2 = 'Các tầng trên chỉ lên được bằng cầu thang'\n",
    "\n",
    "df.drop(col2, axis=1, inplace=True)\n",
    "df = df.rename(columns={col1 : 'co_thang_may'})\n",
    "df['co_thang_may']"
   ]
  },
  {
   "cell_type": "code",
   "execution_count": 33,
   "metadata": {},
   "outputs": [],
   "source": [
    "df = df.rename(columns={'Xe lăn có thể đi đến mọi nơi trong toàn bộ khuôn viên' : 'ho_tro_xe_lan', 'Có phòng thông nhau qua cửa nối' : 'connecting_room', 'Quyền sử dụng Executive Lounge' : 'executive_lounge', 'Ban công' : 'balcony', 'Máy giặt' : 'may_giat', 'Máy fax' : 'may_fax', 'Ghế sofa' : 'ghe_sofa', 'WiFi miễn phí' : 'free_wifi', 'Minibar' : 'minibar', 'Đồ vệ sinh cá nhân miễn phí' : 'free_do_vs_ca_nhan', 'Bàn làm việc' : 'working_table', 'Khu vực tiếp khách' : 'khu_vuc_tiep_khach', 'Tủ lạnh' : 'tu_lanh', 'Điện thoại' : 'dien_thoai', 'Máy sấy tóc' : 'may_say_toc', 'Ấm đun nước điện' : 'am_dun_nuoc', 'Hệ thống cách âm' : 'cach_am', 'Chậu rửa vệ sinh (bidet)' : 'chau_rua_vs_bidet', 'Máy vi tính' : 'may_vi_tinh', 'Máy sấy quần áo' : 'may_say_quan_ao', 'Phòng xông hơi' : 'phong_xong_hoi', 'Bể sục' : 'be_suc', 'Sân trong' : 'san_trong'})"
   ]
  },
  {
   "cell_type": "code",
   "execution_count": 56,
   "metadata": {},
   "outputs": [
    {
     "output_type": "stream",
     "name": "stdout",
     "text": [
      "3.3921074727120066\n"
     ]
    }
   ],
   "source": [
    "check_col = 'be_suc'\n",
    "count = 0\n",
    "for i in df.index:\n",
    "    if df[check_col][i] == 1:\n",
    "        count += 1\n",
    "print(count/len(df.index)*100)"
   ]
  },
  {
   "cell_type": "code",
   "execution_count": 57,
   "metadata": {},
   "outputs": [
    {
     "output_type": "execute_result",
     "data": {
      "text/plain": [
       "                 City  dien_tich_m2  free_do_vs_ca_nhan  phong_tam  \\\n",
       "0      TP.Ho Chi Minh            29                   1          2   \n",
       "1      TP.Ho Chi Minh            56                   1          2   \n",
       "2      TP.Ho Chi Minh            61                   1          2   \n",
       "3      TP.Ho Chi Minh            18                   1          2   \n",
       "4      TP.Ho Chi Minh            24                   1          2   \n",
       "...               ...           ...                 ...        ...   \n",
       "12740          Da Lat            32                   1          2   \n",
       "12741          Da Lat            34                   1          2   \n",
       "12742          Da Lat            36                   1          2   \n",
       "12744          Da Lat            30                   1          2   \n",
       "12745          Da Lat            55                   1          2   \n",
       "\n",
       "       tien_ich_phong  ket_sat  toilet  working_table  khu_vuc_tiep_khach  TV  \\\n",
       "0                   1        1       1              1                   1   1   \n",
       "1                   1        1       1              1                   1   1   \n",
       "2                   1        1       1              1                   1   1   \n",
       "3                   1        1       1              1                   0   1   \n",
       "4                   1        1       1              1                   0   1   \n",
       "...               ...      ...     ...            ...                 ...  ..   \n",
       "12740               1        1       1              1                   0   1   \n",
       "12741               1        1       1              1                   1   1   \n",
       "12742               1        1       1              1                   0   1   \n",
       "12744               1        0       1              0                   1   1   \n",
       "12745               1        0       1              0                   1   1   \n",
       "\n",
       "       ...  may_vi_tinh  dieu_hoa  tien_ich_cho_tre_em  ho_boi  \\\n",
       "0      ...            0         3                    0       0   \n",
       "1      ...            0         3                    0       0   \n",
       "2      ...            0         3                    0       0   \n",
       "3      ...            0         2                    0       0   \n",
       "4      ...            0         2                    0       0   \n",
       "...    ...          ...       ...                  ...     ...   \n",
       "12740  ...            0         1                    0       0   \n",
       "12741  ...            0         1                    0       0   \n",
       "12742  ...            0         1                    0       0   \n",
       "12744  ...            0         1                    0       2   \n",
       "12745  ...            0         1                    0       2   \n",
       "\n",
       "       tien_ich_giai_tri  outdoor_area  phong_xong_hoi  be_suc  san_trong  \\\n",
       "0                      0             0               0       0          0   \n",
       "1                      0             0               0       0          0   \n",
       "2                      0             0               0       0          0   \n",
       "3                      0             0               0       0          0   \n",
       "4                      0             0               0       0          0   \n",
       "...                  ...           ...             ...     ...        ...   \n",
       "12740                  0             0               0       0          0   \n",
       "12741                  0             0               0       0          0   \n",
       "12742                  0             0               0       0          0   \n",
       "12744                  0             0               0       0          0   \n",
       "12745                  0             0               0       0          0   \n",
       "\n",
       "         price  \n",
       "0      2405000  \n",
       "1      3055000  \n",
       "2      3380000  \n",
       "3       846000  \n",
       "4       846000  \n",
       "...        ...  \n",
       "12740   365638  \n",
       "12741   522340  \n",
       "12742   598682  \n",
       "12744   212511  \n",
       "12745   425023  \n",
       "\n",
       "[11910 rows x 46 columns]"
      ],
      "text/html": "<div>\n<style scoped>\n    .dataframe tbody tr th:only-of-type {\n        vertical-align: middle;\n    }\n\n    .dataframe tbody tr th {\n        vertical-align: top;\n    }\n\n    .dataframe thead th {\n        text-align: right;\n    }\n</style>\n<table border=\"1\" class=\"dataframe\">\n  <thead>\n    <tr style=\"text-align: right;\">\n      <th></th>\n      <th>City</th>\n      <th>dien_tich_m2</th>\n      <th>free_do_vs_ca_nhan</th>\n      <th>phong_tam</th>\n      <th>tien_ich_phong</th>\n      <th>ket_sat</th>\n      <th>toilet</th>\n      <th>working_table</th>\n      <th>khu_vuc_tiep_khach</th>\n      <th>TV</th>\n      <th>...</th>\n      <th>may_vi_tinh</th>\n      <th>dieu_hoa</th>\n      <th>tien_ich_cho_tre_em</th>\n      <th>ho_boi</th>\n      <th>tien_ich_giai_tri</th>\n      <th>outdoor_area</th>\n      <th>phong_xong_hoi</th>\n      <th>be_suc</th>\n      <th>san_trong</th>\n      <th>price</th>\n    </tr>\n  </thead>\n  <tbody>\n    <tr>\n      <th>0</th>\n      <td>TP.Ho Chi Minh</td>\n      <td>29</td>\n      <td>1</td>\n      <td>2</td>\n      <td>1</td>\n      <td>1</td>\n      <td>1</td>\n      <td>1</td>\n      <td>1</td>\n      <td>1</td>\n      <td>...</td>\n      <td>0</td>\n      <td>3</td>\n      <td>0</td>\n      <td>0</td>\n      <td>0</td>\n      <td>0</td>\n      <td>0</td>\n      <td>0</td>\n      <td>0</td>\n      <td>2405000</td>\n    </tr>\n    <tr>\n      <th>1</th>\n      <td>TP.Ho Chi Minh</td>\n      <td>56</td>\n      <td>1</td>\n      <td>2</td>\n      <td>1</td>\n      <td>1</td>\n      <td>1</td>\n      <td>1</td>\n      <td>1</td>\n      <td>1</td>\n      <td>...</td>\n      <td>0</td>\n      <td>3</td>\n      <td>0</td>\n      <td>0</td>\n      <td>0</td>\n      <td>0</td>\n      <td>0</td>\n      <td>0</td>\n      <td>0</td>\n      <td>3055000</td>\n    </tr>\n    <tr>\n      <th>2</th>\n      <td>TP.Ho Chi Minh</td>\n      <td>61</td>\n      <td>1</td>\n      <td>2</td>\n      <td>1</td>\n      <td>1</td>\n      <td>1</td>\n      <td>1</td>\n      <td>1</td>\n      <td>1</td>\n      <td>...</td>\n      <td>0</td>\n      <td>3</td>\n      <td>0</td>\n      <td>0</td>\n      <td>0</td>\n      <td>0</td>\n      <td>0</td>\n      <td>0</td>\n      <td>0</td>\n      <td>3380000</td>\n    </tr>\n    <tr>\n      <th>3</th>\n      <td>TP.Ho Chi Minh</td>\n      <td>18</td>\n      <td>1</td>\n      <td>2</td>\n      <td>1</td>\n      <td>1</td>\n      <td>1</td>\n      <td>1</td>\n      <td>0</td>\n      <td>1</td>\n      <td>...</td>\n      <td>0</td>\n      <td>2</td>\n      <td>0</td>\n      <td>0</td>\n      <td>0</td>\n      <td>0</td>\n      <td>0</td>\n      <td>0</td>\n      <td>0</td>\n      <td>846000</td>\n    </tr>\n    <tr>\n      <th>4</th>\n      <td>TP.Ho Chi Minh</td>\n      <td>24</td>\n      <td>1</td>\n      <td>2</td>\n      <td>1</td>\n      <td>1</td>\n      <td>1</td>\n      <td>1</td>\n      <td>0</td>\n      <td>1</td>\n      <td>...</td>\n      <td>0</td>\n      <td>2</td>\n      <td>0</td>\n      <td>0</td>\n      <td>0</td>\n      <td>0</td>\n      <td>0</td>\n      <td>0</td>\n      <td>0</td>\n      <td>846000</td>\n    </tr>\n    <tr>\n      <th>...</th>\n      <td>...</td>\n      <td>...</td>\n      <td>...</td>\n      <td>...</td>\n      <td>...</td>\n      <td>...</td>\n      <td>...</td>\n      <td>...</td>\n      <td>...</td>\n      <td>...</td>\n      <td>...</td>\n      <td>...</td>\n      <td>...</td>\n      <td>...</td>\n      <td>...</td>\n      <td>...</td>\n      <td>...</td>\n      <td>...</td>\n      <td>...</td>\n      <td>...</td>\n      <td>...</td>\n    </tr>\n    <tr>\n      <th>12740</th>\n      <td>Da Lat</td>\n      <td>32</td>\n      <td>1</td>\n      <td>2</td>\n      <td>1</td>\n      <td>1</td>\n      <td>1</td>\n      <td>1</td>\n      <td>0</td>\n      <td>1</td>\n      <td>...</td>\n      <td>0</td>\n      <td>1</td>\n      <td>0</td>\n      <td>0</td>\n      <td>0</td>\n      <td>0</td>\n      <td>0</td>\n      <td>0</td>\n      <td>0</td>\n      <td>365638</td>\n    </tr>\n    <tr>\n      <th>12741</th>\n      <td>Da Lat</td>\n      <td>34</td>\n      <td>1</td>\n      <td>2</td>\n      <td>1</td>\n      <td>1</td>\n      <td>1</td>\n      <td>1</td>\n      <td>1</td>\n      <td>1</td>\n      <td>...</td>\n      <td>0</td>\n      <td>1</td>\n      <td>0</td>\n      <td>0</td>\n      <td>0</td>\n      <td>0</td>\n      <td>0</td>\n      <td>0</td>\n      <td>0</td>\n      <td>522340</td>\n    </tr>\n    <tr>\n      <th>12742</th>\n      <td>Da Lat</td>\n      <td>36</td>\n      <td>1</td>\n      <td>2</td>\n      <td>1</td>\n      <td>1</td>\n      <td>1</td>\n      <td>1</td>\n      <td>0</td>\n      <td>1</td>\n      <td>...</td>\n      <td>0</td>\n      <td>1</td>\n      <td>0</td>\n      <td>0</td>\n      <td>0</td>\n      <td>0</td>\n      <td>0</td>\n      <td>0</td>\n      <td>0</td>\n      <td>598682</td>\n    </tr>\n    <tr>\n      <th>12744</th>\n      <td>Da Lat</td>\n      <td>30</td>\n      <td>1</td>\n      <td>2</td>\n      <td>1</td>\n      <td>0</td>\n      <td>1</td>\n      <td>0</td>\n      <td>1</td>\n      <td>1</td>\n      <td>...</td>\n      <td>0</td>\n      <td>1</td>\n      <td>0</td>\n      <td>2</td>\n      <td>0</td>\n      <td>0</td>\n      <td>0</td>\n      <td>0</td>\n      <td>0</td>\n      <td>212511</td>\n    </tr>\n    <tr>\n      <th>12745</th>\n      <td>Da Lat</td>\n      <td>55</td>\n      <td>1</td>\n      <td>2</td>\n      <td>1</td>\n      <td>0</td>\n      <td>1</td>\n      <td>0</td>\n      <td>1</td>\n      <td>1</td>\n      <td>...</td>\n      <td>0</td>\n      <td>1</td>\n      <td>0</td>\n      <td>2</td>\n      <td>0</td>\n      <td>0</td>\n      <td>0</td>\n      <td>0</td>\n      <td>0</td>\n      <td>425023</td>\n    </tr>\n  </tbody>\n</table>\n<p>11910 rows × 46 columns</p>\n</div>"
     },
     "metadata": {},
     "execution_count": 57
    }
   ],
   "source": [
    "df"
   ]
  },
  {
   "cell_type": "code",
   "execution_count": 34,
   "metadata": {},
   "outputs": [],
   "source": [
    "df.to_csv('full_data_new_1.csv', index=False)"
   ]
  }
 ]
}