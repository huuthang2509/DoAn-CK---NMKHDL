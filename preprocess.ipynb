{
 "metadata": {
  "language_info": {
   "codemirror_mode": {
    "name": "ipython",
    "version": 3
   },
   "file_extension": ".py",
   "mimetype": "text/x-python",
   "name": "python",
   "nbconvert_exporter": "python",
   "pygments_lexer": "ipython3",
   "version": "3.8.3-final"
  },
  "orig_nbformat": 2,
  "kernelspec": {
   "name": "python3",
   "display_name": "Python 3",
   "language": "python"
  }
 },
 "nbformat": 4,
 "nbformat_minor": 2,
 "cells": [
  {
   "cell_type": "code",
   "execution_count": 1,
   "metadata": {},
   "outputs": [],
   "source": [
    "import pandas as pd\n",
    "import numpy as np"
   ]
  },
  {
   "cell_type": "code",
   "execution_count": 2,
   "metadata": {},
   "outputs": [
    {
     "output_type": "execute_result",
     "data": {
      "text/plain": [
       "        City          Diện tích  Đồ vệ sinh cá nhân miễn phí  Vòi sen  \\\n",
       "0     Da Lat                  0                            0         0   \n",
       "1     Da Lat              16 m²                            1         1   \n",
       "2     Da Lat              28 m²                            1         1   \n",
       "3     Da Lat              20 m²                            1         1   \n",
       "4     Da Lat              35 m²                            1         1   \n",
       "...      ...                ...                          ...       ...   \n",
       "3524  Da Lat              34 m²                            1         0   \n",
       "3525  Da Lat              36 m²                            1         0   \n",
       "3526  Da Lat  TV màn hình phẳng                            0         0   \n",
       "3527  Da Lat              30 m²                            1         0   \n",
       "3528  Da Lat              55 m²                            1         0   \n",
       "\n",
       "      Áo choàng tắm  Két an toàn  Nhà vệ sinh  Khăn tắm  Bàn làm việc  \\\n",
       "0                    0              0            0         0                0   \n",
       "1                    0              0            1         1                1   \n",
       "2                    0              0            1         1                1   \n",
       "3                    0              0            1         1                1   \n",
       "4                    0              0            1         1                1   \n",
       "...                ...            ...          ...       ...              ...   \n",
       "3524                 0              1            1         1                1   \n",
       "3525                 0              1            1         1                1   \n",
       "3526                 0              0            0         0                0   \n",
       "3527                 0              0            1         1                0   \n",
       "3528                 0              0            1         1                0   \n",
       "\n",
       "      Khu vực tiếp khách  ...  Đài radio  Khu vực ăn uống ngoài trời  \\\n",
       "0                         0  ...          0                           0   \n",
       "1                         0  ...          1                           0   \n",
       "2                         0  ...          1                           0   \n",
       "3                         0  ...          1                           0   \n",
       "4                         0  ...          1                           0   \n",
       "...                     ...  ...        ...                         ...   \n",
       "3524                      1  ...          0                           0   \n",
       "3525                      0  ...          0                           0   \n",
       "3526                      0  ...          0                           0   \n",
       "3527                      1  ...          1                           0   \n",
       "3528                      1  ...          1                           0   \n",
       "\n",
       "      Phòng xông hơi  Toilet chung  Bàn ghế ngoài trời  Bể sục  \\\n",
       "0                  0             0                   0         0   \n",
       "1                  0             1                   0         0   \n",
       "2                  0             1                   0         0   \n",
       "3                  0             1                   0         0   \n",
       "4                  0             1                   0         0   \n",
       "...              ...           ...                 ...       ...   \n",
       "3524               0             0                   0         0   \n",
       "3525               0             0                   0         0   \n",
       "3526               0             0                   0         0   \n",
       "3527               0             1                   0         0   \n",
       "3528               0             1                   0         0   \n",
       "\n",
       "      Hồ bơi riêng  Sân trong  Hướng nhìn sân trong      price  \n",
       "0                0          0                     0    399.593  \n",
       "1                0          1                     0    399.593  \n",
       "2                0          1                     0    599.390  \n",
       "3                0          1                     0  1.065.596  \n",
       "4                0          1                     0    799.187  \n",
       "...            ...        ...                   ...        ...  \n",
       "3524             0          0                     0    522.340  \n",
       "3525             0          0                     0    598.682  \n",
       "3526             0          0                     0    900.000  \n",
       "3527             1          0                     0    212.511  \n",
       "3528             1          0                     0    425.023  \n",
       "\n",
       "[3529 rows x 113 columns]"
      ],
      "text/html": "<div>\n<style scoped>\n    .dataframe tbody tr th:only-of-type {\n        vertical-align: middle;\n    }\n\n    .dataframe tbody tr th {\n        vertical-align: top;\n    }\n\n    .dataframe thead th {\n        text-align: right;\n    }\n</style>\n<table border=\"1\" class=\"dataframe\">\n  <thead>\n    <tr style=\"text-align: right;\">\n      <th></th>\n      <th>City</th>\n      <th>Diện tích</th>\n      <th>Đồ vệ sinh cá nhân miễn phí</th>\n      <th>Vòi sen</th>\n      <th>Áo choàng tắm</th>\n      <th>Két an toàn</th>\n      <th>Nhà vệ sinh</th>\n      <th>Khăn tắm</th>\n      <th>Bàn làm việc</th>\n      <th>Khu vực tiếp khách</th>\n      <th>...</th>\n      <th>Đài radio</th>\n      <th>Khu vực ăn uống ngoài trời</th>\n      <th>Phòng xông hơi</th>\n      <th>Toilet chung</th>\n      <th>Bàn ghế ngoài trời</th>\n      <th>Bể sục</th>\n      <th>Hồ bơi riêng</th>\n      <th>Sân trong</th>\n      <th>Hướng nhìn sân trong</th>\n      <th>price</th>\n    </tr>\n  </thead>\n  <tbody>\n    <tr>\n      <th>0</th>\n      <td>Da Lat</td>\n      <td>0</td>\n      <td>0</td>\n      <td>0</td>\n      <td>0</td>\n      <td>0</td>\n      <td>0</td>\n      <td>0</td>\n      <td>0</td>\n      <td>0</td>\n      <td>...</td>\n      <td>0</td>\n      <td>0</td>\n      <td>0</td>\n      <td>0</td>\n      <td>0</td>\n      <td>0</td>\n      <td>0</td>\n      <td>0</td>\n      <td>0</td>\n      <td>399.593</td>\n    </tr>\n    <tr>\n      <th>1</th>\n      <td>Da Lat</td>\n      <td>16 m²</td>\n      <td>1</td>\n      <td>1</td>\n      <td>0</td>\n      <td>0</td>\n      <td>1</td>\n      <td>1</td>\n      <td>1</td>\n      <td>0</td>\n      <td>...</td>\n      <td>1</td>\n      <td>0</td>\n      <td>0</td>\n      <td>1</td>\n      <td>0</td>\n      <td>0</td>\n      <td>0</td>\n      <td>1</td>\n      <td>0</td>\n      <td>399.593</td>\n    </tr>\n    <tr>\n      <th>2</th>\n      <td>Da Lat</td>\n      <td>28 m²</td>\n      <td>1</td>\n      <td>1</td>\n      <td>0</td>\n      <td>0</td>\n      <td>1</td>\n      <td>1</td>\n      <td>1</td>\n      <td>0</td>\n      <td>...</td>\n      <td>1</td>\n      <td>0</td>\n      <td>0</td>\n      <td>1</td>\n      <td>0</td>\n      <td>0</td>\n      <td>0</td>\n      <td>1</td>\n      <td>0</td>\n      <td>599.390</td>\n    </tr>\n    <tr>\n      <th>3</th>\n      <td>Da Lat</td>\n      <td>20 m²</td>\n      <td>1</td>\n      <td>1</td>\n      <td>0</td>\n      <td>0</td>\n      <td>1</td>\n      <td>1</td>\n      <td>1</td>\n      <td>0</td>\n      <td>...</td>\n      <td>1</td>\n      <td>0</td>\n      <td>0</td>\n      <td>1</td>\n      <td>0</td>\n      <td>0</td>\n      <td>0</td>\n      <td>1</td>\n      <td>0</td>\n      <td>1.065.596</td>\n    </tr>\n    <tr>\n      <th>4</th>\n      <td>Da Lat</td>\n      <td>35 m²</td>\n      <td>1</td>\n      <td>1</td>\n      <td>0</td>\n      <td>0</td>\n      <td>1</td>\n      <td>1</td>\n      <td>1</td>\n      <td>0</td>\n      <td>...</td>\n      <td>1</td>\n      <td>0</td>\n      <td>0</td>\n      <td>1</td>\n      <td>0</td>\n      <td>0</td>\n      <td>0</td>\n      <td>1</td>\n      <td>0</td>\n      <td>799.187</td>\n    </tr>\n    <tr>\n      <th>...</th>\n      <td>...</td>\n      <td>...</td>\n      <td>...</td>\n      <td>...</td>\n      <td>...</td>\n      <td>...</td>\n      <td>...</td>\n      <td>...</td>\n      <td>...</td>\n      <td>...</td>\n      <td>...</td>\n      <td>...</td>\n      <td>...</td>\n      <td>...</td>\n      <td>...</td>\n      <td>...</td>\n      <td>...</td>\n      <td>...</td>\n      <td>...</td>\n      <td>...</td>\n      <td>...</td>\n    </tr>\n    <tr>\n      <th>3524</th>\n      <td>Da Lat</td>\n      <td>34 m²</td>\n      <td>1</td>\n      <td>0</td>\n      <td>0</td>\n      <td>1</td>\n      <td>1</td>\n      <td>1</td>\n      <td>1</td>\n      <td>1</td>\n      <td>...</td>\n      <td>0</td>\n      <td>0</td>\n      <td>0</td>\n      <td>0</td>\n      <td>0</td>\n      <td>0</td>\n      <td>0</td>\n      <td>0</td>\n      <td>0</td>\n      <td>522.340</td>\n    </tr>\n    <tr>\n      <th>3525</th>\n      <td>Da Lat</td>\n      <td>36 m²</td>\n      <td>1</td>\n      <td>0</td>\n      <td>0</td>\n      <td>1</td>\n      <td>1</td>\n      <td>1</td>\n      <td>1</td>\n      <td>0</td>\n      <td>...</td>\n      <td>0</td>\n      <td>0</td>\n      <td>0</td>\n      <td>0</td>\n      <td>0</td>\n      <td>0</td>\n      <td>0</td>\n      <td>0</td>\n      <td>0</td>\n      <td>598.682</td>\n    </tr>\n    <tr>\n      <th>3526</th>\n      <td>Da Lat</td>\n      <td>TV màn hình phẳng</td>\n      <td>0</td>\n      <td>0</td>\n      <td>0</td>\n      <td>0</td>\n      <td>0</td>\n      <td>0</td>\n      <td>0</td>\n      <td>0</td>\n      <td>...</td>\n      <td>0</td>\n      <td>0</td>\n      <td>0</td>\n      <td>0</td>\n      <td>0</td>\n      <td>0</td>\n      <td>0</td>\n      <td>0</td>\n      <td>0</td>\n      <td>900.000</td>\n    </tr>\n    <tr>\n      <th>3527</th>\n      <td>Da Lat</td>\n      <td>30 m²</td>\n      <td>1</td>\n      <td>0</td>\n      <td>0</td>\n      <td>0</td>\n      <td>1</td>\n      <td>1</td>\n      <td>0</td>\n      <td>1</td>\n      <td>...</td>\n      <td>1</td>\n      <td>0</td>\n      <td>0</td>\n      <td>1</td>\n      <td>0</td>\n      <td>0</td>\n      <td>1</td>\n      <td>0</td>\n      <td>0</td>\n      <td>212.511</td>\n    </tr>\n    <tr>\n      <th>3528</th>\n      <td>Da Lat</td>\n      <td>55 m²</td>\n      <td>1</td>\n      <td>0</td>\n      <td>0</td>\n      <td>0</td>\n      <td>1</td>\n      <td>1</td>\n      <td>0</td>\n      <td>1</td>\n      <td>...</td>\n      <td>1</td>\n      <td>0</td>\n      <td>0</td>\n      <td>1</td>\n      <td>0</td>\n      <td>0</td>\n      <td>1</td>\n      <td>0</td>\n      <td>0</td>\n      <td>425.023</td>\n    </tr>\n  </tbody>\n</table>\n<p>3529 rows × 113 columns</p>\n</div>"
     },
     "metadata": {},
     "execution_count": 2
    }
   ],
   "source": [
    "df = pd.read_csv('dalat.csv')\n",
    "df"
   ]
  },
  {
   "cell_type": "code",
   "execution_count": 3,
   "metadata": {},
   "outputs": [],
   "source": [
    "df.drop_duplicates(inplace=True, ignore_index=True)"
   ]
  },
  {
   "cell_type": "code",
   "execution_count": 4,
   "metadata": {},
   "outputs": [
    {
     "output_type": "execute_result",
     "data": {
      "text/plain": [
       "0"
      ]
     },
     "metadata": {},
     "execution_count": 4
    }
   ],
   "source": [
    "df.duplicated().sum()"
   ]
  },
  {
   "cell_type": "code",
   "execution_count": 5,
   "metadata": {},
   "outputs": [],
   "source": [
    "df.drop(df[df['Diện tích'].str.find('m²') == -1].index,inplace=True)"
   ]
  },
  {
   "cell_type": "code",
   "execution_count": 6,
   "metadata": {},
   "outputs": [
    {
     "output_type": "execute_result",
     "data": {
      "text/plain": [
       "Empty DataFrame\n",
       "Columns: [City, Diện tích, Đồ vệ sinh cá nhân miễn phí, Vòi sen, Áo choàng tắm, Két an toàn, Nhà vệ sinh, Khăn tắm, Bàn làm việc, Khu vực tiếp khách, TV, Dép, Tủ lạnh, Điện thoại, Hệ thống sưởi, Máy sấy tóc, Sàn trải thảm, Ấm đun nước điện, Truyền hình cáp, Dịch vụ báo thức, Tủ hoặc phòng để quần áo, Giá treo quần áo, Nhìn ra thành phố, Bồn tắm, Điều hòa không khí, Phòng tắm riêng, TV màn hình phẳng, Hệ thống cách âm, Minibar, WiFi miễn phí, Ghế sofa, Máy fax, Phòng thay quần áo, Nhìn ra hồ bơi, Bếp, Máy giặt, Bồn tắm hoặc Vòi sen, Đồng hồ báo thức, Bàn ăn, Bồn tắm spa, Ổ điện gần giường, Toilet phụ, Dịch vụ báo thức, Giấy vệ sinh, Phòng tắm riêng trong phòng, Tiện nghi ủi, Giường cực dài (> 2 mét), Bếp nhỏ, Khu vực phòng ăn, Tầm nhìn ra khung cảnh, Truyền hình vệ tinh, Bàn ủi, Ban công, Nhìn ra sông, Quyền sử dụng Executive Lounge, Sàn lát gỗ, Ra trải giường, Không gây dị ứng, Máy pha trà/cà phê, Khăn tắm/Bộ khăn trải giường (có thu phí), Máy sấy quần áo, Nhìn ra địa danh nổi tiếng, Phòng tắm phụ, Có phòng thông nhau qua cửa nối, Chậu rửa vệ sinh (bidet), Lối vào riêng, Các tầng trên đi lên bằng thang máy, Xe lăn có thể đi đến mọi nơi trong toàn bộ khuôn viên, Nhìn ra vườn, Máy vi tính, Giường sofa, Giá phơi quần áo, Két an toàn cỡ laptop, Giường xếp, Quạt máy, Chăn điện, Sản phẩm lau rửa, Ghế cao dành cho trẻ em, Cửa an toàn cho trẻ nhỏ, Máy pha Cà phê, Sàn lát gạch/đá cẩm thạch, Bàn ủi li quần, Hoàn toàn nằm ở tầng trệt, Các tầng trên chỉ lên được bằng cầu thang, Nắp che ổ cắm điện an toàn, Đồ bếp, Đầu đĩa CD, Máy điều hòa độc lập cho từng phòng, Nước rửa tay, Đầu đĩa DVD, Hồ bơi trên sân thượng, Ổ cắm cho iPod, Hồ bơi có tầm nhìn, Trò chơi board game/giải đố, Sách,  đĩa DVD và nhạc cho trẻ em, Có lắp đặt máy lọc không khí, Thiết bị báo carbon monoxide, Lò vi sóng, Máy nướng bánh mỳ, ...]\n",
       "Index: []\n",
       "\n",
       "[0 rows x 113 columns]"
      ],
      "text/html": "<div>\n<style scoped>\n    .dataframe tbody tr th:only-of-type {\n        vertical-align: middle;\n    }\n\n    .dataframe tbody tr th {\n        vertical-align: top;\n    }\n\n    .dataframe thead th {\n        text-align: right;\n    }\n</style>\n<table border=\"1\" class=\"dataframe\">\n  <thead>\n    <tr style=\"text-align: right;\">\n      <th></th>\n      <th>City</th>\n      <th>Diện tích</th>\n      <th>Đồ vệ sinh cá nhân miễn phí</th>\n      <th>Vòi sen</th>\n      <th>Áo choàng tắm</th>\n      <th>Két an toàn</th>\n      <th>Nhà vệ sinh</th>\n      <th>Khăn tắm</th>\n      <th>Bàn làm việc</th>\n      <th>Khu vực tiếp khách</th>\n      <th>...</th>\n      <th>Đài radio</th>\n      <th>Khu vực ăn uống ngoài trời</th>\n      <th>Phòng xông hơi</th>\n      <th>Toilet chung</th>\n      <th>Bàn ghế ngoài trời</th>\n      <th>Bể sục</th>\n      <th>Hồ bơi riêng</th>\n      <th>Sân trong</th>\n      <th>Hướng nhìn sân trong</th>\n      <th>price</th>\n    </tr>\n  </thead>\n  <tbody>\n  </tbody>\n</table>\n<p>0 rows × 113 columns</p>\n</div>"
     },
     "metadata": {},
     "execution_count": 6
    }
   ],
   "source": [
    "df[df['Diện tích'].str.find('m²') == -1]"
   ]
  },
  {
   "cell_type": "code",
   "execution_count": 7,
   "metadata": {},
   "outputs": [
    {
     "output_type": "execute_result",
     "data": {
      "text/plain": [
       "      Ổ điện gần giường  Không gây dị ứng  Nắp che ổ cắm điện an toàn  \\\n",
       "1                     1                 0                           0   \n",
       "2                     1                 0                           0   \n",
       "3                     1                 0                           0   \n",
       "4                     1                 0                           0   \n",
       "5                     1                 0                           0   \n",
       "...                 ...               ...                         ...   \n",
       "3234                  1                 0                           0   \n",
       "3235                  1                 0                           0   \n",
       "3236                  1                 0                           0   \n",
       "3238                  1                 0                           0   \n",
       "3239                  1                 0                           0   \n",
       "\n",
       "      Ổ cắm cho iPod  Giấy vệ sinh  \n",
       "1                  0             1  \n",
       "2                  0             1  \n",
       "3                  0             1  \n",
       "4                  0             1  \n",
       "5                  0             1  \n",
       "...              ...           ...  \n",
       "3234               0             1  \n",
       "3235               0             1  \n",
       "3236               0             1  \n",
       "3238               0             1  \n",
       "3239               0             1  \n",
       "\n",
       "[2804 rows x 5 columns]"
      ],
      "text/html": "<div>\n<style scoped>\n    .dataframe tbody tr th:only-of-type {\n        vertical-align: middle;\n    }\n\n    .dataframe tbody tr th {\n        vertical-align: top;\n    }\n\n    .dataframe thead th {\n        text-align: right;\n    }\n</style>\n<table border=\"1\" class=\"dataframe\">\n  <thead>\n    <tr style=\"text-align: right;\">\n      <th></th>\n      <th>Ổ điện gần giường</th>\n      <th>Không gây dị ứng</th>\n      <th>Nắp che ổ cắm điện an toàn</th>\n      <th>Ổ cắm cho iPod</th>\n      <th>Giấy vệ sinh</th>\n    </tr>\n  </thead>\n  <tbody>\n    <tr>\n      <th>1</th>\n      <td>1</td>\n      <td>0</td>\n      <td>0</td>\n      <td>0</td>\n      <td>1</td>\n    </tr>\n    <tr>\n      <th>2</th>\n      <td>1</td>\n      <td>0</td>\n      <td>0</td>\n      <td>0</td>\n      <td>1</td>\n    </tr>\n    <tr>\n      <th>3</th>\n      <td>1</td>\n      <td>0</td>\n      <td>0</td>\n      <td>0</td>\n      <td>1</td>\n    </tr>\n    <tr>\n      <th>4</th>\n      <td>1</td>\n      <td>0</td>\n      <td>0</td>\n      <td>0</td>\n      <td>1</td>\n    </tr>\n    <tr>\n      <th>5</th>\n      <td>1</td>\n      <td>0</td>\n      <td>0</td>\n      <td>0</td>\n      <td>1</td>\n    </tr>\n    <tr>\n      <th>...</th>\n      <td>...</td>\n      <td>...</td>\n      <td>...</td>\n      <td>...</td>\n      <td>...</td>\n    </tr>\n    <tr>\n      <th>3234</th>\n      <td>1</td>\n      <td>0</td>\n      <td>0</td>\n      <td>0</td>\n      <td>1</td>\n    </tr>\n    <tr>\n      <th>3235</th>\n      <td>1</td>\n      <td>0</td>\n      <td>0</td>\n      <td>0</td>\n      <td>1</td>\n    </tr>\n    <tr>\n      <th>3236</th>\n      <td>1</td>\n      <td>0</td>\n      <td>0</td>\n      <td>0</td>\n      <td>1</td>\n    </tr>\n    <tr>\n      <th>3238</th>\n      <td>1</td>\n      <td>0</td>\n      <td>0</td>\n      <td>0</td>\n      <td>1</td>\n    </tr>\n    <tr>\n      <th>3239</th>\n      <td>1</td>\n      <td>0</td>\n      <td>0</td>\n      <td>0</td>\n      <td>1</td>\n    </tr>\n  </tbody>\n</table>\n<p>2804 rows × 5 columns</p>\n</div>"
     },
     "metadata": {},
     "execution_count": 7
    }
   ],
   "source": [
    "df.loc[:, ['Ổ điện gần giường', 'Không gây dị ứng', 'Nắp che ổ cắm điện an toàn', 'Ổ cắm cho iPod', 'Giấy vệ sinh']]"
   ]
  },
  {
   "cell_type": "code",
   "execution_count": 8,
   "metadata": {},
   "outputs": [],
   "source": [
    "# Dịch vụ báo thức2\n",
    "drop_cols = ['Ổ điện gần giường', 'Không gây dị ứng', 'Nắp che ổ cắm điện an toàn', 'Ổ cắm cho iPod', 'Giấy vệ sinh', 'Dép', 'Dịch vụ báo thức', 'Đồng hồ báo thức', 'Ra trải giường', 'Lối vào riêng', 'Chăn điện', 'Sản phẩm lau rửa', 'Hoàn toàn nằm ở tầng trệt', 'Đầu đĩa CD', 'Nước rửa tay', 'Đầu đĩa DVD', ' đĩa DVD và nhạc cho trẻ em', 'Thiết bị báo carbon monoxide', 'Đài radio']\n",
    "df.drop(drop_cols, axis=1, inplace=True)"
   ]
  },
  {
   "cell_type": "code",
   "execution_count": 9,
   "metadata": {},
   "outputs": [
    {
     "output_type": "execute_result",
     "data": {
      "text/plain": [
       "94"
      ]
     },
     "metadata": {},
     "execution_count": 9
    }
   ],
   "source": [
    "len(df.iloc[0, :])"
   ]
  },
  {
   "cell_type": "code",
   "execution_count": 10,
   "metadata": {},
   "outputs": [
    {
     "output_type": "execute_result",
     "data": {
      "text/plain": [
       "1       16\n",
       "2       28\n",
       "3       20\n",
       "4       35\n",
       "5       35\n",
       "        ..\n",
       "3234    32\n",
       "3235    34\n",
       "3236    36\n",
       "3238    30\n",
       "3239    55\n",
       "Name: Diện tích, Length: 2804, dtype: int64"
      ]
     },
     "metadata": {},
     "execution_count": 10
    }
   ],
   "source": [
    "df['Diện tích'] = df['Diện tích'].str[:-3]\n",
    "df['Diện tích'] = pd.to_numeric(df['Diện tích'], errors='coerce')\n",
    "df['Diện tích']"
   ]
  },
  {
   "cell_type": "code",
   "execution_count": 11,
   "metadata": {},
   "outputs": [
    {
     "output_type": "execute_result",
     "data": {
      "text/plain": [
       "1        399593\n",
       "2        599390\n",
       "3       1065596\n",
       "4        799187\n",
       "5       1065596\n",
       "         ...   \n",
       "3234     365638\n",
       "3235     522340\n",
       "3236     598682\n",
       "3238     212511\n",
       "3239     425023\n",
       "Name: price, Length: 2804, dtype: int64"
      ]
     },
     "metadata": {},
     "execution_count": 11
    }
   ],
   "source": [
    "df['price'] = df['price'].str.replace('.', '')\n",
    "df['price'] = pd.to_numeric(df['price'],errors='coerce')\n",
    "df['price']"
   ]
  },
  {
   "cell_type": "code",
   "execution_count": 12,
   "metadata": {},
   "outputs": [
    {
     "output_type": "execute_result",
     "data": {
      "text/plain": [
       "2804"
      ]
     },
     "metadata": {},
     "execution_count": 12
    }
   ],
   "source": [
    "len(df.index)"
   ]
  },
  {
   "cell_type": "code",
   "execution_count": 13,
   "metadata": {},
   "outputs": [
    {
     "output_type": "execute_result",
     "data": {
      "text/plain": [
       "1       1\n",
       "2       1\n",
       "3       1\n",
       "4       1\n",
       "5       1\n",
       "       ..\n",
       "3234    1\n",
       "3235    1\n",
       "3236    1\n",
       "3238    1\n",
       "3239    1\n",
       "Name: Truyền hình cáp, Length: 2804, dtype: int64"
      ]
     },
     "metadata": {},
     "execution_count": 13
    }
   ],
   "source": [
    "col1 = 'Truyền hình cáp'\n",
    "col2 = 'Truyền hình vệ tinh'\n",
    "for i in df.index:\n",
    "    if df[col1][i] == 0 and df[col2][i] == 0:\n",
    "        pass\n",
    "    else:\n",
    "        df[col1][i] = 1\n",
    "\n",
    "df.drop(col2, axis=1, inplace=True)\n",
    "df[col1]\n",
    "# df.rename(columns={col1 : ''})"
   ]
  },
  {
   "cell_type": "code",
   "execution_count": 14,
   "metadata": {},
   "outputs": [
    {
     "output_type": "execute_result",
     "data": {
      "text/plain": [
       "1       0\n",
       "2       0\n",
       "3       0\n",
       "4       0\n",
       "5       0\n",
       "       ..\n",
       "3234    1\n",
       "3235    1\n",
       "3236    1\n",
       "3238    1\n",
       "3239    1\n",
       "Name: Máy pha trà/cà phê, Length: 2804, dtype: int64"
      ]
     },
     "metadata": {},
     "execution_count": 14
    }
   ],
   "source": [
    "col1 = 'Máy pha trà/cà phê'\n",
    "col2 = 'Máy pha Cà phê'\n",
    "for i in df.index:\n",
    "    if df[col1][i] == 0 and df[col2][i] == 0:\n",
    "        pass\n",
    "    else:\n",
    "        df[col1][i] = 1\n",
    "\n",
    "df.drop(col2, axis=1, inplace=True)\n",
    "df[col1]\n",
    "# df.rename(columns={col1 : ''})"
   ]
  },
  {
   "cell_type": "code",
   "execution_count": 15,
   "metadata": {},
   "outputs": [
    {
     "output_type": "execute_result",
     "data": {
      "text/plain": [
       "1       1\n",
       "2       1\n",
       "3       1\n",
       "4       1\n",
       "5       1\n",
       "       ..\n",
       "3234    0\n",
       "3235    0\n",
       "3236    0\n",
       "3238    0\n",
       "3239    0\n",
       "Name: Bếp, Length: 2804, dtype: int64"
      ]
     },
     "metadata": {},
     "execution_count": 15
    }
   ],
   "source": [
    "col1 = 'Bếp'\n",
    "col2 = 'Bếp nhỏ'\n",
    "col3 = 'Đồ bếp'\n",
    "col4 = 'Bếp nấu'\n",
    "col5 = 'Lò vi sóng'\n",
    "col6 = 'Máy nướng bánh mỳ'\n",
    "col7 = 'Lò nướng'\n",
    "for i in df.index:\n",
    "    if df[col1][i] == 0 and df[col2][i] == 0 and df[col3][i] == 0 and df[col4][i] == 0 and df[col5][i] == 0 and df[col6][i] == 0 and df[col7][i] == 0:\n",
    "        pass\n",
    "    else:\n",
    "        if df[col5][i] == 1:\n",
    "            if df[col6][i] == 1:\n",
    "                if df[col7][i] == 1:\n",
    "                    df[col1][i] = 3\n",
    "                else:\n",
    "                    df[col1][i] = 2\n",
    "            else:\n",
    "                df[col1][i] = 1\n",
    "        else:\n",
    "            df[col1][i] = 1\n",
    "\n",
    "\n",
    "df.drop([col2, col3, col4, col5, col6, col7], axis=1, inplace=True)\n",
    "df[col1]\n",
    "# df.rename(columns={col1 : ''})"
   ]
  },
  {
   "cell_type": "code",
   "execution_count": 16,
   "metadata": {},
   "outputs": [
    {
     "output_type": "execute_result",
     "data": {
      "text/plain": [
       "1       1\n",
       "2       1\n",
       "3       1\n",
       "4       1\n",
       "5       1\n",
       "       ..\n",
       "3234    2\n",
       "3235    2\n",
       "3236    2\n",
       "3238    2\n",
       "3239    2\n",
       "Name: Vòi sen, Length: 2804, dtype: int64"
      ]
     },
     "metadata": {},
     "execution_count": 16
    }
   ],
   "source": [
    "col1 = 'Vòi sen'\n",
    "col2 = 'Bồn tắm'\n",
    "col3 = 'Bồn tắm hoặc Vòi sen'\n",
    "col4 = 'Bồn tắm spa'\n",
    "col5 = 'Phòng tắm riêng trong phòng'\n",
    "col6 = 'Phòng tắm phụ'\n",
    "\n",
    "for i in df.index:\n",
    "    if df[col1][i] == 0 and df[col2][i] == 0 and df[col3][i] == 0 and df[col4][i] == 0 and df[col5][i] == 0 and df[col6][i] == 0:\n",
    "        df[col1][i] = 1\n",
    "    else:\n",
    "        if df[col2][i] == 1 or df[col3][i] == 1 or df[col5][i] == 1 or df[col6][i] == 1:\n",
    "            df[col1][i] = 2\n",
    "        elif df[col4][i] == 1:\n",
    "            df[col1][i] = 3\n",
    "        else:\n",
    "            df[col1][i] = 1\n",
    "\n",
    "\n",
    "df.drop([col2, col3, col4, col5, col6], axis=1, inplace=True)\n",
    "df[col1]\n",
    "# df.rename(columns={col1 : ''})"
   ]
  },
  {
   "cell_type": "code",
   "execution_count": 17,
   "metadata": {},
   "outputs": [
    {
     "output_type": "execute_result",
     "data": {
      "text/plain": [
       "1       0\n",
       "2       0\n",
       "3       0\n",
       "4       0\n",
       "5       0\n",
       "       ..\n",
       "3234    1\n",
       "3235    1\n",
       "3236    1\n",
       "3238    0\n",
       "3239    0\n",
       "Name: Két an toàn, Length: 2804, dtype: int64"
      ]
     },
     "metadata": {},
     "execution_count": 17
    }
   ],
   "source": [
    "col1 = 'Két an toàn'\n",
    "col2 = 'Két an toàn cỡ laptop'\n",
    "for i in df.index:\n",
    "    if df[col1][i] == 0 and df[col2][i] == 0:\n",
    "        pass\n",
    "    else:\n",
    "        df[col1][i] = 1\n",
    "\n",
    "df.drop(col2, axis=1, inplace=True)\n",
    "df[col1]\n",
    "# df.rename(columns={col1 : ''})"
   ]
  },
  {
   "cell_type": "code",
   "execution_count": 18,
   "metadata": {},
   "outputs": [
    {
     "output_type": "execute_result",
     "data": {
      "text/plain": [
       "1       1\n",
       "2       1\n",
       "3       1\n",
       "4       1\n",
       "5       1\n",
       "       ..\n",
       "3234    1\n",
       "3235    1\n",
       "3236    1\n",
       "3238    1\n",
       "3239    1\n",
       "Name: Nhà vệ sinh, Length: 2804, dtype: int64"
      ]
     },
     "metadata": {},
     "execution_count": 18
    }
   ],
   "source": [
    "col1 = 'Nhà vệ sinh'\n",
    "col2 = 'Toilet phụ'\n",
    "col3 = 'Toilet chung'\n",
    "\n",
    "for i in df.index:\n",
    "    if df[col1][i] == 0 and df[col2][i] == 0 and df[col3][i] == 0:\n",
    "        pass\n",
    "    else:\n",
    "        df[col1][i] = 1\n",
    "\n",
    "df.drop([col2, col3], axis=1, inplace=True)\n",
    "df[col1]\n",
    "# df.rename(columns={col1 : ''})"
   ]
  },
  {
   "cell_type": "code",
   "execution_count": 19,
   "metadata": {},
   "outputs": [
    {
     "output_type": "execute_result",
     "data": {
      "text/plain": [
       "1       1\n",
       "2       1\n",
       "3       1\n",
       "4       1\n",
       "5       1\n",
       "       ..\n",
       "3234    1\n",
       "3235    1\n",
       "3236    1\n",
       "3238    1\n",
       "3239    1\n",
       "Name: TV, Length: 2804, dtype: int64"
      ]
     },
     "metadata": {},
     "execution_count": 19
    }
   ],
   "source": [
    "col1 = 'TV'\n",
    "col2 = 'TV màn hình phẳng'\n",
    "for i in df.index:\n",
    "    if df[col1][i] == 0 and df[col2][i] == 0:\n",
    "        pass\n",
    "    else:\n",
    "        df[col1][i] = 1\n",
    "\n",
    "df.drop(col2, axis=1, inplace=True)\n",
    "df[col1]\n",
    "# df.rename(columns={col1 : ''})"
   ]
  },
  {
   "cell_type": "code",
   "execution_count": 20,
   "metadata": {},
   "outputs": [
    {
     "output_type": "execute_result",
     "data": {
      "text/plain": [
       "1       2\n",
       "2       2\n",
       "3       2\n",
       "4       2\n",
       "5       2\n",
       "       ..\n",
       "3234    1\n",
       "3235    1\n",
       "3236    1\n",
       "3238    1\n",
       "3239    1\n",
       "Name: Quạt máy, Length: 2804, dtype: int64"
      ]
     },
     "metadata": {},
     "execution_count": 20
    }
   ],
   "source": [
    "col1 = 'Quạt máy'\n",
    "col2 = 'Điều hòa không khí'\n",
    "col3 = 'Hệ thống sưởi'\n",
    "col4 = 'Máy điều hòa độc lập cho từng phòng'\n",
    "col5 = 'Có lắp đặt máy lọc không khí'\n",
    "col6 = 'Lò sưởi'\n",
    "\n",
    "for i in df.index:\n",
    "    if df[col1][i] == 0 and df[col2][i] == 0 and df[col3][i] == 0 and df[col4][i] == 0 and df[col5][i] == 0 and df[col6][i] == 0:\n",
    "        pass\n",
    "    else:\n",
    "        if df[col2][i] == 1 or df[col4][i] == 1:\n",
    "            df[col1][i] = 2\n",
    "        if df[col3][i] == 1 or df[col6][i] == 1:\n",
    "            df[col1][i] = 3\n",
    "        if df[col5][i] == 1:\n",
    "            df[col1][i] = 4\n",
    "\n",
    "\n",
    "df.drop([col2, col3, col4, col5, col6], axis=1, inplace=True)\n",
    "df[col1]\n",
    "# df.rename(columns={col1 : ''})"
   ]
  },
  {
   "cell_type": "code",
   "execution_count": 21,
   "metadata": {},
   "outputs": [
    {
     "output_type": "execute_result",
     "data": {
      "text/plain": [
       "1       2\n",
       "2       2\n",
       "3       2\n",
       "4       2\n",
       "5       2\n",
       "       ..\n",
       "3234    3\n",
       "3235    3\n",
       "3236    3\n",
       "3238    0\n",
       "3239    0\n",
       "Name: Sàn trải thảm, Length: 2804, dtype: int64"
      ]
     },
     "metadata": {},
     "execution_count": 21
    }
   ],
   "source": [
    "col1 = 'Sàn trải thảm'\n",
    "col2 = 'Sàn lát gạch/đá cẩm thạch'\n",
    "col3 = 'Sàn lát gỗ'\n",
    "\n",
    "for i in df.index:\n",
    "    if df[col1][i] == 0 and df[col2][i] == 0 and df[col3][i] == 0:\n",
    "        pass\n",
    "    else:\n",
    "        if df[col2][i] == 1:\n",
    "            df[col1][i] = 2\n",
    "        if df[col3][i] == 1:\n",
    "            df[col1][i] = 3\n",
    "\n",
    "df.drop([col2, col3], axis=1, inplace=True)\n",
    "df[col1]\n",
    "# df.rename(columns={col1 : ''})"
   ]
  },
  {
   "cell_type": "code",
   "execution_count": 22,
   "metadata": {},
   "outputs": [
    {
     "output_type": "execute_result",
     "data": {
      "text/plain": [
       "1       1\n",
       "2       1\n",
       "3       1\n",
       "4       1\n",
       "5       1\n",
       "       ..\n",
       "3234    1\n",
       "3235    1\n",
       "3236    1\n",
       "3238    1\n",
       "3239    1\n",
       "Name: Tủ hoặc phòng để quần áo, Length: 2804, dtype: int64"
      ]
     },
     "metadata": {},
     "execution_count": 22
    }
   ],
   "source": [
    "col1 = 'Tủ hoặc phòng để quần áo'\n",
    "col2 = 'Giá treo quần áo'\n",
    "col3 = 'Phòng thay quần áo'\n",
    "col4 = 'Giá phơi quần áo'\n",
    "\n",
    "for i in df.index:\n",
    "    if df[col1][i] == 0 and df[col2][i] == 0 and df[col3][i] == 0 and df[col4][i] == 0:\n",
    "        pass\n",
    "    else:\n",
    "        df[col1][i] = 1\n",
    "\n",
    "df.drop([col2, col3, col4], axis=1, inplace=True)\n",
    "df[col1]\n",
    "# df.rename(columns={col1 : ''})"
   ]
  },
  {
   "cell_type": "code",
   "execution_count": 23,
   "metadata": {},
   "outputs": [
    {
     "output_type": "execute_result",
     "data": {
      "text/plain": [
       "1       2\n",
       "2       2\n",
       "3       2\n",
       "4       2\n",
       "5       2\n",
       "       ..\n",
       "3234    0\n",
       "3235    2\n",
       "3236    2\n",
       "3238    0\n",
       "3239    0\n",
       "Name: Nhìn ra thành phố, Length: 2804, dtype: int64"
      ]
     },
     "metadata": {},
     "execution_count": 23
    }
   ],
   "source": [
    "col1 = 'Nhìn ra thành phố'\n",
    "col2 = 'Nhìn ra hồ bơi'\n",
    "col3 = 'Tầm nhìn ra khung cảnh'\n",
    "col4 = 'Nhìn ra sông'\n",
    "col5 = 'Nhìn ra địa danh nổi tiếng'\n",
    "col6 = 'Nhìn ra vườn'\n",
    "col7 = 'Hướng nhìn sân trong'\n",
    "\n",
    "for i in df.index:\n",
    "    if df[col1][i] == 0 and df[col2][i] == 0 and df[col3][i] == 0 and df[col4][i] == 0 and df[col5][i] == 0 and df[col6][i] == 0 and df[col7][i] == 0:\n",
    "        pass\n",
    "    else:\n",
    "        if df[col2][i] == 1:\n",
    "            df[col1][i] = 1\n",
    "        if df[col1][i] == 1 or df[col3][i] == 1 or df[col7][i] == 1:\n",
    "            df[col1][i] = 2\n",
    "        if df[col6][i] == 1:\n",
    "            df[col1][i] = 3\n",
    "        if df[col4][i] == 1 or df[col5][i] == 1:\n",
    "            df[col1][i] = 4\n",
    "\n",
    "df.drop([col2, col3, col4, col5, col6, col7], axis=1, inplace=True)\n",
    "df[col1]\n",
    "# df.rename(columns={col1 : ''})"
   ]
  },
  {
   "cell_type": "code",
   "execution_count": 24,
   "metadata": {},
   "outputs": [
    {
     "output_type": "execute_result",
     "data": {
      "text/plain": [
       "1       1\n",
       "2       1\n",
       "3       1\n",
       "4       1\n",
       "5       1\n",
       "       ..\n",
       "3234    0\n",
       "3235    0\n",
       "3236    0\n",
       "3238    1\n",
       "3239    1\n",
       "Name: Bàn ăn, Length: 2804, dtype: int64"
      ]
     },
     "metadata": {},
     "execution_count": 24
    }
   ],
   "source": [
    "col1 = 'Bàn ăn'\n",
    "col2 = 'Khu vực phòng ăn'\n",
    "for i in df.index:\n",
    "    if df[col1][i] == 0 and df[col2][i] == 0:\n",
    "        pass\n",
    "    else:\n",
    "        df[col1][i] = 1\n",
    "\n",
    "df.drop(col2, axis=1, inplace=True)\n",
    "df[col1]\n",
    "# df.rename(columns={col1 : ''})"
   ]
  },
  {
   "cell_type": "code",
   "execution_count": 25,
   "metadata": {},
   "outputs": [
    {
     "output_type": "execute_result",
     "data": {
      "text/plain": [
       "1       1\n",
       "2       1\n",
       "3       1\n",
       "4       1\n",
       "5       1\n",
       "       ..\n",
       "3234    1\n",
       "3235    1\n",
       "3236    1\n",
       "3238    1\n",
       "3239    1\n",
       "Name: Tiện nghi ủi, Length: 2804, dtype: int64"
      ]
     },
     "metadata": {},
     "execution_count": 25
    }
   ],
   "source": [
    "col1 = 'Tiện nghi ủi'\n",
    "col2 = 'Bàn ủi'\n",
    "col3 = 'Bàn ủi li quần'\n",
    "\n",
    "for i in df.index:\n",
    "    if df[col1][i] == 0 and df[col2][i] == 0 and df[col3][i] == 0:\n",
    "        pass\n",
    "    else:\n",
    "        df[col1][i] = 1\n",
    "\n",
    "df.drop([col2, col3], axis=1, inplace=True)\n",
    "df[col1]\n",
    "# df.rename(columns={col1 : ''})"
   ]
  },
  {
   "cell_type": "code",
   "execution_count": 26,
   "metadata": {},
   "outputs": [
    {
     "output_type": "execute_result",
     "data": {
      "text/plain": [
       "1       1\n",
       "2       1\n",
       "3       1\n",
       "4       1\n",
       "5       1\n",
       "       ..\n",
       "3234    1\n",
       "3235    1\n",
       "3236    1\n",
       "3238    1\n",
       "3239    1\n",
       "Name: Giường cực dài (> 2 mét), Length: 2804, dtype: int64"
      ]
     },
     "metadata": {},
     "execution_count": 26
    }
   ],
   "source": [
    "col1 = 'Giường cực dài (> 2 mét)'\n",
    "col2 = 'Giường sofa'\n",
    "col3 = 'Giường xếp'\n",
    "\n",
    "for i in df.index:\n",
    "    if df[col1][i] == 0 and df[col2][i] == 0 and df[col3][i] == 0:\n",
    "        df[col1][i] = 1\n",
    "    else:\n",
    "        if df[col3][i] == 1:\n",
    "            df[col1][i] = 1\n",
    "        if df[col1][i] == 1 or df[col2][i] == 1:\n",
    "            df[col1][i] = 2\n",
    "\n",
    "df.drop([col2, col3], axis=1, inplace=True)\n",
    "df[col1]\n",
    "# df.rename(columns={col1 : ''})"
   ]
  },
  {
   "cell_type": "code",
   "execution_count": 27,
   "metadata": {},
   "outputs": [
    {
     "output_type": "execute_result",
     "data": {
      "text/plain": [
       "1       0\n",
       "2       0\n",
       "3       0\n",
       "4       0\n",
       "5       0\n",
       "       ..\n",
       "3234    0\n",
       "3235    0\n",
       "3236    0\n",
       "3238    0\n",
       "3239    0\n",
       "Name: Ghế cao dành cho trẻ em, Length: 2804, dtype: int64"
      ]
     },
     "metadata": {},
     "execution_count": 27
    }
   ],
   "source": [
    "col1 = 'Ghế cao dành cho trẻ em'\n",
    "col2 = 'Cửa an toàn cho trẻ nhỏ'\n",
    "for i in df.index:\n",
    "    if df[col1][i] == 0 and df[col2][i] == 0:\n",
    "        pass\n",
    "    else:\n",
    "        df[col1][i] = 1\n",
    "\n",
    "df.drop(col2, axis=1, inplace=True)\n",
    "df[col1]\n",
    "# df.rename(columns={col1 : ''})"
   ]
  },
  {
   "cell_type": "code",
   "execution_count": 28,
   "metadata": {},
   "outputs": [
    {
     "output_type": "execute_result",
     "data": {
      "text/plain": [
       "1       0\n",
       "2       0\n",
       "3       0\n",
       "4       0\n",
       "5       0\n",
       "       ..\n",
       "3234    0\n",
       "3235    0\n",
       "3236    0\n",
       "3238    2\n",
       "3239    2\n",
       "Name: Hồ bơi trên sân thượng, Length: 2804, dtype: int64"
      ]
     },
     "metadata": {},
     "execution_count": 28
    }
   ],
   "source": [
    "col1 = 'Hồ bơi trên sân thượng'\n",
    "col2 = 'Hồ bơi có tầm nhìn'\n",
    "col3 = 'Hồ bơi riêng'\n",
    "\n",
    "for i in df.index:\n",
    "    if df[col1][i] == 0 and df[col2][i] == 0 and df[col3][i] == 0:\n",
    "        pass\n",
    "    else:\n",
    "        if df[col3][i] == 1:\n",
    "            df[col1][i] = 1\n",
    "        if df[col1][i] == 1 or df[col2][i] == 1:\n",
    "            df[col1][i] = 2\n",
    "\n",
    "df.drop([col2, col3], axis=1, inplace=True)\n",
    "df[col1]\n",
    "# df.rename(columns={col1 : ''})"
   ]
  },
  {
   "cell_type": "code",
   "execution_count": 29,
   "metadata": {},
   "outputs": [
    {
     "output_type": "execute_result",
     "data": {
      "text/plain": [
       "1       0\n",
       "2       0\n",
       "3       0\n",
       "4       0\n",
       "5       0\n",
       "       ..\n",
       "3234    0\n",
       "3235    0\n",
       "3236    0\n",
       "3238    0\n",
       "3239    0\n",
       "Name: Trò chơi board game/giải đố, Length: 2804, dtype: int64"
      ]
     },
     "metadata": {},
     "execution_count": 29
    }
   ],
   "source": [
    "col1 = 'Trò chơi board game/giải đố'\n",
    "col2 = 'Sách'\n",
    "for i in df.index:\n",
    "    if df[col1][i] == 0 and df[col2][i] == 0:\n",
    "        pass\n",
    "    else:\n",
    "        df[col1][i] = 1\n",
    "\n",
    "df.drop(col2, axis=1, inplace=True)\n",
    "df[col1]\n",
    "# df.rename(columns={col1 : ''})"
   ]
  },
  {
   "cell_type": "code",
   "execution_count": 30,
   "metadata": {},
   "outputs": [
    {
     "output_type": "execute_result",
     "data": {
      "text/plain": [
       "1       0\n",
       "2       0\n",
       "3       0\n",
       "4       0\n",
       "5       0\n",
       "       ..\n",
       "3234    0\n",
       "3235    0\n",
       "3236    0\n",
       "3238    0\n",
       "3239    0\n",
       "Name: Khu vực ăn uống ngoài trời, Length: 2804, dtype: int64"
      ]
     },
     "metadata": {},
     "execution_count": 30
    }
   ],
   "source": [
    "col1 = 'Khu vực ăn uống ngoài trời'\n",
    "col2 = 'Bàn ghế ngoài trời'\n",
    "for i in df.index:\n",
    "    if df[col1][i] == 0 and df[col2][i] == 0:\n",
    "        pass\n",
    "    else:\n",
    "        df[col1][i] = 1\n",
    "\n",
    "df.drop(col2, axis=1, inplace=True)\n",
    "df[col1]\n",
    "# df.rename(columns={col1 : ''})"
   ]
  },
  {
   "cell_type": "code",
   "execution_count": 31,
   "metadata": {},
   "outputs": [
    {
     "output_type": "stream",
     "name": "stdout",
     "text": [
      "96.96861626248217\n"
     ]
    }
   ],
   "source": [
    "check_col = col1\n",
    "count = 0\n",
    "for i in df.index:\n",
    "    if df[check_col][i] == 0:\n",
    "        count += 1\n",
    "print(count/len(df.index)*100)"
   ]
  },
  {
   "cell_type": "code",
   "execution_count": 32,
   "metadata": {},
   "outputs": [
    {
     "output_type": "execute_result",
     "data": {
      "text/plain": [
       "        City  Diện tích  Đồ vệ sinh cá nhân miễn phí  Vòi sen  \\\n",
       "1     Da Lat         16                            1         1   \n",
       "2     Da Lat         28                            1         1   \n",
       "3     Da Lat         20                            1         1   \n",
       "4     Da Lat         35                            1         1   \n",
       "5     Da Lat         35                            1         1   \n",
       "...      ...        ...                          ...       ...   \n",
       "3234  Da Lat         32                            1         2   \n",
       "3235  Da Lat         34                            1         2   \n",
       "3236  Da Lat         36                            1         2   \n",
       "3238  Da Lat         30                            1         2   \n",
       "3239  Da Lat         55                            1         2   \n",
       "\n",
       "      Áo choàng tắm  Két an toàn  Nhà vệ sinh  Khăn tắm  Bàn làm việc  \\\n",
       "1                    0              0            1         1                1   \n",
       "2                    0              0            1         1                1   \n",
       "3                    0              0            1         1                1   \n",
       "4                    0              0            1         1                1   \n",
       "5                    0              0            1         1                1   \n",
       "...                ...            ...          ...       ...              ...   \n",
       "3234                 0              1            1         1                1   \n",
       "3235                 0              1            1         1                1   \n",
       "3236                 0              1            1         1                1   \n",
       "3238                 0              0            1         1                0   \n",
       "3239                 0              0            1         1                0   \n",
       "\n",
       "      Khu vực tiếp khách  ...  Quạt máy  Ghế cao dành cho trẻ em  \\\n",
       "1                         0  ...           2                        0   \n",
       "2                         0  ...           2                        0   \n",
       "3                         0  ...           2                        0   \n",
       "4                         0  ...           2                        0   \n",
       "5                         0  ...           2                        0   \n",
       "...                     ...  ...         ...                      ...   \n",
       "3234                      0  ...           1                        0   \n",
       "3235                      1  ...           1                        0   \n",
       "3236                      0  ...           1                        0   \n",
       "3238                      1  ...           1                        0   \n",
       "3239                      1  ...           1                        0   \n",
       "\n",
       "      Các tầng trên chỉ lên được bằng cầu thang  Hồ bơi trên sân thượng  \\\n",
       "1                                             0                       0   \n",
       "2                                             0                       0   \n",
       "3                                             0                       0   \n",
       "4                                             0                       0   \n",
       "5                                             0                       0   \n",
       "...                                         ...                     ...   \n",
       "3234                                          0                       0   \n",
       "3235                                          0                       0   \n",
       "3236                                          0                       0   \n",
       "3238                                          0                       2   \n",
       "3239                                          0                       2   \n",
       "\n",
       "      Trò chơi board game/giải đố  Khu vực ăn uống ngoài trời  Phòng xông hơi  \\\n",
       "1                               0                           0               0   \n",
       "2                               0                           0               0   \n",
       "3                               0                           0               0   \n",
       "4                               0                           0               0   \n",
       "5                               0                           0               0   \n",
       "...                           ...                         ...             ...   \n",
       "3234                            0                           0               0   \n",
       "3235                            0                           0               0   \n",
       "3236                            0                           0               0   \n",
       "3238                            0                           0               0   \n",
       "3239                            0                           0               0   \n",
       "\n",
       "      Bể sục  Sân trong    price  \n",
       "1            0          1   399593  \n",
       "2            0          1   599390  \n",
       "3            0          1  1065596  \n",
       "4            0          1   799187  \n",
       "5            0          1  1065596  \n",
       "...        ...        ...      ...  \n",
       "3234         0          0   365638  \n",
       "3235         0          0   522340  \n",
       "3236         0          0   598682  \n",
       "3238         0          0   212511  \n",
       "3239         0          0   425023  \n",
       "\n",
       "[2804 rows x 51 columns]"
      ],
      "text/html": "<div>\n<style scoped>\n    .dataframe tbody tr th:only-of-type {\n        vertical-align: middle;\n    }\n\n    .dataframe tbody tr th {\n        vertical-align: top;\n    }\n\n    .dataframe thead th {\n        text-align: right;\n    }\n</style>\n<table border=\"1\" class=\"dataframe\">\n  <thead>\n    <tr style=\"text-align: right;\">\n      <th></th>\n      <th>City</th>\n      <th>Diện tích</th>\n      <th>Đồ vệ sinh cá nhân miễn phí</th>\n      <th>Vòi sen</th>\n      <th>Áo choàng tắm</th>\n      <th>Két an toàn</th>\n      <th>Nhà vệ sinh</th>\n      <th>Khăn tắm</th>\n      <th>Bàn làm việc</th>\n      <th>Khu vực tiếp khách</th>\n      <th>...</th>\n      <th>Quạt máy</th>\n      <th>Ghế cao dành cho trẻ em</th>\n      <th>Các tầng trên chỉ lên được bằng cầu thang</th>\n      <th>Hồ bơi trên sân thượng</th>\n      <th>Trò chơi board game/giải đố</th>\n      <th>Khu vực ăn uống ngoài trời</th>\n      <th>Phòng xông hơi</th>\n      <th>Bể sục</th>\n      <th>Sân trong</th>\n      <th>price</th>\n    </tr>\n  </thead>\n  <tbody>\n    <tr>\n      <th>1</th>\n      <td>Da Lat</td>\n      <td>16</td>\n      <td>1</td>\n      <td>1</td>\n      <td>0</td>\n      <td>0</td>\n      <td>1</td>\n      <td>1</td>\n      <td>1</td>\n      <td>0</td>\n      <td>...</td>\n      <td>2</td>\n      <td>0</td>\n      <td>0</td>\n      <td>0</td>\n      <td>0</td>\n      <td>0</td>\n      <td>0</td>\n      <td>0</td>\n      <td>1</td>\n      <td>399593</td>\n    </tr>\n    <tr>\n      <th>2</th>\n      <td>Da Lat</td>\n      <td>28</td>\n      <td>1</td>\n      <td>1</td>\n      <td>0</td>\n      <td>0</td>\n      <td>1</td>\n      <td>1</td>\n      <td>1</td>\n      <td>0</td>\n      <td>...</td>\n      <td>2</td>\n      <td>0</td>\n      <td>0</td>\n      <td>0</td>\n      <td>0</td>\n      <td>0</td>\n      <td>0</td>\n      <td>0</td>\n      <td>1</td>\n      <td>599390</td>\n    </tr>\n    <tr>\n      <th>3</th>\n      <td>Da Lat</td>\n      <td>20</td>\n      <td>1</td>\n      <td>1</td>\n      <td>0</td>\n      <td>0</td>\n      <td>1</td>\n      <td>1</td>\n      <td>1</td>\n      <td>0</td>\n      <td>...</td>\n      <td>2</td>\n      <td>0</td>\n      <td>0</td>\n      <td>0</td>\n      <td>0</td>\n      <td>0</td>\n      <td>0</td>\n      <td>0</td>\n      <td>1</td>\n      <td>1065596</td>\n    </tr>\n    <tr>\n      <th>4</th>\n      <td>Da Lat</td>\n      <td>35</td>\n      <td>1</td>\n      <td>1</td>\n      <td>0</td>\n      <td>0</td>\n      <td>1</td>\n      <td>1</td>\n      <td>1</td>\n      <td>0</td>\n      <td>...</td>\n      <td>2</td>\n      <td>0</td>\n      <td>0</td>\n      <td>0</td>\n      <td>0</td>\n      <td>0</td>\n      <td>0</td>\n      <td>0</td>\n      <td>1</td>\n      <td>799187</td>\n    </tr>\n    <tr>\n      <th>5</th>\n      <td>Da Lat</td>\n      <td>35</td>\n      <td>1</td>\n      <td>1</td>\n      <td>0</td>\n      <td>0</td>\n      <td>1</td>\n      <td>1</td>\n      <td>1</td>\n      <td>0</td>\n      <td>...</td>\n      <td>2</td>\n      <td>0</td>\n      <td>0</td>\n      <td>0</td>\n      <td>0</td>\n      <td>0</td>\n      <td>0</td>\n      <td>0</td>\n      <td>1</td>\n      <td>1065596</td>\n    </tr>\n    <tr>\n      <th>...</th>\n      <td>...</td>\n      <td>...</td>\n      <td>...</td>\n      <td>...</td>\n      <td>...</td>\n      <td>...</td>\n      <td>...</td>\n      <td>...</td>\n      <td>...</td>\n      <td>...</td>\n      <td>...</td>\n      <td>...</td>\n      <td>...</td>\n      <td>...</td>\n      <td>...</td>\n      <td>...</td>\n      <td>...</td>\n      <td>...</td>\n      <td>...</td>\n      <td>...</td>\n      <td>...</td>\n    </tr>\n    <tr>\n      <th>3234</th>\n      <td>Da Lat</td>\n      <td>32</td>\n      <td>1</td>\n      <td>2</td>\n      <td>0</td>\n      <td>1</td>\n      <td>1</td>\n      <td>1</td>\n      <td>1</td>\n      <td>0</td>\n      <td>...</td>\n      <td>1</td>\n      <td>0</td>\n      <td>0</td>\n      <td>0</td>\n      <td>0</td>\n      <td>0</td>\n      <td>0</td>\n      <td>0</td>\n      <td>0</td>\n      <td>365638</td>\n    </tr>\n    <tr>\n      <th>3235</th>\n      <td>Da Lat</td>\n      <td>34</td>\n      <td>1</td>\n      <td>2</td>\n      <td>0</td>\n      <td>1</td>\n      <td>1</td>\n      <td>1</td>\n      <td>1</td>\n      <td>1</td>\n      <td>...</td>\n      <td>1</td>\n      <td>0</td>\n      <td>0</td>\n      <td>0</td>\n      <td>0</td>\n      <td>0</td>\n      <td>0</td>\n      <td>0</td>\n      <td>0</td>\n      <td>522340</td>\n    </tr>\n    <tr>\n      <th>3236</th>\n      <td>Da Lat</td>\n      <td>36</td>\n      <td>1</td>\n      <td>2</td>\n      <td>0</td>\n      <td>1</td>\n      <td>1</td>\n      <td>1</td>\n      <td>1</td>\n      <td>0</td>\n      <td>...</td>\n      <td>1</td>\n      <td>0</td>\n      <td>0</td>\n      <td>0</td>\n      <td>0</td>\n      <td>0</td>\n      <td>0</td>\n      <td>0</td>\n      <td>0</td>\n      <td>598682</td>\n    </tr>\n    <tr>\n      <th>3238</th>\n      <td>Da Lat</td>\n      <td>30</td>\n      <td>1</td>\n      <td>2</td>\n      <td>0</td>\n      <td>0</td>\n      <td>1</td>\n      <td>1</td>\n      <td>0</td>\n      <td>1</td>\n      <td>...</td>\n      <td>1</td>\n      <td>0</td>\n      <td>0</td>\n      <td>2</td>\n      <td>0</td>\n      <td>0</td>\n      <td>0</td>\n      <td>0</td>\n      <td>0</td>\n      <td>212511</td>\n    </tr>\n    <tr>\n      <th>3239</th>\n      <td>Da Lat</td>\n      <td>55</td>\n      <td>1</td>\n      <td>2</td>\n      <td>0</td>\n      <td>0</td>\n      <td>1</td>\n      <td>1</td>\n      <td>0</td>\n      <td>1</td>\n      <td>...</td>\n      <td>1</td>\n      <td>0</td>\n      <td>0</td>\n      <td>2</td>\n      <td>0</td>\n      <td>0</td>\n      <td>0</td>\n      <td>0</td>\n      <td>0</td>\n      <td>425023</td>\n    </tr>\n  </tbody>\n</table>\n<p>2804 rows × 51 columns</p>\n</div>"
     },
     "metadata": {},
     "execution_count": 32
    }
   ],
   "source": [
    "df"
   ]
  },
  {
   "cell_type": "code",
   "execution_count": 33,
   "metadata": {},
   "outputs": [],
   "source": [
    "df.to_csv('dalat_new.csv', index=False)"
   ]
  }
 ]
}