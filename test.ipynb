{
 "metadata": {
  "language_info": {
   "codemirror_mode": {
    "name": "ipython",
    "version": 3
   },
   "file_extension": ".py",
   "mimetype": "text/x-python",
   "name": "python",
   "nbconvert_exporter": "python",
   "pygments_lexer": "ipython3",
   "version": "3.8.3-final"
  },
  "orig_nbformat": 2,
  "kernelspec": {
   "name": "python3",
   "display_name": "Python 3",
   "language": "python"
  }
 },
 "nbformat": 4,
 "nbformat_minor": 2,
 "cells": [
  {
   "cell_type": "code",
   "execution_count": 1,
   "metadata": {},
   "outputs": [],
   "source": [
    "import pandas as pd\n",
    "import numpy as np"
   ]
  },
  {
   "cell_type": "code",
   "execution_count": 7,
   "metadata": {},
   "outputs": [
    {
     "output_type": "execute_result",
     "data": {
      "text/plain": [
       "        City Đồ vệ sinh cá nhân miễn phí  Vòi sen  Áo choàng tắm  \\\n",
       "0     Da Lat                           0         0                 0   \n",
       "1     Da Lat                       16 m²         1                 1   \n",
       "2     Da Lat                       28 m²         1                 1   \n",
       "3     Da Lat                       20 m²         1                 1   \n",
       "4     Da Lat                       35 m²         1                 1   \n",
       "...      ...                         ...       ...               ...   \n",
       "3524  Da Lat                       34 m²         1                 0   \n",
       "3525  Da Lat                       36 m²         1                 0   \n",
       "3526  Da Lat           TV màn hình phẳng         0                 0   \n",
       "3527  Da Lat                       30 m²         1                 0   \n",
       "3528  Da Lat                       55 m²         1                 0   \n",
       "\n",
       "      Két an toàn  Nhà vệ sinh  Khăn tắm  Bàn làm việc  \\\n",
       "0                 0            0         0                0   \n",
       "1                 0            0         1                1   \n",
       "2                 0            0         1                1   \n",
       "3                 0            0         1                1   \n",
       "4                 0            0         1                1   \n",
       "...             ...          ...       ...              ...   \n",
       "3524              0            1         1                1   \n",
       "3525              0            1         1                1   \n",
       "3526              0            0         0                0   \n",
       "3527              0            0         1                1   \n",
       "3528              0            0         1                1   \n",
       "\n",
       "      Khu vực tiếp khách  TV  ...  Khu vực ăn uống ngoài trời  \\\n",
       "0                         0   0  ...                           0   \n",
       "1                         1   0  ...                           1   \n",
       "2                         1   0  ...                           1   \n",
       "3                         1   0  ...                           1   \n",
       "4                         1   0  ...                           1   \n",
       "...                     ...  ..  ...                         ...   \n",
       "3524                      1   1  ...                           0   \n",
       "3525                      1   0  ...                           0   \n",
       "3526                      0   0  ...                           0   \n",
       "3527                      0   1  ...                           1   \n",
       "3528                      0   1  ...                           1   \n",
       "\n",
       "      Phòng xông hơi  Toilet chung  Bàn ghế ngoài trời  Bể sục  \\\n",
       "0                  0             0                   0         0   \n",
       "1                  0             0                   1         0   \n",
       "2                  0             0                   1         0   \n",
       "3                  0             0                   1         0   \n",
       "4                  0             0                   1         0   \n",
       "...              ...           ...                 ...       ...   \n",
       "3524               0             0                   0         0   \n",
       "3525               0             0                   0         0   \n",
       "3526               0             0                   0         0   \n",
       "3527               0             0                   1         0   \n",
       "3528               0             0                   1         0   \n",
       "\n",
       "      Hồ bơi riêng  Sân trong  Hướng nhìn sân trong  Sân hiên      price  \n",
       "0                0          0                     0         0    399.593  \n",
       "1                0          0                     1         0    399.593  \n",
       "2                0          0                     1         0    599.390  \n",
       "3                0          0                     1         0  1.065.596  \n",
       "4                0          0                     1         0    799.187  \n",
       "...            ...        ...                   ...       ...        ...  \n",
       "3524             0          0                     0         0    522.340  \n",
       "3525             0          0                     0         0    598.682  \n",
       "3526             0          0                     0         0    900.000  \n",
       "3527             0          1                     0         0    212.511  \n",
       "3528             0          1                     0         0    425.023  \n",
       "\n",
       "[3529 rows x 113 columns]"
      ],
      "text/html": "<div>\n<style scoped>\n    .dataframe tbody tr th:only-of-type {\n        vertical-align: middle;\n    }\n\n    .dataframe tbody tr th {\n        vertical-align: top;\n    }\n\n    .dataframe thead th {\n        text-align: right;\n    }\n</style>\n<table border=\"1\" class=\"dataframe\">\n  <thead>\n    <tr style=\"text-align: right;\">\n      <th></th>\n      <th>City</th>\n      <th>Đồ vệ sinh cá nhân miễn phí</th>\n      <th>Vòi sen</th>\n      <th>Áo choàng tắm</th>\n      <th>Két an toàn</th>\n      <th>Nhà vệ sinh</th>\n      <th>Khăn tắm</th>\n      <th>Bàn làm việc</th>\n      <th>Khu vực tiếp khách</th>\n      <th>TV</th>\n      <th>...</th>\n      <th>Khu vực ăn uống ngoài trời</th>\n      <th>Phòng xông hơi</th>\n      <th>Toilet chung</th>\n      <th>Bàn ghế ngoài trời</th>\n      <th>Bể sục</th>\n      <th>Hồ bơi riêng</th>\n      <th>Sân trong</th>\n      <th>Hướng nhìn sân trong</th>\n      <th>Sân hiên</th>\n      <th>price</th>\n    </tr>\n  </thead>\n  <tbody>\n    <tr>\n      <th>0</th>\n      <td>Da Lat</td>\n      <td>0</td>\n      <td>0</td>\n      <td>0</td>\n      <td>0</td>\n      <td>0</td>\n      <td>0</td>\n      <td>0</td>\n      <td>0</td>\n      <td>0</td>\n      <td>...</td>\n      <td>0</td>\n      <td>0</td>\n      <td>0</td>\n      <td>0</td>\n      <td>0</td>\n      <td>0</td>\n      <td>0</td>\n      <td>0</td>\n      <td>0</td>\n      <td>399.593</td>\n    </tr>\n    <tr>\n      <th>1</th>\n      <td>Da Lat</td>\n      <td>16 m²</td>\n      <td>1</td>\n      <td>1</td>\n      <td>0</td>\n      <td>0</td>\n      <td>1</td>\n      <td>1</td>\n      <td>1</td>\n      <td>0</td>\n      <td>...</td>\n      <td>1</td>\n      <td>0</td>\n      <td>0</td>\n      <td>1</td>\n      <td>0</td>\n      <td>0</td>\n      <td>0</td>\n      <td>1</td>\n      <td>0</td>\n      <td>399.593</td>\n    </tr>\n    <tr>\n      <th>2</th>\n      <td>Da Lat</td>\n      <td>28 m²</td>\n      <td>1</td>\n      <td>1</td>\n      <td>0</td>\n      <td>0</td>\n      <td>1</td>\n      <td>1</td>\n      <td>1</td>\n      <td>0</td>\n      <td>...</td>\n      <td>1</td>\n      <td>0</td>\n      <td>0</td>\n      <td>1</td>\n      <td>0</td>\n      <td>0</td>\n      <td>0</td>\n      <td>1</td>\n      <td>0</td>\n      <td>599.390</td>\n    </tr>\n    <tr>\n      <th>3</th>\n      <td>Da Lat</td>\n      <td>20 m²</td>\n      <td>1</td>\n      <td>1</td>\n      <td>0</td>\n      <td>0</td>\n      <td>1</td>\n      <td>1</td>\n      <td>1</td>\n      <td>0</td>\n      <td>...</td>\n      <td>1</td>\n      <td>0</td>\n      <td>0</td>\n      <td>1</td>\n      <td>0</td>\n      <td>0</td>\n      <td>0</td>\n      <td>1</td>\n      <td>0</td>\n      <td>1.065.596</td>\n    </tr>\n    <tr>\n      <th>4</th>\n      <td>Da Lat</td>\n      <td>35 m²</td>\n      <td>1</td>\n      <td>1</td>\n      <td>0</td>\n      <td>0</td>\n      <td>1</td>\n      <td>1</td>\n      <td>1</td>\n      <td>0</td>\n      <td>...</td>\n      <td>1</td>\n      <td>0</td>\n      <td>0</td>\n      <td>1</td>\n      <td>0</td>\n      <td>0</td>\n      <td>0</td>\n      <td>1</td>\n      <td>0</td>\n      <td>799.187</td>\n    </tr>\n    <tr>\n      <th>...</th>\n      <td>...</td>\n      <td>...</td>\n      <td>...</td>\n      <td>...</td>\n      <td>...</td>\n      <td>...</td>\n      <td>...</td>\n      <td>...</td>\n      <td>...</td>\n      <td>...</td>\n      <td>...</td>\n      <td>...</td>\n      <td>...</td>\n      <td>...</td>\n      <td>...</td>\n      <td>...</td>\n      <td>...</td>\n      <td>...</td>\n      <td>...</td>\n      <td>...</td>\n      <td>...</td>\n    </tr>\n    <tr>\n      <th>3524</th>\n      <td>Da Lat</td>\n      <td>34 m²</td>\n      <td>1</td>\n      <td>0</td>\n      <td>0</td>\n      <td>1</td>\n      <td>1</td>\n      <td>1</td>\n      <td>1</td>\n      <td>1</td>\n      <td>...</td>\n      <td>0</td>\n      <td>0</td>\n      <td>0</td>\n      <td>0</td>\n      <td>0</td>\n      <td>0</td>\n      <td>0</td>\n      <td>0</td>\n      <td>0</td>\n      <td>522.340</td>\n    </tr>\n    <tr>\n      <th>3525</th>\n      <td>Da Lat</td>\n      <td>36 m²</td>\n      <td>1</td>\n      <td>0</td>\n      <td>0</td>\n      <td>1</td>\n      <td>1</td>\n      <td>1</td>\n      <td>1</td>\n      <td>0</td>\n      <td>...</td>\n      <td>0</td>\n      <td>0</td>\n      <td>0</td>\n      <td>0</td>\n      <td>0</td>\n      <td>0</td>\n      <td>0</td>\n      <td>0</td>\n      <td>0</td>\n      <td>598.682</td>\n    </tr>\n    <tr>\n      <th>3526</th>\n      <td>Da Lat</td>\n      <td>TV màn hình phẳng</td>\n      <td>0</td>\n      <td>0</td>\n      <td>0</td>\n      <td>0</td>\n      <td>0</td>\n      <td>0</td>\n      <td>0</td>\n      <td>0</td>\n      <td>...</td>\n      <td>0</td>\n      <td>0</td>\n      <td>0</td>\n      <td>0</td>\n      <td>0</td>\n      <td>0</td>\n      <td>0</td>\n      <td>0</td>\n      <td>0</td>\n      <td>900.000</td>\n    </tr>\n    <tr>\n      <th>3527</th>\n      <td>Da Lat</td>\n      <td>30 m²</td>\n      <td>1</td>\n      <td>0</td>\n      <td>0</td>\n      <td>0</td>\n      <td>1</td>\n      <td>1</td>\n      <td>0</td>\n      <td>1</td>\n      <td>...</td>\n      <td>1</td>\n      <td>0</td>\n      <td>0</td>\n      <td>1</td>\n      <td>0</td>\n      <td>0</td>\n      <td>1</td>\n      <td>0</td>\n      <td>0</td>\n      <td>212.511</td>\n    </tr>\n    <tr>\n      <th>3528</th>\n      <td>Da Lat</td>\n      <td>55 m²</td>\n      <td>1</td>\n      <td>0</td>\n      <td>0</td>\n      <td>0</td>\n      <td>1</td>\n      <td>1</td>\n      <td>0</td>\n      <td>1</td>\n      <td>...</td>\n      <td>1</td>\n      <td>0</td>\n      <td>0</td>\n      <td>1</td>\n      <td>0</td>\n      <td>0</td>\n      <td>1</td>\n      <td>0</td>\n      <td>0</td>\n      <td>425.023</td>\n    </tr>\n  </tbody>\n</table>\n<p>3529 rows × 113 columns</p>\n</div>"
     },
     "metadata": {},
     "execution_count": 7
    }
   ],
   "source": [
    "df = pd.read_csv('dalat.csv')\n",
    "df"
   ]
  }
 ]
}