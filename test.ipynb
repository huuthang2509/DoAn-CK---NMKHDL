{
 "metadata": {
  "language_info": {
   "codemirror_mode": {
    "name": "ipython",
    "version": 3
   },
   "file_extension": ".py",
   "mimetype": "text/x-python",
   "name": "python",
   "nbconvert_exporter": "python",
   "pygments_lexer": "ipython3",
   "version": "3.8.3-final"
  },
  "orig_nbformat": 2,
  "kernelspec": {
   "name": "python3",
   "display_name": "Python 3",
   "language": "python"
  }
 },
 "nbformat": 4,
 "nbformat_minor": 2,
 "cells": [
  {
   "cell_type": "code",
   "execution_count": 1,
   "metadata": {},
   "outputs": [],
   "source": [
    "import pandas as pd\n",
    "import numpy as np"
   ]
  },
  {
   "cell_type": "code",
   "execution_count": 3,
   "metadata": {},
   "outputs": [
    {
     "output_type": "execute_result",
     "data": {
      "text/plain": [
       "                City Đồ vệ sinh cá nhân miễn phí  Vòi sen  Áo choàng tắm  \\\n",
       "0     TP.Ho Chi Minh                       29 m²         1                 1   \n",
       "1     TP.Ho Chi Minh                       29 m²         1                 1   \n",
       "2     TP.Ho Chi Minh                       56 m²         1                 1   \n",
       "3     TP.Ho Chi Minh                       61 m²         1                 1   \n",
       "4     TP.Ho Chi Minh                      290 m²         1                 0   \n",
       "...              ...                         ...       ...               ...   \n",
       "3347  TP.Ho Chi Minh                       36 m²         1                 0   \n",
       "3348  TP.Ho Chi Minh                       17 m²         1                 0   \n",
       "3349  TP.Ho Chi Minh                       17 m²         1                 0   \n",
       "3350  TP.Ho Chi Minh                       24 m²         1                 0   \n",
       "3351  TP.Ho Chi Minh                       20 m²         1                 0   \n",
       "\n",
       "      Két an toàn  Nhà vệ sinh  Khăn tắm  Bàn làm việc  \\\n",
       "0                 1            1         1                1   \n",
       "1                 1            1         1                1   \n",
       "2                 1            1         1                1   \n",
       "3                 1            1         1                1   \n",
       "4                 1            1         1                1   \n",
       "...             ...          ...       ...              ...   \n",
       "3347              0            1         1                1   \n",
       "3348              1            1         1                1   \n",
       "3349              1            1         1                1   \n",
       "3350              1            1         1                1   \n",
       "3351              1            1         1                1   \n",
       "\n",
       "      Khu vực tiếp khách  TV  ...  Khu vực ăn uống ngoài trời  \\\n",
       "0                         1   1  ...                           0   \n",
       "1                         1   1  ...                           0   \n",
       "2                         1   1  ...                           0   \n",
       "3                         1   1  ...                           0   \n",
       "4                         1   1  ...                           0   \n",
       "...                     ...  ..  ...                         ...   \n",
       "3347                      1   1  ...                           0   \n",
       "3348                      1   0  ...                           0   \n",
       "3349                      1   0  ...                           0   \n",
       "3350                      1   0  ...                           0   \n",
       "3351                      1   0  ...                           0   \n",
       "\n",
       "      Phòng xông hơi  Toilet chung  Bàn ghế ngoài trời  Bể sục  \\\n",
       "0                  0             0                   0         0   \n",
       "1                  0             0                   0         0   \n",
       "2                  0             0                   0         0   \n",
       "3                  0             0                   0         0   \n",
       "4                  0             0                   0         0   \n",
       "...              ...           ...                 ...       ...   \n",
       "3347               0             0                   0         0   \n",
       "3348               0             0                   0         0   \n",
       "3349               0             0                   0         0   \n",
       "3350               0             0                   0         0   \n",
       "3351               0             0                   0         0   \n",
       "\n",
       "      Hồ bơi riêng  Sân trong  Hướng nhìn sân trong  Sân hiên      price  \n",
       "0                0          0                     0         0  2.405.000  \n",
       "1                0          0                     0         0  2.405.000  \n",
       "2                0          0                     0         0  3.055.000  \n",
       "3                0          0                     0         0  3.380.000  \n",
       "4                0          0                     0         0  4.680.000  \n",
       "...            ...        ...                   ...       ...        ...  \n",
       "3347             0          0                     0         0  1.260.000  \n",
       "3348             0          0                     0         0    748.475  \n",
       "3349             0          0                     0         0    888.300  \n",
       "3350             0          0                     0         0    970.550  \n",
       "3351             0          0                     0         0    970.550  \n",
       "\n",
       "[3352 rows x 113 columns]"
      ],
      "text/html": "<div>\n<style scoped>\n    .dataframe tbody tr th:only-of-type {\n        vertical-align: middle;\n    }\n\n    .dataframe tbody tr th {\n        vertical-align: top;\n    }\n\n    .dataframe thead th {\n        text-align: right;\n    }\n</style>\n<table border=\"1\" class=\"dataframe\">\n  <thead>\n    <tr style=\"text-align: right;\">\n      <th></th>\n      <th>City</th>\n      <th>Đồ vệ sinh cá nhân miễn phí</th>\n      <th>Vòi sen</th>\n      <th>Áo choàng tắm</th>\n      <th>Két an toàn</th>\n      <th>Nhà vệ sinh</th>\n      <th>Khăn tắm</th>\n      <th>Bàn làm việc</th>\n      <th>Khu vực tiếp khách</th>\n      <th>TV</th>\n      <th>...</th>\n      <th>Khu vực ăn uống ngoài trời</th>\n      <th>Phòng xông hơi</th>\n      <th>Toilet chung</th>\n      <th>Bàn ghế ngoài trời</th>\n      <th>Bể sục</th>\n      <th>Hồ bơi riêng</th>\n      <th>Sân trong</th>\n      <th>Hướng nhìn sân trong</th>\n      <th>Sân hiên</th>\n      <th>price</th>\n    </tr>\n  </thead>\n  <tbody>\n    <tr>\n      <th>0</th>\n      <td>TP.Ho Chi Minh</td>\n      <td>29 m²</td>\n      <td>1</td>\n      <td>1</td>\n      <td>1</td>\n      <td>1</td>\n      <td>1</td>\n      <td>1</td>\n      <td>1</td>\n      <td>1</td>\n      <td>...</td>\n      <td>0</td>\n      <td>0</td>\n      <td>0</td>\n      <td>0</td>\n      <td>0</td>\n      <td>0</td>\n      <td>0</td>\n      <td>0</td>\n      <td>0</td>\n      <td>2.405.000</td>\n    </tr>\n    <tr>\n      <th>1</th>\n      <td>TP.Ho Chi Minh</td>\n      <td>29 m²</td>\n      <td>1</td>\n      <td>1</td>\n      <td>1</td>\n      <td>1</td>\n      <td>1</td>\n      <td>1</td>\n      <td>1</td>\n      <td>1</td>\n      <td>...</td>\n      <td>0</td>\n      <td>0</td>\n      <td>0</td>\n      <td>0</td>\n      <td>0</td>\n      <td>0</td>\n      <td>0</td>\n      <td>0</td>\n      <td>0</td>\n      <td>2.405.000</td>\n    </tr>\n    <tr>\n      <th>2</th>\n      <td>TP.Ho Chi Minh</td>\n      <td>56 m²</td>\n      <td>1</td>\n      <td>1</td>\n      <td>1</td>\n      <td>1</td>\n      <td>1</td>\n      <td>1</td>\n      <td>1</td>\n      <td>1</td>\n      <td>...</td>\n      <td>0</td>\n      <td>0</td>\n      <td>0</td>\n      <td>0</td>\n      <td>0</td>\n      <td>0</td>\n      <td>0</td>\n      <td>0</td>\n      <td>0</td>\n      <td>3.055.000</td>\n    </tr>\n    <tr>\n      <th>3</th>\n      <td>TP.Ho Chi Minh</td>\n      <td>61 m²</td>\n      <td>1</td>\n      <td>1</td>\n      <td>1</td>\n      <td>1</td>\n      <td>1</td>\n      <td>1</td>\n      <td>1</td>\n      <td>1</td>\n      <td>...</td>\n      <td>0</td>\n      <td>0</td>\n      <td>0</td>\n      <td>0</td>\n      <td>0</td>\n      <td>0</td>\n      <td>0</td>\n      <td>0</td>\n      <td>0</td>\n      <td>3.380.000</td>\n    </tr>\n    <tr>\n      <th>4</th>\n      <td>TP.Ho Chi Minh</td>\n      <td>290 m²</td>\n      <td>1</td>\n      <td>0</td>\n      <td>1</td>\n      <td>1</td>\n      <td>1</td>\n      <td>1</td>\n      <td>1</td>\n      <td>1</td>\n      <td>...</td>\n      <td>0</td>\n      <td>0</td>\n      <td>0</td>\n      <td>0</td>\n      <td>0</td>\n      <td>0</td>\n      <td>0</td>\n      <td>0</td>\n      <td>0</td>\n      <td>4.680.000</td>\n    </tr>\n    <tr>\n      <th>...</th>\n      <td>...</td>\n      <td>...</td>\n      <td>...</td>\n      <td>...</td>\n      <td>...</td>\n      <td>...</td>\n      <td>...</td>\n      <td>...</td>\n      <td>...</td>\n      <td>...</td>\n      <td>...</td>\n      <td>...</td>\n      <td>...</td>\n      <td>...</td>\n      <td>...</td>\n      <td>...</td>\n      <td>...</td>\n      <td>...</td>\n      <td>...</td>\n      <td>...</td>\n      <td>...</td>\n    </tr>\n    <tr>\n      <th>3347</th>\n      <td>TP.Ho Chi Minh</td>\n      <td>36 m²</td>\n      <td>1</td>\n      <td>0</td>\n      <td>0</td>\n      <td>1</td>\n      <td>1</td>\n      <td>1</td>\n      <td>1</td>\n      <td>1</td>\n      <td>...</td>\n      <td>0</td>\n      <td>0</td>\n      <td>0</td>\n      <td>0</td>\n      <td>0</td>\n      <td>0</td>\n      <td>0</td>\n      <td>0</td>\n      <td>0</td>\n      <td>1.260.000</td>\n    </tr>\n    <tr>\n      <th>3348</th>\n      <td>TP.Ho Chi Minh</td>\n      <td>17 m²</td>\n      <td>1</td>\n      <td>0</td>\n      <td>1</td>\n      <td>1</td>\n      <td>1</td>\n      <td>1</td>\n      <td>1</td>\n      <td>0</td>\n      <td>...</td>\n      <td>0</td>\n      <td>0</td>\n      <td>0</td>\n      <td>0</td>\n      <td>0</td>\n      <td>0</td>\n      <td>0</td>\n      <td>0</td>\n      <td>0</td>\n      <td>748.475</td>\n    </tr>\n    <tr>\n      <th>3349</th>\n      <td>TP.Ho Chi Minh</td>\n      <td>17 m²</td>\n      <td>1</td>\n      <td>0</td>\n      <td>1</td>\n      <td>1</td>\n      <td>1</td>\n      <td>1</td>\n      <td>1</td>\n      <td>0</td>\n      <td>...</td>\n      <td>0</td>\n      <td>0</td>\n      <td>0</td>\n      <td>0</td>\n      <td>0</td>\n      <td>0</td>\n      <td>0</td>\n      <td>0</td>\n      <td>0</td>\n      <td>888.300</td>\n    </tr>\n    <tr>\n      <th>3350</th>\n      <td>TP.Ho Chi Minh</td>\n      <td>24 m²</td>\n      <td>1</td>\n      <td>0</td>\n      <td>1</td>\n      <td>1</td>\n      <td>1</td>\n      <td>1</td>\n      <td>1</td>\n      <td>0</td>\n      <td>...</td>\n      <td>0</td>\n      <td>0</td>\n      <td>0</td>\n      <td>0</td>\n      <td>0</td>\n      <td>0</td>\n      <td>0</td>\n      <td>0</td>\n      <td>0</td>\n      <td>970.550</td>\n    </tr>\n    <tr>\n      <th>3351</th>\n      <td>TP.Ho Chi Minh</td>\n      <td>20 m²</td>\n      <td>1</td>\n      <td>0</td>\n      <td>1</td>\n      <td>1</td>\n      <td>1</td>\n      <td>1</td>\n      <td>1</td>\n      <td>0</td>\n      <td>...</td>\n      <td>0</td>\n      <td>0</td>\n      <td>0</td>\n      <td>0</td>\n      <td>0</td>\n      <td>0</td>\n      <td>0</td>\n      <td>0</td>\n      <td>0</td>\n      <td>970.550</td>\n    </tr>\n  </tbody>\n</table>\n<p>3352 rows × 113 columns</p>\n</div>"
     },
     "metadata": {},
     "execution_count": 3
    }
   ],
   "source": [
    "df = pd.read_csv('page1_out_copy.csv')\n",
    "df"
   ]
  }
 ]
}